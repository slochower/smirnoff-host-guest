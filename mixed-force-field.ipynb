{
 "cells": [
  {
   "cell_type": "code",
   "execution_count": 120,
   "metadata": {
    "ExecuteTime": {
     "end_time": "2018-02-08T04:25:56.010806Z",
     "start_time": "2018-02-08T04:25:56.005006Z"
    }
   },
   "outputs": [],
   "source": [
    "import numpy as np\n",
    "import subprocess as sp\n",
    "\n",
    "from openeye.oechem import *\n",
    "from openforcefield.typing.engines.smirnoff import *\n",
    "from openforcefield.utils import mergeStructure\n",
    "import parmed as pmd"
   ]
  },
  {
   "cell_type": "markdown",
   "metadata": {},
   "source": [
    "David Mobley suggested:\n",
    "> *However, I think I CAN offer one more piece of good news*: If it’s just a problem with the solvent (which I expect it is, at least in terms of the “too much space” issue) then you should be able to bypass it entirely by using what could be called a “mixed forcefield” system: Just parameterize your water as normal, and your host-guest part using SMIRNOFF, and join them up. (edited)"
   ]
  },
  {
   "cell_type": "markdown",
   "metadata": {},
   "source": [
    "# Load in a solvated system to ParmEd"
   ]
  },
  {
   "cell_type": "code",
   "execution_count": 3,
   "metadata": {
    "ExecuteTime": {
     "end_time": "2018-02-07T19:18:39.184425Z",
     "start_time": "2018-02-07T19:18:37.565375Z"
    }
   },
   "outputs": [],
   "source": [
    "topology = pmd.load_file('generated/solvated_conect.pdb')"
   ]
  },
  {
   "cell_type": "markdown",
   "metadata": {},
   "source": [
    "# Split the topology into pieces"
   ]
  },
  {
   "cell_type": "code",
   "execution_count": 52,
   "metadata": {
    "ExecuteTime": {
     "end_time": "2018-02-07T23:44:13.363302Z",
     "start_time": "2018-02-07T23:44:13.186277Z"
    }
   },
   "outputs": [],
   "source": [
    "components = topology.split()"
   ]
  },
  {
   "cell_type": "markdown",
   "metadata": {},
   "source": [
    "Poking around with the `components` object, I can see that the host is listed first, then the guest, then the ions (Na and Cl, not sure of the ordering though), and then the water molecules."
   ]
  },
  {
   "cell_type": "code",
   "execution_count": 68,
   "metadata": {
    "ExecuteTime": {
     "end_time": "2018-02-07T23:45:51.327134Z",
     "start_time": "2018-02-07T23:45:51.314502Z"
    }
   },
   "outputs": [],
   "source": [
    "topologies = pmd.Structure()\n",
    "numbers = []\n",
    "current_names = []\n",
    "\n",
    "for c in components[0:2]:\n",
    "    topologies += c[0]\n",
    "    numbers.append( c[1] )    \n",
    "    current_names.append( c[0].residues[0].name )"
   ]
  },
  {
   "cell_type": "code",
   "execution_count": 119,
   "metadata": {
    "ExecuteTime": {
     "end_time": "2018-02-08T04:24:32.763977Z",
     "start_time": "2018-02-08T04:24:32.761163Z"
    }
   },
   "outputs": [
    {
     "name": "stdout",
     "output_type": "stream",
     "text": [
      "<Structure 161 atoms; 8 residues; 168 bonds; NOT parametrized> [{0}, {1}] ['MGO', 'BEN']\n"
     ]
    }
   ],
   "source": [
    "print(topologies, numbers, current_names)"
   ]
  },
  {
   "cell_type": "markdown",
   "metadata": {
    "ExecuteTime": {
     "end_time": "2018-02-07T19:19:53.119320Z",
     "start_time": "2018-02-07T19:19:53.115698Z"
    }
   },
   "source": [
    "# Parameterize the host and guest with SMIRNOFF99Frosst"
   ]
  },
  {
   "cell_type": "code",
   "execution_count": 61,
   "metadata": {
    "ExecuteTime": {
     "end_time": "2018-02-07T23:44:55.246759Z",
     "start_time": "2018-02-07T23:44:55.234332Z"
    }
   },
   "outputs": [],
   "source": [
    "def load_mol2(filename, name=None, add_tripos=True):\n",
    "    ifs = oemolistream()\n",
    "    molecules = []\n",
    "    if not ifs.open(filename):\n",
    "        print(f'Unable to open {filename} for reading...')\n",
    "    for mol in ifs.GetOEMols():\n",
    "        if add_tripos:\n",
    "            OETriposAtomNames(mol)\n",
    "        if name:\n",
    "            mol.SetTitle(name)\n",
    "        # Add all the molecules in this file to a list, but only return the first one.\n",
    "        molecules.append(OEMol(mol))\n",
    "    return molecules[0]"
   ]
  },
  {
   "cell_type": "code",
   "execution_count": 62,
   "metadata": {
    "ExecuteTime": {
     "end_time": "2018-02-07T23:44:56.006727Z",
     "start_time": "2018-02-07T23:44:56.002598Z"
    }
   },
   "outputs": [],
   "source": [
    "host = load_mol2('original/bcd-sybyl.mol2', name='MGO', add_tripos=True)\n",
    "guest = load_mol2('original/ben-sybyl.mol2', name='BEN', add_tripos=False)"
   ]
  },
  {
   "cell_type": "code",
   "execution_count": 63,
   "metadata": {
    "ExecuteTime": {
     "end_time": "2018-02-07T23:44:59.028342Z",
     "start_time": "2018-02-07T23:44:59.025971Z"
    }
   },
   "outputs": [],
   "source": [
    "molecules = [host, guest]"
   ]
  },
  {
   "cell_type": "code",
   "execution_count": 72,
   "metadata": {
    "ExecuteTime": {
     "end_time": "2018-02-07T23:46:19.346797Z",
     "start_time": "2018-02-07T23:46:18.610835Z"
    }
   },
   "outputs": [],
   "source": [
    "ff = ForceField('forcefield/smirnoff99Frosst.ffxml') \n",
    "system = ff.createSystem(topologies.topology, molecules, \n",
    "                         nonbondedCutoff=1.1*unit.nanometer, \n",
    "                         ewaldErrorTolerance=1e-4\n",
    "                         )"
   ]
  },
  {
   "cell_type": "code",
   "execution_count": 94,
   "metadata": {
    "ExecuteTime": {
     "end_time": "2018-02-08T00:55:37.319111Z",
     "start_time": "2018-02-08T00:55:37.222957Z"
    }
   },
   "outputs": [],
   "source": [
    "hg_structure = pmd.openmm.topsystem.load_topology(topologies.topology, system, topologies.positions)"
   ]
  },
  {
   "cell_type": "markdown",
   "metadata": {},
   "source": [
    "# Build the water and ions separately using AMBER tools"
   ]
  },
  {
   "cell_type": "code",
   "execution_count": null,
   "metadata": {},
   "outputs": [],
   "source": []
  },
  {
   "cell_type": "code",
   "execution_count": 108,
   "metadata": {
    "ExecuteTime": {
     "end_time": "2018-02-08T00:58:31.852216Z",
     "start_time": "2018-02-08T00:58:30.707560Z"
    }
   },
   "outputs": [],
   "source": [
    "merged = mergeStructure(hg_structure, water_structure)"
   ]
  },
  {
   "cell_type": "code",
   "execution_count": 110,
   "metadata": {
    "ExecuteTime": {
     "end_time": "2018-02-08T00:58:32.553843Z",
     "start_time": "2018-02-08T00:58:32.548247Z"
    }
   },
   "outputs": [],
   "source": [
    "def fix_bonds(structure):\n",
    "    bond_type = pmd.BondType(1.0, 1.0, list=structure.bond_types)\n",
    "    structure.bond_types.append(bond_type)\n",
    "    for bond in structure.bonds:\n",
    "        if bond.type is None:\n",
    "            bond.type = bond_type"
   ]
  },
  {
   "cell_type": "code",
   "execution_count": 111,
   "metadata": {
    "ExecuteTime": {
     "end_time": "2018-02-08T00:58:33.127306Z",
     "start_time": "2018-02-08T00:58:33.123987Z"
    }
   },
   "outputs": [],
   "source": [
    "fix_bonds(merged)"
   ]
  },
  {
   "cell_type": "code",
   "execution_count": 112,
   "metadata": {
    "ExecuteTime": {
     "end_time": "2018-02-08T01:09:13.789336Z",
     "start_time": "2018-02-08T00:58:43.668739Z"
    }
   },
   "outputs": [],
   "source": [
    "merged.save('tmp.prmtop')"
   ]
  },
  {
   "cell_type": "markdown",
   "metadata": {},
   "source": [
    "I should note that building the water parameters using `openmmtools` still presents a problem when saving with ParmEd, so I will do this using `cpptraj` and `tleap`."
   ]
  },
  {
   "cell_type": "code",
   "execution_count": 124,
   "metadata": {
    "ExecuteTime": {
     "end_time": "2018-02-08T04:49:57.419981Z",
     "start_time": "2018-02-08T04:49:57.316302Z"
    }
   },
   "outputs": [],
   "source": [
    "def extract_water_and_ions(amber_prmtop, amber_inpcrd, host_residue, guest_residue, \n",
    "                           output_pdb, path='./'):\n",
    "    \"\"\"\n",
    "    Create a PDB file containing just the water and ions.\n",
    "    This is not very robust, please manually check the `cpptraj` output.\n",
    "    `cpptraj` must be in your PATH.\n",
    "    Parameters\n",
    "    ----------\n",
    "    amber_prmtop : str\n",
    "        Existing solvated structure parameters from e.g., Mobley's Benchmark Sets repository\n",
    "    amber_inpcrd : str\n",
    "        Existing solvated structure coordinates\n",
    "    host_residue : str\n",
    "        Residue name of the host molecule (to be stripped)\n",
    "    guest_residue : str\n",
    "        Residue name of the guest molecule (to be stripped)\n",
    "    output_pdb : str\n",
    "        Output PDB file name\n",
    "    path : str\n",
    "        Directory for input and output files\n",
    "    \"\"\"\n",
    "    \n",
    "    cpptraj = \\\n",
    "    f'''\n",
    "parm {amber_prmtop}\n",
    "trajin {amber_inpcrd}\n",
    "strip {host_residue}\n",
    "strip {guest_residue}\n",
    "trajout {output_pdb}\n",
    "    '''\n",
    "    cpptraj_input = output_pdb + '.in'\n",
    "    cpptraj_output = output_pdb + '.out'\n",
    "\n",
    "    with open(path + cpptraj_input, 'w') as file:\n",
    "        file.write(cpptraj)\n",
    "    with open(path + cpptraj_output, 'w') as file:\n",
    "        p = sp.Popen(['cpptraj', '-i', cpptraj_input], cwd=path,\n",
    "                     stdout=file, stderr=file)\n",
    "        output, error = p.communicate()\n",
    "    if p.returncode == 0:\n",
    "        print('Water and ion PDB file written by cpptraj.')\n",
    "    elif p.returncode == 1:\n",
    "        print('Error returned by cpptraj.')\n",
    "        print(f'Output: {output}')\n",
    "        print(f'Error: {error}')\n",
    "    else:\n",
    "        print(f'Output: {output}')\n",
    "        print(f'Error: {error}')\n",
    "        \n",
    "def create_water_and_ions_parameters(input_pdb, output_prmtop, output_inpcrd, \n",
    "                                     water_model='tip3p', ion_model ='ionsjc_tip3p',\n",
    "                                    path='./'):\n",
    "    \"\"\"\n",
    "    Create AMBER coordinates and parameters for just the water and ions.\n",
    "    This is not very robust, please manually check the `tleap` output.\n",
    "    `tleap` must be in your PATH.\n",
    "    Parameters\n",
    "    ----------\n",
    "    input_pdb : str\n",
    "        PDB structure containing everything except the host and guest\n",
    "    output_prmtop : str\n",
    "        AMBER parameters for the water and ions\n",
    "    output_inpcrd : str\n",
    "        AMBER coordinates for the water and ions\n",
    "    water_model : str\n",
    "        Water model, must match AMBER `leaprc.water` and `frcmod`files\n",
    "    ion_model : str\n",
    "        Ion model, must match AMBER `leaprc.water` and `frcmod`files\n",
    "    path : str\n",
    "        Directory for input and output files\n",
    "    \"\"\"\n",
    "    \n",
    "    tleap = \\\n",
    "    f'''\n",
    "source leaprc.protein.ff14sb\n",
    "source leaprc.water.{water_model}\n",
    "source leaprc.gaff\n",
    "loadamberparams frcmod.{water_model}\n",
    "loadamberparams frcmod.{ion_model}\n",
    "mol = loadpdb {input_pdb}\n",
    "saveamberparm mol {output_prmtop} {output_inpcrd}\n",
    "quit\n",
    "    '''\n",
    "    tleap_input = output_prmtop + '.in'\n",
    "    tleap_output = output_prmtop + '.out'\n",
    "\n",
    "    with open(path + tleap_input, 'w') as file:\n",
    "        file.write(tleap)\n",
    "    with open(path + tleap_output, 'w') as file:\n",
    "        p = sp.Popen(['tleap', '-f', tleap_input], cwd=path,\n",
    "                     stdout=file, stderr=file)\n",
    "        output, error = p.communicate()\n",
    "    if p.returncode == 0:\n",
    "        print('Water and ion parameters and coordinates written by tleap.')\n",
    "    elif p.returncode == 1:\n",
    "        print('Error returned by tleap.')\n",
    "        print(f'Output: {output}')\n",
    "        print(f'Error: {error}')\n",
    "    else:\n",
    "        print(f'Output: {output}')\n",
    "        print(f'Error: {error}')"
   ]
  },
  {
   "cell_type": "code",
   "execution_count": 130,
   "metadata": {
    "ExecuteTime": {
     "end_time": "2018-02-08T04:52:19.136745Z",
     "start_time": "2018-02-08T04:52:19.067041Z"
    }
   },
   "outputs": [
    {
     "name": "stdout",
     "output_type": "stream",
     "text": [
      "Water and ion PDB file written by cpptraj.\n"
     ]
    }
   ],
   "source": [
    "extract_water_and_ions('../original/solvated.prmtop', '../original/solvated.inpcrd', ':MGO', ':BEN', \n",
    "                           'water_ions.pdb', 'generated/')"
   ]
  },
  {
   "cell_type": "code",
   "execution_count": 131,
   "metadata": {
    "ExecuteTime": {
     "end_time": "2018-02-08T04:52:20.158712Z",
     "start_time": "2018-02-08T04:52:19.763985Z"
    }
   },
   "outputs": [
    {
     "name": "stdout",
     "output_type": "stream",
     "text": [
      "Water and ion parameters and coordinates written by tleap.\n"
     ]
    }
   ],
   "source": [
    "create_water_and_ions_parameters('water_ions.pdb', 'water_ions.prmtop', 'water_ions.inpcrd', \n",
    "                                     water_model='tip3p', ion_model ='ionsjc_tip3p',\n",
    "                                    path='generated/')"
   ]
  },
  {
   "cell_type": "code",
   "execution_count": 132,
   "metadata": {
    "ExecuteTime": {
     "end_time": "2018-02-08T04:52:34.866975Z",
     "start_time": "2018-02-08T04:52:34.103182Z"
    }
   },
   "outputs": [],
   "source": [
    "water = pmd.amber.AmberParm('generated/water_ions.prmtop', xyz='generated/water_ions.inpcrd')"
   ]
  },
  {
   "cell_type": "code",
   "execution_count": 133,
   "metadata": {
    "ExecuteTime": {
     "end_time": "2018-02-08T04:52:38.216534Z",
     "start_time": "2018-02-08T04:52:37.847276Z"
    }
   },
   "outputs": [],
   "source": [
    "merged = mergeStructure(hg_structure, water)"
   ]
  },
  {
   "cell_type": "code",
   "execution_count": 139,
   "metadata": {
    "ExecuteTime": {
     "end_time": "2018-02-08T04:54:41.541256Z",
     "start_time": "2018-02-08T04:54:38.825819Z"
    }
   },
   "outputs": [],
   "source": [
    "merged.save('generated/solvated_smirnoff.prmtop')"
   ]
  },
  {
   "cell_type": "code",
   "execution_count": 140,
   "metadata": {
    "ExecuteTime": {
     "end_time": "2018-02-08T04:54:41.574857Z",
     "start_time": "2018-02-08T04:54:41.542940Z"
    }
   },
   "outputs": [],
   "source": [
    "merged.save('generated/solvated_smirnoff.inpcrd')"
   ]
  },
  {
   "cell_type": "markdown",
   "metadata": {},
   "source": [
    "I think we *might* be in business."
   ]
  },
  {
   "cell_type": "code",
   "execution_count": 179,
   "metadata": {
    "ExecuteTime": {
     "end_time": "2018-02-08T05:28:03.677733Z",
     "start_time": "2018-02-08T05:28:03.655110Z"
    }
   },
   "outputs": [],
   "source": [
    "def check_amber_crash(topology, coordinates, input_file, output_file, restart_file, executable, path):\n",
    "    \"\"\"\n",
    "    Quickly checks to see if an AMBER minimization can succeed.    \n",
    "    Parameters\n",
    "    ----------\n",
    "    topology : PDBFixer topology (probably others work, as well)\n",
    "        Simulation topology\n",
    "    coordinates : PDBFixer coordinates (others will work)\n",
    "        Coordinates of the atoms in the topology\n",
    "    output_file : str\n",
    "        Output of the minimization\n",
    "    restart_file : str\n",
    "        Simulation restart final\n",
    "    executable : str\n",
    "        AMBER executable (sander is safe), must be in path\n",
    "    path : str\n",
    "        Directory of files\n",
    "    \"\"\"\n",
    "\n",
    "    minimization = \\\n",
    "'''\n",
    "&cntrl\n",
    "    imin   = 1,\n",
    "    maxcyc = 500,\n",
    "    ncyc   = 250,\n",
    "    ntb    = 1,\n",
    "    igb    = 0,\n",
    "    cut    = 12\n",
    "    ntxo   = 1\n",
    "/     \n",
    "'''\n",
    "    with open(path + input_file, 'w') as file:\n",
    "        file.write(minimization)\n",
    "    print(f\"{executable} -O -p {topology} -c {coordinates} -i {input_file}\"\n",
    "          f\" -o {output_file} -r tmp.rst\")\n",
    "\n",
    "    sp.call(f\"{executable} -O -p {topology} -c {coordinates} -i {input_file}\"\n",
    "            f\" -o {output_file} -r tmp.rst\", cwd=path, shell=True)\n",
    "    \n",
    "    # convert_binary_to_ascii_restart(topology, 'tmp.rst', restart_file, path)\n",
    "    \n",
    "def convert_binary_to_ascii_restart(topology, restart_file, ascii_file, path):\n",
    "    print(f\"cpptraj -p {topology} -y {restart_file} -x {ascii_file}\")\n",
    "    sp.call(f\"cpptraj -p {topology} -y {restart_file} -x {ascii_file}\", cwd=path, shell=True)\n",
    "    "
   ]
  },
  {
   "cell_type": "code",
   "execution_count": 172,
   "metadata": {
    "ExecuteTime": {
     "end_time": "2018-02-08T05:24:07.872247Z",
     "start_time": "2018-02-08T05:24:07.820984Z"
    }
   },
   "outputs": [
    {
     "name": "stdout",
     "output_type": "stream",
     "text": [
      "sander -O -p solvated_smirnoff.prmtop -c solvated_smirnoff.inpcrd -i solvated_smirnoff.in -o solvated_smirnoff.out -r solvated_smirnoff.rst\n"
     ]
    },
    {
     "ename": "NameError",
     "evalue": "name 'ascill_file' is not defined",
     "output_type": "error",
     "traceback": [
      "\u001b[0;31m---------------------------------------------------------------------------\u001b[0m",
      "\u001b[0;31mNameError\u001b[0m                                 Traceback (most recent call last)",
      "\u001b[0;32m<ipython-input-172-6e1af3ea41e0>\u001b[0m in \u001b[0;36m<module>\u001b[0;34m()\u001b[0m\n\u001b[1;32m      1\u001b[0m check_amber_crash('solvated_smirnoff.prmtop', 'solvated_smirnoff.inpcrd', 'solvated_smirnoff.in', \n\u001b[0;32m----> 2\u001b[0;31m                'solvated_smirnoff.out', 'solvated_smirnoff.rst', 'sander', 'generated/')\n\u001b[0m",
      "\u001b[0;32m<ipython-input-171-e61d46396fcb>\u001b[0m in \u001b[0;36mcheck_amber_crash\u001b[0;34m(topology, coordinates, input_file, output_file, restart_file, executable, path)\u001b[0m\n\u001b[1;32m     36\u001b[0m     sp.call(f\"{executable} -O -p {topology} -c {coordinates} -i {input_file}\"\n\u001b[1;32m     37\u001b[0m             f\" -o {output_file} -r {restart_file}\", cwd=path, shell=True)\n\u001b[0;32m---> 38\u001b[0;31m     \u001b[0mconvert_binary_to_ascii_restart\u001b[0m\u001b[0;34m(\u001b[0m\u001b[0mtopology\u001b[0m\u001b[0;34m,\u001b[0m \u001b[0mrestart_file\u001b[0m\u001b[0;34m,\u001b[0m \u001b[0;34m'ascii'\u001b[0m\u001b[0;34m)\u001b[0m\u001b[0;34m\u001b[0m\u001b[0m\n\u001b[0m\u001b[1;32m     39\u001b[0m \u001b[0;34m\u001b[0m\u001b[0m\n\u001b[1;32m     40\u001b[0m \u001b[0;32mdef\u001b[0m \u001b[0mconvert_binary_to_ascii_restart\u001b[0m\u001b[0;34m(\u001b[0m\u001b[0mtopology\u001b[0m\u001b[0;34m,\u001b[0m \u001b[0mrestart_file\u001b[0m\u001b[0;34m,\u001b[0m \u001b[0mascii_file\u001b[0m\u001b[0;34m)\u001b[0m\u001b[0;34m:\u001b[0m\u001b[0;34m\u001b[0m\u001b[0m\n",
      "\u001b[0;32m<ipython-input-171-e61d46396fcb>\u001b[0m in \u001b[0;36mconvert_binary_to_ascii_restart\u001b[0;34m(topology, restart_file, ascii_file)\u001b[0m\n\u001b[1;32m     39\u001b[0m \u001b[0;34m\u001b[0m\u001b[0m\n\u001b[1;32m     40\u001b[0m \u001b[0;32mdef\u001b[0m \u001b[0mconvert_binary_to_ascii_restart\u001b[0m\u001b[0;34m(\u001b[0m\u001b[0mtopology\u001b[0m\u001b[0;34m,\u001b[0m \u001b[0mrestart_file\u001b[0m\u001b[0;34m,\u001b[0m \u001b[0mascii_file\u001b[0m\u001b[0;34m)\u001b[0m\u001b[0;34m:\u001b[0m\u001b[0;34m\u001b[0m\u001b[0m\n\u001b[0;32m---> 41\u001b[0;31m     \u001b[0msp\u001b[0m\u001b[0;34m.\u001b[0m\u001b[0mcall\u001b[0m\u001b[0;34m(\u001b[0m\u001b[0;34mf\"cpptraj -p {topology} -y {restart_file} -x {ascill_file}\"\u001b[0m\u001b[0;34m)\u001b[0m\u001b[0;34m\u001b[0m\u001b[0m\n\u001b[0m",
      "\u001b[0;31mNameError\u001b[0m: name 'ascill_file' is not defined"
     ]
    }
   ],
   "source": [
    "check_amber_crash('solvated_smirnoff.prmtop', 'solvated_smirnoff.inpcrd', 'solvated_smirnoff.in', \n",
    "               'solvated_smirnoff.out', 'solvated_smirnoff.rst', 'sander', 'generated/')"
   ]
  },
  {
   "cell_type": "markdown",
   "metadata": {},
   "source": [
    "There is a problem getting box information in the `inpcrd` and it does not appear like there is a (90, 90, 90) missing at the bottom. In fact, the rows of coordinates seem to fill up the entire block"
   ]
  },
  {
   "cell_type": "code",
   "execution_count": 180,
   "metadata": {
    "ExecuteTime": {
     "end_time": "2018-02-08T05:29:01.870439Z",
     "start_time": "2018-02-08T05:28:07.174404Z"
    }
   },
   "outputs": [
    {
     "name": "stdout",
     "output_type": "stream",
     "text": [
      "sander -O -p solvated_smirnoff.prmtop -c ../original/solvated.inpcrd -i solvated_smirnoff.in -o solvated_smirnoff.out -r tmp.rst\n",
      "cpptraj -p solvated_smirnoff.prmtop -y tmp.rst -x solvated_smirnoff.rst7\n"
     ]
    }
   ],
   "source": [
    "check_amber_crash('solvated_smirnoff.prmtop', '../original/solvated.inpcrd', 'solvated_smirnoff.in', \n",
    "               'solvated_smirnoff.out', 'solvated_smirnoff.rst7', 'sander', 'generated/')"
   ]
  },
  {
   "cell_type": "code",
   "execution_count": 181,
   "metadata": {
    "ExecuteTime": {
     "end_time": "2018-02-08T05:29:12.348550Z",
     "start_time": "2018-02-08T05:29:11.637032Z"
    }
   },
   "outputs": [
    {
     "data": {
      "application/vnd.jupyter.widget-view+json": {
       "model_id": "afdd8921048740b7808937c27e5d931d",
       "version_major": 2,
       "version_minor": 0
      },
      "text/plain": [
       "A Jupyter Widget"
      ]
     },
     "metadata": {},
     "output_type": "display_data"
    },
    {
     "data": {
      "application/vnd.jupyter.widget-view+json": {
       "model_id": "159817ca0b5f4598985292121dacef50",
       "version_major": 2,
       "version_minor": 0
      },
      "text/plain": [
       "A Jupyter Widget"
      ]
     },
     "metadata": {},
     "output_type": "display_data"
    }
   ],
   "source": [
    "import nglview as nv\n",
    "import mdtraj\n",
    "from IPython import display\n",
    "\n",
    "trajectory = mdtraj.load('generated/solvated_smirnoff.rst7', \n",
    "                         top='generated/solvated_smirnoff.prmtop')\n",
    "view = nv.show_mdtraj(trajectory, gui=True)\n",
    "view"
   ]
  },
  {
   "cell_type": "code",
   "execution_count": null,
   "metadata": {},
   "outputs": [],
   "source": []
  }
 ],
 "metadata": {
  "kernelspec": {
   "display_name": "Python [conda env:openforcefield]",
   "language": "python",
   "name": "conda-env-openforcefield-py"
  },
  "language_info": {
   "codemirror_mode": {
    "name": "ipython",
    "version": 3
   },
   "file_extension": ".py",
   "mimetype": "text/x-python",
   "name": "python",
   "nbconvert_exporter": "python",
   "pygments_lexer": "ipython3",
   "version": "3.6.1"
  }
 },
 "nbformat": 4,
 "nbformat_minor": 2
}
