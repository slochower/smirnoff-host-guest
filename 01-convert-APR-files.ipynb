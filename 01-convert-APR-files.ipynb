{
 "cells": [
  {
   "cell_type": "markdown",
   "metadata": {},
   "source": [
    "# Convert an existing APR file"
   ]
  },
  {
   "cell_type": "markdown",
   "metadata": {},
   "source": [
    "This is going to address the following issues that have cropped up:\n",
    "\n",
    "- https://github.com/openforcefield/openforcefield/issues/68 (Problem generating proper topology using either ParmEd or PDBFile)\n",
    "- https://github.com/openforcefield/openforcefield/issues/66 ( Fix some issues with host-guest examples on some installations)\n",
    "- https://github.com/openforcefield/smirnoff99Frosst/issues/73 (Many bonds are being assigned wildcard parameters in alpha-cyclodextrin)\n",
    "- https://github.com/ParmEd/ParmEd/issues/959 (The rigidWater=True option in parmed.Structure.CreateSystem is not correctly working)\n",
    "- https://github.com/openforcefield/openforcefield/issues/91 ( `createSystem` has nonfunctional argument `rigidWater` #91 )\n",
    "- https://github.com/ParmEd/ParmEd/issues/930 ( Bond-related error saving AMBER `prmtop` from ParmEd structure #930 )\n",
    "- https://github.com/MobleyLab/benchmarksets/issues/64 ( Errors using cyclic host `mol2` files with non-unique atom names #64 )"
   ]
  },
  {
   "cell_type": "code",
   "execution_count": null,
   "metadata": {},
   "outputs": [],
   "source": []
  }
 ],
 "metadata": {
  "kernelspec": {
   "display_name": "Python [conda env:smirnoff-host-guest]",
   "language": "python",
   "name": "conda-env-smirnoff-host-guest-py"
  },
  "language_info": {
   "codemirror_mode": {
    "name": "ipython",
    "version": 3
   },
   "file_extension": ".py",
   "mimetype": "text/x-python",
   "name": "python",
   "nbconvert_exporter": "python",
   "pygments_lexer": "ipython3",
   "version": "3.6.4"
  }
 },
 "nbformat": 4,
 "nbformat_minor": 2
}
