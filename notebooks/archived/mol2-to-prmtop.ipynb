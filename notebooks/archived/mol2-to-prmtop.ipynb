{
 "cells": [
  {
   "cell_type": "markdown",
   "metadata": {},
   "source": [
    "# How to set up a host-guest system using SMIRNOFF99Frosst"
   ]
  },
  {
   "cell_type": "code",
   "execution_count": 1,
   "metadata": {
    "ExecuteTime": {
     "end_time": "2018-02-08T23:07:11.747256Z",
     "start_time": "2018-02-08T23:07:10.792035Z"
    }
   },
   "outputs": [],
   "source": [
    "import numpy as np\n",
    "import subprocess as sp\n",
    "import parmed as pmd\n",
    "from openeye.oechem import *\n",
    "\n",
    "from openforcefield.typing.engines.smirnoff import *\n",
    "from openforcefield.utils import mergeStructure"
   ]
  },
  {
   "cell_type": "markdown",
   "metadata": {
    "ExecuteTime": {
     "end_time": "2018-02-08T19:53:00.952240Z",
     "start_time": "2018-02-08T19:53:00.944094Z"
    }
   },
   "source": [
    "David Mobley suggested:\n",
    "> *However, I think I CAN offer one more piece of good news*: If it’s just a problem with the solvent (which I expect it is, at least in terms of the “too much space” issue) then you should be able to bypass it entirely by using what could be called a “mixed forcefield” system: Just parameterize your water as normal, and your host-guest part using SMIRNOFF, and join them up. (edited)"
   ]
  },
  {
   "cell_type": "markdown",
   "metadata": {},
   "source": [
    "I'm going to combine some manual effort that went into `mixed-force-field.ipynb` and hints from David's notebook `mobley_testing.ipynb` to create a self-contained and (hopefully) clear notebook that will demonstrate how to build a system with the host and guest molecule parameterized with SMIRNOFF99Frosst combined with TIP3P water Joung-Cheatham ions."
   ]
  },
  {
   "cell_type": "markdown",
   "metadata": {},
   "source": [
    "# Create a PDB for the GAFF solvated system"
   ]
  },
  {
   "cell_type": "code",
   "execution_count": 2,
   "metadata": {
    "ExecuteTime": {
     "end_time": "2018-02-08T23:07:11.788455Z",
     "start_time": "2018-02-08T23:07:11.748906Z"
    }
   },
   "outputs": [],
   "source": [
    "def create_pdb_with_conect(solvated_pdb, amber_prmtop, output_pdb, path='./'):\n",
    "    \"\"\"\n",
    "    Create a PDB file containing CONECT records.\n",
    "    This is not very robust, please manually check the `cpptraj` output.\n",
    "    `cpptraj` must be in your PATH.\n",
    "    Parameters\n",
    "    ----------\n",
    "    solvated_pdb : str\n",
    "        Existing solvated structure from e.g., Mobley's Benchmark Sets repository\n",
    "    amber_prmtop : str\n",
    "        AMBER (or other) parameters for the residues in the solvated PDB file\n",
    "    output_pdb : str\n",
    "        Output PDB file name\n",
    "    path : str\n",
    "        Directory for input and output files\n",
    "    \"\"\"\n",
    "    cpptraj = \\\n",
    "    f'''\n",
    "    parm {amber_prmtop}\n",
    "    trajin {solvated_pdb}\n",
    "    trajout {output_pdb} conect\n",
    "    '''\n",
    "\n",
    "    cpptraj_input = output_pdb + '.in'\n",
    "    cpptraj_output = output_pdb + '.out'\n",
    "\n",
    "    with open(path + cpptraj_input, 'w') as file:\n",
    "        file.write(cpptraj)\n",
    "    with open(path + cpptraj_output, 'w') as file:\n",
    "        p = sp.Popen(['cpptraj', '-i', cpptraj_input], cwd=path,\n",
    "                     stdout=file, stderr=file)\n",
    "        output, error = p.communicate()\n",
    "    if p.returncode == 0:\n",
    "        print('PDB file written by cpptraj.')\n",
    "    elif p.returncode == 1:\n",
    "        print('Error returned by cpptraj.')\n",
    "        print(f'Output: {output}')\n",
    "        print(f'Error: {error}')\n",
    "        p = sp.Popen(['cat', cpptraj_output], cwd=path, stdout=sp.PIPE)\n",
    "        for line in p.stdout:\n",
    "            print(line.decode(\"utf-8\").strip(),)\n",
    "    else:\n",
    "        print(f'Output: {output}')\n",
    "        print(f'Error: {error}')"
   ]
  },
  {
   "cell_type": "code",
   "execution_count": 3,
   "metadata": {
    "ExecuteTime": {
     "end_time": "2018-02-08T23:07:11.892467Z",
     "start_time": "2018-02-08T23:07:11.790143Z"
    }
   },
   "outputs": [],
   "source": [
    "def prune_conect(input_pdb, output_pdb, path='./'):\n",
    "    \"\"\"\n",
    "    Delete CONECT records that correspond only to water molecules.\n",
    "    This is necessary to be standards-compliant.\n",
    "    This is not very robust.\n",
    "    Parameters\n",
    "    ----------\n",
    "    input_pdb : str\n",
    "        Input PDB file name\n",
    "    output_pdb : str\n",
    "        Output PDB file name\n",
    "    path : str\n",
    "        Directory for input and output files\n",
    "    \"\"\"\n",
    "    p = sp.Popen(['grep', '-m 1', 'WAT', input_pdb], cwd=path, stdout=sp.PIPE)\n",
    "    for line in p.stdout:\n",
    "        first_water_residue = int(float(line.decode(\"utf-8\").split()[1]))\n",
    "        print(f'First water residue = {first_water_residue}')\n",
    "\n",
    "    p = sp.Popen(['egrep', '-n', f'CONECT [ ]* {first_water_residue}', input_pdb],\n",
    "                 cwd=path, stdout=sp.PIPE)\n",
    "    for line in p.stdout:\n",
    "        line_to_delete_from = int(float(line.decode(\"utf-8\").split(':')[0]))\n",
    "        print(f'Found first water CONECT entry at line = {line_to_delete_from}')\n",
    "\n",
    "    with open(path + output_pdb, 'w') as file:\n",
    "        sp.Popen(\n",
    "         ['awk', f'NR < {line_to_delete_from}', input_pdb], cwd=path, stdout=file)\n",
    "\n",
    "        sp.Popen(['echo', 'END'], cwd=path, stdout=file)"
   ]
  },
  {
   "cell_type": "code",
   "execution_count": 4,
   "metadata": {
    "ExecuteTime": {
     "end_time": "2018-02-08T23:07:12.072451Z",
     "start_time": "2018-02-08T23:07:11.893986Z"
    }
   },
   "outputs": [
    {
     "name": "stdout",
     "output_type": "stream",
     "text": [
      "PDB file written by cpptraj.\n",
      "First water residue = 175\n",
      "Found first water CONECT entry at line = 9192\n"
     ]
    }
   ],
   "source": [
    "create_pdb_with_conect('original/solvated.inpcrd', 'original/solvated.prmtop', 'generated/solvated.pdb')\n",
    "prune_conect('solvated.pdb', 'solvated_conect.pdb', path='generated/')"
   ]
  },
  {
   "cell_type": "markdown",
   "metadata": {},
   "source": [
    "# Load the GAFF solvated PDB into ParmEd and split the system into its molecule components"
   ]
  },
  {
   "cell_type": "code",
   "execution_count": 5,
   "metadata": {
    "ExecuteTime": {
     "end_time": "2018-02-08T23:07:14.025225Z",
     "start_time": "2018-02-08T23:07:12.074211Z"
    }
   },
   "outputs": [],
   "source": [
    "topology = pmd.load_file('generated/solvated_conect.pdb')\n",
    "components = topology.split()"
   ]
  },
  {
   "cell_type": "markdown",
   "metadata": {},
   "source": [
    "Poking around with the `components` object, I can see that the host is listed first, then the guest, then the ions (Na and Cl, not sure of the ordering though), and then the water molecules."
   ]
  },
  {
   "cell_type": "code",
   "execution_count": 6,
   "metadata": {
    "ExecuteTime": {
     "end_time": "2018-02-08T23:07:14.039954Z",
     "start_time": "2018-02-08T23:07:14.027001Z"
    }
   },
   "outputs": [],
   "source": [
    "topologies = pmd.Structure()\n",
    "numbers = []\n",
    "current_names = []\n",
    "\n",
    "for c in components[0:2]:\n",
    "    topologies += c[0]\n",
    "    numbers.append(c[1])    \n",
    "    current_names.append(c[0].residues[0].name)"
   ]
  },
  {
   "cell_type": "code",
   "execution_count": 7,
   "metadata": {
    "ExecuteTime": {
     "end_time": "2018-02-08T23:07:14.119414Z",
     "start_time": "2018-02-08T23:07:14.042725Z"
    }
   },
   "outputs": [
    {
     "name": "stdout",
     "output_type": "stream",
     "text": [
      "<Structure 161 atoms; 8 residues; 168 bonds; NOT parametrized> [{0}, {1}] ['MGO', 'BEN']\n"
     ]
    }
   ],
   "source": [
    "print(topologies, numbers, current_names)"
   ]
  },
  {
   "cell_type": "markdown",
   "metadata": {},
   "source": [
    "We now have a single `Structure` that contains the atoms and bonds from the host (MGO) and guest (BEN)."
   ]
  },
  {
   "cell_type": "markdown",
   "metadata": {},
   "source": [
    "# Parameterize the host and guest with SMIRNOFF99Frosst using OpenEye"
   ]
  },
  {
   "cell_type": "markdown",
   "metadata": {},
   "source": [
    "I'm going to start by loading the host and guest SYBYL-formatted `mol2` files into a list of `OEMol`s. I created these SYBYL-formatted files from files containing AM1-BCC charges and GAFF v1.7 Lennard-Jones and bonded parameters:\n",
    "\n",
    "```\n",
    "antechamber -i bcd.mol2 -fi mol2 -o bcd-sybyl.mol2 -fo mol2 -at sybyl\n",
    "antechamber -i ben.mol2 -fi mol2 -o ben-sybyl.mol2 -fo mol2 -at sybyl -dr n \n",
    "# Disable `acdoctor` to handle carboxylate group\n",
    "```\n",
    "\n",
    "I think it should be possible to read in GAFF-formatted files directly, using a specific forcefield flavor, but I don't see the relvant flavor listed in their [documentation](https://docs.eyesopen.com/toolkits/python/oechemtk/molreadwrite.html#section-molreadwrite-flavoredinputandoutput). A search for \"GAFF\" comes up empty (except for one blog post). If I try to load the GAFF files without any special flavor, I get many things with atom type \"Du,\" which I surmise to be a dummy atom type. I believe this can be remedied by running the files through `OETriposAtomNames`, but it is another thing that could go wrong, so for these reasons, I believe it is more straight-forward to simply start with standard atom names."
   ]
  },
  {
   "cell_type": "code",
   "execution_count": 8,
   "metadata": {
    "ExecuteTime": {
     "end_time": "2018-02-08T23:07:14.191790Z",
     "start_time": "2018-02-08T23:07:14.122098Z"
    }
   },
   "outputs": [],
   "source": [
    "def load_mol2(filename, name=None, add_tripos=True):\n",
    "    ifs = oemolistream()\n",
    "    molecules = []\n",
    "    if not ifs.open(filename):\n",
    "        print(f'Unable to open {filename} for reading...')\n",
    "    for mol in ifs.GetOEMols():\n",
    "        if add_tripos:\n",
    "            OETriposAtomNames(mol)\n",
    "        if name:\n",
    "            mol.SetTitle(name)\n",
    "        # Add all the molecules in this file to a list, but only return the first one.\n",
    "        molecules.append(OEMol(mol))\n",
    "    return molecules[0]"
   ]
  },
  {
   "cell_type": "markdown",
   "metadata": {},
   "source": [
    "In my testing, the atoms in beta-cyclodextrin need to be renamed (for example, using Tripos atom names), so every atom in the molecule has a unique name. Otherwise there is a problem matching the topology."
   ]
  },
  {
   "cell_type": "code",
   "execution_count": 9,
   "metadata": {
    "ExecuteTime": {
     "end_time": "2018-02-08T23:07:14.354538Z",
     "start_time": "2018-02-08T23:07:14.193888Z"
    }
   },
   "outputs": [],
   "source": [
    "host = load_mol2('original/bcd-sybyl.mol2', name='MGO', add_tripos=True)\n",
    "guest = load_mol2('original/ben-sybyl.mol2', name='BEN', add_tripos=False)\n",
    "molecules = [host, guest]"
   ]
  },
  {
   "cell_type": "code",
   "execution_count": 10,
   "metadata": {
    "ExecuteTime": {
     "end_time": "2018-02-08T23:07:14.424542Z",
     "start_time": "2018-02-08T23:07:14.356645Z"
    }
   },
   "outputs": [],
   "source": [
    "def check_unique_atom_names(molecule):\n",
    "    atoms = molecule.GetMaxAtomIdx()\n",
    "    atom_names = set()\n",
    "    for atom in range(atoms):\n",
    "        atom_names.add(molecule.GetAtom(OEHasAtomIdx(atom)).GetName())\n",
    "    print(f'{atoms} atoms in structure, {len(atom_names)} unique atom names.')\n",
    "    assert atoms == len(atom_names)"
   ]
  },
  {
   "cell_type": "code",
   "execution_count": 11,
   "metadata": {
    "ExecuteTime": {
     "end_time": "2018-02-08T23:07:14.498734Z",
     "start_time": "2018-02-08T23:07:14.426669Z"
    }
   },
   "outputs": [
    {
     "name": "stdout",
     "output_type": "stream",
     "text": [
      "147 atoms in structure, 147 unique atom names.\n",
      "14 atoms in structure, 14 unique atom names.\n"
     ]
    }
   ],
   "source": [
    "check_unique_atom_names(host)\n",
    "check_unique_atom_names(guest)"
   ]
  },
  {
   "cell_type": "code",
   "execution_count": 12,
   "metadata": {
    "ExecuteTime": {
     "end_time": "2018-02-08T23:07:15.331107Z",
     "start_time": "2018-02-08T23:07:14.500569Z"
    }
   },
   "outputs": [],
   "source": [
    "ff = ForceField('forcefield/smirnoff99Frosst.ffxml') \n",
    "system = ff.createSystem(topologies.topology, molecules, \n",
    "                         nonbondedCutoff=1.1*unit.nanometer, \n",
    "                         ewaldErrorTolerance=1e-4\n",
    "                         )"
   ]
  },
  {
   "cell_type": "markdown",
   "metadata": {
    "ExecuteTime": {
     "end_time": "2018-02-08T22:15:57.269886Z",
     "start_time": "2018-02-08T22:15:57.266855Z"
    }
   },
   "source": [
    "# Store the host-guest SMIRNOFF99Frosst parameters in a ParmEd `Structure`"
   ]
  },
  {
   "cell_type": "code",
   "execution_count": 13,
   "metadata": {
    "ExecuteTime": {
     "end_time": "2018-02-08T23:07:15.424433Z",
     "start_time": "2018-02-08T23:07:15.332743Z"
    }
   },
   "outputs": [],
   "source": [
    "host_guest_structure = pmd.openmm.topsystem.load_topology(topologies.topology, system, topologies.positions)"
   ]
  },
  {
   "cell_type": "markdown",
   "metadata": {},
   "source": [
    "# Extract the water and ions from the GAFF solvated structure"
   ]
  },
  {
   "cell_type": "code",
   "execution_count": 14,
   "metadata": {
    "ExecuteTime": {
     "end_time": "2018-02-08T23:07:15.469370Z",
     "start_time": "2018-02-08T23:07:15.426505Z"
    }
   },
   "outputs": [],
   "source": [
    "def extract_water_and_ions(amber_prmtop, amber_inpcrd, host_residue, guest_residue, \n",
    "                           output_pdb, path='./'):\n",
    "    \"\"\"\n",
    "    Create a PDB file containing just the water and ions.\n",
    "    This is not very robust, please manually check the `cpptraj` output.\n",
    "    `cpptraj` must be in your PATH.\n",
    "    Parameters\n",
    "    ----------\n",
    "    amber_prmtop : str\n",
    "        Existing solvated structure parameters from e.g., Mobley's Benchmark Sets repository\n",
    "    amber_inpcrd : str\n",
    "        Existing solvated structure coordinates\n",
    "    host_residue : str\n",
    "        Residue name of the host molecule (to be stripped)\n",
    "    guest_residue : str\n",
    "        Residue name of the guest molecule (to be stripped)\n",
    "    output_pdb : str\n",
    "        Output PDB file name\n",
    "    path : str\n",
    "        Directory for input and output files\n",
    "    \"\"\"\n",
    "    \n",
    "    cpptraj = \\\n",
    "    f'''\n",
    "parm {amber_prmtop}\n",
    "trajin {amber_inpcrd}\n",
    "strip {host_residue}\n",
    "strip {guest_residue}\n",
    "trajout {output_pdb}\n",
    "    '''\n",
    "    cpptraj_input = output_pdb + '.in'\n",
    "    cpptraj_output = output_pdb + '.out'\n",
    "\n",
    "    with open(path + cpptraj_input, 'w') as file:\n",
    "        file.write(cpptraj)\n",
    "    with open(path + cpptraj_output, 'w') as file:\n",
    "        p = sp.Popen(['cpptraj', '-i', cpptraj_input], cwd=path,\n",
    "                     stdout=file, stderr=file)\n",
    "        output, error = p.communicate()\n",
    "    if p.returncode == 0:\n",
    "        print('Water and ion PDB file written by cpptraj.')\n",
    "    elif p.returncode == 1:\n",
    "        print('Error returned by cpptraj.')\n",
    "        print(f'Output: {output}')\n",
    "        print(f'Error: {error}')\n",
    "        p = sp.Popen(['cat', cpptraj_output], cwd=path, stdout=sp.PIPE)\n",
    "        for line in p.stdout:\n",
    "            print(line.decode(\"utf-8\").strip(),)\n",
    "    else:\n",
    "        print(f'Output: {output}')\n",
    "        print(f'Error: {error}')"
   ]
  },
  {
   "cell_type": "code",
   "execution_count": 22,
   "metadata": {
    "ExecuteTime": {
     "end_time": "2018-02-08T23:09:32.915907Z",
     "start_time": "2018-02-08T23:09:32.871285Z"
    }
   },
   "outputs": [],
   "source": [
    "def create_water_and_ions_parameters(input_pdb, output_prmtop, output_inpcrd, \n",
    "                                     water_model='tip3p', ion_model ='ionsjc_tip3p',\n",
    "                                    path='./'):\n",
    "    \"\"\"\n",
    "    Create AMBER coordinates and parameters for just the water and ions.\n",
    "    This is not very robust, please manually check the `tleap` output.\n",
    "    `tleap` must be in your PATH.\n",
    "    Parameters\n",
    "    ----------\n",
    "    input_pdb : str\n",
    "        PDB structure containing everything except the host and guest\n",
    "    output_prmtop : str\n",
    "        AMBER parameters for the water and ions\n",
    "    output_inpcrd : str\n",
    "        AMBER coordinates for the water and ions\n",
    "    water_model : str\n",
    "        Water model, must match AMBER `leaprc.water` and `frcmod`files\n",
    "    ion_model : str\n",
    "        Ion model, must match AMBER `leaprc.water` and `frcmod`files\n",
    "    path : str\n",
    "        Directory for input and output files\n",
    "    \"\"\"\n",
    "    \n",
    "    tleap = \\\n",
    "    f'''\n",
    "source leaprc.protein.ff14sb\n",
    "source leaprc.water.{water_model}\n",
    "source leaprc.gaff\n",
    "loadamberparams frcmod.{water_model}\n",
    "loadamberparams frcmod.{ion_model}\n",
    "mol = loadpdb {input_pdb}\n",
    "saveamberparm mol {output_prmtop} {output_inpcrd}\n",
    "quit\n",
    "    '''\n",
    "    tleap_input = output_prmtop + '.in'\n",
    "    tleap_output = output_prmtop + '.out'\n",
    "\n",
    "    with open(path + tleap_input, 'w') as file:\n",
    "        file.write(tleap)\n",
    "    with open(path + tleap_output, 'w') as file:\n",
    "        p = sp.Popen(['tleap', '-f', tleap_input, '>', tleap_output], cwd=path,\n",
    "                     stdout=file, stderr=file)\n",
    "        output, error = p.communicate()\n",
    "    if p.returncode == 0:\n",
    "        print('Water and ion parameters and coordinates written by tleap.')\n",
    "    elif p.returncode == 1:\n",
    "        print('Error returned by tleap.')\n",
    "        print(f'Output: {output}')\n",
    "        print(f'Error: {error}')\n",
    "        p = sp.Popen(['cat', tleap_output], cwd=path, stdout=sp.PIPE)\n",
    "        for line in p.stdout:\n",
    "            print(line.decode(\"utf-8\").strip(),)\n",
    "    else:\n",
    "        print(f'Output: {output}')\n",
    "        print(f'Error: {error}')"
   ]
  },
  {
   "cell_type": "code",
   "execution_count": 23,
   "metadata": {
    "ExecuteTime": {
     "end_time": "2018-02-08T23:09:33.982915Z",
     "start_time": "2018-02-08T23:09:33.924486Z"
    }
   },
   "outputs": [
    {
     "name": "stdout",
     "output_type": "stream",
     "text": [
      "Water and ion PDB file written by cpptraj.\n"
     ]
    }
   ],
   "source": [
    "extract_water_and_ions('../original/solvated.prmtop', '../original/solvated.inpcrd', ':MGO', ':BEN', \n",
    "                           'water_ions.pdb', 'generated/')"
   ]
  },
  {
   "cell_type": "code",
   "execution_count": 24,
   "metadata": {
    "ExecuteTime": {
     "end_time": "2018-02-08T23:09:41.398601Z",
     "start_time": "2018-02-08T23:09:41.032669Z"
    }
   },
   "outputs": [
    {
     "name": "stdout",
     "output_type": "stream",
     "text": [
      "Water and ion parameters and coordinates written by tleap.\n"
     ]
    }
   ],
   "source": [
    "create_water_and_ions_parameters('water_ions.pdb', 'water_ions.prmtop', 'water_ions.inpcrd', \n",
    "                                     water_model='tip3p', ion_model ='ionsjc_tip3p',\n",
    "                                    path='generated/')"
   ]
  },
  {
   "cell_type": "markdown",
   "metadata": {},
   "source": [
    "# Load in TIP3P and Joung-Cheatham ion parameters for the water and ions"
   ]
  },
  {
   "cell_type": "code",
   "execution_count": 18,
   "metadata": {
    "ExecuteTime": {
     "end_time": "2018-02-08T23:07:16.577675Z",
     "start_time": "2018-02-08T23:07:16.155125Z"
    }
   },
   "outputs": [],
   "source": [
    "water_and_ions = pmd.amber.AmberParm('generated/water_ions.prmtop', xyz='generated/water_ions.inpcrd')"
   ]
  },
  {
   "cell_type": "markdown",
   "metadata": {},
   "source": [
    "# Merge the host-guest SMIRNOFF99Frosst parameters and the water and ion parameters to create a \"mixed force field\" ParmEd `Structure`"
   ]
  },
  {
   "cell_type": "code",
   "execution_count": 19,
   "metadata": {
    "ExecuteTime": {
     "end_time": "2018-02-08T23:07:17.047285Z",
     "start_time": "2018-02-08T23:07:16.579369Z"
    }
   },
   "outputs": [],
   "source": [
    "merged = mergeStructure(host_guest_structure, water_and_ions)"
   ]
  },
  {
   "cell_type": "code",
   "execution_count": 20,
   "metadata": {
    "ExecuteTime": {
     "end_time": "2018-02-08T23:07:19.801474Z",
     "start_time": "2018-02-08T23:07:17.048925Z"
    }
   },
   "outputs": [],
   "source": [
    "merged.save('generated/solvated_smirnoff.prmtop')"
   ]
  },
  {
   "cell_type": "code",
   "execution_count": 21,
   "metadata": {
    "ExecuteTime": {
     "end_time": "2018-02-08T23:07:19.834534Z",
     "start_time": "2018-02-08T23:07:19.803205Z"
    }
   },
   "outputs": [],
   "source": [
    "merged.save('generated/solvated_smirnoff.inpcrd')"
   ]
  },
  {
   "cell_type": "markdown",
   "metadata": {},
   "source": [
    "Interesting, at this point, there are no box coordinates in the `inpcrd`, but I have been able to run a quick simulation using this `prmtop` and the original `inpcrd`. So that might be a good solution. Also, notably, when running this self-contained notebook with a fresh kernel, I do *not* get the `bond.type` error that I was experiencing before!"
   ]
  },
  {
   "cell_type": "code",
   "execution_count": null,
   "metadata": {},
   "outputs": [],
   "source": []
  }
 ],
 "metadata": {
  "kernelspec": {
   "display_name": "Python [conda env:openforcefield]",
   "language": "python",
   "name": "conda-env-openforcefield-py"
  },
  "language_info": {
   "codemirror_mode": {
    "name": "ipython",
    "version": 3
   },
   "file_extension": ".py",
   "mimetype": "text/x-python",
   "name": "python",
   "nbconvert_exporter": "python",
   "pygments_lexer": "ipython3",
   "version": "3.6.1"
  }
 },
 "nbformat": 4,
 "nbformat_minor": 2
}
