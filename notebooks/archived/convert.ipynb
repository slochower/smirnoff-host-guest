{
 "cells": [
  {
   "cell_type": "markdown",
   "metadata": {},
   "source": [
    "# Convert all windows in `a-bam-p` to SMIRNOFF99Frosst and prepare the AMBER input files for running a test on TSCC"
   ]
  },
  {
   "cell_type": "code",
   "execution_count": 9,
   "metadata": {},
   "outputs": [
    {
     "name": "stdout",
     "output_type": "stream",
     "text": [
      "The autoreload extension is already loaded. To reload it, use:\n",
      "  %reload_ext autoreload\n"
     ]
    }
   ],
   "source": [
    "%load_ext autoreload\n",
    "%autoreload 2\n",
    "\n",
    "import os as os\n",
    "import glob as glob\n",
    "from utils import load_mol2, load_pdb, map_atoms, map_residues\n",
    "from process import convert_parameters"
   ]
  },
  {
   "cell_type": "code",
   "execution_count": 10,
   "metadata": {},
   "outputs": [],
   "source": [
    "base_path = 'a-bam-p/'\n",
    "directories = []\n",
    "for window in range(0, 14):\n",
    "    directories.append('a' + f'{window:02d}')\n",
    "for window in range(0, 1):\n",
    "    directories.append('r' + f'{window:02d}')\n",
    "for window in range(0, 46):\n",
    "    directories.append('u' + f'{window:02d}')"
   ]
  },
  {
   "cell_type": "code",
   "execution_count": 13,
   "metadata": {},
   "outputs": [
    {
     "name": "stdout",
     "output_type": "stream",
     "text": [
      "Determining mapping...\n"
     ]
    }
   ],
   "source": [
    "reference_mol = load_mol2(base_path + 'a00/' + 'generated/' + 'reference.mol2')\n",
    "target_mol = load_mol2(base_path + 'a00/' + 'generated/' + 'target.mol2')\n",
    "atom_mapping = map_atoms(reference_mol, target_mol)\n",
    "\n",
    "reference_mol = load_pdb(base_path + 'a00/' + 'generated/' + 'reference.pdb')\n",
    "target_mol = load_pdb(base_path + 'a00/' + 'generated/' + 'target.pdb')\n",
    "residue_mapping = map_residues(atom_mapping, reference_mol, target_mol)"
   ]
  },
  {
   "cell_type": "code",
   "execution_count": 79,
   "metadata": {},
   "outputs": [
    {
     "data": {
      "text/plain": [
       "<module 'logging' from '/home/dslochower/data/applications/anaconda3/envs/openforcefield/lib/python3.6/logging/__init__.py'>"
      ]
     },
     "execution_count": 79,
     "metadata": {},
     "output_type": "execute_result"
    }
   ],
   "source": [
    "import logging\n",
    "from importlib import reload\n",
    "reload(logging)"
   ]
  },
  {
   "cell_type": "code",
   "execution_count": 80,
   "metadata": {},
   "outputs": [],
   "source": [
    "logger = logging.getLogger()\n",
    "logger.setLevel(logging.INFO)\n",
    "logging.basicConfig(\n",
    "    format='%(asctime)s %(message)s', datefmt='%Y-%m-%d %I:%M:%S %p')"
   ]
  },
  {
   "cell_type": "code",
   "execution_count": null,
   "metadata": {},
   "outputs": [],
   "source": [
    "FORMAT = \"%(asctime)-15s %(clientip)s %(user)-8s %(message)s\"\n",
    "logging.basicConfig(format=FORMAT)"
   ]
  },
  {
   "cell_type": "code",
   "execution_count": 81,
   "metadata": {},
   "outputs": [
    {
     "name": "stderr",
     "output_type": "stream",
     "text": [
      "2018-02-28 08:29:34 AM hi\n"
     ]
    }
   ],
   "source": [
    "logging.warning('hi')"
   ]
  },
  {
   "cell_type": "code",
   "execution_count": 68,
   "metadata": {},
   "outputs": [
    {
     "name": "stderr",
     "output_type": "stream",
     "text": [
      "INFO:root:Creating a-bam-p/a00/original/full.crds with CONECT records...\n",
      "INFO:root:Pruning water-water CONECT records...\n"
     ]
    },
    {
     "name": "stdout",
     "output_type": "stream",
     "text": [
      "\n",
      "a00\n"
     ]
    },
    {
     "name": "stderr",
     "output_type": "stream",
     "text": [
      "INFO:root:Splitting topology into components...\n",
      "INFO:root:Creating a combined topology for the host and guest molecules...\n",
      "INFO:root:Writing a `mol2` for the host molecule...\n",
      "INFO:root:Converting a-bam-p/a00/generated/MGO.mol2 to SYBYL atom types via Antechamber...\n",
      "INFO:root:Loading a-bam-p/a00/generated/MGO-sybyl.mol2...\n",
      "INFO:root:Loading a-bam-p/a00/original/bam.mol2...\n",
      "INFO:root:Checking all atoms have unique names...\n",
      "INFO:root:Checking all atoms have unique names...\n",
      "INFO:root:Checking structure for bonds >4 A...\n",
      "WARNING:root:Check if the host-guest parameter file already exists...\n",
      "WARNING:root:Check if the host-guest coordinate file already exists...\n",
      "INFO:root:Extracting water and ions from a-bam-p/a00/original/full.hmr.topo...\n",
      "INFO:root:Creating parameters for the waters and ions...\n",
      "INFO:root:Writing a `frcmod` file for dummy atoms...\n",
      "INFO:root:Writing a `mol2` file for dummy atoms...\n",
      "WARNING:root:Check if solvated parameter file already exists...\n",
      "WARNING:root:Check if solvated coordinate file already exists...\n",
      "WARNING:root:Check if file exists...\n",
      "WARNING:root:Check if file exists...\n",
      "INFO:root:Writing AMBER input file using residue mapping...\n",
      "INFO:root:Writing AMBER input file using residue mapping...\n",
      "INFO:root:Repartitioning hydrogen mass...\n",
      "INFO:root:Writing AMBER input file using residue mapping...\n",
      "INFO:root:Repartitioning hydrogen mass...\n",
      "INFO:root:Writing AMBER input file using residue mapping...\n",
      "INFO:root:Repartitioning hydrogen mass...\n",
      "INFO:root:Writing AMBER input file using residue mapping...\n",
      "INFO:root:Repartitioning hydrogen mass...\n",
      "INFO:root:Writing AMBER restraints file using atom mapping...\n",
      "INFO:root:Creating a-bam-p/a01/original/full.crds with CONECT records...\n",
      "INFO:root:Pruning water-water CONECT records...\n"
     ]
    },
    {
     "name": "stdout",
     "output_type": "stream",
     "text": [
      "\n",
      "a01\n"
     ]
    },
    {
     "name": "stderr",
     "output_type": "stream",
     "text": [
      "INFO:root:Splitting topology into components...\n",
      "INFO:root:Creating a combined topology for the host and guest molecules...\n",
      "INFO:root:Writing a `mol2` for the host molecule...\n"
     ]
    },
    {
     "ename": "KeyboardInterrupt",
     "evalue": "",
     "output_type": "error",
     "traceback": [
      "\u001b[0;31m---------------------------------------------------------------------------\u001b[0m",
      "\u001b[0;31mKeyboardInterrupt\u001b[0m                         Traceback (most recent call last)",
      "\u001b[0;32m<ipython-input-68-dcdcddd9e7f0>\u001b[0m in \u001b[0;36m<module>\u001b[0;34m()\u001b[0m\n\u001b[1;32m     12\u001b[0m                        \u001b[0mguest_resname\u001b[0m\u001b[0;34m=\u001b[0m\u001b[0;34m'BAM'\u001b[0m\u001b[0;34m,\u001b[0m\u001b[0;34m\u001b[0m\u001b[0m\n\u001b[1;32m     13\u001b[0m                        \u001b[0matom_mapping\u001b[0m\u001b[0;34m=\u001b[0m\u001b[0matom_mapping\u001b[0m\u001b[0;34m,\u001b[0m\u001b[0;34m\u001b[0m\u001b[0m\n\u001b[0;32m---> 14\u001b[0;31m                        residue_mapping=residue_mapping)\n\u001b[0m",
      "\u001b[0;32m~/hgst-3tb-data/projects/smirnoff-host-guest/process.py\u001b[0m in \u001b[0;36mconvert_parameters\u001b[0;34m(source_directory, source_crd, source_top, destination_directory, destination_crd, destination_top, host_resname, guest_resname, atom_mapping, residue_mapping)\u001b[0m\n\u001b[1;32m     50\u001b[0m         \u001b[0mamber_prmtop\u001b[0m\u001b[0;34m=\u001b[0m\u001b[0msource_directory\u001b[0m \u001b[0;34m+\u001b[0m \u001b[0msource_top\u001b[0m\u001b[0;34m,\u001b[0m\u001b[0;34m\u001b[0m\u001b[0m\n\u001b[1;32m     51\u001b[0m         \u001b[0mmask\u001b[0m\u001b[0;34m=\u001b[0m\u001b[0mhost_resname\u001b[0m\u001b[0;34m,\u001b[0m\u001b[0;34m\u001b[0m\u001b[0m\n\u001b[0;32m---> 52\u001b[0;31m         output_mol2=destination_directory + host_resname + '.mol2')\n\u001b[0m\u001b[1;32m     53\u001b[0m \u001b[0;34m\u001b[0m\u001b[0m\n\u001b[1;32m     54\u001b[0m     convert_mol2_to_sybyl_antechamber(\n",
      "\u001b[0;32m~/hgst-3tb-data/projects/smirnoff-host-guest/utils.py\u001b[0m in \u001b[0;36mcreate_host_mol2\u001b[0;34m(solvated_pdb, amber_prmtop, mask, output_mol2, path)\u001b[0m\n\u001b[1;32m   1069\u001b[0m     \u001b[0;31m# Since `cpptraj` writes the frame number as suffix, move back to desired file name.\u001b[0m\u001b[0;34m\u001b[0m\u001b[0;34m\u001b[0m\u001b[0m\n\u001b[1;32m   1070\u001b[0m     p = sp.Popen(\n\u001b[0;32m-> 1071\u001b[0;31m         ['mv', output_mol2 + '.1', output_mol2], cwd=path, stdout=sp.PIPE)\n\u001b[0m\u001b[1;32m   1072\u001b[0m \u001b[0;34m\u001b[0m\u001b[0m\n\u001b[1;32m   1073\u001b[0m \u001b[0;34m\u001b[0m\u001b[0m\n",
      "\u001b[0;32m~/data/applications/anaconda3/envs/openforcefield/lib/python3.6/subprocess.py\u001b[0m in \u001b[0;36m__init__\u001b[0;34m(self, args, bufsize, executable, stdin, stdout, stderr, preexec_fn, close_fds, shell, cwd, env, universal_newlines, startupinfo, creationflags, restore_signals, start_new_session, pass_fds, encoding, errors)\u001b[0m\n\u001b[1;32m    705\u001b[0m                                 \u001b[0mc2pread\u001b[0m\u001b[0;34m,\u001b[0m \u001b[0mc2pwrite\u001b[0m\u001b[0;34m,\u001b[0m\u001b[0;34m\u001b[0m\u001b[0m\n\u001b[1;32m    706\u001b[0m                                 \u001b[0merrread\u001b[0m\u001b[0;34m,\u001b[0m \u001b[0merrwrite\u001b[0m\u001b[0;34m,\u001b[0m\u001b[0;34m\u001b[0m\u001b[0m\n\u001b[0;32m--> 707\u001b[0;31m                                 restore_signals, start_new_session)\n\u001b[0m\u001b[1;32m    708\u001b[0m         \u001b[0;32mexcept\u001b[0m\u001b[0;34m:\u001b[0m\u001b[0;34m\u001b[0m\u001b[0m\n\u001b[1;32m    709\u001b[0m             \u001b[0;31m# Cleanup if the child failed starting.\u001b[0m\u001b[0;34m\u001b[0m\u001b[0;34m\u001b[0m\u001b[0m\n",
      "\u001b[0;32m~/data/applications/anaconda3/envs/openforcefield/lib/python3.6/subprocess.py\u001b[0m in \u001b[0;36m_execute_child\u001b[0;34m(self, args, executable, preexec_fn, close_fds, pass_fds, cwd, env, startupinfo, creationflags, shell, p2cread, p2cwrite, c2pread, c2pwrite, errread, errwrite, restore_signals, start_new_session)\u001b[0m\n\u001b[1;32m   1258\u001b[0m                             \u001b[0merrread\u001b[0m\u001b[0;34m,\u001b[0m \u001b[0merrwrite\u001b[0m\u001b[0;34m,\u001b[0m\u001b[0;34m\u001b[0m\u001b[0m\n\u001b[1;32m   1259\u001b[0m                             \u001b[0merrpipe_read\u001b[0m\u001b[0;34m,\u001b[0m \u001b[0merrpipe_write\u001b[0m\u001b[0;34m,\u001b[0m\u001b[0;34m\u001b[0m\u001b[0m\n\u001b[0;32m-> 1260\u001b[0;31m                             restore_signals, start_new_session, preexec_fn)\n\u001b[0m\u001b[1;32m   1261\u001b[0m                     \u001b[0mself\u001b[0m\u001b[0;34m.\u001b[0m\u001b[0m_child_created\u001b[0m \u001b[0;34m=\u001b[0m \u001b[0;32mTrue\u001b[0m\u001b[0;34m\u001b[0m\u001b[0m\n\u001b[1;32m   1262\u001b[0m                 \u001b[0;32mfinally\u001b[0m\u001b[0;34m:\u001b[0m\u001b[0;34m\u001b[0m\u001b[0m\n",
      "\u001b[0;31mKeyboardInterrupt\u001b[0m: "
     ]
    }
   ],
   "source": [
    "for directory in directories:\n",
    "    if not os.path.exists(base_path + directory + '/generated/'):\n",
    "        os.makedirs(base_path + directory + '/generated/')\n",
    "    print(f'\\n{directory}')\n",
    "    convert_parameters(source_directory=base_path + directory + '/original/',\n",
    "                       source_crd='full.crds',\n",
    "                       source_top='full.hmr.topo',\n",
    "                       destination_directory=base_path + directory + '/generated/',\n",
    "                       destination_crd='smirnoff.inpcrd',\n",
    "                       destination_top='smirnoff.prmtop',\n",
    "                       host_resname='MGO',\n",
    "                       guest_resname='BAM',\n",
    "                       atom_mapping=atom_mapping,\n",
    "                       residue_mapping=residue_mapping)"
   ]
  },
  {
   "cell_type": "code",
   "execution_count": 56,
   "metadata": {},
   "outputs": [
    {
     "name": "stdout",
     "output_type": "stream",
     "text": [
      "\n",
      "a00\n",
      "\n",
      "a01\n",
      "\n",
      "a02\n",
      "\n",
      "a03\n",
      "\n",
      "a04\n",
      "\n",
      "a05\n",
      "\n",
      "a06\n",
      "\n",
      "a07\n",
      "\n",
      "a08\n",
      "\n",
      "a09\n",
      "\n",
      "a10\n",
      "\n",
      "a11\n",
      "\n",
      "a12\n",
      "\n",
      "a13\n",
      "\n",
      "r00\n",
      "\n",
      "u00\n",
      "\n",
      "u01\n",
      "\n",
      "u02\n",
      "\n",
      "u03\n",
      "\n",
      "u04\n",
      "\n",
      "u05\n",
      "\n",
      "u06\n",
      "\n",
      "u07\n",
      "\n",
      "u08\n",
      "\n",
      "u09\n",
      "\n",
      "u10\n",
      "\n",
      "u11\n",
      "\n",
      "u12\n",
      "\n",
      "u13\n",
      "\n",
      "u14\n",
      "\n",
      "u15\n",
      "\n",
      "u16\n",
      "\n",
      "u17\n",
      "\n",
      "u18\n",
      "\n",
      "u19\n",
      "\n",
      "u20\n",
      "\n",
      "u21\n",
      "\n",
      "u22\n",
      "\n",
      "u23\n",
      "\n",
      "u24\n",
      "\n",
      "u25\n",
      "\n",
      "u26\n",
      "\n",
      "u27\n",
      "\n",
      "u28\n",
      "\n",
      "u29\n",
      "\n",
      "u30\n",
      "\n",
      "u31\n",
      "\n",
      "u32\n",
      "\n",
      "u33\n",
      "\n",
      "u34\n",
      "\n",
      "u35\n",
      "\n",
      "u36\n",
      "\n",
      "u37\n",
      "\n",
      "u38\n",
      "\n",
      "u39\n",
      "\n",
      "u40\n",
      "\n",
      "u41\n",
      "\n",
      "u42\n",
      "\n",
      "u43\n",
      "\n",
      "u44\n",
      "\n",
      "u45\n"
     ]
    }
   ],
   "source": [
    "minimization_engine   = '$AMBERHOME/bin/pmemd.cuda'\n",
    "thermalization_engine = '$AMBERHOME/bin/pmemd.cuda'\n",
    "equilibration_engine  = '$AMBERHOME/bin/pmemd.cuda'\n",
    "production_engine     = '$AMBERHOME/bin/pmemd.cuda'\n",
    "\n",
    "\n",
    "for directory in directories:\n",
    "    if not os.path.exists(base_path + directory + '/generated/'):\n",
    "        os.makedirs(base_path + directory + '/generated/')\n",
    "    print(f'\\n{directory}')\n",
    "    with open(base_path + directory + '/generated/' + 'md.sh', 'w') as file:\n",
    "        file.write('#!/usr/bin/env bash\\n')\n",
    "        # file.write('source $AMBERHOME/amber.sh\\n')\n",
    "        \n",
    "        # file.write(f'{minimization_engine} -O -p smirnoff.prmtop -ref smirnoff.inpcrd -c smirnoff.inpcrd -i mini.in '\n",
    "        #            '-o mini.out -r mini.rst -inf /dev/null\\n')\n",
    "        # file.write(f'{thermalization_engine} -O -p smirnoff.prmtop -ref smirnoff.inpcrd -c mini.rst -i therm1.in '\n",
    "        #            '-o therm1.out -r therm1.rst -inf therm1.mdinfo\\n')\n",
    "        # file.write(f'{thermalization_engine} -O -p smirnoff.prmtop -ref smirnoff.inpcrd -c therm1.rst -i therm2.in '\n",
    "        #            '-o therm2.out -r therm2.rst -inf therm2.mdinfo\\n')\n",
    "        # file.write('cp therm2.rst eqnpt.rst\\n')\n",
    "        # file.write('\\n')\n",
    "        # for iteration in range(1, 101):\n",
    "            # file.write(f'{equilibration_engine} -O -p smirnoff.prmtop -ref smirnoff.inpcrd -c eqnpt.rst -i eqnpt.in '\n",
    "            #            f'-o eqnpt.{iteration:02d}.out -r eqnpt.{iteration:02d}.rst -inf /dev/null >& eqnpt.log \\n')\n",
    "            # file.write(f'cat eqnpt.{iteration:02d}.out >> eqnpt.all.out\\n')\n",
    "            # file.write(f'cp eqnpt.{iteration:02d}.rst eqnpt.rst\\n')\n",
    "            # file.write('\\n')\n",
    "\n",
    "        # file.write('cp eqnpt.100.rst md.000.rst\\n')\n",
    "        file.write('\\n')\n",
    "        for iteration in range(1, 2):\n",
    "            file.write(f'{production_engine} -O -p smirnoff.prmtop -ref smirnoff.inpcrd -c md.{(iteration-1):03d}.rst -i mdin '\n",
    "                       f'-o mdout.{iteration:03d} -r md.{iteration:03d}.rst -x traj.{iteration:03d}.nc -inf mdinfo.{iteration:03d} -e mden.{iteration:03d} \\n')\n",
    "            file.write('\\n')"
   ]
  },
  {
   "cell_type": "code",
   "execution_count": 57,
   "metadata": {},
   "outputs": [
    {
     "name": "stdout",
     "output_type": "stream",
     "text": [
      "\n",
      "a00\n",
      "\n",
      "a01\n",
      "\n",
      "a02\n",
      "\n",
      "a03\n",
      "\n",
      "a04\n",
      "\n",
      "a05\n",
      "\n",
      "a06\n",
      "\n",
      "a07\n",
      "\n",
      "a08\n",
      "\n",
      "a09\n",
      "\n",
      "a10\n",
      "\n",
      "a11\n",
      "\n",
      "a12\n",
      "\n",
      "a13\n",
      "\n",
      "r00\n",
      "\n",
      "u00\n",
      "\n",
      "u01\n",
      "\n",
      "u02\n",
      "\n",
      "u03\n",
      "\n",
      "u04\n",
      "\n",
      "u05\n",
      "\n",
      "u06\n",
      "\n",
      "u07\n",
      "\n",
      "u08\n",
      "\n",
      "u09\n",
      "\n",
      "u10\n",
      "\n",
      "u11\n",
      "\n",
      "u12\n",
      "\n",
      "u13\n",
      "\n",
      "u14\n",
      "\n",
      "u15\n",
      "\n",
      "u16\n",
      "\n",
      "u17\n",
      "\n",
      "u18\n",
      "\n",
      "u19\n",
      "\n",
      "u20\n",
      "\n",
      "u21\n",
      "\n",
      "u22\n",
      "\n",
      "u23\n",
      "\n",
      "u24\n",
      "\n",
      "u25\n",
      "\n",
      "u26\n",
      "\n",
      "u27\n",
      "\n",
      "u28\n",
      "\n",
      "u29\n",
      "\n",
      "u30\n",
      "\n",
      "u31\n",
      "\n",
      "u32\n",
      "\n",
      "u33\n",
      "\n",
      "u34\n",
      "\n",
      "u35\n",
      "\n",
      "u36\n",
      "\n",
      "u37\n",
      "\n",
      "u38\n",
      "\n",
      "u39\n",
      "\n",
      "u40\n",
      "\n",
      "u41\n",
      "\n",
      "u42\n",
      "\n",
      "u43\n",
      "\n",
      "u44\n",
      "\n",
      "u45\n"
     ]
    }
   ],
   "source": [
    "for directory in directories:\n",
    "    if not os.path.exists(base_path + directory + '/generated/'):\n",
    "        os.makedirs(base_path + directory + '/generated/')\n",
    "    print(f'\\n{directory}')\n",
    "    with open(base_path + directory + '/generated/' + 'tscc.sh', 'w') as file:\n",
    "\n",
    "        string = \\\n",
    "    f'''#!/bin/bash\n",
    "#PBS -l walltime=2:00:00,nodes=1:ppn=3:gpu -q home-mgilson\n",
    "#PBS -j oe -r n -m a -M slochower@gmail.com\n",
    "#PBS -N {directory}\n",
    "\n",
    "module swap intel gnu\n",
    "module load cuda\n",
    "module load python\n",
    "module load scipy/2.7\n",
    "\n",
    "PATH=\"/home/henrikse/gnu44-bin:/opt/mvapich2/gnu/ib/bin:$PATH\"\n",
    "CUDA_HOME=\"/opt/cuda/7.5.18\"\n",
    "LD_LIBRARY_PATH=\"${{CUDA_HOME}}/lib64:/opt/mvapich2/gnu/ib/lib:$LD_LIBRARY_PATH\"\n",
    "MV2_ENABLE_AFFINITY=0\n",
    "SCRDIR=/oasis/tscc/scratch/davids4/a-bam-p/{directory}/\n",
    "source /home/henrikse/amber16gnu/tsccamber.sh\n",
    "\n",
    "# Synchronize all the files in the current directory with the scratch directory\n",
    "mkdir -p $SCRDIR\n",
    "rsync -avL $PBS_O_WORKDIR $SCRDIR\n",
    "\n",
    "# Run the super duper python script\n",
    "cd $SCRDIR/generated/\n",
    "bash md.sh\n",
    "'''\n",
    "        file.write(string)"
   ]
  },
  {
   "cell_type": "code",
   "execution_count": 54,
   "metadata": {},
   "outputs": [],
   "source": [
    "with open(base_path + 'submit_all_jobs.sh', 'w') as file:\n",
    "    file.write('#!/bin/bash\\n')\n",
    "    for directory in directories:\n",
    "        file.write(f'cd /home/davids4/projects/smirnoff-host-guest/a-bam-p/{directory}/generated/\\n')\n",
    "        file.write('qsub tscc.sh\\n')\n",
    "        file.write('cd ../../\\n')"
   ]
  },
  {
   "cell_type": "markdown",
   "metadata": {},
   "source": [
    "Use local scratch (/state/partition1/$USER/$PBS_JOBID) if your job writes a lot of files from each task. The local scratch filesystem is purged at the end of each job, so you will need to copy out files that you want to retain after the job completes.\n"
   ]
  },
  {
   "cell_type": "code",
   "execution_count": null,
   "metadata": {},
   "outputs": [],
   "source": []
  }
 ],
 "metadata": {
  "kernelspec": {
   "display_name": "Python [conda env:openforcefield]",
   "language": "python",
   "name": "conda-env-openforcefield-py"
  },
  "language_info": {
   "codemirror_mode": {
    "name": "ipython",
    "version": 3
   },
   "file_extension": ".py",
   "mimetype": "text/x-python",
   "name": "python",
   "nbconvert_exporter": "python",
   "pygments_lexer": "ipython3",
   "version": "3.6.1"
  }
 },
 "nbformat": 4,
 "nbformat_minor": 2
}
