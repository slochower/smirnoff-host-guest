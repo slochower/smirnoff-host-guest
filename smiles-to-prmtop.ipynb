{
 "cells": [
  {
   "cell_type": "code",
   "execution_count": 77,
   "metadata": {
    "ExecuteTime": {
     "end_time": "2018-02-06T06:05:39.726441Z",
     "start_time": "2018-02-06T06:05:39.720064Z"
    }
   },
   "outputs": [],
   "source": [
    "import numpy as np\n",
    "import subprocess as sp\n",
    "import parmed as pmd\n",
    "from openeye.oechem import *\n",
    "from openeye.oeomega import *\n",
    "\n",
    "from openforcefield.typing.engines.smirnoff import *\n",
    "from pdbfixer import PDBFixer"
   ]
  },
  {
   "cell_type": "code",
   "execution_count": 30,
   "metadata": {
    "ExecuteTime": {
     "end_time": "2018-02-06T05:37:58.908673Z",
     "start_time": "2018-02-06T05:37:58.905143Z"
    }
   },
   "outputs": [],
   "source": [
    "smiles = ['C1CCCCC1', 'CCO']\n",
    "names = ['ZBE', 'ZXQ']\n",
    "molecules = []"
   ]
  },
  {
   "cell_type": "code",
   "execution_count": 31,
   "metadata": {
    "ExecuteTime": {
     "end_time": "2018-02-06T05:37:59.559798Z",
     "start_time": "2018-02-06T05:37:59.543220Z"
    }
   },
   "outputs": [],
   "source": [
    "def process_smiles(string, name=None, add_hydrogens=True, add_tripos=True, charge=True):\n",
    "    mol = OEMol()\n",
    "    OESmilesToMol(mol, string)\n",
    "    if add_hydrogens:\n",
    "        OEAddExplicitHydrogens(mol)\n",
    "    if add_tripos:\n",
    "        OETriposAtomNames(mol)\n",
    "    if charge:\n",
    "        for atom in mol.GetAtoms():\n",
    "            atom.SetPartialCharge(atom.GetFormalCharge())\n",
    "    if name:\n",
    "        mol.SetTitle(name)\n",
    "    return mol\n",
    "\n",
    "for (smile, name) in zip(smiles, names):\n",
    "    molecules.append(process_smiles(smile, name))"
   ]
  },
  {
   "cell_type": "markdown",
   "metadata": {},
   "source": [
    "Add some partial charges."
   ]
  },
  {
   "cell_type": "code",
   "execution_count": 60,
   "metadata": {
    "ExecuteTime": {
     "end_time": "2018-02-06T05:59:32.232693Z",
     "start_time": "2018-02-06T05:59:32.176858Z"
    }
   },
   "outputs": [],
   "source": [
    "# Modified https://github.com/openforcefield/smirnoff/blob/40a630816968b99e54f0bb2e9fadee3e7e566601/smirnoff/forcefield.py\n",
    "def assign_partial_charges(molecule, modifycharges=True):\n",
    "    omega = OEOmega()\n",
    "    omega.SetMaxConfs(800)\n",
    "    omega.SetCanonOrder(False)\n",
    "    omega.SetSampleHydrogens(True)\n",
    "    omega.SetEnergyWindow(15.0)\n",
    "    omega.SetRMSThreshold(1.0)\n",
    "    omega.SetStrictStereo(True) #Don't generate random stereoisomer if not specified\n",
    "\n",
    "    charged_copy = OEMol(molecule)\n",
    "    status = omega(charged_copy)\n",
    "    if not status:\n",
    "        raise(RuntimeError(\"Omega returned error code %s\" % status))\n",
    "\n",
    "    # Assign charges\n",
    "    status = openeye.oequacpac.OEAssignPartialCharges(charged_copy, getattr(oequacpac, 'OECharges_AM1BCCSym'), False, False)\n",
    "    if not status:\n",
    "        raise(RuntimeError(\"OEAssignPartialCharges returned error code %s\" % status))\n",
    "    # Our copy has the charges we want but not the right conformation. Copy charges over. Also copy over Wiberg bond orders if present\n",
    "    partial_charges = []\n",
    "    if modifycharges:\n",
    "        for atom in charged_copy.GetAtoms():\n",
    "            partial_charges.append( atom.GetPartialCharge() )\n",
    "        for (idx,atom) in enumerate(molecule.GetAtoms()):\n",
    "            atom.SetPartialCharge( partial_charges[idx] )\n",
    "            \n",
    "# Modified https://docs.eyesopen.com/toolkits/cookbook/python/modeling/am1-bcc.html\n",
    "def print_partial_charges(molecule):\n",
    "    absFCharge = 0\n",
    "    sumFCharge = 0\n",
    "    sumPCharge = 0.0\n",
    "    for atom in molecule.GetAtoms():\n",
    "        sumFCharge += atom.GetFormalCharge()\n",
    "        absFCharge += abs(atom.GetFormalCharge())\n",
    "        sumPCharge += atom.GetPartialCharge()\n",
    "    print(\"{}: {} formal charges give total charge {}\"\n",
    "          \"; sum of partial charges {:5.4f}\".format(molecule.GetTitle(), absFCharge,\n",
    "                                                    sumFCharge, sumPCharge))\n"
   ]
  },
  {
   "cell_type": "code",
   "execution_count": 61,
   "metadata": {
    "ExecuteTime": {
     "end_time": "2018-02-06T05:59:39.932646Z",
     "start_time": "2018-02-06T05:59:39.859615Z"
    }
   },
   "outputs": [
    {
     "name": "stdout",
     "output_type": "stream",
     "text": [
      "ZBE: 0 formal charges give total charge 0; sum of partial charges -0.0000\n",
      "ZXQ: 0 formal charges give total charge 0; sum of partial charges -0.0000\n"
     ]
    }
   ],
   "source": [
    "for molecule in molecules:\n",
    "    assign_partial_charges(molecule)\n",
    "    print_partial_charges(molecule)"
   ]
  },
  {
   "cell_type": "markdown",
   "metadata": {
    "ExecuteTime": {
     "end_time": "2018-02-06T05:35:09.401123Z",
     "start_time": "2018-02-06T05:35:09.397811Z"
    }
   },
   "source": [
    "Now, load in coordinates."
   ]
  },
  {
   "cell_type": "code",
   "execution_count": 75,
   "metadata": {
    "ExecuteTime": {
     "end_time": "2018-02-06T06:05:13.471851Z",
     "start_time": "2018-02-06T06:05:12.991722Z"
    }
   },
   "outputs": [],
   "source": [
    "from simtk.openmm.app import PDBFile\n",
    "# Loading with PDBFixer loses bond information for some reason...\n",
    "fixer = PDBFile('original/cyclohexane_ethanol_0.4_0.6.pdb')"
   ]
  },
  {
   "cell_type": "markdown",
   "metadata": {},
   "source": [
    "Load in the forcefield and create the system."
   ]
  },
  {
   "cell_type": "code",
   "execution_count": 76,
   "metadata": {
    "ExecuteTime": {
     "end_time": "2018-02-06T06:05:17.092075Z",
     "start_time": "2018-02-06T06:05:16.106341Z"
    }
   },
   "outputs": [],
   "source": [
    "ff = ForceField('forcefield/smirnoff99Frosst.ffxml', 'forcefield/tip3p.ffxml') \n",
    "system = ff.createSystem(fixer.topology, molecules, \n",
    "                         nonbondedMethod=PME, \n",
    "                         nonbondedCutoff=1.1*unit.nanometer, \n",
    "                         ewaldErrorTolerance=1e-4,\n",
    "                         rigidWater=False)"
   ]
  },
  {
   "cell_type": "markdown",
   "metadata": {},
   "source": [
    "Try to save with ParmEd."
   ]
  },
  {
   "cell_type": "code",
   "execution_count": 78,
   "metadata": {
    "ExecuteTime": {
     "end_time": "2018-02-06T06:06:00.141961Z",
     "start_time": "2018-02-06T06:05:58.724307Z"
    }
   },
   "outputs": [],
   "source": [
    "structure = pmd.openmm.topsystem.load_topology(fixer.topology, system, fixer.positions)"
   ]
  },
  {
   "cell_type": "code",
   "execution_count": 79,
   "metadata": {
    "ExecuteTime": {
     "end_time": "2018-02-06T06:06:50.309833Z",
     "start_time": "2018-02-06T06:06:11.436027Z"
    }
   },
   "outputs": [],
   "source": [
    "structure.save('generated/box_smirnoff.prmtop')"
   ]
  },
  {
   "cell_type": "code",
   "execution_count": 80,
   "metadata": {
    "ExecuteTime": {
     "end_time": "2018-02-06T06:07:02.443272Z",
     "start_time": "2018-02-06T06:07:02.322558Z"
    }
   },
   "outputs": [
    {
     "name": "stdout",
     "output_type": "stream",
     "text": [
      "-rw-rw-r--. 1 dslochower dslochower 213M Feb  5 22:06 generated/box_smirnoff.prmtop\r\n"
     ]
    }
   ],
   "source": [
    "!ls -lh generated/box_smirnoff.prmtop"
   ]
  },
  {
   "cell_type": "code",
   "execution_count": null,
   "metadata": {},
   "outputs": [],
   "source": []
  }
 ],
 "metadata": {
  "kernelspec": {
   "display_name": "Python [conda env:openforcefield]",
   "language": "python",
   "name": "conda-env-openforcefield-py"
  },
  "language_info": {
   "codemirror_mode": {
    "name": "ipython",
    "version": 3
   },
   "file_extension": ".py",
   "mimetype": "text/x-python",
   "name": "python",
   "nbconvert_exporter": "python",
   "pygments_lexer": "ipython3",
   "version": "3.6.1"
  }
 },
 "nbformat": 4,
 "nbformat_minor": 2
}
