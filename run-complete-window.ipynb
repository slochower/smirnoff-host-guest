{
 "cells": [
  {
   "cell_type": "code",
   "execution_count": 30,
   "metadata": {},
   "outputs": [
    {
     "name": "stdout",
     "output_type": "stream",
     "text": [
      "The autoreload extension is already loaded. To reload it, use:\n",
      "  %reload_ext autoreload\n"
     ]
    }
   ],
   "source": [
    "%load_ext autoreload\n",
    "%autoreload 2\n",
    "\n",
    "from process import convert_parameters"
   ]
  },
  {
   "cell_type": "code",
   "execution_count": 51,
   "metadata": {},
   "outputs": [
    {
     "name": "stdout",
     "output_type": "stream",
     "text": [
      "PDB file written by cpptraj.\n",
      "First water residue = 160\n",
      "Found first water CONECT entry at line = 8322\n",
      "MOL2 file written by cpptraj.\n",
      "MOL2 file written by antechamber.\n",
      "<openeye.oechem.OEMol; proxy of <Swig Object of type 'OEMolWrapper *' at 0x7f10496a92d0> >\n",
      "<openeye.oechem.OEMol; proxy of <Swig Object of type 'OEMolWrapper *' at 0x7f10496a9180> >\n",
      "126 atoms in structure, 126 unique atom names.\n",
      "17 atoms in structure, 17 unique atom names.\n",
      "Structure looks good.\n",
      "Check if the host-guest parameter file already exists...\n",
      "Check if the host-guest coordinate file already exists...\n",
      "Water and ion PDB file written by cpptraj.\n",
      "Writing dummy atom `frcmod`.\n",
      "Writing dummy atom `mol2`.\n",
      "Water and ion parameters and coordinates written by tleap.\n",
      "Check if solvated parameter file already exists...\n",
      "Check if solvated coordinate file already exists...\n",
      "Check if file exists...\n",
      "Check if file exists...\n",
      "<openeye.oechem.OEMol; proxy of <Swig Object of type 'OEMolWrapper *' at 0x7f10496a9090> >\n",
      "<openeye.oechem.OEMol; proxy of <Swig Object of type 'OEMolWrapper *' at 0x7f10496a9180> >\n",
      "Determining mapping...\n",
      "[\"':1-3\", '|', ':10@C4', '|', \":10@N1',\"] → ':8-10 | :7@C4 | :7@N1',\n",
      "[\"':1-3\", '|', ':10@C4', '|', \":10@N1',\"] → ':8-10 | :7@C4 | :7@N1',\n",
      "[\"':1-3\", '|', ':10@C4', '|', \":10@N1',\"] → ':8-10 | :7@C4 | :7@N1',\n",
      "[\"':1-3',\"] → ':8-10',\n",
      "[\"':1-3',\"] → ':8-10',\n",
      "1,13,              → 144,10            \n",
      "2,1,13,            → 145,144,10        \n",
      "3,2,1,13,          → 146,145,144,10    \n",
      "1,13,46,           → 144,10,43         \n",
      "2,1,13,46,         → 145,144,10,43     \n",
      "1,13,46,104,       → 144,10,43,101     \n",
      "1,143,             → 144,140           \n",
      "2,1,143,           → 145,144,140       \n",
      "1,143,130,         → 144,140,127       \n",
      "19,4,6,36,         → 16,1,3,33         \n",
      "40,25,27,57,       → 37,22,24,54       \n",
      "61,46,48,78,       → 58,43,45,75       \n",
      "82,67,69,99,       → 79,64,66,96       \n",
      "103,88,90,120,     → 100,85,87,117     \n",
      "124,109,111,15,    → 121,106,108,12    \n",
      "4,6,36,38,         → 1,3,33,35         \n",
      "25,27,57,59,       → 22,24,54,56       \n",
      "46,48,78,80,       → 43,45,75,77       \n",
      "67,69,99,101,      → 64,66,96,98       \n",
      "88,90,120,122,     → 85,87,117,119     \n",
      "109,111,15,17,     → 106,108,12,14     \n",
      "9,143              → 6,140             \n",
      "23,143             → 20,140            \n",
      "30,143             → 27,140            \n",
      "44,143             → 41,140            \n",
      "51,143             → 48,140            \n",
      "65,143             → 62,140            \n",
      "72,143             → 69,140            \n",
      "86,143             → 83,140            \n",
      "93,143             → 90,140            \n",
      "107,143            → 104,140           \n",
      "114,143            → 111,140           \n",
      "128,143            → 125,140           \n",
      "2,143,130          → 145,140,127       \n"
     ]
    }
   ],
   "source": [
    "convert_parameters(source_directory='original/a-bam-p/',\n",
    "                       source_crd='full.crds',\n",
    "                       source_top='full.topo',\n",
    "                       destination_directory='generated/a-bam-p/',\n",
    "                       destination_crd='smirnoff.inpcrd',\n",
    "                       destination_top='smirnoff.prmtop',\n",
    "                       host_resname='MGO',\n",
    "                       guest_resname='BAM')"
   ]
  },
  {
   "cell_type": "code",
   "execution_count": 54,
   "metadata": {},
   "outputs": [],
   "source": [
    "with open('generated/a-bam-p/equilibration.sh', 'w') as file:\n",
    "    file.write('#!/usr/bin/env bash\\n')\n",
    "    file.write('source $AMBERHOME/amber.sh\\n')\n",
    "    file.write('pmemd.cuda -O -p smirnoff.prmtop -ref smirnoff.inpcrd -c smirnoff.inpcrd -i mini.in '\n",
    "               '-o mini.out -r mini.rst -inf /dev/null\\n')\n",
    "    file.write('pmemd.cuda -O -p smirnoff.prmtop -ref smirnoff.inpcrd -c mini.rst -i therm1.in '\n",
    "               '-o therm1.out -r therm1.rst -inf therm1.mdinfo\\n')\n",
    "    file.write('pmemd.cuda -O -p smirnoff.prmtop -ref smirnoff.inpcrd -c therm1.rst -i therm2.in '\n",
    "               '-o therm2.out -r therm2.rst -inf therm2.mdinfo\\n')\n",
    "    file.write('cp therm2.rst eqnpt.rst\\n')\n",
    "    file.write('\\n')\n",
    "    for iteration in range(1, 101):\n",
    "        file.write(f'pmemd.cuda -O -p smirnoff.prmtop -ref smirnoff.inpcrd -c eqnpt.rst -i eqnpt.in '\n",
    "                   f'-o eqnpt.{iteration:02d}.out -r eqnpt.{iteration:02d}.rst -inf /dev/null >& eqnpt.log \\n')\n",
    "        file.write(f'cat eqnpt.{iteration:02d}.out >> eqnpt.all.out\\n')\n",
    "        file.write(f'cp eqnpt.{iteration:02d}.rst eqnpt.rst\\n')\n",
    "        file.write('\\n')"
   ]
  },
  {
   "cell_type": "code",
   "execution_count": 55,
   "metadata": {},
   "outputs": [],
   "source": [
    "with open('generated/a-bam-p/md.sh', 'w') as file:\n",
    "    file.write('#!/usr/bin/env bash\\n')\n",
    "    file.write('source $AMBERHOME/amber.sh\\n')\n",
    "    file.write('cp eqnpt.50.rst md.000.rst\\n')\n",
    "    file.write('\\n')\n",
    "    for iteration in range(1, 201):\n",
    "        file.write(f'pmemd.cuda -O -p smirnoff.prmtop -ref smirnoff.inpcrd -c md.{(iteration-1):03d}.rst -i mdin '\n",
    "                   f'-o mdout.{iteration:03d} -r md.{iteration:03d}.rst -x traj.{iteration:03d}.nc -inf mdinfo.{iteration:03d} -e mden{iteration:03d} \\n')\n",
    "        file.write('\\n')"
   ]
  },
  {
   "cell_type": "code",
   "execution_count": null,
   "metadata": {},
   "outputs": [],
   "source": []
  }
 ],
 "metadata": {
  "kernelspec": {
   "display_name": "Python [conda env:openforcefield]",
   "language": "python",
   "name": "conda-env-openforcefield-py"
  },
  "language_info": {
   "codemirror_mode": {
    "name": "ipython",
    "version": 3
   },
   "file_extension": ".py",
   "mimetype": "text/x-python",
   "name": "python",
   "nbconvert_exporter": "python",
   "pygments_lexer": "ipython3",
   "version": "3.6.1"
  }
 },
 "nbformat": 4,
 "nbformat_minor": 2
}
