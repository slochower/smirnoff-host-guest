{
 "cells": [
  {
   "cell_type": "code",
   "execution_count": 1,
   "metadata": {
    "ExecuteTime": {
     "end_time": "2018-02-06T03:32:45.589520Z",
     "start_time": "2018-02-06T03:32:44.692872Z"
    }
   },
   "outputs": [],
   "source": [
    "import numpy as np\n",
    "import subprocess as sp\n",
    "from openeye.oechem import *\n",
    "\n",
    "from openforcefield.typing.engines.smirnoff import *\n",
    "from pdbfixer import PDBFixer"
   ]
  },
  {
   "cell_type": "markdown",
   "metadata": {},
   "source": [
    "# Load molecules into a list of `OEMol`s"
   ]
  },
  {
   "cell_type": "markdown",
   "metadata": {},
   "source": [
    "I'm going to start by loading the host and guest SYBYL-formatted `mol2` files into a list of `OEMol`s. I created these SYBYL-formatted files from files containing AM1-BCC charges and GAFF v1.7 Lennard-Jones and bonded parameters:\n",
    "\n",
    "```\n",
    "antechamber -i bcd.mol2 -fi mol2 -o bcd-sybyl.mol2 -fo mol2 -at sybyl\n",
    "antechamber -i ben.mol2 -fi mol2 -o ben-sybyl.mol2 -fo mol2 -at sybyl -dr n \n",
    "# Disable `acdoctor` to handle carboxylate group\n",
    "```\n",
    "\n",
    "I think it should be possible to read in GAFF-formatted files directly, using a specific forcefield flavor, but I don't see the relvant flavor listed in their [documentation](https://docs.eyesopen.com/toolkits/python/oechemtk/molreadwrite.html#section-molreadwrite-flavoredinputandoutput). A search for \"GAFF\" comes up empty (except for one blog post). If I try to load the GAFF files without any special flavor, I get many things with atom type \"Du,\" which I surmise to be a dummy atom type. I believe this can be remedied by running the files through `OETriposAtomNames`, but it is another thing that could go wrong, so for these reasons, I believe it is more straight-forward to simply start with standard atom names."
   ]
  },
  {
   "cell_type": "code",
   "execution_count": 219,
   "metadata": {
    "ExecuteTime": {
     "end_time": "2018-02-05T23:02:10.475471Z",
     "start_time": "2018-02-05T23:02:10.463272Z"
    },
    "collapsed": true
   },
   "outputs": [],
   "source": [
    "def load_mol2(filename, name=None, add_tripos=True):\n",
    "    ifs = oemolistream()\n",
    "    molecules = []\n",
    "    if not ifs.open(filename):\n",
    "        print(f'Unable to open {filename} for reading...')\n",
    "    for mol in ifs.GetOEMols():\n",
    "        if add_tripos:\n",
    "            OETriposAtomNames(mol)\n",
    "        if name:\n",
    "            mol.SetTitle(name)\n",
    "        # Add all the molecules in this file to a list, but only return the first one.\n",
    "        molecules.append(OEMol(mol))\n",
    "    return molecules[0]"
   ]
  },
  {
   "cell_type": "markdown",
   "metadata": {},
   "source": [
    "Even though we have properly formatted files, with unique atom names in each residue (there are seven residues in this host), if we don't call `OETriposAtomNames`, then we get `Exception: Error: Reference molecule must have unique atom names in order to create a Topology.` when trying to define the `System`."
   ]
  },
  {
   "cell_type": "code",
   "execution_count": 220,
   "metadata": {
    "ExecuteTime": {
     "end_time": "2018-02-05T23:02:10.758630Z",
     "start_time": "2018-02-05T23:02:10.754237Z"
    },
    "collapsed": true
   },
   "outputs": [],
   "source": [
    "host = load_mol2('original/bcd-sybyl.mol2', name='MGO', add_tripos=True)"
   ]
  },
  {
   "cell_type": "code",
   "execution_count": 221,
   "metadata": {
    "ExecuteTime": {
     "end_time": "2018-02-05T23:02:10.917991Z",
     "start_time": "2018-02-05T23:02:10.911022Z"
    },
    "collapsed": true
   },
   "outputs": [],
   "source": [
    "def check_unique_atom_names(molecule):\n",
    "    atoms = molecule.GetMaxAtomIdx()\n",
    "    atom_names = set()\n",
    "    for atom in range(atoms):\n",
    "        atom_names.add(molecule.GetAtom(OEHasAtomIdx(atom)).GetName())\n",
    "    print(f'{atoms} atoms in structure, {len(atom_names)} unique atom names.')\n",
    "    assert atoms == len(atom_names)"
   ]
  },
  {
   "cell_type": "code",
   "execution_count": 222,
   "metadata": {
    "ExecuteTime": {
     "end_time": "2018-02-05T23:02:11.162186Z",
     "start_time": "2018-02-05T23:02:11.071830Z"
    }
   },
   "outputs": [
    {
     "name": "stdout",
     "output_type": "stream",
     "text": [
      "147 atoms in structure, 147 unique atom names.\n"
     ]
    }
   ],
   "source": [
    "check_unique_atom_names(host)"
   ]
  },
  {
   "cell_type": "code",
   "execution_count": 223,
   "metadata": {
    "ExecuteTime": {
     "end_time": "2018-02-05T23:02:11.409837Z",
     "start_time": "2018-02-05T23:02:11.406859Z"
    },
    "collapsed": true
   },
   "outputs": [],
   "source": [
    "guest = load_mol2('original/ben-sybyl.mol2', name='BEN', add_tripos=False)"
   ]
  },
  {
   "cell_type": "code",
   "execution_count": 224,
   "metadata": {
    "ExecuteTime": {
     "end_time": "2018-02-05T23:02:12.216348Z",
     "start_time": "2018-02-05T23:02:12.213372Z"
    },
    "collapsed": true
   },
   "outputs": [],
   "source": [
    "molecules = [host, guest]"
   ]
  },
  {
   "cell_type": "markdown",
   "metadata": {},
   "source": [
    "Now, I'm going to add water and ions to the molecules list."
   ]
  },
  {
   "cell_type": "code",
   "execution_count": 225,
   "metadata": {
    "ExecuteTime": {
     "end_time": "2018-02-05T23:02:13.179910Z",
     "start_time": "2018-02-05T23:02:13.137461Z"
    },
    "collapsed": true
   },
   "outputs": [],
   "source": [
    "def add_waters_and_ions():\n",
    "    smiles = ['[Na+]', '[Cl-]', 'O']\n",
    "    molecules = []\n",
    "    for molecule in smiles:\n",
    "        molecules.append(process_smiles(molecule))\n",
    "    return molecules\n",
    "\n",
    "def process_smiles(string, name=None, add_hydrogens=True, add_tripos=True, charge=True):\n",
    "    mol = OEMol()\n",
    "    OESmilesToMol(mol, string)\n",
    "    if add_hydrogens:\n",
    "        OEAddExplicitHydrogens(mol)\n",
    "    if add_tripos:\n",
    "        OETriposAtomNames(mol)\n",
    "    if charge:\n",
    "        for atom in mol.GetAtoms():\n",
    "            atom.SetPartialCharge(atom.GetFormalCharge())\n",
    "    if name:\n",
    "        mol.SetTitle(name)\n",
    "    return mol"
   ]
  },
  {
   "cell_type": "code",
   "execution_count": 226,
   "metadata": {
    "ExecuteTime": {
     "end_time": "2018-02-05T23:02:13.311593Z",
     "start_time": "2018-02-05T23:02:13.298366Z"
    },
    "collapsed": true
   },
   "outputs": [],
   "source": [
    "water_and_ions = add_waters_and_ions()"
   ]
  },
  {
   "cell_type": "code",
   "execution_count": 227,
   "metadata": {
    "ExecuteTime": {
     "end_time": "2018-02-05T23:02:13.452686Z",
     "start_time": "2018-02-05T23:02:13.439259Z"
    },
    "collapsed": true
   },
   "outputs": [],
   "source": [
    "molecules += water_and_ions"
   ]
  },
  {
   "cell_type": "markdown",
   "metadata": {},
   "source": [
    "At this point, the molecules have been converted to `OEMol`s and they have charges, but the coordinates are not set. We could use a docking procedure like [this](https://github.com/openforcefield/openforcefield/blob/master/examples/host_guest_simulation/smirnoff_host_guest.ipynb) to set the position of the host and guest, or we could take the coordinates from an existing fully solvated system. I'm going to attempt the latter approach, because in general, we are not going to want to use a docking calculation to provide the coordinates for intermediate attach-pull-relase windows, where the host and guest are not  closely bound to each other."
   ]
  },
  {
   "cell_type": "markdown",
   "metadata": {},
   "source": [
    "# Read in (existing) coordinates to set the positions of the `OEMol`s"
   ]
  },
  {
   "cell_type": "code",
   "execution_count": 197,
   "metadata": {
    "ExecuteTime": {
     "end_time": "2018-02-05T22:57:57.071368Z",
     "start_time": "2018-02-05T22:57:56.930215Z"
    },
    "collapsed": true
   },
   "outputs": [],
   "source": [
    "def create_pdb_with_conect(solvated_pdb, amber_prmtop, output_pdb, path='./'):\n",
    "    \"\"\"\n",
    "    Create a PDB file containing CONECT records.\n",
    "    This is not very robust, please manually check the `cpptraj` output.\n",
    "    `cpptraj` must be in your PATH.\n",
    "    Parameters\n",
    "    ----------\n",
    "    solvated_pdb : str\n",
    "        Existing solvated structure from e.g., Mobley's Benchmark Sets repository\n",
    "    amber_prmtop : str\n",
    "        AMBER (or other) parameters for the residues in the solvated PDB file\n",
    "    output_pdb : str\n",
    "        Output PDB file name\n",
    "    path : str\n",
    "        Directory for input and output files\n",
    "    \"\"\"\n",
    "    cpptraj = \\\n",
    "    f'''\n",
    "    parm {amber_prmtop}\n",
    "    trajin {solvated_pdb}\n",
    "    trajout {output_pdb} conect\n",
    "    '''\n",
    "\n",
    "    cpptraj_input = output_pdb + '.in'\n",
    "    cpptraj_output = output_pdb + '.out'\n",
    "\n",
    "    with open(path + cpptraj_input, 'w') as file:\n",
    "        file.write(cpptraj)\n",
    "    with open(path + cpptraj_output, 'w') as file:\n",
    "        p = sp.Popen(['cpptraj', '-i', cpptraj_input], cwd=path,\n",
    "                     stdout=file, stderr=file)\n",
    "        output, error = p.communicate()\n",
    "    if p.returncode == 0:\n",
    "        print('PDB file written by cpptraj.')\n",
    "    elif p.returncode == 1:\n",
    "        print('Error returned by cpptraj.')\n",
    "        print(f'Output: {output}')\n",
    "        print(f'Error: {error}')\n",
    "    else:\n",
    "        print(f'Output: {output}')\n",
    "        print(f'Error: {error}')\n",
    "\n",
    "\n",
    "def prune_conect(input_pdb, output_pdb, path='./'):\n",
    "    \"\"\"\n",
    "    Delete CONECT records that correspond only to water molecules.\n",
    "    This is necessary to be standards-compliant.\n",
    "    This is not very robust.\n",
    "    Parameters\n",
    "    ----------\n",
    "    input_pdb : str\n",
    "        Input PDB file name\n",
    "    output_pdb : str\n",
    "        Output PDB file name\n",
    "    path : str\n",
    "        Directory for input and output files\n",
    "    \"\"\"\n",
    "    p = sp.Popen(['grep', '-m 1', 'WAT', input_pdb], cwd=path, stdout=sp.PIPE)\n",
    "    for line in p.stdout:\n",
    "        first_water_residue = int(float(line.decode(\"utf-8\").split()[1]))\n",
    "        print(f'First water residue = {first_water_residue}')\n",
    "\n",
    "    p = sp.Popen(['egrep', '-n', f'CONECT [ ]* {first_water_residue}', input_pdb],\n",
    "                 cwd=path, stdout=sp.PIPE)\n",
    "    for line in p.stdout:\n",
    "        line_to_delete_from = int(float(line.decode(\"utf-8\").split(':')[0]))\n",
    "        print(f'Found first water CONECT entry at line = {line_to_delete_from}')\n",
    "\n",
    "    with open(path + output_pdb, 'w') as file:\n",
    "        sp.Popen(\n",
    "         ['awk', f'NR < {line_to_delete_from}', input_pdb], cwd=path, stdout=file)\n",
    "\n",
    "        sp.Popen(['echo', 'END'], cwd=path, stdout=file)"
   ]
  },
  {
   "cell_type": "code",
   "execution_count": 198,
   "metadata": {
    "ExecuteTime": {
     "end_time": "2018-02-05T22:57:57.508888Z",
     "start_time": "2018-02-05T22:57:57.455698Z"
    }
   },
   "outputs": [
    {
     "name": "stdout",
     "output_type": "stream",
     "text": [
      "PDB file written by cpptraj.\n"
     ]
    }
   ],
   "source": [
    "create_pdb_with_conect('original/solvated.inpcrd', 'original/solvated.prmtop', 'generated/solvated.pdb')"
   ]
  },
  {
   "cell_type": "code",
   "execution_count": 199,
   "metadata": {
    "ExecuteTime": {
     "end_time": "2018-02-05T22:57:57.906046Z",
     "start_time": "2018-02-05T22:57:57.871394Z"
    }
   },
   "outputs": [
    {
     "name": "stdout",
     "output_type": "stream",
     "text": [
      "First water residue = 175\n",
      "Found first water CONECT entry at line = 9192\n"
     ]
    }
   ],
   "source": [
    "prune_conect('generated/solvated.pdb', 'generated/solvated_conect.pdb')"
   ]
  },
  {
   "cell_type": "code",
   "execution_count": 200,
   "metadata": {
    "ExecuteTime": {
     "end_time": "2018-02-05T22:57:59.012749Z",
     "start_time": "2018-02-05T22:57:58.401027Z"
    },
    "collapsed": true
   },
   "outputs": [],
   "source": [
    "fixer = PDBFixer('generated/solvated_conect.pdb')"
   ]
  },
  {
   "cell_type": "markdown",
   "metadata": {
    "ExecuteTime": {
     "end_time": "2018-02-05T22:24:03.683720Z",
     "start_time": "2018-02-05T22:24:03.680260Z"
    }
   },
   "source": [
    "# Setup the force field and create an OpenMM `System` with the topology and molecules"
   ]
  },
  {
   "cell_type": "markdown",
   "metadata": {},
   "source": [
    "One suggestion to get rid of the error `AttributeError: 'NoneType' object has no attribute 'used'` when trying to save the `System` as a `prmtop` from @swails is to use `rigidWater=False`: https://github.com/ParmEd/ParmEd/issues/930. In this case, it does not alleviate the issue, but leaving it on here does not seem to have any deleterious effects at the moment."
   ]
  },
  {
   "cell_type": "code",
   "execution_count": 233,
   "metadata": {
    "ExecuteTime": {
     "end_time": "2018-02-05T23:10:45.009772Z",
     "start_time": "2018-02-05T23:10:42.944283Z"
    },
    "collapsed": true
   },
   "outputs": [],
   "source": [
    "ff = ForceField('forcefield/smirnoff99Frosst.ffxml', 'forcefield/tip3p.ffxml') \n",
    "system = ff.createSystem(fixer.topology, molecules, \n",
    "                         nonbondedMethod=PME, \n",
    "                         nonbondedCutoff=1.1*unit.nanometer, \n",
    "                         ewaldErrorTolerance=1e-4,\n",
    "                         rigidWater=False)"
   ]
  },
  {
   "cell_type": "markdown",
   "metadata": {},
   "source": [
    "At this point, we should be able to run a simulation with SMIRNOFF99Frosst in OpenMM. Let's do a quick check."
   ]
  },
  {
   "cell_type": "code",
   "execution_count": 295,
   "metadata": {
    "ExecuteTime": {
     "end_time": "2018-02-06T02:49:31.693402Z",
     "start_time": "2018-02-06T02:49:30.514302Z"
    }
   },
   "outputs": [
    {
     "name": "stdout",
     "output_type": "stream",
     "text": [
      "Energy before minimization (kcal/mol): 2.4e+03\n",
      "Energy after minimization (kcal/mol): -2.2e+03\n"
     ]
    }
   ],
   "source": [
    "integrator = openmm.VerletIntegrator(2.0*unit.femtoseconds)\n",
    "simulation = app.Simulation(fixer.topology, system, integrator)\n",
    "simulation.context.setPositions(fixer.positions) \n",
    "\n",
    "state = simulation.context.getState(getEnergy = True)\n",
    "energy = state.getPotentialEnergy() / unit.kilocalories_per_mole\n",
    "print(\"Energy before minimization (kcal/mol): %.2g\" % energy)\n",
    "\n",
    "simulation.minimizeEnergy()\n",
    "state = simulation.context.getState(getEnergy=True, getPositions=True)\n",
    "energy = state.getPotentialEnergy() / unit.kilocalories_per_mole\n",
    "print(\"Energy after minimization (kcal/mol): %.2g\" % energy)\n",
    "minimized_coordinates = state.getPositions()"
   ]
  },
  {
   "cell_type": "markdown",
   "metadata": {},
   "source": [
    "I'd also like to run a little MD, to see if the simulation is stable."
   ]
  },
  {
   "cell_type": "code",
   "execution_count": 2,
   "metadata": {
    "ExecuteTime": {
     "end_time": "2018-02-06T03:32:53.881935Z",
     "start_time": "2018-02-06T03:32:53.879417Z"
    }
   },
   "outputs": [],
   "source": [
    "import mdtraj\n",
    "from mdtraj.reporters import NetCDFReporter"
   ]
  },
  {
   "cell_type": "code",
   "execution_count": 4,
   "metadata": {
    "ExecuteTime": {
     "end_time": "2018-02-06T03:03:26.899802Z",
     "start_time": "2018-02-06T03:03:26.885458Z"
    }
   },
   "outputs": [
    {
     "ename": "NameError",
     "evalue": "name 'minimized_coordinates' is not defined",
     "output_type": "error",
     "traceback": [
      "\u001b[0;31m---------------------------------------------------------------------------\u001b[0m",
      "\u001b[0;31mNameError\u001b[0m                                 Traceback (most recent call last)",
      "\u001b[0;32m<ipython-input-4-4267ed59baba>\u001b[0m in \u001b[0;36m<module>\u001b[0;34m()\u001b[0m\n\u001b[1;32m      1\u001b[0m md = dict(\n\u001b[0;32m----> 2\u001b[0;31m     \u001b[0mcoordinates\u001b[0m\u001b[0;34m=\u001b[0m\u001b[0mminimized_coordinates\u001b[0m\u001b[0;34m,\u001b[0m\u001b[0;34m\u001b[0m\u001b[0m\n\u001b[0m\u001b[1;32m      3\u001b[0m     \u001b[0mintegrator\u001b[0m\u001b[0;34m=\u001b[0m\u001b[0mintegrator\u001b[0m\u001b[0;34m,\u001b[0m\u001b[0;34m\u001b[0m\u001b[0m\n\u001b[1;32m      4\u001b[0m     \u001b[0mprefix\u001b[0m\u001b[0;34m=\u001b[0m\u001b[0;34m'md'\u001b[0m\u001b[0;34m,\u001b[0m\u001b[0;34m\u001b[0m\u001b[0m\n\u001b[1;32m      5\u001b[0m     \u001b[0mreporter_frequency\u001b[0m\u001b[0;34m=\u001b[0m\u001b[0;36m1000\u001b[0m\u001b[0;34m,\u001b[0m\u001b[0;34m\u001b[0m\u001b[0m\n",
      "\u001b[0;31mNameError\u001b[0m: name 'minimized_coordinates' is not defined"
     ]
    }
   ],
   "source": [
    "md = dict(\n",
    "    coordinates=minimized_coordinates,\n",
    "    integrator=integrator,\n",
    "    prefix='md',\n",
    "    reporter_frequency=1000,\n",
    "    nonbonded_method=app.NoCutoff,\n",
    "    nonbonded_cutoff=None,\n",
    "    constraints=app.HBonds,\n",
    "    temperature=300 * unit.kelvin,\n",
    "    steps=10000)\n",
    "md['output'] = 'generated/' + md['prefix'] + '.nc'\n",
    "md['h5'] = 'generated/' + md['prefix'] + '.h5'\n",
    "md['data'] = 'generated/' + md['prefix'] + '.csv'"
   ]
  },
  {
   "cell_type": "code",
   "execution_count": 303,
   "metadata": {
    "ExecuteTime": {
     "end_time": "2018-02-06T02:58:53.185511Z",
     "start_time": "2018-02-06T02:58:40.928769Z"
    }
   },
   "outputs": [
    {
     "name": "stdout",
     "output_type": "stream",
     "text": [
      "Running OpenMM MD...\n",
      "MD completed.\n"
     ]
    }
   ],
   "source": [
    "simulation.context.setVelocitiesToTemperature(md['temperature'] * unit.kelvin)\n",
    "# reporter = NetCDFReporter(md['output'], md['reporter_frequency'], \n",
    "#                          cell=True)\n",
    "# simulation.reporters.append(reporter)\n",
    "\n",
    "if not os.path.exists(md['h5']):\n",
    "    simulation.reporters.append(mdtraj.reporters.HDF5Reporter(md['h5'], 1000))\n",
    "\n",
    "simulation.reporters.append(\n",
    "    app.StateDataReporter(\n",
    "        md['data'],\n",
    "        md['reporter_frequency'],\n",
    "        step=True,\n",
    "        potentialEnergy=True,\n",
    "        temperature=True,\n",
    "        density=True))\n",
    "\n",
    "print('Running OpenMM MD...')\n",
    "simulation.step(md['steps'])\n",
    "print('MD completed.')"
   ]
  },
  {
   "cell_type": "code",
   "execution_count": 4,
   "metadata": {
    "ExecuteTime": {
     "end_time": "2018-02-06T03:34:55.312469Z",
     "start_time": "2018-02-06T03:34:54.730838Z"
    }
   },
   "outputs": [
    {
     "data": {
      "application/vnd.jupyter.widget-view+json": {
       "model_id": "af5584c08b5246fc92730c5a152cd2aa",
       "version_major": 2,
       "version_minor": 0
      },
      "text/plain": [
       "A Jupyter Widget"
      ]
     },
     "metadata": {},
     "output_type": "display_data"
    },
    {
     "data": {
      "application/vnd.jupyter.widget-view+json": {
       "model_id": "8a15fc26b1b142e48e11d05c9ed7cafd",
       "version_major": 2,
       "version_minor": 0
      },
      "text/plain": [
       "A Jupyter Widget"
      ]
     },
     "metadata": {},
     "output_type": "display_data"
    }
   ],
   "source": [
    "import nglview as nv\n",
    "from IPython import display\n",
    "\n",
    "trajectory = mdtraj.load('generated/md.h5', 'r')\n",
    "view = nv.show_mdtraj(trajectory, gui=True)\n",
    "view"
   ]
  },
  {
   "cell_type": "markdown",
   "metadata": {},
   "source": [
    "# Export the topology, system, and coordinates to AMBER files"
   ]
  },
  {
   "cell_type": "code",
   "execution_count": 243,
   "metadata": {
    "ExecuteTime": {
     "end_time": "2018-02-05T23:33:44.386461Z",
     "start_time": "2018-02-05T23:33:44.383512Z"
    },
    "collapsed": true
   },
   "outputs": [],
   "source": [
    "import parmed as pmd"
   ]
  },
  {
   "cell_type": "code",
   "execution_count": 244,
   "metadata": {
    "ExecuteTime": {
     "end_time": "2018-02-05T23:33:45.706844Z",
     "start_time": "2018-02-05T23:33:44.655894Z"
    },
    "collapsed": true
   },
   "outputs": [],
   "source": [
    "structure = pmd.openmm.topsystem.load_topology(fixer.topology, system, fixer.positions)"
   ]
  },
  {
   "cell_type": "code",
   "execution_count": 237,
   "metadata": {
    "ExecuteTime": {
     "end_time": "2018-02-05T23:11:14.920414Z",
     "start_time": "2018-02-05T23:10:50.897915Z"
    }
   },
   "outputs": [
    {
     "ename": "AttributeError",
     "evalue": "'NoneType' object has no attribute 'used'",
     "output_type": "error",
     "traceback": [
      "\u001b[0;31m---------------------------------------------------------------------------\u001b[0m",
      "\u001b[0;31mAttributeError\u001b[0m                            Traceback (most recent call last)",
      "\u001b[0;32m<ipython-input-237-55afb428deb0>\u001b[0m in \u001b[0;36m<module>\u001b[0;34m()\u001b[0m\n\u001b[0;32m----> 1\u001b[0;31m \u001b[0mstructure\u001b[0m\u001b[0;34m.\u001b[0m\u001b[0msave\u001b[0m\u001b[0;34m(\u001b[0m\u001b[0;34m'generated/solvated_smirnoff.prmtop'\u001b[0m\u001b[0;34m)\u001b[0m\u001b[0;34m\u001b[0m\u001b[0m\n\u001b[0m",
      "\u001b[0;32m~/data/applications/anaconda3/envs/openforcefield/lib/python3.6/site-packages/parmed/structure.py\u001b[0m in \u001b[0;36msave\u001b[0;34m(self, fname, format, overwrite, **kwargs)\u001b[0m\n\u001b[1;32m   1531\u001b[0m                 \u001b[0;32melse\u001b[0m\u001b[0;34m:\u001b[0m\u001b[0;34m\u001b[0m\u001b[0m\n\u001b[1;32m   1532\u001b[0m                     \u001b[0;32mtry\u001b[0m\u001b[0;34m:\u001b[0m\u001b[0;34m\u001b[0m\u001b[0m\n\u001b[0;32m-> 1533\u001b[0;31m                         \u001b[0ms\u001b[0m \u001b[0;34m=\u001b[0m \u001b[0mamber\u001b[0m\u001b[0;34m.\u001b[0m\u001b[0mAmberParm\u001b[0m\u001b[0;34m.\u001b[0m\u001b[0mfrom_structure\u001b[0m\u001b[0;34m(\u001b[0m\u001b[0mself\u001b[0m\u001b[0;34m)\u001b[0m\u001b[0;34m\u001b[0m\u001b[0m\n\u001b[0m\u001b[1;32m   1534\u001b[0m                     \u001b[0;32mexcept\u001b[0m \u001b[0mTypeError\u001b[0m \u001b[0;32mas\u001b[0m \u001b[0me\u001b[0m\u001b[0;34m:\u001b[0m\u001b[0;34m\u001b[0m\u001b[0m\n\u001b[1;32m   1535\u001b[0m                         \u001b[0;32mif\u001b[0m \u001b[0;34m'Cannot translate exceptions'\u001b[0m \u001b[0;32min\u001b[0m \u001b[0mstr\u001b[0m\u001b[0;34m(\u001b[0m\u001b[0me\u001b[0m\u001b[0;34m)\u001b[0m\u001b[0;34m:\u001b[0m\u001b[0;34m\u001b[0m\u001b[0m\n",
      "\u001b[0;32m~/data/applications/anaconda3/envs/openforcefield/lib/python3.6/site-packages/parmed/amber/_amberparm.py\u001b[0m in \u001b[0;36mfrom_structure\u001b[0;34m(cls, struct, copy)\u001b[0m\n\u001b[1;32m    381\u001b[0m                 \u001b[0mdt\u001b[0m\u001b[0;34m.\u001b[0m\u001b[0mphi_k\u001b[0m \u001b[0;34m=\u001b[0m \u001b[0;36m0.0\u001b[0m\u001b[0;34m\u001b[0m\u001b[0m\n\u001b[1;32m    382\u001b[0m                 \u001b[0mdt\u001b[0m\u001b[0;34m.\u001b[0m\u001b[0mper\u001b[0m \u001b[0;34m=\u001b[0m \u001b[0;36m1.0\u001b[0m\u001b[0;34m\u001b[0m\u001b[0m\n\u001b[0;32m--> 383\u001b[0;31m         \u001b[0minst\u001b[0m\u001b[0;34m.\u001b[0m\u001b[0mremake_parm\u001b[0m\u001b[0;34m(\u001b[0m\u001b[0;34m)\u001b[0m\u001b[0;34m\u001b[0m\u001b[0m\n\u001b[0m\u001b[1;32m    384\u001b[0m         \u001b[0minst\u001b[0m\u001b[0;34m.\u001b[0m\u001b[0m_set_nonbonded_tables\u001b[0m\u001b[0;34m(\u001b[0m\u001b[0mnbfixes\u001b[0m\u001b[0;34m)\u001b[0m\u001b[0;34m\u001b[0m\u001b[0m\n\u001b[1;32m    385\u001b[0m         \u001b[0mn_copy\u001b[0m \u001b[0;34m=\u001b[0m \u001b[0minst\u001b[0m\u001b[0;34m.\u001b[0m\u001b[0mpointers\u001b[0m\u001b[0;34m.\u001b[0m\u001b[0mget\u001b[0m\u001b[0;34m(\u001b[0m\u001b[0;34m'NCOPY'\u001b[0m\u001b[0;34m,\u001b[0m \u001b[0;36m1\u001b[0m\u001b[0;34m)\u001b[0m\u001b[0;34m\u001b[0m\u001b[0m\n",
      "\u001b[0;32m~/data/applications/anaconda3/envs/openforcefield/lib/python3.6/site-packages/parmed/amber/_amberparm.py\u001b[0m in \u001b[0;36mremake_parm\u001b[0;34m(self)\u001b[0m\n\u001b[1;32m    678\u001b[0m         \u001b[0mself\u001b[0m\u001b[0;34m.\u001b[0m\u001b[0m_xfer_atom_info\u001b[0m\u001b[0;34m(\u001b[0m\u001b[0;34m)\u001b[0m\u001b[0;34m\u001b[0m\u001b[0m\n\u001b[1;32m    679\u001b[0m         \u001b[0mself\u001b[0m\u001b[0;34m.\u001b[0m\u001b[0m_xfer_residue_info\u001b[0m\u001b[0;34m(\u001b[0m\u001b[0;34m)\u001b[0m\u001b[0;34m\u001b[0m\u001b[0m\n\u001b[0;32m--> 680\u001b[0;31m         \u001b[0mself\u001b[0m\u001b[0;34m.\u001b[0m\u001b[0m_xfer_bond_info\u001b[0m\u001b[0;34m(\u001b[0m\u001b[0;34m)\u001b[0m\u001b[0;34m\u001b[0m\u001b[0m\n\u001b[0m\u001b[1;32m    681\u001b[0m         \u001b[0mself\u001b[0m\u001b[0;34m.\u001b[0m\u001b[0m_xfer_angle_info\u001b[0m\u001b[0;34m(\u001b[0m\u001b[0;34m)\u001b[0m\u001b[0;34m\u001b[0m\u001b[0m\n\u001b[1;32m    682\u001b[0m         \u001b[0mself\u001b[0m\u001b[0;34m.\u001b[0m\u001b[0m_xfer_dihedral_info\u001b[0m\u001b[0;34m(\u001b[0m\u001b[0;34m)\u001b[0m\u001b[0;34m\u001b[0m\u001b[0m\n",
      "\u001b[0;32m~/data/applications/anaconda3/envs/openforcefield/lib/python3.6/site-packages/parmed/amber/_amberparm.py\u001b[0m in \u001b[0;36m_xfer_bond_info\u001b[0;34m(self)\u001b[0m\n\u001b[1;32m   1559\u001b[0m             \u001b[0mbond_type\u001b[0m\u001b[0;34m.\u001b[0m\u001b[0mused\u001b[0m \u001b[0;34m=\u001b[0m \u001b[0;32mFalse\u001b[0m\u001b[0;34m\u001b[0m\u001b[0m\n\u001b[1;32m   1560\u001b[0m         \u001b[0;32mfor\u001b[0m \u001b[0mbond\u001b[0m \u001b[0;32min\u001b[0m \u001b[0mself\u001b[0m\u001b[0;34m.\u001b[0m\u001b[0mbonds\u001b[0m\u001b[0;34m:\u001b[0m\u001b[0;34m\u001b[0m\u001b[0m\n\u001b[0;32m-> 1561\u001b[0;31m             \u001b[0mbond\u001b[0m\u001b[0;34m.\u001b[0m\u001b[0mtype\u001b[0m\u001b[0;34m.\u001b[0m\u001b[0mused\u001b[0m \u001b[0;34m=\u001b[0m \u001b[0;32mTrue\u001b[0m\u001b[0;34m\u001b[0m\u001b[0m\n\u001b[0m\u001b[1;32m   1562\u001b[0m         \u001b[0mself\u001b[0m\u001b[0;34m.\u001b[0m\u001b[0mbond_types\u001b[0m\u001b[0;34m.\u001b[0m\u001b[0mprune_unused\u001b[0m\u001b[0;34m(\u001b[0m\u001b[0;34m)\u001b[0m\u001b[0;34m\u001b[0m\u001b[0m\n\u001b[1;32m   1563\u001b[0m         \u001b[0mdata\u001b[0m\u001b[0;34m[\u001b[0m\u001b[0;34m'BOND_FORCE_CONSTANT'\u001b[0m\u001b[0;34m]\u001b[0m \u001b[0;34m=\u001b[0m \u001b[0;34m[\u001b[0m\u001b[0mtype\u001b[0m\u001b[0;34m.\u001b[0m\u001b[0mk\u001b[0m \u001b[0;32mfor\u001b[0m \u001b[0mtype\u001b[0m \u001b[0;32min\u001b[0m \u001b[0mself\u001b[0m\u001b[0;34m.\u001b[0m\u001b[0mbond_types\u001b[0m\u001b[0;34m]\u001b[0m\u001b[0;34m\u001b[0m\u001b[0m\n",
      "\u001b[0;31mAttributeError\u001b[0m: 'NoneType' object has no attribute 'used'"
     ]
    }
   ],
   "source": [
    "structure.save('generated/solvated_smirnoff.prmtop')"
   ]
  },
  {
   "cell_type": "markdown",
   "metadata": {},
   "source": [
    "We see that there is still an issue with bond types, so @swails followed up with the suggestion of assigning these bonds to a dummy bond type and then later constraining them during the simulation. This does work to allow us to save the files, at least."
   ]
  },
  {
   "cell_type": "code",
   "execution_count": 245,
   "metadata": {
    "ExecuteTime": {
     "end_time": "2018-02-05T23:34:47.270187Z",
     "start_time": "2018-02-05T23:34:47.263772Z"
    },
    "collapsed": true
   },
   "outputs": [],
   "source": [
    "bond_type = pmd.BondType(1.0, 1.0, list=structure.bond_types)\n",
    "structure.bond_types.append(bond_type)\n",
    "for bond in structure.bonds:\n",
    "    if bond.type is None:\n",
    "        bond.type = bond_type"
   ]
  },
  {
   "cell_type": "code",
   "execution_count": 249,
   "metadata": {
    "ExecuteTime": {
     "end_time": "2018-02-05T23:35:29.830702Z",
     "start_time": "2018-02-05T23:35:29.824875Z"
    }
   },
   "outputs": [
    {
     "name": "stdout",
     "output_type": "stream",
     "text": [
      "File exists...\n"
     ]
    }
   ],
   "source": [
    "try:\n",
    "    structure.save('generated/solvated_smirnoff.prmtop')\n",
    "except OSError:\n",
    "    print('File exists...')\n",
    "    pass"
   ]
  },
  {
   "cell_type": "code",
   "execution_count": 251,
   "metadata": {
    "ExecuteTime": {
     "end_time": "2018-02-05T23:35:44.788751Z",
     "start_time": "2018-02-05T23:35:44.784407Z"
    }
   },
   "outputs": [
    {
     "name": "stdout",
     "output_type": "stream",
     "text": [
      "File exists...\n"
     ]
    }
   ],
   "source": [
    "try:\n",
    "    structure.save('generated/solvated_smirnoff.inpcrd')\n",
    "except OSError:\n",
    "    print('File exists...')\n",
    "    pass"
   ]
  },
  {
   "cell_type": "code",
   "execution_count": 252,
   "metadata": {
    "ExecuteTime": {
     "end_time": "2018-02-05T23:36:01.862977Z",
     "start_time": "2018-02-05T23:36:01.858578Z"
    }
   },
   "outputs": [
    {
     "name": "stdout",
     "output_type": "stream",
     "text": [
      "File exists...\n"
     ]
    }
   ],
   "source": [
    "try:\n",
    "    structure.save('generated/solvated_smirnoff.mol2')\n",
    "except OSError:\n",
    "    print('File exists...')\n",
    "    pass"
   ]
  },
  {
   "cell_type": "markdown",
   "metadata": {},
   "source": [
    "A few observations...\n",
    "\n",
    "- The generated `prmtop` file is huge (1.1G)\n",
    "- I think this is because every atom is getting a different parameter (even in, e.g., waters)\n",
    "- Inside `%FLAG NONBONDED_PARM_INDEX` there appears to be an overflow, possibly due to the above issue\n",
    "- Running a simulation with the generated `inpcrd` and `prmtop` in `pmemd` results in a seg fault:\n",
    "\n",
    "```\n",
    "Program received signal SIGSEGV: Segmentation fault - invalid memory reference.\n",
    "\n",
    "Backtrace for this error:\n",
    "#0  0x7FA5409FB6F7\n",
    "#1  0x7FA5409FBD3E\n",
    "#2  0x7FA53FF0026F\n",
    "#3  0x49CFDE in __cit_mod_MOD_setup_crd_idx_tbl\n",
    "#4  0x49D108 in __cit_mod_MOD_setup_cit\n",
    "#5  0x479A48 in __pme_direct_mod_MOD_pme_list\n",
    "#6  0x4913F2 in __pme_force_mod_MOD_pme_force\n",
    "#7  0x4BD998 in __runmin_mod_MOD_runmin_master\n",
    "#8  0x4E315B in MAIN__ at pmemd.F90:?\n",
    "```\n",
    "\n",
    "- There are no charges on the waters (because they don't have a formal charge, set above)\n",
    "- The generated `mol2` file has numeric atom types\n",
    "- Chimera crashes when trying to read the `inpcrd` and `prmtop` with:\n",
    "\n",
    "```\n",
    "Error: unexpected EOF in readln\n",
    "Error looking for %FLAG RESIDUE_LABEL\n",
    "```\n",
    "\n",
    "I can't directly upload the `prmtop` to GitHub without going through large file storage, but I can spit out the head and tail of each `FLAG` section:"
   ]
  },
  {
   "cell_type": "code",
   "execution_count": 291,
   "metadata": {
    "ExecuteTime": {
     "end_time": "2018-02-06T01:08:41.992126Z",
     "start_time": "2018-02-06T01:08:41.986816Z"
    },
    "collapsed": true
   },
   "outputs": [],
   "source": [
    "def grep_prmtop(prmtop, path):\n",
    "    p = sp.Popen(['grep', '-A', '10', '-B', '10', 'FLAG', prmtop], cwd=path, stdout=sp.PIPE)\n",
    "    for line in p.stdout:\n",
    "        print(line.decode(\"utf-8\").strip(),)"
   ]
  },
  {
   "cell_type": "code",
   "execution_count": 292,
   "metadata": {
    "ExecuteTime": {
     "end_time": "2018-02-06T01:08:42.579658Z",
     "start_time": "2018-02-06T01:08:42.354533Z"
    },
    "scrolled": false
   },
   "outputs": [
    {
     "name": "stdout",
     "output_type": "stream",
     "text": [
      "%VERSION  VERSION_STAMP = V0001.000  DATE = 02/05/18  15:13:40\n",
      "%FLAG TITLE\n",
      "%FORMAT(20a4)\n",
      "\n",
      "%FLAG POINTERS\n",
      "%FORMAT(10I8)\n",
      "6804    6804    4495      93    2381     137     445     360       0       0\n",
      "9804    2231      93     137     360      10       7     478       1       0\n",
      "0       0       0       0       0       0       0       1      21       0\n",
      "0\n",
      "%FLAG ATOM_NAME\n",
      "%FORMAT(20a4)\n",
      "C1  H1  O1  C2  H2  O2  HO2 C3  H3  O3  HO3 C4  H4  C5  H5  O5  C6  H61 H62 O6\n",
      "HO6 C1  H1  O1  C2  H2  O2  HO2 C3  H3  O3  HO3 C4  H4  C5  H5  O5  C6  H61 H62\n",
      "O6  HO6 C1  H1  O1  C2  H2  O2  HO2 C3  H3  O3  HO3 C4  H4  C5  H5  O5  C6  H61\n",
      "H62 O6  HO6 C1  H1  O1  C2  H2  O2  HO2 C3  H3  O3  HO3 C4  H4  C5  H5  O5  C6\n",
      "H61 H62 O6  HO6 C1  H1  O1  C2  H2  O2  HO2 C3  H3  O3  HO3 C4  H4  C5  H5  O5\n",
      "C6  H61 H62 O6  HO6 C1  H1  O1  C2  H2  O2  HO2 C3  H3  O3  HO3 C4  H4  C5  H5\n",
      "O5  C6  H61 H62 O6  HO6 C1  H1  O1  C2  H2  O2  HO2 C3  H3  O3  HO3 C4  H4  C5\n",
      "H5  O5  C6  H61 H62 O6  HO6 C1  H1  C2  H2  C3  H3  C4  C5  H4  C6  H5  C7  O1\n",
      "O2  Na+ Na+ Na+ Na+ Na+ Na+ Na+ Cl- Cl- Cl- Cl- Cl- Cl- O   H1  H2  O   H1  H2\n",
      "--\n",
      "H2  O   H1  H2  O   H1  H2  O   H1  H2  O   H1  H2  O   H1  H2  O   H1  H2  O\n",
      "H1  H2  O   H1  H2  O   H1  H2  O   H1  H2  O   H1  H2  O   H1  H2  O   H1  H2\n",
      "O   H1  H2  O   H1  H2  O   H1  H2  O   H1  H2  O   H1  H2  O   H1  H2  O   H1\n",
      "H2  O   H1  H2  O   H1  H2  O   H1  H2  O   H1  H2  O   H1  H2  O   H1  H2  O\n",
      "H1  H2  O   H1  H2  O   H1  H2  O   H1  H2  O   H1  H2  O   H1  H2  O   H1  H2\n",
      "O   H1  H2  O   H1  H2  O   H1  H2  O   H1  H2  O   H1  H2  O   H1  H2  O   H1\n",
      "H2  O   H1  H2  O   H1  H2  O   H1  H2  O   H1  H2  O   H1  H2  O   H1  H2  O\n",
      "H1  H2  O   H1  H2  O   H1  H2  O   H1  H2  O   H1  H2  O   H1  H2  O   H1  H2\n",
      "O   H1  H2  O   H1  H2  O   H1  H2  O   H1  H2  O   H1  H2  O   H1  H2  O   H1\n",
      "H2  O   H1  H2\n",
      "%FLAG CHARGE\n",
      "%FORMAT(5E16.8)\n",
      "5.54921900E+00  1.65425687E+00 -8.25597773E+00  1.68007780E+00  1.87554847E+00\n",
      "-1.06899116E+01  7.74566215E+00  1.69851885E+00  1.17475517E+00 -1.07979341E+01\n",
      "7.67189792E+00  2.32554806E+00  1.46982892E+00  1.90136940E+00  1.24851913E+00\n",
      "-7.78790134E+00  2.57082040E+00  1.04566845E+00  1.04566845E+00 -1.08159368E+01\n",
      "7.69030245E+00  5.54921900E+00  1.65425687E+00 -8.25597773E+00  1.68007780E+00\n",
      "1.87554847E+00 -1.06899116E+01  7.74566215E+00  1.69851885E+00  1.17475517E+00\n",
      "-1.07979341E+01  7.67189792E+00  2.32554806E+00  1.46982892E+00  1.90136940E+00\n",
      "1.24851913E+00 -7.78790134E+00  2.57082040E+00  1.04566845E+00  1.04566845E+00\n",
      "-1.08159368E+01  7.69030245E+00  5.54921900E+00  1.65425687E+00 -8.25597773E+00\n",
      "--\n",
      "0.00000000E+00  0.00000000E+00  0.00000000E+00  0.00000000E+00  0.00000000E+00\n",
      "0.00000000E+00  0.00000000E+00  0.00000000E+00  0.00000000E+00  0.00000000E+00\n",
      "0.00000000E+00  0.00000000E+00  0.00000000E+00  0.00000000E+00  0.00000000E+00\n",
      "0.00000000E+00  0.00000000E+00  0.00000000E+00  0.00000000E+00  0.00000000E+00\n",
      "0.00000000E+00  0.00000000E+00  0.00000000E+00  0.00000000E+00  0.00000000E+00\n",
      "0.00000000E+00  0.00000000E+00  0.00000000E+00  0.00000000E+00  0.00000000E+00\n",
      "0.00000000E+00  0.00000000E+00  0.00000000E+00  0.00000000E+00  0.00000000E+00\n",
      "0.00000000E+00  0.00000000E+00  0.00000000E+00  0.00000000E+00  0.00000000E+00\n",
      "0.00000000E+00  0.00000000E+00  0.00000000E+00  0.00000000E+00  0.00000000E+00\n",
      "0.00000000E+00  0.00000000E+00  0.00000000E+00  0.00000000E+00\n",
      "%FLAG ATOMIC_NUMBER\n",
      "%FORMAT(10I8)\n",
      "6       1       8       6       1       8       1       6       1       8\n",
      "1       6       1       6       1       8       6       1       1       8\n",
      "1       6       1       8       6       1       8       1       6       1\n",
      "8       1       6       1       6       1       8       6       1       1\n",
      "8       1       6       1       8       6       1       8       1       6\n",
      "1       8       1       6       1       6       1       8       6       1\n",
      "1       8       1       6       1       8       6       1       8       1\n",
      "6       1       8       1       6       1       6       1       8       6\n",
      "1       1       8       1       6       1       8       6       1       8\n",
      "--\n",
      "1       8       1       1       8       1       1       8       1       1\n",
      "8       1       1       8       1       1       8       1       1       8\n",
      "1       1       8       1       1       8       1       1       8       1\n",
      "1       8       1       1       8       1       1       8       1       1\n",
      "8       1       1       8       1       1       8       1       1       8\n",
      "1       1       8       1       1       8       1       1       8       1\n",
      "1       8       1       1       8       1       1       8       1       1\n",
      "8       1       1       8       1       1       8       1       1       8\n",
      "1       1       8       1       1       8       1       1       8       1\n",
      "1       8       1       1\n",
      "%FLAG MASS\n",
      "%FORMAT(5E16.8)\n",
      "1.20107800E+01  1.00794700E+00  1.59994300E+01  1.20107800E+01  1.00794700E+00\n",
      "1.59994300E+01  1.00794700E+00  1.20107800E+01  1.00794700E+00  1.59994300E+01\n",
      "1.00794700E+00  1.20107800E+01  1.00794700E+00  1.20107800E+01  1.00794700E+00\n",
      "1.59994300E+01  1.20107800E+01  1.00794700E+00  1.00794700E+00  1.59994300E+01\n",
      "1.00794700E+00  1.20107800E+01  1.00794700E+00  1.59994300E+01  1.20107800E+01\n",
      "1.00794700E+00  1.59994300E+01  1.00794700E+00  1.20107800E+01  1.00794700E+00\n",
      "1.59994300E+01  1.00794700E+00  1.20107800E+01  1.00794700E+00  1.20107800E+01\n",
      "1.00794700E+00  1.59994300E+01  1.20107800E+01  1.00794700E+00  1.00794700E+00\n",
      "1.59994300E+01  1.00794700E+00  1.20107800E+01  1.00794700E+00  1.59994300E+01\n",
      "--\n",
      "1.00794700E+00  1.59994300E+01  1.00794700E+00  1.00794700E+00  1.59994300E+01\n",
      "1.00794700E+00  1.00794700E+00  1.59994300E+01  1.00794700E+00  1.00794700E+00\n",
      "1.59994300E+01  1.00794700E+00  1.00794700E+00  1.59994300E+01  1.00794700E+00\n",
      "1.00794700E+00  1.59994300E+01  1.00794700E+00  1.00794700E+00  1.59994300E+01\n",
      "1.00794700E+00  1.00794700E+00  1.59994300E+01  1.00794700E+00  1.00794700E+00\n",
      "1.59994300E+01  1.00794700E+00  1.00794700E+00  1.59994300E+01  1.00794700E+00\n",
      "1.00794700E+00  1.59994300E+01  1.00794700E+00  1.00794700E+00  1.59994300E+01\n",
      "1.00794700E+00  1.00794700E+00  1.59994300E+01  1.00794700E+00  1.00794700E+00\n",
      "1.59994300E+01  1.00794700E+00  1.00794700E+00  1.59994300E+01  1.00794700E+00\n",
      "1.00794700E+00  1.59994300E+01  1.00794700E+00  1.00794700E+00\n",
      "%FLAG ATOM_TYPE_INDEX\n",
      "%FORMAT(10I8)\n",
      "1       2       3       4       5       6       7       8       9      10\n",
      "11      12      13      14      15      16      17      18      19      20\n",
      "21      22      23      24      25      26      27      28      29      30\n",
      "31      32      33      34      35      36      37      38      39      40\n",
      "41      42      43      44      45      46      47      48      49      50\n",
      "51      52      53      54      55      56      57      58      59      60\n",
      "61      62      63      64      65      66      67      68      69      70\n",
      "71      72      73      74      75      76      77      78      79      80\n",
      "81      82      83      84      85      86      87      88      89      90\n",
      "--\n",
      "6711    6712    6713    6714    6715    6716    6717    6718    6719    6720\n",
      "6721    6722    6723    6724    6725    6726    6727    6728    6729    6730\n",
      "6731    6732    6733    6734    6735    6736    6737    6738    6739    6740\n",
      "6741    6742    6743    6744    6745    6746    6747    6748    6749    6750\n",
      "6751    6752    6753    6754    6755    6756    6757    6758    6759    6760\n",
      "6761    6762    6763    6764    6765    6766    6767    6768    6769    6770\n",
      "6771    6772    6773    6774    6775    6776    6777    6778    6779    6780\n",
      "6781    6782    6783    6784    6785    6786    6787    6788    6789    6790\n",
      "6791    6792    6793    6794    6795    6796    6797    6798    6799    6800\n",
      "6801    6802    6803    6804\n",
      "%FLAG NUMBER_EXCLUDED_ATOMS\n",
      "%FORMAT(10I8)\n",
      "18       8      16      13       7       6       1      11       6       5\n",
      "1      13       6       9       6       6       5       3       2       1\n",
      "1      18       8      16      12       7       6       1       9       5\n",
      "4       1       8       4       7       5       5       4       3       2\n",
      "1       1      18       8      16      12       7       6       1       9\n",
      "5       4       1       8       4       7       5       5       4       3\n",
      "2       1       1      18       8      16      12       7       6       1\n",
      "9       5       4       1       8       4       7       5       5       4\n",
      "3       2       1       1      18       8      16      12       7       6\n",
      "--\n",
      "1       2       1       1       2       1       1       2       1       1\n",
      "2       1       1       2       1       1       2       1       1       2\n",
      "1       1       2       1       1       2       1       1       2       1\n",
      "1       2       1       1       2       1       1       2       1       1\n",
      "2       1       1       2       1       1       2       1       1       2\n",
      "1       1       2       1       1       2       1       1       2       1\n",
      "1       2       1       1       2       1       1       2       1       1\n",
      "2       1       1       2       1       1       2       1       1       2\n",
      "1       1       2       1       1       2       1       1       2       1\n",
      "1       2       1       1\n",
      "%FLAG NONBONDED_PARM_INDEX\n",
      "%FORMAT(10I8)\n",
      "1       2       4       7      11      16      22      29      37      46\n",
      "56      67      79      92     106     121     137     154     172     191\n",
      "211     232     254     277     301     326     352     379     407     436\n",
      "466     497     529     562     596     631     667     704     742     781\n",
      "821     862     904     947     991    1036    1082    1129    1177    1226\n",
      "1276    1327    1379    1432    1486    1541    1597    1654    1712    1771\n",
      "1831    1892    1954    2017    2081    2146    2212    2279    2347    2416\n",
      "2486    2557    2629    2702    2776    2851    2927    3004    3082    3161\n",
      "3241    3322    3404    3487    3571    3656    3742    3829    3917    4006\n",
      "--\n",
      "23150515231505162315051723150518231505192315052023150521231505222315052323150524\n",
      "23150525231505262315052723150528231505292315053023150531231505322315053323150534\n",
      "23150535231505362315053723150538231505392315054023150541231505422315054323150544\n",
      "23150545231505462315054723150548231505492315055023150551231505522315055323150554\n",
      "23150555231505562315055723150558231505592315056023150561231505622315056323150564\n",
      "23150565231505662315056723150568231505692315057023150571231505722315057323150574\n",
      "23150575231505762315057723150578231505792315058023150581231505822315058323150584\n",
      "23150585231505862315058723150588231505892315059023150591231505922315059323150594\n",
      "23150595231505962315059723150598231505992315060023150601231506022315060323150604\n",
      "231506052315060623150607231506082315060923150610\n",
      "%FLAG RESIDUE_LABEL\n",
      "%FORMAT(20a4)\n",
      "MGO MGO MGO MGO MGO MGO MGO BEN Na+ Na+ Na+ Na+ Na+ Na+ Na+ Cl- Cl- Cl- Cl- Cl-\n",
      "Cl- HOH HOH HOH HOH HOH HOH HOH HOH HOH HOH HOH HOH HOH HOH HOH HOH HOH HOH HOH\n",
      "HOH HOH HOH HOH HOH HOH HOH HOH HOH HOH HOH HOH HOH HOH HOH HOH HOH HOH HOH HOH\n",
      "HOH HOH HOH HOH HOH HOH HOH HOH HOH HOH HOH HOH HOH HOH HOH HOH HOH HOH HOH HOH\n",
      "HOH HOH HOH HOH HOH HOH HOH HOH HOH HOH HOH HOH HOH HOH HOH HOH HOH HOH HOH HOH\n",
      "HOH HOH HOH HOH HOH HOH HOH HOH HOH HOH HOH HOH HOH HOH HOH HOH HOH HOH HOH HOH\n",
      "HOH HOH HOH HOH HOH HOH HOH HOH HOH HOH HOH HOH HOH HOH HOH HOH HOH HOH HOH HOH\n",
      "HOH HOH HOH HOH HOH HOH HOH HOH HOH HOH HOH HOH HOH HOH HOH HOH HOH HOH HOH HOH\n",
      "HOH HOH HOH HOH HOH HOH HOH HOH HOH HOH HOH HOH HOH HOH HOH HOH HOH HOH HOH HOH\n",
      "--\n",
      "HOH HOH HOH HOH HOH HOH HOH HOH HOH HOH HOH HOH HOH HOH HOH HOH HOH HOH HOH HOH\n",
      "HOH HOH HOH HOH HOH HOH HOH HOH HOH HOH HOH HOH HOH HOH HOH HOH HOH HOH HOH HOH\n",
      "HOH HOH HOH HOH HOH HOH HOH HOH HOH HOH HOH HOH HOH HOH HOH HOH HOH HOH HOH HOH\n",
      "HOH HOH HOH HOH HOH HOH HOH HOH HOH HOH HOH HOH HOH HOH HOH HOH HOH HOH HOH HOH\n",
      "HOH HOH HOH HOH HOH HOH HOH HOH HOH HOH HOH HOH HOH HOH HOH HOH HOH HOH HOH HOH\n",
      "HOH HOH HOH HOH HOH HOH HOH HOH HOH HOH HOH HOH HOH HOH HOH HOH HOH HOH HOH HOH\n",
      "HOH HOH HOH HOH HOH HOH HOH HOH HOH HOH HOH HOH HOH HOH HOH HOH HOH HOH HOH HOH\n",
      "HOH HOH HOH HOH HOH HOH HOH HOH HOH HOH HOH HOH HOH HOH HOH HOH HOH HOH HOH HOH\n",
      "HOH HOH HOH HOH HOH HOH HOH HOH HOH HOH HOH HOH HOH HOH HOH HOH HOH HOH HOH HOH\n",
      "HOH HOH HOH HOH HOH HOH HOH HOH HOH HOH HOH\n",
      "%FLAG RESIDUE_POINTER\n",
      "%FORMAT(10I8)\n",
      "1      22      43      64      85     106     127     148     162     163\n",
      "164     165     166     167     168     169     170     171     172     173\n",
      "174     175     178     181     184     187     190     193     196     199\n",
      "202     205     208     211     214     217     220     223     226     229\n",
      "232     235     238     241     244     247     250     253     256     259\n",
      "262     265     268     271     274     277     280     283     286     289\n",
      "292     295     298     301     304     307     310     313     316     319\n",
      "322     325     328     331     334     337     340     343     346     349\n",
      "352     355     358     361     364     367     370     373     376     379\n",
      "--\n",
      "6532    6535    6538    6541    6544    6547    6550    6553    6556    6559\n",
      "6562    6565    6568    6571    6574    6577    6580    6583    6586    6589\n",
      "6592    6595    6598    6601    6604    6607    6610    6613    6616    6619\n",
      "6622    6625    6628    6631    6634    6637    6640    6643    6646    6649\n",
      "6652    6655    6658    6661    6664    6667    6670    6673    6676    6679\n",
      "6682    6685    6688    6691    6694    6697    6700    6703    6706    6709\n",
      "6712    6715    6718    6721    6724    6727    6730    6733    6736    6739\n",
      "6742    6745    6748    6751    6754    6757    6760    6763    6766    6769\n",
      "6772    6775    6778    6781    6784    6787    6790    6793    6796    6799\n",
      "6802\n",
      "%FLAG BOND_FORCE_CONSTANT\n",
      "%FORMAT(5E16.8)\n",
      "3.20000000E+02  3.10000000E+02  3.40000000E+02  3.20000000E+02  5.53000000E+02\n",
      "4.69000000E+02  3.67000000E+02  4.10000000E+02  6.56000000E+02  1.00000000E+00\n",
      "%FLAG BOND_EQUIL_VALUE\n",
      "%FORMAT(5E16.8)\n",
      "1.37000000E+00  1.52600000E+00  1.09000000E+00  1.41000000E+00  9.60000000E-01\n",
      "1.40000000E+00  1.08000000E+00  1.45000000E+00  1.25000000E+00  1.00000000E+00\n",
      "%FLAG ANGLE_FORCE_CONSTANT\n",
      "%FORMAT(5E16.8)\n",
      "5.00000000E+01  5.00000000E+01  3.50000000E+01  7.00000000E+01  5.00000000E+01\n",
      "8.00000000E+01  0.00000000E+00\n",
      "%FLAG ANGLE_EQUIL_VALUE\n",
      "%FORMAT(5E16.8)\n",
      "1.97222205E+00  1.91113553E+00  1.91113553E+00  2.09439510E+00  2.09439510E+00\n",
      "2.19911486E+00  0.00000000E+00\n",
      "%FLAG DIHEDRAL_FORCE_CONSTANT\n",
      "%FORMAT(5E16.8)\n",
      "3.83000000E-01  1.00000000E-01  2.50000000E-01  1.56000000E-01  2.50000000E-01\n",
      "2.00000000E-01  1.17500000E+00  8.50000000E-01  1.35000000E+00  3.62500000E+00\n",
      "1.83333333E-01  1.75000000E+00  3.83000000E-01  3.83000000E-01  3.83333333E-01\n",
      "1.60000000E-01  1.56000000E-01  1.80000000E-01  1.60000000E-01  3.83000000E-01\n",
      "3.83333333E-01  3.83333333E-01  0.00000000E+00  1.60000000E-01  1.50000000E-01\n",
      "3.83333333E-01  1.44000000E-01  1.56000000E-01  0.00000000E+00  1.44000000E-01\n",
      "1.56000000E-01  0.00000000E+00  1.44000000E-01  1.56000000E-01  0.00000000E+00\n",
      "1.00000000E-01  1.60000000E-01  1.80000000E-01  1.56000000E-01  1.60000000E-01\n",
      "3.83000000E-01  1.66666667E-01  0.00000000E+00  1.60000000E-01  1.50000000E-01\n",
      "--\n",
      "1.80000000E-01  1.60000000E-01  1.66666667E-01  1.60000000E-01  1.50000000E-01\n",
      "1.56000000E-01  0.00000000E+00  1.60000000E-01  1.56000000E-01  1.60000000E-01\n",
      "1.60000000E-01  0.00000000E+00  1.60000000E-01  1.50000000E-01  1.60000000E-01\n",
      "0.00000000E+00  1.50000000E-01  1.50000000E-01  1.44000000E-01  0.00000000E+00\n",
      "0.00000000E+00  1.66666667E-01  1.66666667E-01  3.62500000E+00  3.62500000E+00\n",
      "3.62500000E+00  3.62500000E+00  3.62500000E+00  3.62500000E+00  3.62500000E+00\n",
      "3.62500000E+00  3.62500000E+00  3.62500000E+00  3.62500000E+00  3.62500000E+00\n",
      "3.62500000E+00  3.62500000E+00  3.62500000E+00  6.25000000E-01  6.25000000E-01\n",
      "3.62500000E+00  3.62500000E+00  3.62500000E+00  6.25000000E-01  6.25000000E-01\n",
      "3.62500000E+00  3.62500000E+00  3.62500000E+00\n",
      "%FLAG DIHEDRAL_PERIODICITY\n",
      "%FORMAT(5E16.8)\n",
      "3.00000000E+00  2.00000000E+00  1.00000000E+00  3.00000000E+00  2.00000000E+00\n",
      "1.00000000E+00  2.00000000E+00  2.00000000E+00  1.00000000E+00  2.00000000E+00\n",
      "2.00000000E+00  2.00000000E+00  3.00000000E+00  3.00000000E+00  3.00000000E+00\n",
      "3.00000000E+00  3.00000000E+00  3.00000000E+00  3.00000000E+00  3.00000000E+00\n",
      "3.00000000E+00  3.00000000E+00  3.00000000E+00  3.00000000E+00  3.00000000E+00\n",
      "3.00000000E+00  3.00000000E+00  3.00000000E+00  3.00000000E+00  3.00000000E+00\n",
      "3.00000000E+00  3.00000000E+00  3.00000000E+00  3.00000000E+00  3.00000000E+00\n",
      "3.00000000E+00  3.00000000E+00  3.00000000E+00  3.00000000E+00  3.00000000E+00\n",
      "3.00000000E+00  3.00000000E+00  3.00000000E+00  3.00000000E+00  3.00000000E+00\n",
      "--\n",
      "3.00000000E+00  3.00000000E+00  3.00000000E+00  3.00000000E+00  3.00000000E+00\n",
      "3.00000000E+00  3.00000000E+00  3.00000000E+00  3.00000000E+00  3.00000000E+00\n",
      "3.00000000E+00  3.00000000E+00  3.00000000E+00  3.00000000E+00  3.00000000E+00\n",
      "3.00000000E+00  3.00000000E+00  3.00000000E+00  3.00000000E+00  3.00000000E+00\n",
      "3.00000000E+00  3.00000000E+00  3.00000000E+00  2.00000000E+00  2.00000000E+00\n",
      "2.00000000E+00  2.00000000E+00  2.00000000E+00  2.00000000E+00  2.00000000E+00\n",
      "2.00000000E+00  2.00000000E+00  2.00000000E+00  2.00000000E+00  2.00000000E+00\n",
      "2.00000000E+00  2.00000000E+00  2.00000000E+00  2.00000000E+00  2.00000000E+00\n",
      "2.00000000E+00  2.00000000E+00  2.00000000E+00  2.00000000E+00  2.00000000E+00\n",
      "2.00000000E+00  2.00000000E+00  2.00000000E+00\n",
      "%FLAG DIHEDRAL_PHASE\n",
      "%FORMAT(5E16.8)\n",
      "0.00000000E+00  3.14159265E+00  0.00000000E+00  0.00000000E+00  3.14159265E+00\n",
      "3.14159265E+00  0.00000000E+00  3.14159265E+00  3.14159265E+00  3.14159265E+00\n",
      "3.14159265E+00  3.14159265E+00  0.00000000E+00  0.00000000E+00  0.00000000E+00\n",
      "0.00000000E+00  0.00000000E+00  0.00000000E+00  0.00000000E+00  0.00000000E+00\n",
      "0.00000000E+00  0.00000000E+00  0.00000000E+00  0.00000000E+00  0.00000000E+00\n",
      "0.00000000E+00  0.00000000E+00  0.00000000E+00  0.00000000E+00  0.00000000E+00\n",
      "0.00000000E+00  0.00000000E+00  0.00000000E+00  0.00000000E+00  0.00000000E+00\n",
      "0.00000000E+00  0.00000000E+00  0.00000000E+00  0.00000000E+00  0.00000000E+00\n",
      "0.00000000E+00  0.00000000E+00  0.00000000E+00  0.00000000E+00  0.00000000E+00\n",
      "--\n",
      "0.00000000E+00  0.00000000E+00  0.00000000E+00  0.00000000E+00  0.00000000E+00\n",
      "0.00000000E+00  0.00000000E+00  0.00000000E+00  0.00000000E+00  0.00000000E+00\n",
      "0.00000000E+00  0.00000000E+00  0.00000000E+00  0.00000000E+00  0.00000000E+00\n",
      "0.00000000E+00  0.00000000E+00  0.00000000E+00  0.00000000E+00  0.00000000E+00\n",
      "0.00000000E+00  0.00000000E+00  0.00000000E+00  3.14159265E+00  3.14159265E+00\n",
      "3.14159265E+00  3.14159265E+00  3.14159265E+00  3.14159265E+00  3.14159265E+00\n",
      "3.14159265E+00  3.14159265E+00  3.14159265E+00  3.14159265E+00  3.14159265E+00\n",
      "3.14159265E+00  3.14159265E+00  3.14159265E+00  3.14159265E+00  3.14159265E+00\n",
      "3.14159265E+00  3.14159265E+00  3.14159265E+00  3.14159265E+00  3.14159265E+00\n",
      "3.14159265E+00  3.14159265E+00  3.14159265E+00\n",
      "%FLAG SCEE_SCALE_FACTOR\n",
      "%FORMAT(5E16.8)\n",
      "1.00000000E+00  1.00000000E+00  1.00000000E+00  1.00000000E+00  1.00000000E+00\n",
      "1.00000000E+00  1.00000000E+00  1.00000000E+00  1.00000000E+00  1.00000000E+00\n",
      "1.00000000E+00  1.00000000E+00  1.20000048E+00  1.20000048E+00  1.20000048E+00\n",
      "1.20000048E+00  1.20000048E+00  1.20000048E+00  1.20000048E+00  1.20000048E+00\n",
      "1.20000048E+00  1.20000048E+00  1.20000048E+00  1.20000048E+00  1.20000048E+00\n",
      "1.20000048E+00  1.20000048E+00  1.20000048E+00  1.20000048E+00  1.20000048E+00\n",
      "1.20000048E+00  1.20000048E+00  1.20000048E+00  1.20000048E+00  1.20000048E+00\n",
      "1.20000048E+00  1.20000048E+00  1.20000048E+00  1.20000048E+00  1.20000048E+00\n",
      "1.20000048E+00  1.20000048E+00  1.20000048E+00  1.20000048E+00  1.20000048E+00\n",
      "--\n",
      "1.20000048E+00  1.20000048E+00  1.20000048E+00  1.20000048E+00  1.20000048E+00\n",
      "1.20000048E+00  1.20000048E+00  1.20000048E+00  1.20000048E+00  1.20000048E+00\n",
      "1.20000048E+00  1.20000048E+00  1.20000048E+00  1.20000048E+00  1.20000048E+00\n",
      "1.20000048E+00  1.20000048E+00  1.20000048E+00  1.20000048E+00  1.20000048E+00\n",
      "1.20000048E+00  1.20000048E+00  1.20000048E+00  1.20000048E+00  1.20000048E+00\n",
      "1.20000048E+00  1.20000048E+00  1.20000048E+00  1.20000048E+00  1.20000048E+00\n",
      "1.20000048E+00  1.20000048E+00  1.20000048E+00  1.20000048E+00  1.20000048E+00\n",
      "1.20000048E+00  1.20000048E+00  1.20000048E+00  1.20000048E+00  1.20000048E+00\n",
      "1.20000048E+00  1.20000048E+00  1.20000048E+00  1.20000048E+00  1.20000048E+00\n",
      "1.20000048E+00  1.20000048E+00  1.20000048E+00\n",
      "%FLAG SCNB_SCALE_FACTOR\n",
      "%FORMAT(5E16.8)\n",
      "1.00000000E+00  1.00000000E+00  1.00000000E+00  1.00000000E+00  1.00000000E+00\n",
      "1.00000000E+00  1.00000000E+00  1.00000000E+00  1.00000000E+00  1.00000000E+00\n",
      "1.00000000E+00  1.00000000E+00  2.00000000E+00  2.00000000E+00  2.00000000E+00\n",
      "1.00000000E+10  2.00000000E+00  2.00000000E+00  2.00000000E+00  2.00000000E+00\n",
      "2.00000000E+00  2.00000000E+00  2.00000000E+00  2.00000000E+00  2.00000000E+00\n",
      "2.00000000E+00  2.00000000E+00  2.00000000E+00  2.00000000E+00  2.00000000E+00\n",
      "2.00000000E+00  2.00000000E+00  2.00000000E+00  2.00000000E+00  2.00000000E+00\n",
      "2.00000000E+00  1.00000000E+10  2.00000000E+00  2.00000000E+00  2.00000000E+00\n",
      "2.00000000E+00  1.00000000E+10  2.00000000E+00  2.00000000E+00  2.00000000E+00\n",
      "--\n",
      "2.00000000E+00  2.00000000E+00  1.00000000E+10  2.00000000E+00  2.00000000E+00\n",
      "2.00000000E+00  2.00000000E+00  1.00000000E+10  2.00000000E+00  2.00000000E+00\n",
      "2.00000000E+00  2.00000000E+00  2.00000000E+00  2.00000000E+00  1.00000000E+10\n",
      "2.00000000E+00  2.00000000E+00  2.00000000E+00  2.00000000E+00  2.00000000E+00\n",
      "2.00000000E+00  1.00000000E+10  1.00000000E+10  2.00000000E+00  2.00000000E+00\n",
      "2.00000000E+00  2.00000000E+00  2.00000000E+00  2.00000000E+00  2.00000000E+00\n",
      "2.00000000E+00  2.00000000E+00  2.00000000E+00  2.00000000E+00  2.00000000E+00\n",
      "2.00000000E+00  2.00000000E+00  2.00000000E+00  2.00000000E+00  2.00000000E+00\n",
      "2.00000000E+00  2.00000000E+00  2.00000000E+00  2.00000000E+00  2.00000000E+00\n",
      "2.00000000E+00  2.00000000E+00  2.00000000E+00\n",
      "%FLAG SOLTY\n",
      "%FORMAT(5E16.8)\n",
      "0.00000000E+00\n",
      "%FLAG LENNARD_JONES_ACOEF\n",
      "%FORMAT(5E16.8)\n",
      "1.04308023E+06  4.68930885E+04  1.32801250E+03  6.28541240E+05  2.44050579E+04\n",
      "3.61397723E+05  1.04308023E+06  4.68930885E+04  6.28541240E+05  1.04308023E+06\n",
      "6.78771368E+04  2.09814978E+03  3.63097246E+04  6.78771368E+04  3.25969625E+03\n",
      "7.91544157E+05  3.15360051E+04  4.58874091E+05  7.91544157E+05  4.66922514E+04\n",
      "5.81803229E+05  0.00000000E+00  0.00000000E+00  0.00000000E+00  0.00000000E+00\n",
      "0.00000000E+00  0.00000000E+00  0.00000000E+00  1.04308023E+06  4.68930885E+04\n",
      "6.28541240E+05  1.04308023E+06  6.78771368E+04  7.91544157E+05  0.00000000E+00\n",
      "1.04308023E+06  6.78771368E+04  2.09814978E+03  3.63097246E+04  6.78771368E+04\n",
      "3.25969625E+03  4.66922514E+04  0.00000000E+00  6.78771368E+04  3.25969625E+03\n",
      "--\n",
      "0.00000000E+00  0.00000000E+00  0.00000000E+00  0.00000000E+00  0.00000000E+00\n",
      "0.00000000E+00  0.00000000E+00  0.00000000E+00  0.00000000E+00  0.00000000E+00\n",
      "0.00000000E+00  0.00000000E+00  0.00000000E+00  0.00000000E+00  0.00000000E+00\n",
      "0.00000000E+00  0.00000000E+00  0.00000000E+00  0.00000000E+00  0.00000000E+00\n",
      "0.00000000E+00  0.00000000E+00  0.00000000E+00  0.00000000E+00  0.00000000E+00\n",
      "0.00000000E+00  0.00000000E+00  0.00000000E+00  0.00000000E+00  0.00000000E+00\n",
      "0.00000000E+00  0.00000000E+00  0.00000000E+00  0.00000000E+00  0.00000000E+00\n",
      "0.00000000E+00  0.00000000E+00  0.00000000E+00  0.00000000E+00  0.00000000E+00\n",
      "0.00000000E+00  0.00000000E+00  0.00000000E+00  0.00000000E+00  0.00000000E+00\n",
      "0.00000000E+00  0.00000000E+00  0.00000000E+00  0.00000000E+00  0.00000000E+00\n",
      "%FLAG LENNARD_JONES_BCOEF\n",
      "%FORMAT(5E16.8)\n",
      "6.75612247E+02  8.81685417E+01  9.13231543E+00  5.85549272E+02  7.10161395E+01\n",
      "4.95732238E+02  6.75612247E+02  8.81685417E+01  5.85549272E+02  6.75612247E+02\n",
      "1.06076943E+02  1.14788417E+01  8.66220817E+01  1.06076943E+02  1.43076527E+01\n",
      "6.93079947E+02  8.51470647E+01  5.89183300E+02  6.93079947E+02  1.03606917E+02\n",
      "6.99746810E+02  0.00000000E+00  0.00000000E+00  0.00000000E+00  0.00000000E+00\n",
      "0.00000000E+00  0.00000000E+00  0.00000000E+00  6.75612247E+02  8.81685417E+01\n",
      "5.85549272E+02  6.75612247E+02  1.06076943E+02  6.93079947E+02  0.00000000E+00\n",
      "6.75612247E+02  1.06076943E+02  1.14788417E+01  8.66220817E+01  1.06076943E+02\n",
      "1.43076527E+01  1.03606917E+02  0.00000000E+00  1.06076943E+02  1.43076527E+01\n",
      "--\n",
      "0.00000000E+00  0.00000000E+00  0.00000000E+00  0.00000000E+00  0.00000000E+00\n",
      "0.00000000E+00  0.00000000E+00  0.00000000E+00  0.00000000E+00  0.00000000E+00\n",
      "0.00000000E+00  0.00000000E+00  0.00000000E+00  0.00000000E+00  0.00000000E+00\n",
      "0.00000000E+00  0.00000000E+00  0.00000000E+00  0.00000000E+00  0.00000000E+00\n",
      "0.00000000E+00  0.00000000E+00  0.00000000E+00  0.00000000E+00  0.00000000E+00\n",
      "0.00000000E+00  0.00000000E+00  0.00000000E+00  0.00000000E+00  0.00000000E+00\n",
      "0.00000000E+00  0.00000000E+00  0.00000000E+00  0.00000000E+00  0.00000000E+00\n",
      "0.00000000E+00  0.00000000E+00  0.00000000E+00  0.00000000E+00  0.00000000E+00\n",
      "0.00000000E+00  0.00000000E+00  0.00000000E+00  0.00000000E+00  0.00000000E+00\n",
      "0.00000000E+00  0.00000000E+00  0.00000000E+00  0.00000000E+00  0.00000000E+00\n",
      "%FLAG BONDS_INC_HYDROGEN\n",
      "%FORMAT(10I8)\n",
      "525     522      10     528     522      10     534     531      10     537\n",
      "531      10     543     540      10     546     540      10     552     549\n",
      "10     555     549      10     561     558      10     564     558      10\n",
      "570     567      10     573     567      10     579     576      10     582\n",
      "576      10     588     585      10     591     585      10     597     594\n",
      "10     600     594      10     606     603      10     609     603      10\n",
      "615     612      10     618     612      10     624     621      10     627\n",
      "621      10     633     630      10     636     630      10     642     639\n",
      "10     645     639      10     651     648      10     654     648      10\n",
      "--\n",
      "276       3     279     282       5     285     288       3     291     294\n",
      "3     300     303       3     300     306       3     309     312       5\n",
      "315     318       3     324     327       3     330     333       5     336\n",
      "339       3     342     345       5     348     351       3     354     357\n",
      "3     363     366       3     363     369       3     372     375       5\n",
      "378     381       3     387     390       3     393     396       5     399\n",
      "402       3     405     408       5     411     414       3     417     420\n",
      "3     426     429       3     426     432       3     435     438       5\n",
      "441     444       7     447     450       7     453     456       7     462\n",
      "465       7     468     471       7\n",
      "%FLAG BONDS_WITHOUT_HYDROGEN\n",
      "%FORMAT(10I8)\n",
      "0       6       1       0       9       2       0      45       1       6\n",
      "96       1       9      15       4       9      21       2      21      27\n",
      "4      21      33       2      33      39       2      33     384       1\n",
      "39      45       1      39      48       2      48      57       4      63\n",
      "69       1      63      72       2      63     108       1      69     159\n",
      "1      72      78       4      72      84       2      84      90       4\n",
      "84      96       2      96     102       2     102     108       1     102\n",
      "111       2     111     120       4     126     132       1     126     135\n",
      "2     126     171       1     132     222       1     135     141       4\n",
      "--\n",
      "300     309       4     315     321       1     315     324       2     315\n",
      "360       1     321     411       1     324     330       4     324     336\n",
      "2     336     342       4     336     348       2     348     354       2\n",
      "354     360       1     354     363       2     363     372       4     378\n",
      "384       1     378     387       2     378     423       1     387     393\n",
      "4     387     399       2     399     405       4     399     411       2\n",
      "411     417       2     417     423       1     417     426       2     426\n",
      "435       4     441     447       6     441     468       6     447     453\n",
      "6     453     459       6     459     462       6     459     474       8\n",
      "462     468       6     474     477       9     474     480       9\n",
      "%FLAG ANGLES_INC_HYDROGEN\n",
      "%FORMAT(10I8)\n",
      "0       9      12       2       3       0       6       2       3       0\n",
      "9       2       3       0      45       2       6      96      99       2\n",
      "9      15      18       1       9      21      24       2      12       9\n",
      "15       2      12       9      21       2      21      27      30       1\n",
      "21      33      36       2      24      21      27       2      24      21\n",
      "33       2      33      39      42       2      36      33      39       2\n",
      "36      33     384       2      39      48      51       2      39      48\n",
      "54       2      42      39      45       2      42      39      48       2\n",
      "48      57      60       1      51      48      57       2      51      48\n",
      "--\n",
      "20202       7   20208   20205   20211       7   20217   20214   20220       7\n",
      "20226   20223   20229       7   20235   20232   20238       7   20244   20241\n",
      "20247       7   20253   20250   20256       7   20262   20259   20265       7\n",
      "20271   20268   20274       7   20280   20277   20283       7   20289   20286\n",
      "20292       7   20298   20295   20301       7   20307   20304   20310       7\n",
      "20316   20313   20319       7   20325   20322   20328       7   20334   20331\n",
      "20337       7   20343   20340   20346       7   20352   20349   20355       7\n",
      "20361   20358   20364       7   20370   20367   20373       7   20379   20376\n",
      "20382       7   20388   20385   20391       7   20397   20394   20400       7\n",
      "20406   20403   20409       7\n",
      "%FLAG ANGLES_WITHOUT_HYDROGEN\n",
      "%FORMAT(10I8)\n",
      "0       6      96       1       0       9      15       2       0       9\n",
      "21       2       0      45      39       1       6      96     102       2\n",
      "6      96      84       2       6       0       9       2       6       0\n",
      "45       2       9      21      27       2       9      21      33       2\n",
      "9       0      45       2      15       9      21       2      21      33\n",
      "39       2      21      33     384       2      27      21      33       2\n",
      "33      39      45       2      33      39      48       2      33     384\n",
      "378       1      39      48      57       2      39      33     384       2\n",
      "45      39      48       2      63      69     159       1      63      72\n",
      "--\n",
      "399       2     378     423     417       1     384     378     387       2\n",
      "384     378     423       2     387     399     405       2     387     399\n",
      "411       2     387     378     423       2     393     387     399       2\n",
      "399     411     417       2     405     399     411       2     411     417\n",
      "423       2     411     417     426       2     417     426     435       2\n",
      "423     417     426       2     441     447     453       4     441     468\n",
      "462       4     447     453     459       4     447     441     468       4\n",
      "453     459     462       4     453     459     474       4     459     462\n",
      "468       4     459     474     480       4     459     474     477       4\n",
      "462     459     474       4     477     474     480       6\n",
      "%FLAG DIHEDRALS_INC_HYDROGEN\n",
      "%FORMAT(10I8)\n",
      "0       6      96      99      15       0       9      15      18      16\n",
      "0       9     -15      18       3       0       9      21      24      19\n",
      "0      45      39      42      21       3       0       6      96      22\n",
      "3       0       9      15      23       3       0      -9      15       3\n",
      "3       0       9      21      24       3       0       9      12      25\n",
      "3       0      45      39      26       6      96     102     105      29\n",
      "6      96    -102     105       3       6      96      84      87      32\n",
      "6      96     -84      87       3       6       0       9      12      35\n",
      "6       0      -9      12       3       9      21      27      30      37\n",
      "--\n",
      "453     447    -450     441      11     447     453    -456     459      11\n",
      "447     453    -459     456      11     456     453    -447     459      11\n",
      "456     453    -459     447      11     459     453    -447     456      11\n",
      "459     453    -456     447      11     459     462    -465     468      11\n",
      "459     462    -468     465      11     465     462    -459     468      11\n",
      "465     462    -468     459      11     468     462    -459     465      11\n",
      "468     462    -465     459      11     441     468    -462     471      11\n",
      "441     468    -471     462      11     462     468    -441     471      11\n",
      "462     468    -471     441      11     471     468    -441     462      11\n",
      "471     468    -462     441      11\n",
      "%FLAG DIHEDRALS_WITHOUT_HYDROGEN\n",
      "%FORMAT(10I8)\n",
      "0       6      96     102      13       0       6     -96     102       2\n",
      "0       6      96      84      14       0       6     -96      84       2\n",
      "0       9      21      27      17       0       9      21      33      18\n",
      "0       9     -21      33       5       0       9     -21      33       6\n",
      "0      45      39      48      20       0      45     -39      48       2\n",
      "0      45     -39      33       1       0      45     -39      33       2\n",
      "6      96     102     108      27       6      96    -102     108       7\n",
      "6      96     102     111      28       6      96      84      90      30\n",
      "6      96     -84      90       7       6      96      84      72      31\n",
      "--\n",
      "447     441    -468     462      10     453     459     462     468     467\n",
      "453     459     474     480     469     453     459     474     477     470\n",
      "453     447    -441     468      10     462     459     474     480     474\n",
      "462     459     474     477     475     468     462     459     474     478\n",
      "453     459    -462     474      11     453     459    -474     462      11\n",
      "462     459    -453     474      11     462     459    -474     453      11\n",
      "474     459    -453     462      11     474     459    -462     453      11\n",
      "459     474    -477     480      12     459     474    -480     477      12\n",
      "477     474    -459     480      12     477     474    -480     459      12\n",
      "480     474    -459     477      12     480     474    -477     459      12\n",
      "%FLAG EXCLUDED_ATOMS_LIST\n",
      "%FORMAT(10I8)\n",
      "2       3       4       5       6       7       8       9      10      12\n",
      "14      15      16      17      29      33      34      35       3       4\n",
      "5       6       8      14      16      33       4       5       6       8\n",
      "14      16      25      29      30      31      33      34      35      36\n",
      "37      38       5       6       7       8       9      10      11      12\n",
      "13      14      16      33     129       6       7       8       9      10\n",
      "12      16       7       8       9      10      12      16       8       9\n",
      "10      11      12      13      14      15      16      17     127     129\n",
      "10      11      12      13      14     129      11      12      13      14\n",
      "--\n",
      "6735       0    6737    6738    6738       0    6740    6741    6741       0\n",
      "6743    6744    6744       0    6746    6747    6747       0    6749    6750\n",
      "6750       0    6752    6753    6753       0    6755    6756    6756       0\n",
      "6758    6759    6759       0    6761    6762    6762       0    6764    6765\n",
      "6765       0    6767    6768    6768       0    6770    6771    6771       0\n",
      "6773    6774    6774       0    6776    6777    6777       0    6779    6780\n",
      "6780       0    6782    6783    6783       0    6785    6786    6786       0\n",
      "6788    6789    6789       0    6791    6792    6792       0    6794    6795\n",
      "6795       0    6797    6798    6798       0    6800    6801    6801       0\n",
      "6803    6804    6804       0\n",
      "%FLAG HBOND_ACOEF\n",
      "%FORMAT(5E16.8)\n",
      "\n",
      "%FLAG HBOND_BCOEF\n",
      "%FORMAT(5E16.8)\n",
      "\n",
      "%FLAG HBCUT\n",
      "%FORMAT(5E16.8)\n",
      "\n",
      "%FLAG AMBER_ATOM_TYPE\n",
      "%FORMAT(20a4)\n",
      "1   2   3   4   5   6   7   8   9   10  11  12  13  14  15  16  17  18  19  20\n",
      "21  22  23  24  25  26  27  28  29  30  31  32  33  34  35  36  37  38  39  40\n",
      "41  42  43  44  45  46  47  48  49  50  51  52  53  54  55  56  57  58  59  60\n",
      "61  62  63  64  65  66  67  68  69  70  71  72  73  74  75  76  77  78  79  80\n",
      "81  82  83  84  85  86  87  88  89  90  91  92  93  94  95  96  97  98  99  100\n",
      "101 102 103 104 105 106 107 108 109 110 111 112 113 114 115 116 117 118 119 120\n",
      "121 122 123 124 125 126 127 128 129 130 131 132 133 134 135 136 137 138 139 140\n",
      "141 142 143 144 145 146 147 148 149 150 151 152 153 154 155 156 157 158 159 160\n",
      "161 162 163 164 165 166 167 168 169 170 171 172 173 174 175 176 177 178 179 180\n",
      "--\n",
      "66216622662366246625662666276628662966306631663266336634663566366637663866396640\n",
      "66416642664366446645664666476648664966506651665266536654665566566657665866596660\n",
      "66616662666366646665666666676668666966706671667266736674667566766677667866796680\n",
      "66816682668366846685668666876688668966906691669266936694669566966697669866996700\n",
      "67016702670367046705670667076708670967106711671267136714671567166717671867196720\n",
      "67216722672367246725672667276728672967306731673267336734673567366737673867396740\n",
      "67416742674367446745674667476748674967506751675267536754675567566757675867596760\n",
      "67616762676367646765676667676768676967706771677267736774677567766777677867796780\n",
      "67816782678367846785678667876788678967906791679267936794679567966797679867996800\n",
      "6801680268036804\n",
      "%FLAG TREE_CHAIN_CLASSIFICATION\n",
      "%FORMAT(20a4)\n",
      "BLA BLA BLA BLA BLA BLA BLA BLA BLA BLA BLA BLA BLA BLA BLA BLA BLA BLA BLA BLA\n",
      "BLA BLA BLA BLA BLA BLA BLA BLA BLA BLA BLA BLA BLA BLA BLA BLA BLA BLA BLA BLA\n",
      "BLA BLA BLA BLA BLA BLA BLA BLA BLA BLA BLA BLA BLA BLA BLA BLA BLA BLA BLA BLA\n",
      "BLA BLA BLA BLA BLA BLA BLA BLA BLA BLA BLA BLA BLA BLA BLA BLA BLA BLA BLA BLA\n",
      "BLA BLA BLA BLA BLA BLA BLA BLA BLA BLA BLA BLA BLA BLA BLA BLA BLA BLA BLA BLA\n",
      "BLA BLA BLA BLA BLA BLA BLA BLA BLA BLA BLA BLA BLA BLA BLA BLA BLA BLA BLA BLA\n",
      "BLA BLA BLA BLA BLA BLA BLA BLA BLA BLA BLA BLA BLA BLA BLA BLA BLA BLA BLA BLA\n",
      "BLA BLA BLA BLA BLA BLA BLA BLA BLA BLA BLA BLA BLA BLA BLA BLA BLA BLA BLA BLA\n",
      "BLA BLA BLA BLA BLA BLA BLA BLA BLA BLA BLA BLA BLA BLA BLA BLA BLA BLA BLA BLA\n",
      "--\n",
      "BLA BLA BLA BLA BLA BLA BLA BLA BLA BLA BLA BLA BLA BLA BLA BLA BLA BLA BLA BLA\n",
      "BLA BLA BLA BLA BLA BLA BLA BLA BLA BLA BLA BLA BLA BLA BLA BLA BLA BLA BLA BLA\n",
      "BLA BLA BLA BLA BLA BLA BLA BLA BLA BLA BLA BLA BLA BLA BLA BLA BLA BLA BLA BLA\n",
      "BLA BLA BLA BLA BLA BLA BLA BLA BLA BLA BLA BLA BLA BLA BLA BLA BLA BLA BLA BLA\n",
      "BLA BLA BLA BLA BLA BLA BLA BLA BLA BLA BLA BLA BLA BLA BLA BLA BLA BLA BLA BLA\n",
      "BLA BLA BLA BLA BLA BLA BLA BLA BLA BLA BLA BLA BLA BLA BLA BLA BLA BLA BLA BLA\n",
      "BLA BLA BLA BLA BLA BLA BLA BLA BLA BLA BLA BLA BLA BLA BLA BLA BLA BLA BLA BLA\n",
      "BLA BLA BLA BLA BLA BLA BLA BLA BLA BLA BLA BLA BLA BLA BLA BLA BLA BLA BLA BLA\n",
      "BLA BLA BLA BLA BLA BLA BLA BLA BLA BLA BLA BLA BLA BLA BLA BLA BLA BLA BLA BLA\n",
      "BLA BLA BLA BLA\n",
      "%FLAG JOIN_ARRAY\n",
      "%FORMAT(10I8)\n",
      "0       0       0       0       0       0       0       0       0       0\n",
      "0       0       0       0       0       0       0       0       0       0\n",
      "0       0       0       0       0       0       0       0       0       0\n",
      "0       0       0       0       0       0       0       0       0       0\n",
      "0       0       0       0       0       0       0       0       0       0\n",
      "0       0       0       0       0       0       0       0       0       0\n",
      "0       0       0       0       0       0       0       0       0       0\n",
      "0       0       0       0       0       0       0       0       0       0\n",
      "0       0       0       0       0       0       0       0       0       0\n",
      "--\n",
      "0       0       0       0       0       0       0       0       0       0\n",
      "0       0       0       0       0       0       0       0       0       0\n",
      "0       0       0       0       0       0       0       0       0       0\n",
      "0       0       0       0       0       0       0       0       0       0\n",
      "0       0       0       0       0       0       0       0       0       0\n",
      "0       0       0       0       0       0       0       0       0       0\n",
      "0       0       0       0       0       0       0       0       0       0\n",
      "0       0       0       0       0       0       0       0       0       0\n",
      "0       0       0       0       0       0       0       0       0       0\n",
      "0       0       0       0\n",
      "%FLAG IROTAT\n",
      "%FORMAT(10I8)\n",
      "0       0       0       0       0       0       0       0       0       0\n",
      "0       0       0       0       0       0       0       0       0       0\n",
      "0       0       0       0       0       0       0       0       0       0\n",
      "0       0       0       0       0       0       0       0       0       0\n",
      "0       0       0       0       0       0       0       0       0       0\n",
      "0       0       0       0       0       0       0       0       0       0\n",
      "0       0       0       0       0       0       0       0       0       0\n",
      "0       0       0       0       0       0       0       0       0       0\n",
      "0       0       0       0       0       0       0       0       0       0\n",
      "--\n",
      "0       0       0       0       0       0       0       0       0       0\n",
      "0       0       0       0       0       0       0       0       0       0\n",
      "0       0       0       0       0       0       0       0       0       0\n",
      "0       0       0       0       0       0       0       0       0       0\n",
      "0       0       0       0       0       0       0       0       0       0\n",
      "0       0       0       0       0       0       0       0       0       0\n",
      "0       0       0       0       0       0       0       0       0       0\n",
      "0       0       0       0       0       0       0       0       0       0\n",
      "0       0       0       0       0       0       0       0       0       0\n",
      "0       0       0       0\n",
      "%FLAG SOLVENT_POINTERS\n",
      "%FORMAT(3I8)\n",
      "21    2225      16\n",
      "%FLAG ATOMS_PER_MOLECULE\n",
      "%FORMAT(10I8)\n",
      "147      14       1       1       1       1       1       1       1       1\n",
      "1       1       1       1       1       3       3       3       3       3\n",
      "3       3       3       3       3       3       3       3       3       3\n",
      "3       3       3       3       3       3       3       3       3       3\n",
      "3       3       3       3       3       3       3       3       3       3\n",
      "3       3       3       3       3       3       3       3       3       3\n",
      "3       3       3       3       3       3       3       3       3       3\n",
      "3       3       3       3       3       3       3       3       3       3\n",
      "3       3       3       3       3       3       3       3       3       3\n",
      "--\n",
      "3       3       3       3       3       3       3       3       3       3\n",
      "3       3       3       3       3       3       3       3       3       3\n",
      "3       3       3       3       3       3       3       3       3       3\n",
      "3       3       3       3       3       3       3       3       3       3\n",
      "3       3       3       3       3       3       3       3       3       3\n",
      "3       3       3       3       3       3       3       3       3       3\n",
      "3       3       3       3       3       3       3       3       3       3\n",
      "3       3       3       3       3       3       3       3       3       3\n",
      "3       3       3       3       3       3       3       3       3       3\n",
      "3       3       3       3       3\n",
      "%FLAG BOX_DIMENSIONS\n",
      "%FORMAT(5E16.8)\n",
      "9.00000000E+01  4.01760000E+01  4.03430000E+01  5.62260000E+01\n",
      "%FLAG RADIUS_SET\n",
      "%FORMAT(1a80)\n",
      "0\n",
      "%FLAG RADII\n",
      "%FORMAT(5E16.8)\n",
      "0.00000000E+00  0.00000000E+00  0.00000000E+00  0.00000000E+00  0.00000000E+00\n",
      "0.00000000E+00  0.00000000E+00  0.00000000E+00  0.00000000E+00  0.00000000E+00\n",
      "0.00000000E+00  0.00000000E+00  0.00000000E+00  0.00000000E+00  0.00000000E+00\n",
      "0.00000000E+00  0.00000000E+00  0.00000000E+00  0.00000000E+00  0.00000000E+00\n",
      "0.00000000E+00  0.00000000E+00  0.00000000E+00  0.00000000E+00  0.00000000E+00\n",
      "0.00000000E+00  0.00000000E+00  0.00000000E+00  0.00000000E+00  0.00000000E+00\n",
      "0.00000000E+00  0.00000000E+00  0.00000000E+00  0.00000000E+00  0.00000000E+00\n",
      "0.00000000E+00  0.00000000E+00  0.00000000E+00  0.00000000E+00  0.00000000E+00\n",
      "0.00000000E+00  0.00000000E+00  0.00000000E+00  0.00000000E+00  0.00000000E+00\n",
      "--\n",
      "0.00000000E+00  0.00000000E+00  0.00000000E+00  0.00000000E+00  0.00000000E+00\n",
      "0.00000000E+00  0.00000000E+00  0.00000000E+00  0.00000000E+00  0.00000000E+00\n",
      "0.00000000E+00  0.00000000E+00  0.00000000E+00  0.00000000E+00  0.00000000E+00\n",
      "0.00000000E+00  0.00000000E+00  0.00000000E+00  0.00000000E+00  0.00000000E+00\n",
      "0.00000000E+00  0.00000000E+00  0.00000000E+00  0.00000000E+00  0.00000000E+00\n",
      "0.00000000E+00  0.00000000E+00  0.00000000E+00  0.00000000E+00  0.00000000E+00\n",
      "0.00000000E+00  0.00000000E+00  0.00000000E+00  0.00000000E+00  0.00000000E+00\n",
      "0.00000000E+00  0.00000000E+00  0.00000000E+00  0.00000000E+00  0.00000000E+00\n",
      "0.00000000E+00  0.00000000E+00  0.00000000E+00  0.00000000E+00  0.00000000E+00\n",
      "0.00000000E+00  0.00000000E+00  0.00000000E+00  0.00000000E+00\n",
      "%FLAG SCREEN\n",
      "%FORMAT(5E16.8)\n",
      "0.00000000E+00  0.00000000E+00  0.00000000E+00  0.00000000E+00  0.00000000E+00\n",
      "0.00000000E+00  0.00000000E+00  0.00000000E+00  0.00000000E+00  0.00000000E+00\n",
      "0.00000000E+00  0.00000000E+00  0.00000000E+00  0.00000000E+00  0.00000000E+00\n",
      "0.00000000E+00  0.00000000E+00  0.00000000E+00  0.00000000E+00  0.00000000E+00\n",
      "0.00000000E+00  0.00000000E+00  0.00000000E+00  0.00000000E+00  0.00000000E+00\n"
     ]
    },
    {
     "name": "stdout",
     "output_type": "stream",
     "text": [
      "0.00000000E+00  0.00000000E+00  0.00000000E+00  0.00000000E+00  0.00000000E+00\n",
      "0.00000000E+00  0.00000000E+00  0.00000000E+00  0.00000000E+00  0.00000000E+00\n",
      "0.00000000E+00  0.00000000E+00  0.00000000E+00  0.00000000E+00  0.00000000E+00\n",
      "0.00000000E+00  0.00000000E+00  0.00000000E+00  0.00000000E+00  0.00000000E+00\n",
      "--\n",
      "0.00000000E+00  0.00000000E+00  0.00000000E+00  0.00000000E+00  0.00000000E+00\n",
      "0.00000000E+00  0.00000000E+00  0.00000000E+00  0.00000000E+00  0.00000000E+00\n",
      "0.00000000E+00  0.00000000E+00  0.00000000E+00  0.00000000E+00  0.00000000E+00\n",
      "0.00000000E+00  0.00000000E+00  0.00000000E+00  0.00000000E+00  0.00000000E+00\n",
      "0.00000000E+00  0.00000000E+00  0.00000000E+00  0.00000000E+00  0.00000000E+00\n",
      "0.00000000E+00  0.00000000E+00  0.00000000E+00  0.00000000E+00  0.00000000E+00\n",
      "0.00000000E+00  0.00000000E+00  0.00000000E+00  0.00000000E+00  0.00000000E+00\n",
      "0.00000000E+00  0.00000000E+00  0.00000000E+00  0.00000000E+00  0.00000000E+00\n",
      "0.00000000E+00  0.00000000E+00  0.00000000E+00  0.00000000E+00  0.00000000E+00\n",
      "0.00000000E+00  0.00000000E+00  0.00000000E+00  0.00000000E+00\n",
      "%FLAG IPOL\n",
      "%FORMAT(1I8)\n",
      "0\n"
     ]
    }
   ],
   "source": [
    "grep_prmtop('solvated_smirnoff.prmtop', path='generated/')"
   ]
  },
  {
   "cell_type": "code",
   "execution_count": 283,
   "metadata": {
    "ExecuteTime": {
     "end_time": "2018-02-06T00:56:07.490842Z",
     "start_time": "2018-02-06T00:56:07.477580Z"
    },
    "collapsed": true
   },
   "outputs": [],
   "source": [
    "def check_amber_crash(topology, coordinates, input_file, output_file, restart_file, executable, path):\n",
    "    \"\"\"\n",
    "    Quickly checks to see if an AMBER minimization can succeed.    \n",
    "    Parameters\n",
    "    ----------\n",
    "    topology : PDBFixer topology (probably others work, as well)\n",
    "        Simulation topology\n",
    "    coordinates : PDBFixer coordinates (others will work)\n",
    "        Coordinates of the atoms in the topology\n",
    "    output_file : str\n",
    "        Output of the minimization\n",
    "    restart_file : str\n",
    "        Simulation restart final\n",
    "    executable : str\n",
    "        AMBER executable (sander is safe), must be in path\n",
    "    path : str\n",
    "        Directory of files\n",
    "    \"\"\"\n",
    "\n",
    "    minimization = \\\n",
    "'''\n",
    "&cntrl\n",
    "    imin   = 1,\n",
    "    maxcyc = 500,\n",
    "    ncyc   = 250,\n",
    "    ntb    = 1,\n",
    "    igb    = 0,\n",
    "    cut    = 12\n",
    "/     \n",
    "'''\n",
    "    with open(path + input_file, 'w') as file:\n",
    "        file.write(minimization)\n",
    "    print(\"{4} -O -p {0} -c {1} -ref {1} -i {2} -o {3} -r {5}\".format(topology, \n",
    "                            coordinates,\n",
    "                            input_file,\n",
    "                            output_file,\n",
    "                            executable,\n",
    "                            restart_file))\n",
    "\n",
    "    sp.call(\"{4} -O -p {0} -c {1} -ref {1} -i {2} -o {3} -r {5}\".format(topology, \n",
    "                            coordinates,\n",
    "                            input_file,\n",
    "                            output_file,\n",
    "                            executable,\n",
    "                            restart_file), cwd=path, shell=True)"
   ]
  },
  {
   "cell_type": "code",
   "execution_count": 284,
   "metadata": {
    "ExecuteTime": {
     "end_time": "2018-02-06T00:56:08.375961Z",
     "start_time": "2018-02-06T00:56:08.370988Z"
    },
    "collapsed": true
   },
   "outputs": [],
   "source": [
    "def grep_output(output_file, path):\n",
    "    p = sp.Popen(['cat', output_file], cwd=path, stdout=sp.PIPE)\n",
    "    for line in p.stdout:\n",
    "        print(line.decode(\"utf-8\").strip(),)"
   ]
  },
  {
   "cell_type": "code",
   "execution_count": 285,
   "metadata": {
    "ExecuteTime": {
     "end_time": "2018-02-06T00:56:45.692871Z",
     "start_time": "2018-02-06T00:56:08.882818Z"
    },
    "scrolled": false
   },
   "outputs": [
    {
     "name": "stdout",
     "output_type": "stream",
     "text": [
      "sander -O -p solvated_smirnoff.prmtop -c solvated_smirnoff.inpcrd -ref solvated_smirnoff.inpcrd -i solvated_smirnoff.in -o solvated_smirnoff.out -r solvated_smirnoff.rst\n"
     ]
    }
   ],
   "source": [
    "check_amber_crash('solvated_smirnoff.prmtop', 'solvated_smirnoff.inpcrd', 'solvated_smirnoff.in', \n",
    "               'solvated_smirnoff.out', 'solvated_smirnoff.rst', 'sander', 'generated/')"
   ]
  },
  {
   "cell_type": "code",
   "execution_count": 286,
   "metadata": {
    "ExecuteTime": {
     "end_time": "2018-02-06T00:56:45.729472Z",
     "start_time": "2018-02-06T00:56:45.694856Z"
    },
    "scrolled": false
   },
   "outputs": [
    {
     "name": "stdout",
     "output_type": "stream",
     "text": [
      "\n",
      "-------------------------------------------------------\n",
      "Amber 16 SANDER                              2016\n",
      "-------------------------------------------------------\n",
      "\n",
      "| Run on 02/05/2018 at 16:56:08\n",
      "\n",
      "|   Executable path: sander\n",
      "| Working directory: /home/dslochower/hgst-3tb-data/projects/smirnoff-host-guest/generated\n",
      "|          Hostname: warthog\n",
      "\n",
      "[-O]verwriting output\n",
      "\n",
      "File Assignments:\n",
      "|  MDIN: solvated_smirnoff.in\n",
      "| MDOUT: solvated_smirnoff.out\n",
      "|INPCRD: solvated_smirnoff.inpcrd\n",
      "|  PARM: solvated_smirnoff.prmtop\n",
      "|RESTRT: solvated_smirnoff.rst\n",
      "|  REFC: solvated_smirnoff.inpcrd\n",
      "| MDVEL: mdvel\n",
      "| MDFRC: mdfrc\n",
      "|  MDEN: mden\n",
      "| MDCRD: mdcrd\n",
      "|MDINFO: mdinfo\n",
      "|  MTMD: mtmd\n",
      "|INPDIP: inpdip\n",
      "|RSTDIP: rstdip\n",
      "|INPTRA: inptraj\n",
      "\n",
      "\n",
      "Here is the input file:\n",
      "\n",
      "\n",
      "&cntrl\n",
      "imin   = 1,\n",
      "maxcyc = 500,\n",
      "ncyc   = 250,\n",
      "ntb    = 1,\n",
      "igb    = 0,\n",
      "cut    = 12\n",
      "/\n",
      "\n",
      "--------------------------------------------------------------------------------\n",
      "1.  RESOURCE   USE:\n",
      "--------------------------------------------------------------------------------\n",
      "\n",
      "| Flags:\n",
      "getting new box info from bottom of inpcrd\n",
      "|  INFO: Old style inpcrd file read\n",
      "\n",
      "| peek_ewald_inpcrd: Box info found\n",
      "|Largest sphere to fit in unit cell has radius =    20.088\n",
      "| New format PARM file being parsed.\n",
      "| Version =    1.000 Date = 02/05/18 Time = 15:13:40\n",
      "NATOM  =    6804 NTYPES =    6804 NBONH =    4495 MBONA  =      93\n",
      "NTHETH =    2381 MTHETA =     137 NPHIH =     445 MPHIA  =     360\n",
      "NHPARM =       0 NPARM  =       0 NNB   =    9804 NRES   =    2231\n",
      "NBONA  =      93 NTHETA =     137 NPHIA =     360 NUMBND =      10\n",
      "NUMANG =       7 NPTRA  =     478 NATYP =       1 NPHB   =       0\n",
      "IFBOX  =       1 NMXRS  =      21 IFCAP =       0 NEXTRA =       0\n",
      "NCOPY  =       0\n",
      "\n",
      "\n",
      "|     Memory Use     Allocated\n",
      "|     Real            46906497\n",
      "|     Hollerith          22645\n",
      "|     Integer         46504960\n",
      "|     Max Pairs        6223392\n",
      "|     nblistReal         81648\n",
      "|     nblist Int        227985\n",
      "|       Total           574044 kbytes\n",
      "\n",
      "| Note: 1-4 EEL scale factors are being read from the topology file.\n",
      "\n",
      "| Note: 1-4 VDW scale factors are being read from the topology file.\n",
      "| Duplicated    0 dihedrals\n",
      "| Duplicated    0 dihedrals\n",
      "\n",
      "BOX TYPE: RECTILINEAR\n",
      "\n",
      "--------------------------------------------------------------------------------\n",
      "2.  CONTROL  DATA  FOR  THE  RUN\n",
      "--------------------------------------------------------------------------------\n",
      "\n",
      "\n",
      "\n",
      "General flags:\n",
      "imin    =       1, nmropt  =       0\n",
      "\n",
      "Nature and format of input:\n",
      "ntx     =       1, irest   =       0, ntrx    =       1\n",
      "\n",
      "Nature and format of output:\n",
      "ntxo    =       2, ntpr    =      50, ntrx    =       1, ntwr    =       1\n",
      "iwrap   =       0, ntwx    =       0, ntwv    =       0, ntwe    =       0\n",
      "ioutfm  =       1, ntwprt  =       0, idecomp =       0, rbornstat=      0\n",
      "\n",
      "Potential function:\n",
      "ntf     =       1, ntb     =       1, igb     =       0, nsnb    =      25\n",
      "ipol    =       0, gbsa    =       0, iesp    =       0\n",
      "dielc   =   1.00000, cut     =  12.00000, intdiel =   1.00000\n",
      "\n",
      "Frozen or restrained atoms:\n",
      "ibelly  =       0, ntr     =       0\n",
      "\n",
      "Energy minimization:\n",
      "maxcyc  =     500, ncyc    =     250, ntmin   =       1\n",
      "dx0     =   0.01000, drms    =   0.00010\n",
      "\n",
      "Ewald parameters:\n",
      "verbose =       0, ew_type =       0, nbflag  =       1, use_pme =       1\n",
      "vdwmeth =       1, eedmeth =       1, netfrc  =       0\n",
      "Box X =   40.176   Box Y =   40.343   Box Z =   56.226\n",
      "Alpha =   90.000   Beta  =   90.000   Gamma =   90.000\n",
      "NFFT1 =   40       NFFT2 =   40       NFFT3 =   60\n",
      "Cutoff=   12.000   Tol   =0.100E-04\n",
      "Ewald Coefficient =  0.22664\n",
      "Interpolation order =    4\n",
      "\n",
      "--------------------------------------------------------------------------------\n",
      "3.  ATOMIC COORDINATES AND VELOCITIES\n",
      "--------------------------------------------------------------------------------\n",
      "\n",
      "\n",
      "begin time read from input coords =     0.000 ps\n",
      "\n",
      "Number of triangulated 3-point waters found:        0\n"
     ]
    }
   ],
   "source": [
    "grep_output('solvated_smirnoff.out', path='generated/')"
   ]
  },
  {
   "cell_type": "code",
   "execution_count": null,
   "metadata": {
    "collapsed": true
   },
   "outputs": [],
   "source": []
  }
 ],
 "metadata": {
  "kernelspec": {
   "display_name": "Python [conda env:openforcefield]",
   "language": "python",
   "name": "conda-env-openforcefield-py"
  },
  "language_info": {
   "codemirror_mode": {
    "name": "ipython",
    "version": 3
   },
   "file_extension": ".py",
   "mimetype": "text/x-python",
   "name": "python",
   "nbconvert_exporter": "python",
   "pygments_lexer": "ipython3",
   "version": "3.6.1"
  }
 },
 "nbformat": 4,
 "nbformat_minor": 2
}
