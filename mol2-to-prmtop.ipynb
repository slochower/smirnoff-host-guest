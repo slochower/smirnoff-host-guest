{
 "cells": [
  {
   "cell_type": "code",
   "execution_count": 1,
   "metadata": {
    "ExecuteTime": {
     "end_time": "2018-02-05T19:14:12.723803Z",
     "start_time": "2018-02-05T19:14:08.108858Z"
    }
   },
   "outputs": [],
   "source": [
    "import numpy as np\n",
    "import subprocess as sp\n",
    "from openeye.oechem import *\n",
    "from openforcefield.typing.engines.smirnoff import *\n",
    "from networkx.algorithms import isomorphism"
   ]
  },
  {
   "cell_type": "markdown",
   "metadata": {},
   "source": [
    "# Load molecules into a list of `OEMol`s"
   ]
  },
  {
   "cell_type": "markdown",
   "metadata": {},
   "source": [
    "I'm going to start by loading the host and guest SYBYL-formatted `mol2` files into a list of `OEMol`s. I created these SYBYL-formatted files from files containing AM1-BCC charges and GAFF v1.7 Lennard-Jones and bonded parameters:\n",
    "\n",
    "```\n",
    "antechamber -i bcd.mol2 -fi mol2 -o bcd-sybyl.mol2 -fo mol2 -at sybyl\n",
    "antechamber -i ben.mol2 -fi mol2 -o ben-sybyl.mol2 -fo mol2 -at sybyl -dr n \n",
    "# Disable `acdoctor` to handle carboxylate group\n",
    "```\n",
    "\n",
    "I think it should be possible to read in GAFF-formatted files directly, using a specific forcefield flavor, but I don't see the relvant flavor listed in their [documentation](https://docs.eyesopen.com/toolkits/python/oechemtk/molreadwrite.html#section-molreadwrite-flavoredinputandoutput). A search for \"GAFF\" comes up empty (except for one blog post). If I try to load the GAFF files without any special flavor, I get many things with atom type \"Du,\" which I surmise to be a dummy atom type. I believe this can be remedied by running the files through `OETriposAtomNames`, but it is another thing that could go wrong, so for these reasons, I believe it is more straight-forward to simply start with standard atom names."
   ]
  },
  {
   "cell_type": "code",
   "execution_count": 24,
   "metadata": {
    "ExecuteTime": {
     "end_time": "2018-02-05T19:44:46.020014Z",
     "start_time": "2018-02-05T19:44:46.010748Z"
    }
   },
   "outputs": [],
   "source": [
    "def load_mol2(filename, name=None, add_tripos=True):\n",
    "    ifs = oemolistream()\n",
    "    if not ifs.open(filename):\n",
    "        print(f'Unable to open {filename} for reading...')\n",
    "    for mol in ifs.GetOEMols():\n",
    "        if add_tripos:\n",
    "            OETriposAtomNames(mol)\n",
    "        if name:\n",
    "            mol.SetTitle(name)\n",
    "    return mol"
   ]
  },
  {
   "cell_type": "code",
   "execution_count": 25,
   "metadata": {
    "ExecuteTime": {
     "end_time": "2018-02-05T19:44:46.782438Z",
     "start_time": "2018-02-05T19:44:46.778881Z"
    },
    "collapsed": true
   },
   "outputs": [],
   "source": [
    "host = load_mol2('original/bcd-sybyl.mol2', name='bcd', add_tripos=False)"
   ]
  },
  {
   "cell_type": "code",
   "execution_count": 26,
   "metadata": {
    "ExecuteTime": {
     "end_time": "2018-02-05T19:44:47.325692Z",
     "start_time": "2018-02-05T19:44:47.322711Z"
    },
    "collapsed": true
   },
   "outputs": [],
   "source": [
    "guest = load_mol2('original/ben-sybyl.mol2', name='ben', add_tripos=False)"
   ]
  },
  {
   "cell_type": "code",
   "execution_count": 27,
   "metadata": {
    "ExecuteTime": {
     "end_time": "2018-02-05T19:44:47.709466Z",
     "start_time": "2018-02-05T19:44:47.706734Z"
    },
    "collapsed": true
   },
   "outputs": [],
   "source": [
    "molecules = [host, guest]"
   ]
  },
  {
   "cell_type": "markdown",
   "metadata": {},
   "source": [
    "Now, I'm going to add water and ions to the molecules list."
   ]
  },
  {
   "cell_type": "code",
   "execution_count": 28,
   "metadata": {
    "ExecuteTime": {
     "end_time": "2018-02-05T19:44:48.570540Z",
     "start_time": "2018-02-05T19:44:48.553919Z"
    }
   },
   "outputs": [],
   "source": [
    "def add_waters_and_ions():\n",
    "    smiles = ['[Na+]', '[Cl-]', 'O']\n",
    "    molecules = []\n",
    "    for molecule in smiles:\n",
    "        molecules.append(process_smiles(molecule))\n",
    "    return molecules\n",
    "\n",
    "def process_smiles(string, name=None, add_hydrogens=True, add_tripos=True):\n",
    "    mol = OEMol()\n",
    "    OESmilesToMol(mol, string)\n",
    "    if add_hydrogens:\n",
    "        OEAddExplicitHydrogens(mol)\n",
    "    if add_tripos:\n",
    "        OETriposAtomNames(mol)\n",
    "    if name:\n",
    "        mol.SetTitle(name)\n",
    "    return mol"
   ]
  },
  {
   "cell_type": "code",
   "execution_count": 29,
   "metadata": {
    "ExecuteTime": {
     "end_time": "2018-02-05T19:44:49.021070Z",
     "start_time": "2018-02-05T19:44:49.018093Z"
    }
   },
   "outputs": [],
   "source": [
    "water_and_ions = add_waters_and_ions()"
   ]
  },
  {
   "cell_type": "code",
   "execution_count": 30,
   "metadata": {
    "ExecuteTime": {
     "end_time": "2018-02-05T19:44:49.468779Z",
     "start_time": "2018-02-05T19:44:49.466375Z"
    },
    "collapsed": true
   },
   "outputs": [],
   "source": [
    "molecules += water_and_ions"
   ]
  },
  {
   "cell_type": "markdown",
   "metadata": {
    "ExecuteTime": {
     "end_time": "2018-02-05T19:19:48.836351Z",
     "start_time": "2018-02-05T19:19:48.825433Z"
    }
   },
   "source": [
    "# Add charges (?)"
   ]
  },
  {
   "cell_type": "code",
   "execution_count": 33,
   "metadata": {
    "ExecuteTime": {
     "end_time": "2018-02-05T19:44:55.116389Z",
     "start_time": "2018-02-05T19:44:55.113812Z"
    }
   },
   "outputs": [],
   "source": [
    "tmp = molecules[0]"
   ]
  },
  {
   "cell_type": "code",
   "execution_count": 34,
   "metadata": {
    "ExecuteTime": {
     "end_time": "2018-02-05T19:44:55.492929Z",
     "start_time": "2018-02-05T19:44:55.483224Z"
    }
   },
   "outputs": [
    {
     "ename": "AttributeError",
     "evalue": "'NoneType' object has no attribute 'GetPartialCharge'",
     "output_type": "error",
     "traceback": [
      "\u001b[0;31m---------------------------------------------------------------------------\u001b[0m",
      "\u001b[0;31mAttributeError\u001b[0m                            Traceback (most recent call last)",
      "\u001b[0;32m<ipython-input-34-31a8f9f1ea92>\u001b[0m in \u001b[0;36m<module>\u001b[0;34m()\u001b[0m\n\u001b[0;32m----> 1\u001b[0;31m \u001b[0mtmp\u001b[0m\u001b[0;34m.\u001b[0m\u001b[0mGetAtom\u001b[0m\u001b[0;34m(\u001b[0m\u001b[0mOEHasAtomIdx\u001b[0m\u001b[0;34m(\u001b[0m\u001b[0;36m1\u001b[0m\u001b[0;34m)\u001b[0m\u001b[0;34m)\u001b[0m\u001b[0;34m.\u001b[0m\u001b[0mGetPartialCharge\u001b[0m\u001b[0;34m(\u001b[0m\u001b[0;34m)\u001b[0m\u001b[0;34m\u001b[0m\u001b[0m\n\u001b[0m",
      "\u001b[0;31mAttributeError\u001b[0m: 'NoneType' object has no attribute 'GetPartialCharge'"
     ]
    }
   ],
   "source": [
    "tmp.GetAtom(OEHasAtomIdx(1)).GetPartialCharge()"
   ]
  },
  {
   "cell_type": "code",
   "execution_count": 38,
   "metadata": {
    "ExecuteTime": {
     "end_time": "2018-02-05T19:45:18.798726Z",
     "start_time": "2018-02-05T19:45:18.795025Z"
    }
   },
   "outputs": [
    {
     "data": {
      "text/plain": [
       "0"
      ]
     },
     "execution_count": 38,
     "metadata": {},
     "output_type": "execute_result"
    }
   ],
   "source": [
    "tmp.GetMaxAtomIdx()"
   ]
  },
  {
   "cell_type": "code",
   "execution_count": 40,
   "metadata": {
    "ExecuteTime": {
     "end_time": "2018-02-05T19:45:34.909947Z",
     "start_time": "2018-02-05T19:45:34.907345Z"
    },
    "collapsed": true
   },
   "outputs": [],
   "source": [
    "tmp.GetAtom(OEHasAtomIdx(10))"
   ]
  },
  {
   "cell_type": "code",
   "execution_count": null,
   "metadata": {
    "collapsed": true
   },
   "outputs": [],
   "source": []
  }
 ],
 "metadata": {
  "kernelspec": {
   "display_name": "Python [conda env:openforcefield]",
   "language": "python",
   "name": "conda-env-openforcefield-py"
  },
  "language_info": {
   "codemirror_mode": {
    "name": "ipython",
    "version": 3
   },
   "file_extension": ".py",
   "mimetype": "text/x-python",
   "name": "python",
   "nbconvert_exporter": "python",
   "pygments_lexer": "ipython3",
   "version": "3.6.1"
  }
 },
 "nbformat": 4,
 "nbformat_minor": 2
}
