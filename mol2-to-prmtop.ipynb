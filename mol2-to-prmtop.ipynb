{
 "cells": [
  {
   "cell_type": "code",
   "execution_count": 161,
   "metadata": {
    "ExecuteTime": {
     "end_time": "2018-02-05T22:23:19.559698Z",
     "start_time": "2018-02-05T22:23:19.518707Z"
    }
   },
   "outputs": [],
   "source": [
    "import numpy as np\n",
    "import subprocess as sp\n",
    "from openeye.oechem import *\n",
    "\n",
    "from openforcefield.typing.engines.smirnoff import *\n",
    "from pdbfixer import PDBFixer"
   ]
  },
  {
   "cell_type": "markdown",
   "metadata": {},
   "source": [
    "# Load molecules into a list of `OEMol`s"
   ]
  },
  {
   "cell_type": "markdown",
   "metadata": {},
   "source": [
    "I'm going to start by loading the host and guest SYBYL-formatted `mol2` files into a list of `OEMol`s. I created these SYBYL-formatted files from files containing AM1-BCC charges and GAFF v1.7 Lennard-Jones and bonded parameters:\n",
    "\n",
    "```\n",
    "antechamber -i bcd.mol2 -fi mol2 -o bcd-sybyl.mol2 -fo mol2 -at sybyl\n",
    "antechamber -i ben.mol2 -fi mol2 -o ben-sybyl.mol2 -fo mol2 -at sybyl -dr n \n",
    "# Disable `acdoctor` to handle carboxylate group\n",
    "```\n",
    "\n",
    "I think it should be possible to read in GAFF-formatted files directly, using a specific forcefield flavor, but I don't see the relvant flavor listed in their [documentation](https://docs.eyesopen.com/toolkits/python/oechemtk/molreadwrite.html#section-molreadwrite-flavoredinputandoutput). A search for \"GAFF\" comes up empty (except for one blog post). If I try to load the GAFF files without any special flavor, I get many things with atom type \"Du,\" which I surmise to be a dummy atom type. I believe this can be remedied by running the files through `OETriposAtomNames`, but it is another thing that could go wrong, so for these reasons, I believe it is more straight-forward to simply start with standard atom names."
   ]
  },
  {
   "cell_type": "code",
   "execution_count": 219,
   "metadata": {
    "ExecuteTime": {
     "end_time": "2018-02-05T23:02:10.475471Z",
     "start_time": "2018-02-05T23:02:10.463272Z"
    }
   },
   "outputs": [],
   "source": [
    "def load_mol2(filename, name=None, add_tripos=True):\n",
    "    ifs = oemolistream()\n",
    "    molecules = []\n",
    "    if not ifs.open(filename):\n",
    "        print(f'Unable to open {filename} for reading...')\n",
    "    for mol in ifs.GetOEMols():\n",
    "        if add_tripos:\n",
    "            OETriposAtomNames(mol)\n",
    "        if name:\n",
    "            mol.SetTitle(name)\n",
    "        # Add all the molecules in this file to a list, but only return the first one.\n",
    "        molecules.append(OEMol(mol))\n",
    "    return molecules[0]"
   ]
  },
  {
   "cell_type": "markdown",
   "metadata": {},
   "source": [
    "Even though we have properly formatted files, with unique atom names in each residue (there are seven residues in this host), if we don't call `OETriposAtomNames`, then we get `Exception: Error: Reference molecule must have unique atom names in order to create a Topology.` when trying to define the `System`."
   ]
  },
  {
   "cell_type": "code",
   "execution_count": 220,
   "metadata": {
    "ExecuteTime": {
     "end_time": "2018-02-05T23:02:10.758630Z",
     "start_time": "2018-02-05T23:02:10.754237Z"
    }
   },
   "outputs": [],
   "source": [
    "host = load_mol2('original/bcd-sybyl.mol2', name='MGO', add_tripos=True)"
   ]
  },
  {
   "cell_type": "code",
   "execution_count": 221,
   "metadata": {
    "ExecuteTime": {
     "end_time": "2018-02-05T23:02:10.917991Z",
     "start_time": "2018-02-05T23:02:10.911022Z"
    },
    "collapsed": true
   },
   "outputs": [],
   "source": [
    "def check_unique_atom_names(molecule):\n",
    "    atoms = molecule.GetMaxAtomIdx()\n",
    "    atom_names = set()\n",
    "    for atom in range(atoms):\n",
    "        atom_names.add(molecule.GetAtom(OEHasAtomIdx(atom)).GetName())\n",
    "    print(f'{atoms} atoms in structure, {len(atom_names)} unique atom names.')\n",
    "    assert atoms == len(atom_names)"
   ]
  },
  {
   "cell_type": "code",
   "execution_count": 222,
   "metadata": {
    "ExecuteTime": {
     "end_time": "2018-02-05T23:02:11.162186Z",
     "start_time": "2018-02-05T23:02:11.071830Z"
    }
   },
   "outputs": [
    {
     "name": "stdout",
     "output_type": "stream",
     "text": [
      "147 atoms in structure, 147 unique atom names.\n"
     ]
    }
   ],
   "source": [
    "check_unique_atom_names(host)"
   ]
  },
  {
   "cell_type": "code",
   "execution_count": 223,
   "metadata": {
    "ExecuteTime": {
     "end_time": "2018-02-05T23:02:11.409837Z",
     "start_time": "2018-02-05T23:02:11.406859Z"
    },
    "collapsed": true
   },
   "outputs": [],
   "source": [
    "guest = load_mol2('original/ben-sybyl.mol2', name='BEN', add_tripos=False)"
   ]
  },
  {
   "cell_type": "code",
   "execution_count": 224,
   "metadata": {
    "ExecuteTime": {
     "end_time": "2018-02-05T23:02:12.216348Z",
     "start_time": "2018-02-05T23:02:12.213372Z"
    },
    "collapsed": true
   },
   "outputs": [],
   "source": [
    "molecules = [host, guest]"
   ]
  },
  {
   "cell_type": "markdown",
   "metadata": {},
   "source": [
    "Now, I'm going to add water and ions to the molecules list."
   ]
  },
  {
   "cell_type": "code",
   "execution_count": 225,
   "metadata": {
    "ExecuteTime": {
     "end_time": "2018-02-05T23:02:13.179910Z",
     "start_time": "2018-02-05T23:02:13.137461Z"
    }
   },
   "outputs": [],
   "source": [
    "def add_waters_and_ions():\n",
    "    smiles = ['[Na+]', '[Cl-]', 'O']\n",
    "    molecules = []\n",
    "    for molecule in smiles:\n",
    "        molecules.append(process_smiles(molecule))\n",
    "    return molecules\n",
    "\n",
    "def process_smiles(string, name=None, add_hydrogens=True, add_tripos=True, charge=True):\n",
    "    mol = OEMol()\n",
    "    OESmilesToMol(mol, string)\n",
    "    if add_hydrogens:\n",
    "        OEAddExplicitHydrogens(mol)\n",
    "    if add_tripos:\n",
    "        OETriposAtomNames(mol)\n",
    "    if charge:\n",
    "        for atom in mol.GetAtoms():\n",
    "            atom.SetPartialCharge(atom.GetFormalCharge())\n",
    "    if name:\n",
    "        mol.SetTitle(name)\n",
    "    return mol"
   ]
  },
  {
   "cell_type": "code",
   "execution_count": 226,
   "metadata": {
    "ExecuteTime": {
     "end_time": "2018-02-05T23:02:13.311593Z",
     "start_time": "2018-02-05T23:02:13.298366Z"
    }
   },
   "outputs": [],
   "source": [
    "water_and_ions = add_waters_and_ions()"
   ]
  },
  {
   "cell_type": "code",
   "execution_count": 227,
   "metadata": {
    "ExecuteTime": {
     "end_time": "2018-02-05T23:02:13.452686Z",
     "start_time": "2018-02-05T23:02:13.439259Z"
    },
    "collapsed": true
   },
   "outputs": [],
   "source": [
    "molecules += water_and_ions"
   ]
  },
  {
   "cell_type": "markdown",
   "metadata": {},
   "source": [
    "At this point, the molecules have been converted to `OEMol`s and they have charges, but the coordinates are not set. We could use a docking procedure like [this](https://github.com/openforcefield/openforcefield/blob/master/examples/host_guest_simulation/smirnoff_host_guest.ipynb) to set the position of the host and guest, or we could take the coordinates from an existing fully solvated system. I'm going to attempt the latter approach, because in general, we are not going to want to use a docking calculation to provide the coordinates for intermediate attach-pull-relase windows, where the host and guest are not  closely bound to each other."
   ]
  },
  {
   "cell_type": "markdown",
   "metadata": {},
   "source": [
    "# Read in (existing) coordinates to set the positions of the `OEMol`s"
   ]
  },
  {
   "cell_type": "code",
   "execution_count": 197,
   "metadata": {
    "ExecuteTime": {
     "end_time": "2018-02-05T22:57:57.071368Z",
     "start_time": "2018-02-05T22:57:56.930215Z"
    }
   },
   "outputs": [],
   "source": [
    "def create_pdb_with_conect(solvated_pdb, amber_prmtop, output_pdb, path='./'):\n",
    "    \"\"\"\n",
    "    Create a PDB file containing CONECT records.\n",
    "    This is not very robust, please manually check the `cpptraj` output.\n",
    "    `cpptraj` must be in your PATH.\n",
    "    Parameters\n",
    "    ----------\n",
    "    solvated_pdb : str\n",
    "        Existing solvated structure from e.g., Mobley's Benchmark Sets repository\n",
    "    amber_prmtop : str\n",
    "        AMBER (or other) parameters for the residues in the solvated PDB file\n",
    "    output_pdb : str\n",
    "        Output PDB file name\n",
    "    path : str\n",
    "        Directory for input and output files\n",
    "    \"\"\"\n",
    "    cpptraj = \\\n",
    "    f'''\n",
    "    parm {amber_prmtop}\n",
    "    trajin {solvated_pdb}\n",
    "    trajout {output_pdb} conect\n",
    "    '''\n",
    "\n",
    "    cpptraj_input = output_pdb + '.in'\n",
    "    cpptraj_output = output_pdb + '.out'\n",
    "\n",
    "    with open(path + cpptraj_input, 'w') as file:\n",
    "        file.write(cpptraj)\n",
    "    with open(path + cpptraj_output, 'w') as file:\n",
    "        p = sp.Popen(['cpptraj', '-i', cpptraj_input], cwd=path,\n",
    "                     stdout=file, stderr=file)\n",
    "        output, error = p.communicate()\n",
    "    if p.returncode == 0:\n",
    "        print('PDB file written by cpptraj.')\n",
    "    elif p.returncode == 1:\n",
    "        print('Error returned by cpptraj.')\n",
    "        print(f'Output: {output}')\n",
    "        print(f'Error: {error}')\n",
    "    else:\n",
    "        print(f'Output: {output}')\n",
    "        print(f'Error: {error}')\n",
    "\n",
    "\n",
    "def prune_conect(input_pdb, output_pdb, path='./'):\n",
    "    \"\"\"\n",
    "    Delete CONECT records that correspond only to water molecules.\n",
    "    This is necessary to be standards-compliant.\n",
    "    This is not very robust.\n",
    "    Parameters\n",
    "    ----------\n",
    "    input_pdb : str\n",
    "        Input PDB file name\n",
    "    output_pdb : str\n",
    "        Output PDB file name\n",
    "    path : str\n",
    "        Directory for input and output files\n",
    "    \"\"\"\n",
    "    p = sp.Popen(['grep', '-m 1', 'WAT', input_pdb], cwd=path, stdout=sp.PIPE)\n",
    "    for line in p.stdout:\n",
    "        first_water_residue = int(float(line.decode(\"utf-8\").split()[1]))\n",
    "        print(f'First water residue = {first_water_residue}')\n",
    "\n",
    "    p = sp.Popen(['egrep', '-n', f'CONECT [ ]* {first_water_residue}', input_pdb],\n",
    "                 cwd=path, stdout=sp.PIPE)\n",
    "    for line in p.stdout:\n",
    "        line_to_delete_from = int(float(line.decode(\"utf-8\").split(':')[0]))\n",
    "        print(f'Found first water CONECT entry at line = {line_to_delete_from}')\n",
    "\n",
    "    with open(path + output_pdb, 'w') as file:\n",
    "        sp.Popen(\n",
    "         ['awk', f'NR < {line_to_delete_from}', input_pdb], cwd=path, stdout=file)\n",
    "\n",
    "        sp.Popen(['echo', 'END'], cwd=path, stdout=file)"
   ]
  },
  {
   "cell_type": "code",
   "execution_count": 198,
   "metadata": {
    "ExecuteTime": {
     "end_time": "2018-02-05T22:57:57.508888Z",
     "start_time": "2018-02-05T22:57:57.455698Z"
    }
   },
   "outputs": [
    {
     "name": "stdout",
     "output_type": "stream",
     "text": [
      "PDB file written by cpptraj.\n"
     ]
    }
   ],
   "source": [
    "create_pdb_with_conect('original/solvated.inpcrd', 'original/solvated.prmtop', 'generated/solvated.pdb')"
   ]
  },
  {
   "cell_type": "code",
   "execution_count": 199,
   "metadata": {
    "ExecuteTime": {
     "end_time": "2018-02-05T22:57:57.906046Z",
     "start_time": "2018-02-05T22:57:57.871394Z"
    }
   },
   "outputs": [
    {
     "name": "stdout",
     "output_type": "stream",
     "text": [
      "First water residue = 175\n",
      "Found first water CONECT entry at line = 9192\n"
     ]
    }
   ],
   "source": [
    "prune_conect('generated/solvated.pdb', 'generated/solvated_conect.pdb')"
   ]
  },
  {
   "cell_type": "code",
   "execution_count": 200,
   "metadata": {
    "ExecuteTime": {
     "end_time": "2018-02-05T22:57:59.012749Z",
     "start_time": "2018-02-05T22:57:58.401027Z"
    },
    "collapsed": true
   },
   "outputs": [],
   "source": [
    "fixer = PDBFixer('generated/solvated_conect.pdb')"
   ]
  },
  {
   "cell_type": "markdown",
   "metadata": {
    "ExecuteTime": {
     "end_time": "2018-02-05T22:24:03.683720Z",
     "start_time": "2018-02-05T22:24:03.680260Z"
    }
   },
   "source": [
    "# Setup the force field and create an OpenMM `System` with the topology and molecules"
   ]
  },
  {
   "cell_type": "markdown",
   "metadata": {},
   "source": [
    "One suggestion to get rid of the error `AttributeError: 'NoneType' object has no attribute 'used'` when trying to save the `System` as a `prmtop` from @swails is to use `rigidWater=False`: https://github.com/ParmEd/ParmEd/issues/930. In this case, it does not alleviate the issue, but leaving it on here does not seem to have any deleterious effects at the moment."
   ]
  },
  {
   "cell_type": "code",
   "execution_count": 233,
   "metadata": {
    "ExecuteTime": {
     "end_time": "2018-02-05T23:10:45.009772Z",
     "start_time": "2018-02-05T23:10:42.944283Z"
    }
   },
   "outputs": [],
   "source": [
    "ff = ForceField('forcefield/smirnoff99Frosst.ffxml', 'forcefield/tip3p.ffxml') \n",
    "system = ff.createSystem(fixer.topology, molecules, \n",
    "                         nonbondedMethod=PME, \n",
    "                         nonbondedCutoff=1.1*unit.nanometer, \n",
    "                         ewaldErrorTolerance=1e-4,\n",
    "                         rigidWater=False)"
   ]
  },
  {
   "cell_type": "markdown",
   "metadata": {},
   "source": [
    "At this point, we should be able to run a simulation with SMIRNOFF99Frosst in OpenMM. Let's do a quick check."
   ]
  },
  {
   "cell_type": "code",
   "execution_count": 234,
   "metadata": {
    "ExecuteTime": {
     "end_time": "2018-02-05T23:10:47.261512Z",
     "start_time": "2018-02-05T23:10:45.951917Z"
    }
   },
   "outputs": [
    {
     "name": "stdout",
     "output_type": "stream",
     "text": [
      "Energy before minimization (kcal/mol): 2.4e+03\n",
      "Energy after minimization (kcal/mol): -2.2e+03\n"
     ]
    }
   ],
   "source": [
    "integrator = openmm.VerletIntegrator(2.0*unit.femtoseconds)\n",
    "simulation = app.Simulation(fixer.topology, system, integrator)\n",
    "simulation.context.setPositions(fixer.positions) \n",
    "\n",
    "state = simulation.context.getState(getEnergy = True)\n",
    "energy = state.getPotentialEnergy() / unit.kilocalories_per_mole\n",
    "print(\"Energy before minimization (kcal/mol): %.2g\" % energy)\n",
    "\n",
    "simulation.minimizeEnergy()\n",
    "state = simulation.context.getState(getEnergy=True, getPositions=True)\n",
    "energy = state.getPotentialEnergy() / unit.kilocalories_per_mole\n",
    "print(\"Energy after minimization (kcal/mol): %.2g\" % energy)"
   ]
  },
  {
   "cell_type": "markdown",
   "metadata": {},
   "source": [
    "# Export the topology, system, and coordinates to AMBER files"
   ]
  },
  {
   "cell_type": "code",
   "execution_count": 243,
   "metadata": {
    "ExecuteTime": {
     "end_time": "2018-02-05T23:33:44.386461Z",
     "start_time": "2018-02-05T23:33:44.383512Z"
    },
    "collapsed": true
   },
   "outputs": [],
   "source": [
    "import parmed as pmd"
   ]
  },
  {
   "cell_type": "code",
   "execution_count": 244,
   "metadata": {
    "ExecuteTime": {
     "end_time": "2018-02-05T23:33:45.706844Z",
     "start_time": "2018-02-05T23:33:44.655894Z"
    },
    "collapsed": true
   },
   "outputs": [],
   "source": [
    "structure = pmd.openmm.topsystem.load_topology(fixer.topology, system, fixer.positions)"
   ]
  },
  {
   "cell_type": "code",
   "execution_count": 237,
   "metadata": {
    "ExecuteTime": {
     "end_time": "2018-02-05T23:11:14.920414Z",
     "start_time": "2018-02-05T23:10:50.897915Z"
    }
   },
   "outputs": [
    {
     "ename": "AttributeError",
     "evalue": "'NoneType' object has no attribute 'used'",
     "output_type": "error",
     "traceback": [
      "\u001b[0;31m---------------------------------------------------------------------------\u001b[0m",
      "\u001b[0;31mAttributeError\u001b[0m                            Traceback (most recent call last)",
      "\u001b[0;32m<ipython-input-237-55afb428deb0>\u001b[0m in \u001b[0;36m<module>\u001b[0;34m()\u001b[0m\n\u001b[0;32m----> 1\u001b[0;31m \u001b[0mstructure\u001b[0m\u001b[0;34m.\u001b[0m\u001b[0msave\u001b[0m\u001b[0;34m(\u001b[0m\u001b[0;34m'generated/solvated_smirnoff.prmtop'\u001b[0m\u001b[0;34m)\u001b[0m\u001b[0;34m\u001b[0m\u001b[0m\n\u001b[0m",
      "\u001b[0;32m~/data/applications/anaconda3/envs/openforcefield/lib/python3.6/site-packages/parmed/structure.py\u001b[0m in \u001b[0;36msave\u001b[0;34m(self, fname, format, overwrite, **kwargs)\u001b[0m\n\u001b[1;32m   1531\u001b[0m                 \u001b[0;32melse\u001b[0m\u001b[0;34m:\u001b[0m\u001b[0;34m\u001b[0m\u001b[0m\n\u001b[1;32m   1532\u001b[0m                     \u001b[0;32mtry\u001b[0m\u001b[0;34m:\u001b[0m\u001b[0;34m\u001b[0m\u001b[0m\n\u001b[0;32m-> 1533\u001b[0;31m                         \u001b[0ms\u001b[0m \u001b[0;34m=\u001b[0m \u001b[0mamber\u001b[0m\u001b[0;34m.\u001b[0m\u001b[0mAmberParm\u001b[0m\u001b[0;34m.\u001b[0m\u001b[0mfrom_structure\u001b[0m\u001b[0;34m(\u001b[0m\u001b[0mself\u001b[0m\u001b[0;34m)\u001b[0m\u001b[0;34m\u001b[0m\u001b[0m\n\u001b[0m\u001b[1;32m   1534\u001b[0m                     \u001b[0;32mexcept\u001b[0m \u001b[0mTypeError\u001b[0m \u001b[0;32mas\u001b[0m \u001b[0me\u001b[0m\u001b[0;34m:\u001b[0m\u001b[0;34m\u001b[0m\u001b[0m\n\u001b[1;32m   1535\u001b[0m                         \u001b[0;32mif\u001b[0m \u001b[0;34m'Cannot translate exceptions'\u001b[0m \u001b[0;32min\u001b[0m \u001b[0mstr\u001b[0m\u001b[0;34m(\u001b[0m\u001b[0me\u001b[0m\u001b[0;34m)\u001b[0m\u001b[0;34m:\u001b[0m\u001b[0;34m\u001b[0m\u001b[0m\n",
      "\u001b[0;32m~/data/applications/anaconda3/envs/openforcefield/lib/python3.6/site-packages/parmed/amber/_amberparm.py\u001b[0m in \u001b[0;36mfrom_structure\u001b[0;34m(cls, struct, copy)\u001b[0m\n\u001b[1;32m    381\u001b[0m                 \u001b[0mdt\u001b[0m\u001b[0;34m.\u001b[0m\u001b[0mphi_k\u001b[0m \u001b[0;34m=\u001b[0m \u001b[0;36m0.0\u001b[0m\u001b[0;34m\u001b[0m\u001b[0m\n\u001b[1;32m    382\u001b[0m                 \u001b[0mdt\u001b[0m\u001b[0;34m.\u001b[0m\u001b[0mper\u001b[0m \u001b[0;34m=\u001b[0m \u001b[0;36m1.0\u001b[0m\u001b[0;34m\u001b[0m\u001b[0m\n\u001b[0;32m--> 383\u001b[0;31m         \u001b[0minst\u001b[0m\u001b[0;34m.\u001b[0m\u001b[0mremake_parm\u001b[0m\u001b[0;34m(\u001b[0m\u001b[0;34m)\u001b[0m\u001b[0;34m\u001b[0m\u001b[0m\n\u001b[0m\u001b[1;32m    384\u001b[0m         \u001b[0minst\u001b[0m\u001b[0;34m.\u001b[0m\u001b[0m_set_nonbonded_tables\u001b[0m\u001b[0;34m(\u001b[0m\u001b[0mnbfixes\u001b[0m\u001b[0;34m)\u001b[0m\u001b[0;34m\u001b[0m\u001b[0m\n\u001b[1;32m    385\u001b[0m         \u001b[0mn_copy\u001b[0m \u001b[0;34m=\u001b[0m \u001b[0minst\u001b[0m\u001b[0;34m.\u001b[0m\u001b[0mpointers\u001b[0m\u001b[0;34m.\u001b[0m\u001b[0mget\u001b[0m\u001b[0;34m(\u001b[0m\u001b[0;34m'NCOPY'\u001b[0m\u001b[0;34m,\u001b[0m \u001b[0;36m1\u001b[0m\u001b[0;34m)\u001b[0m\u001b[0;34m\u001b[0m\u001b[0m\n",
      "\u001b[0;32m~/data/applications/anaconda3/envs/openforcefield/lib/python3.6/site-packages/parmed/amber/_amberparm.py\u001b[0m in \u001b[0;36mremake_parm\u001b[0;34m(self)\u001b[0m\n\u001b[1;32m    678\u001b[0m         \u001b[0mself\u001b[0m\u001b[0;34m.\u001b[0m\u001b[0m_xfer_atom_info\u001b[0m\u001b[0;34m(\u001b[0m\u001b[0;34m)\u001b[0m\u001b[0;34m\u001b[0m\u001b[0m\n\u001b[1;32m    679\u001b[0m         \u001b[0mself\u001b[0m\u001b[0;34m.\u001b[0m\u001b[0m_xfer_residue_info\u001b[0m\u001b[0;34m(\u001b[0m\u001b[0;34m)\u001b[0m\u001b[0;34m\u001b[0m\u001b[0m\n\u001b[0;32m--> 680\u001b[0;31m         \u001b[0mself\u001b[0m\u001b[0;34m.\u001b[0m\u001b[0m_xfer_bond_info\u001b[0m\u001b[0;34m(\u001b[0m\u001b[0;34m)\u001b[0m\u001b[0;34m\u001b[0m\u001b[0m\n\u001b[0m\u001b[1;32m    681\u001b[0m         \u001b[0mself\u001b[0m\u001b[0;34m.\u001b[0m\u001b[0m_xfer_angle_info\u001b[0m\u001b[0;34m(\u001b[0m\u001b[0;34m)\u001b[0m\u001b[0;34m\u001b[0m\u001b[0m\n\u001b[1;32m    682\u001b[0m         \u001b[0mself\u001b[0m\u001b[0;34m.\u001b[0m\u001b[0m_xfer_dihedral_info\u001b[0m\u001b[0;34m(\u001b[0m\u001b[0;34m)\u001b[0m\u001b[0;34m\u001b[0m\u001b[0m\n",
      "\u001b[0;32m~/data/applications/anaconda3/envs/openforcefield/lib/python3.6/site-packages/parmed/amber/_amberparm.py\u001b[0m in \u001b[0;36m_xfer_bond_info\u001b[0;34m(self)\u001b[0m\n\u001b[1;32m   1559\u001b[0m             \u001b[0mbond_type\u001b[0m\u001b[0;34m.\u001b[0m\u001b[0mused\u001b[0m \u001b[0;34m=\u001b[0m \u001b[0;32mFalse\u001b[0m\u001b[0;34m\u001b[0m\u001b[0m\n\u001b[1;32m   1560\u001b[0m         \u001b[0;32mfor\u001b[0m \u001b[0mbond\u001b[0m \u001b[0;32min\u001b[0m \u001b[0mself\u001b[0m\u001b[0;34m.\u001b[0m\u001b[0mbonds\u001b[0m\u001b[0;34m:\u001b[0m\u001b[0;34m\u001b[0m\u001b[0m\n\u001b[0;32m-> 1561\u001b[0;31m             \u001b[0mbond\u001b[0m\u001b[0;34m.\u001b[0m\u001b[0mtype\u001b[0m\u001b[0;34m.\u001b[0m\u001b[0mused\u001b[0m \u001b[0;34m=\u001b[0m \u001b[0;32mTrue\u001b[0m\u001b[0;34m\u001b[0m\u001b[0m\n\u001b[0m\u001b[1;32m   1562\u001b[0m         \u001b[0mself\u001b[0m\u001b[0;34m.\u001b[0m\u001b[0mbond_types\u001b[0m\u001b[0;34m.\u001b[0m\u001b[0mprune_unused\u001b[0m\u001b[0;34m(\u001b[0m\u001b[0;34m)\u001b[0m\u001b[0;34m\u001b[0m\u001b[0m\n\u001b[1;32m   1563\u001b[0m         \u001b[0mdata\u001b[0m\u001b[0;34m[\u001b[0m\u001b[0;34m'BOND_FORCE_CONSTANT'\u001b[0m\u001b[0;34m]\u001b[0m \u001b[0;34m=\u001b[0m \u001b[0;34m[\u001b[0m\u001b[0mtype\u001b[0m\u001b[0;34m.\u001b[0m\u001b[0mk\u001b[0m \u001b[0;32mfor\u001b[0m \u001b[0mtype\u001b[0m \u001b[0;32min\u001b[0m \u001b[0mself\u001b[0m\u001b[0;34m.\u001b[0m\u001b[0mbond_types\u001b[0m\u001b[0;34m]\u001b[0m\u001b[0;34m\u001b[0m\u001b[0m\n",
      "\u001b[0;31mAttributeError\u001b[0m: 'NoneType' object has no attribute 'used'"
     ]
    }
   ],
   "source": [
    "structure.save('generated/solvated_smirnoff.prmtop')"
   ]
  },
  {
   "cell_type": "markdown",
   "metadata": {},
   "source": [
    "We see that there is still an issue with bond types, so @swails followed up with the suggestion of assigning these bonds to a dummy bond type and then later constraining them during the simulation. This does work to allow us to save the files, at least."
   ]
  },
  {
   "cell_type": "code",
   "execution_count": 245,
   "metadata": {
    "ExecuteTime": {
     "end_time": "2018-02-05T23:34:47.270187Z",
     "start_time": "2018-02-05T23:34:47.263772Z"
    }
   },
   "outputs": [],
   "source": [
    "bond_type = pmd.BondType(1.0, 1.0, list=structure.bond_types)\n",
    "structure.bond_types.append(bond_type)\n",
    "for bond in structure.bonds:\n",
    "    if bond.type is None:\n",
    "        bond.type = bond_type"
   ]
  },
  {
   "cell_type": "code",
   "execution_count": 249,
   "metadata": {
    "ExecuteTime": {
     "end_time": "2018-02-05T23:35:29.830702Z",
     "start_time": "2018-02-05T23:35:29.824875Z"
    }
   },
   "outputs": [
    {
     "name": "stdout",
     "output_type": "stream",
     "text": [
      "File exists...\n"
     ]
    }
   ],
   "source": [
    "try:\n",
    "    structure.save('generated/solvated_smirnoff.prmtop')\n",
    "except OSError:\n",
    "    print('File exists...')\n",
    "    pass"
   ]
  },
  {
   "cell_type": "code",
   "execution_count": 251,
   "metadata": {
    "ExecuteTime": {
     "end_time": "2018-02-05T23:35:44.788751Z",
     "start_time": "2018-02-05T23:35:44.784407Z"
    }
   },
   "outputs": [
    {
     "name": "stdout",
     "output_type": "stream",
     "text": [
      "File exists...\n"
     ]
    }
   ],
   "source": [
    "try:\n",
    "    structure.save('generated/solvated_smirnoff.inpcrd')\n",
    "except OSError:\n",
    "    print('File exists...')\n",
    "    pass"
   ]
  },
  {
   "cell_type": "code",
   "execution_count": 252,
   "metadata": {
    "ExecuteTime": {
     "end_time": "2018-02-05T23:36:01.862977Z",
     "start_time": "2018-02-05T23:36:01.858578Z"
    }
   },
   "outputs": [
    {
     "name": "stdout",
     "output_type": "stream",
     "text": [
      "File exists...\n"
     ]
    }
   ],
   "source": [
    "try:\n",
    "    structure.save('generated/solvated_smirnoff.mol2')\n",
    "except OSError:\n",
    "    print('File exists...')\n",
    "    pass"
   ]
  },
  {
   "cell_type": "markdown",
   "metadata": {},
   "source": [
    "A few observations...\n",
    "\n",
    "- The generated `prmtop` file is huge (1.1G)\n",
    "- There are no charges on the waters (because they don't have a formal charge, set above)\n",
    "- The generated `mol2` file has numeric atom types"
   ]
  },
  {
   "cell_type": "code",
   "execution_count": null,
   "metadata": {
    "collapsed": true
   },
   "outputs": [],
   "source": []
  }
 ],
 "metadata": {
  "kernelspec": {
   "display_name": "Python [conda env:openforcefield]",
   "language": "python",
   "name": "conda-env-openforcefield-py"
  },
  "language_info": {
   "codemirror_mode": {
    "name": "ipython",
    "version": 3
   },
   "file_extension": ".py",
   "mimetype": "text/x-python",
   "name": "python",
   "nbconvert_exporter": "python",
   "pygments_lexer": "ipython3",
   "version": "3.6.1"
  }
 },
 "nbformat": 4,
 "nbformat_minor": 2
}
