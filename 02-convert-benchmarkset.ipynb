{
 "cells": [
  {
   "cell_type": "markdown",
   "metadata": {},
   "source": [
    "# Convert a host-guest pair from `https://github.com/MobleyLab/benchmarksets/`"
   ]
  },
  {
   "cell_type": "markdown",
   "metadata": {},
   "source": [
    "The basic strategy is going to be:\n",
    "0. Download the host-guest file from GitHub, so we know we are starting fresh.\n",
    "1. Create a PDB with proper `CONECT` records.\n",
    "2. Split the PDB into separate topologies, starting by extracting the host and guest.\n",
    "3. Use the host and guest topologies to create `mol2` files (with SYBYL atom types) for the host and guest.\n",
    "4. Extract the dummy atoms, water, and ions into a separate PDB -- we'll come back to these later.\n",
    "4. Read the host and guest `mol2` files into a list of `OEMol`s.\n",
    "5. Then, use the list of `OEMol`s to create an OpenMM system.\n",
    "6. Convert the OpenMM system into a ParmEd structure, so we can merge the host and guest with water and ions."
   ]
  },
  {
   "cell_type": "code",
   "execution_count": 87,
   "metadata": {},
   "outputs": [
    {
     "name": "stdout",
     "output_type": "stream",
     "text": [
      "The autoreload extension is already loaded. To reload it, use:\n",
      "  %reload_ext autoreload\n"
     ]
    }
   ],
   "source": [
    "%load_ext autoreload\n",
    "%autoreload 2\n",
    "\n",
    "import os as os\n",
    "import urllib.request\n",
    "\n",
    "import parmed as pmd\n",
    "\n",
    "from openforcefield.typing.engines.smirnoff import ForceField, unit\n",
    "from openforcefield.utils import mergeStructure\n",
    "\n",
    "from utils import (create_pdb_with_conect, prune_conect)\n",
    "from utils import (split_topology, create_host_guest_topology)\n",
    "from utils import (create_host_mol2, convert_mol2_to_sybyl_antechamber)\n",
    "from utils import (load_mol2, check_unique_atom_names)\n",
    "from utils import (check_bond_lengths)\n",
    "from utils import (extract_water_and_ions, create_water_and_ions_parameters)"
   ]
  },
  {
   "cell_type": "markdown",
   "metadata": {},
   "source": [
    "## Step 1: process the input files"
   ]
  },
  {
   "cell_type": "markdown",
   "metadata": {},
   "source": [
    "First, let's specify the input data."
   ]
  },
  {
   "cell_type": "code",
   "execution_count": 61,
   "metadata": {},
   "outputs": [],
   "source": [
    "test_case = 'cb7-1/'\n",
    "destination = './tests/' + test_case\n",
    "host_resname = 'CB7'\n",
    "guest_resname = 'MOL'"
   ]
  },
  {
   "cell_type": "markdown",
   "metadata": {},
   "source": [
    "Next, let's specify the output and intermediate files."
   ]
  },
  {
   "cell_type": "markdown",
   "metadata": {},
   "source": [
    "First, let's download a fresh host-guest example from David Mobley's `benchmarksets` GitHub repository."
   ]
  },
  {
   "cell_type": "code",
   "execution_count": 76,
   "metadata": {},
   "outputs": [],
   "source": [
    "if not os.path.exists(destination):\n",
    "    os.makedirs(destination)\n",
    "    \n",
    "request = urllib.request.urlretrieve(\"https://rawgit.com/MobleyLab/benchmarksets/master/input_files/cb7-set1/prmtop-rst7/cb7-1.prmtop\", destination + \"cb7-1.prmtop\")\n",
    "request = urllib.request.urlretrieve(\"https://rawgit.com/MobleyLab/benchmarksets/master/input_files/cb7-set1/prmtop-rst7/cb7-1.rst7\", destination + \"cb7-1.rst7\")"
   ]
  },
  {
   "cell_type": "markdown",
   "metadata": {},
   "source": [
    "Next, we'll create a proper PDB from these AMBER files, and delete the `CONECT` records that are solvent-solvent."
   ]
  },
  {
   "cell_type": "code",
   "execution_count": 63,
   "metadata": {},
   "outputs": [],
   "source": [
    "create_pdb_with_conect(solvated_pdb=destination + 'cb7-1.rst7',\n",
    "                      amber_prmtop=destination + 'cb7-1.prmtop',\n",
    "                      output_pdb=destination + 'cb7-1.pdb')"
   ]
  },
  {
   "cell_type": "code",
   "execution_count": 64,
   "metadata": {},
   "outputs": [],
   "source": [
    "prune_conect(input_pdb='cb7-1.pdb',\n",
    "            output_pdb='cb7-1.pruned.pdb',\n",
    "            path=destination)"
   ]
  },
  {
   "cell_type": "markdown",
   "metadata": {},
   "source": [
    "We'll split the PDB into separate topology objects, and extract the host-guest topology for now."
   ]
  },
  {
   "cell_type": "code",
   "execution_count": 65,
   "metadata": {},
   "outputs": [],
   "source": [
    "components = split_topology(file_name=destination + 'cb7-1.pruned.pdb')\n",
    "hg_topology = create_host_guest_topology(components, host_resname=host_resname, guest_resname=guest_resname)"
   ]
  },
  {
   "cell_type": "markdown",
   "metadata": {},
   "source": [
    "We'll also need to create `mol2` files **with SYBYL atom types** for the host and guest, that we can use later."
   ]
  },
  {
   "cell_type": "code",
   "execution_count": 75,
   "metadata": {},
   "outputs": [],
   "source": [
    "create_host_mol2(\n",
    "    solvated_pdb=destination + 'cb7-1.pruned.pdb',\n",
    "    amber_prmtop=destination + 'cb7-1.prmtop',\n",
    "    mask=host_resname,\n",
    "    output_mol2=destination + host_resname + '.mol2')\n",
    "\n",
    "create_host_mol2(\n",
    "    solvated_pdb=destination + 'cb7-1.pruned.pdb',\n",
    "    amber_prmtop=destination + 'cb7-1.prmtop',\n",
    "    mask=guest_resname,\n",
    "    output_mol2=destination + guest_resname + '.mol2')\n",
    "\n",
    "convert_mol2_to_sybyl_antechamber(\n",
    "    input_mol2=destination + host_resname + '.mol2',\n",
    "    output_mol2=destination + host_resname + '-sybyl.mol2',\n",
    "    ac_doctor=False)\n",
    "\n",
    "convert_mol2_to_sybyl_antechamber(\n",
    "    input_mol2=destination + guest_resname + '.mol2',\n",
    "    output_mol2=destination + guest_resname + '-sybyl.mol2',\n",
    "    ac_doctor=True)"
   ]
  },
  {
   "cell_type": "markdown",
   "metadata": {},
   "source": [
    "We also need to separate out the dummy atoms, waters, and ions from the starting AMBER files."
   ]
  },
  {
   "cell_type": "code",
   "execution_count": 81,
   "metadata": {},
   "outputs": [],
   "source": [
    "extract_water_and_ions(\n",
    "    amber_prmtop=destination + 'cb7-1.prmtop',\n",
    "    amber_inpcrd=destination + 'cb7-1.rst7',\n",
    "    host_residue=':' + host_resname,\n",
    "    guest_residue=':' + guest_resname,\n",
    "    dummy_atoms=True,\n",
    "    output_pdb=destination + 'water_ions.pdb')\n",
    "\n",
    "create_water_and_ions_parameters(\n",
    "    input_pdb='water_ions.pdb',\n",
    "    output_prmtop='water_ions.prmtop',\n",
    "    output_inpcrd='water_ions.inpcrd',\n",
    "    dummy_atoms=True,\n",
    "    path=destination)"
   ]
  },
  {
   "cell_type": "markdown",
   "metadata": {},
   "source": [
    "## Step 2: load in the files we just created"
   ]
  },
  {
   "cell_type": "code",
   "execution_count": 82,
   "metadata": {},
   "outputs": [],
   "source": [
    "host = load_mol2(\n",
    "    filename=destination + host_resname + '-sybyl.mol2',\n",
    "    name=host_resname,\n",
    "    add_tripos=True)\n",
    "\n",
    "guest = load_mol2(\n",
    "    filename=destination + guest_resname + '-sybyl.mol2',\n",
    "    name=guest_resname,\n",
    "    add_tripos=False)\n",
    "\n",
    "check_unique_atom_names(host)\n",
    "check_unique_atom_names(guest)\n",
    "molecules = [host, guest]"
   ]
  },
  {
   "cell_type": "markdown",
   "metadata": {},
   "source": [
    "## Create an OpenMM system"
   ]
  },
  {
   "cell_type": "code",
   "execution_count": 83,
   "metadata": {},
   "outputs": [],
   "source": [
    "ff = ForceField('forcefield/smirnoff99Frosst.ffxml')\n",
    "system = ff.createSystem(\n",
    "    hg_topology.topology,\n",
    "    molecules,\n",
    "    nonbondedCutoff=1.1 * unit.nanometer,\n",
    "    ewaldErrorTolerance=1e-4)"
   ]
  },
  {
   "cell_type": "markdown",
   "metadata": {},
   "source": [
    "## Create a ParmEd system and check for bad bonds"
   ]
  },
  {
   "cell_type": "code",
   "execution_count": 84,
   "metadata": {},
   "outputs": [
    {
     "name": "stdout",
     "output_type": "stream",
     "text": [
      "Check if the host-guest parameter file already exists...\n",
      "Check if the host-guest coordinate file already exists...\n"
     ]
    }
   ],
   "source": [
    "hg_structure = pmd.openmm.topsystem.load_topology(\n",
    "    hg_topology.topology, system, hg_topology.positions)\n",
    "\n",
    "check_bond_lengths(hg_structure, threshold=4)\n",
    "\n",
    "try:\n",
    "    hg_structure.save(destination + 'hg.prmtop')\n",
    "except OSError:\n",
    "    print(\n",
    "        'Check if the host-guest parameter file already exists...')\n",
    "\n",
    "try:\n",
    "    hg_structure.save(destination + 'hg.inpcrd')\n",
    "except OSError:\n",
    "    print(\n",
    "        'Check if the host-guest coordinate file already exists...')"
   ]
  },
  {
   "cell_type": "markdown",
   "metadata": {},
   "source": [
    "## Load the water and ions into a ParmEd structure"
   ]
  },
  {
   "cell_type": "code",
   "execution_count": 85,
   "metadata": {},
   "outputs": [],
   "source": [
    "water_and_ions = pmd.amber.AmberParm(\n",
    "    destination + 'water_ions.prmtop',\n",
    "    xyz=destination + 'water_ions.inpcrd')"
   ]
  },
  {
   "cell_type": "markdown",
   "metadata": {},
   "source": [
    "Now, let's merge the host-guest structure with the dummy atoms, the waters, and the ions."
   ]
  },
  {
   "cell_type": "code",
   "execution_count": 90,
   "metadata": {},
   "outputs": [
    {
     "name": "stdout",
     "output_type": "stream",
     "text": [
      "Check if solvated parameter file already exists...\n",
      "Check if solvated coordinate file already exists...\n"
     ]
    }
   ],
   "source": [
    "merged = mergeStructure(hg_structure, water_and_ions)\n",
    "\n",
    "try:\n",
    "    merged.save(destination_directory + destination_top)\n",
    "except:\n",
    "    print('Check if solvated parameter file already exists...')\n",
    "try:\n",
    "    merged.save(destination_directory + destination_crd)\n",
    "except:\n",
    "    print('Check if solvated coordinate file already exists...')\n"
   ]
  },
  {
   "cell_type": "markdown",
   "metadata": {},
   "source": [
    "Now, we should be done!"
   ]
  },
  {
   "cell_type": "code",
   "execution_count": 92,
   "metadata": {},
   "outputs": [],
   "source": [
    "merged.box"
   ]
  },
  {
   "cell_type": "code",
   "execution_count": null,
   "metadata": {},
   "outputs": [],
   "source": []
  }
 ],
 "metadata": {
  "kernelspec": {
   "display_name": "Python [conda env:smirnoff-host-guest]",
   "language": "python",
   "name": "conda-env-smirnoff-host-guest-py"
  },
  "language_info": {
   "codemirror_mode": {
    "name": "ipython",
    "version": 3
   },
   "file_extension": ".py",
   "mimetype": "text/x-python",
   "name": "python",
   "nbconvert_exporter": "python",
   "pygments_lexer": "ipython3",
   "version": "3.6.4"
  }
 },
 "nbformat": 4,
 "nbformat_minor": 2
}
