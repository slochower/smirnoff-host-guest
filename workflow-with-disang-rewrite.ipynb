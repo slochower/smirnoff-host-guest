{
 "cells": [
  {
   "cell_type": "markdown",
   "metadata": {},
   "source": [
    "# Test conversion on Niel's alpha-cyldextrin bound to 1-butylamine[+1] file!\n",
    "```\n",
    "/data/nhenriksen/projects/cds/wat6/bgbg-tip3p/a-bam-p/a00\n",
    "```"
   ]
  },
  {
   "cell_type": "code",
   "execution_count": 77,
   "metadata": {
    "ExecuteTime": {
     "end_time": "2018-02-23T22:51:19.166137Z",
     "start_time": "2018-02-23T22:51:19.075596Z"
    }
   },
   "outputs": [
    {
     "name": "stdout",
     "output_type": "stream",
     "text": [
      "The autoreload extension is already loaded. To reload it, use:\n",
      "  %reload_ext autoreload\n"
     ]
    }
   ],
   "source": [
    "%load_ext autoreload\n",
    "%autoreload 2\n",
    "\n",
    "import numpy as np\n",
    "import subprocess as sp\n",
    "\n",
    "from openeye.oechem import *\n",
    "from openforcefield.typing.engines.smirnoff import *\n",
    "from openforcefield.utils import mergeStructure\n",
    "import parmed as pmd\n",
    "\n",
    "from utils import create_pdb_with_conect, prune_conect\n",
    "from utils import split_topology, create_host_guest_topology\n",
    "from utils import create_host_mol2, convert_mol2_to_sybyl_antechamber\n",
    "from utils import load_mol2, check_unique_atom_names, load_pdb\n",
    "from utils import extract_water_and_ions, create_water_and_ions_parameters\n",
    "from utils import check_bond_lengths\n",
    "from utils import extract_dummy_atoms, create_dummy_atom_parameters\n",
    "from utils import map_residues, map_atoms\n",
    "from utils import copy_box_vectors\n",
    "from utils import rewrite_restraints_file, rewrite_amber_input_file\n",
    "from utils import color_restraints"
   ]
  },
  {
   "cell_type": "markdown",
   "metadata": {},
   "source": [
    "# Create a standards-compliant PDB..."
   ]
  },
  {
   "cell_type": "code",
   "execution_count": 78,
   "metadata": {
    "ExecuteTime": {
     "end_time": "2018-02-23T18:14:55.090883Z",
     "start_time": "2018-02-23T18:14:54.986051Z"
    }
   },
   "outputs": [
    {
     "name": "stdout",
     "output_type": "stream",
     "text": [
      "PDB file written by cpptraj.\n",
      "First water residue = 160\n",
      "Found first water CONECT entry at line = 8322\n"
     ]
    }
   ],
   "source": [
    "create_pdb_with_conect(solvated_pdb='original/a-bam-p/full.crds', \n",
    "                       amber_prmtop='original/a-bam-p/full.topo', \n",
    "                       output_pdb='generated/a-bam-p/full.pdb')\n",
    "prune_conect(input_pdb='full.pdb', \n",
    "             output_pdb='full_conect.pdb', \n",
    "             path='generated/a-bam-p/')"
   ]
  },
  {
   "cell_type": "markdown",
   "metadata": {},
   "source": [
    "# Split the PDB into components and generate a topology for each of them..."
   ]
  },
  {
   "cell_type": "code",
   "execution_count": 79,
   "metadata": {
    "ExecuteTime": {
     "end_time": "2018-02-23T18:14:57.288649Z",
     "start_time": "2018-02-23T18:14:55.093506Z"
    }
   },
   "outputs": [],
   "source": [
    "components = split_topology(file_name='generated/a-bam-p/full.pdb')\n",
    "hg_topology = create_host_guest_topology(components, host_resname='MGO', guest_resname='BAM')"
   ]
  },
  {
   "cell_type": "markdown",
   "metadata": {},
   "source": [
    "# Load each topology component (from `mol2`) into separate `OEMol`s..."
   ]
  },
  {
   "cell_type": "code",
   "execution_count": 80,
   "metadata": {
    "ExecuteTime": {
     "end_time": "2018-02-23T18:14:57.343741Z",
     "start_time": "2018-02-23T18:14:57.290649Z"
    }
   },
   "outputs": [
    {
     "name": "stdout",
     "output_type": "stream",
     "text": [
      "21 atoms in structure, 21 unique atom names.\n",
      "17 atoms in structure, 17 unique atom names.\n"
     ]
    }
   ],
   "source": [
    "host = load_mol2(filename='original/a-bam-p/MGO.mol2', \n",
    "                 name='MGO', \n",
    "                 add_tripos=True)\n",
    "guest = load_mol2(filename='original/a-bam-p/bam.mol2', \n",
    "                  name='BAM', \n",
    "                  add_tripos=False)\n",
    "check_unique_atom_names(host)\n",
    "check_unique_atom_names(guest)\n",
    "molecules = [host, guest]"
   ]
  },
  {
   "cell_type": "markdown",
   "metadata": {},
   "source": [
    "# Polymerize the host molecule and make sure there are *unique* atom types for every atom in the host..."
   ]
  },
  {
   "cell_type": "code",
   "execution_count": 81,
   "metadata": {
    "ExecuteTime": {
     "end_time": "2018-02-23T18:14:57.468755Z",
     "start_time": "2018-02-23T18:14:57.346121Z"
    }
   },
   "outputs": [
    {
     "name": "stdout",
     "output_type": "stream",
     "text": [
      "MOL2 file written by cpptraj.\n"
     ]
    }
   ],
   "source": [
    "create_host_mol2('generated/a-bam-p/full.pdb', 'original/a-bam-p/full.topo', 'MGO', 'generated/a-bam-p/MGO.mol2')"
   ]
  },
  {
   "cell_type": "code",
   "execution_count": 82,
   "metadata": {
    "ExecuteTime": {
     "end_time": "2018-02-23T22:52:09.799416Z",
     "start_time": "2018-02-23T22:52:09.762094Z"
    }
   },
   "outputs": [
    {
     "name": "stdout",
     "output_type": "stream",
     "text": [
      "MOL2 file written by antechamber.\n"
     ]
    }
   ],
   "source": [
    "convert_mol2_to_sybyl_antechamber('generated/a-bam-p/MGO.mol2', 'generated/a-bam-p/MGO-sybyl.mol2', ac_doctor=True)"
   ]
  },
  {
   "cell_type": "code",
   "execution_count": 83,
   "metadata": {
    "ExecuteTime": {
     "end_time": "2018-02-23T22:52:14.275969Z",
     "start_time": "2018-02-23T22:52:14.241892Z"
    }
   },
   "outputs": [
    {
     "name": "stdout",
     "output_type": "stream",
     "text": [
      "126 atoms in structure, 126 unique atom names.\n",
      "17 atoms in structure, 17 unique atom names.\n"
     ]
    }
   ],
   "source": [
    "host = load_mol2(filename='generated/a-bam-p/MGO-sybyl.mol2', \n",
    "                 name='MGO', \n",
    "                 add_tripos=True)\n",
    "guest = load_mol2(filename='original/a-bam-p/bam.mol2', \n",
    "                  name='BAM', \n",
    "                  add_tripos=False)\n",
    "check_unique_atom_names(host)\n",
    "check_unique_atom_names(guest)\n",
    "molecules = [host, guest]"
   ]
  },
  {
   "cell_type": "markdown",
   "metadata": {},
   "source": [
    "# Parameterize the host and guest with SMIRNOFF99Frosst..."
   ]
  },
  {
   "cell_type": "code",
   "execution_count": 84,
   "metadata": {
    "ExecuteTime": {
     "end_time": "2018-02-23T22:52:18.733758Z",
     "start_time": "2018-02-23T22:52:18.049597Z"
    }
   },
   "outputs": [],
   "source": [
    "ff = ForceField('forcefield/smirnoff99Frosst.ffxml') \n",
    "system = ff.createSystem(hg_topology.topology, molecules,\n",
    "                         nonbondedCutoff=1.1*unit.nanometer, \n",
    "                         ewaldErrorTolerance=1e-4\n",
    "                         )"
   ]
  },
  {
   "cell_type": "markdown",
   "metadata": {},
   "source": [
    "# Convert the parameterized system in a ParmEd structure -- now with the SMIRNOFF99Frosst parameters..."
   ]
  },
  {
   "cell_type": "code",
   "execution_count": 85,
   "metadata": {
    "ExecuteTime": {
     "end_time": "2018-02-23T22:52:20.062184Z",
     "start_time": "2018-02-23T22:52:19.969169Z"
    }
   },
   "outputs": [],
   "source": [
    "hg_structure = pmd.openmm.topsystem.load_topology(hg_topology.topology, system, hg_topology.positions)"
   ]
  },
  {
   "cell_type": "code",
   "execution_count": 86,
   "metadata": {},
   "outputs": [
    {
     "name": "stdout",
     "output_type": "stream",
     "text": [
      "Structure looks good.\n"
     ]
    }
   ],
   "source": [
    "check_bond_lengths(hg_structure, threshold=4)"
   ]
  },
  {
   "cell_type": "markdown",
   "metadata": {},
   "source": [
    "# ...and save this as an AMBER-format `prmtop` and `inpcrd`..."
   ]
  },
  {
   "cell_type": "code",
   "execution_count": 87,
   "metadata": {
    "ExecuteTime": {
     "end_time": "2018-02-23T18:14:58.770333Z",
     "start_time": "2018-02-23T18:14:58.464067Z"
    }
   },
   "outputs": [
    {
     "name": "stdout",
     "output_type": "stream",
     "text": [
      "Check if the file already exists...\n"
     ]
    }
   ],
   "source": [
    "try:\n",
    "    hg_structure.save('generated/a-bam-p/hg.prmtop')\n",
    "except OSError:\n",
    "    print('Check if the file already exists...')"
   ]
  },
  {
   "cell_type": "code",
   "execution_count": 88,
   "metadata": {
    "ExecuteTime": {
     "end_time": "2018-02-23T18:14:58.796657Z",
     "start_time": "2018-02-23T18:14:58.772102Z"
    }
   },
   "outputs": [
    {
     "name": "stdout",
     "output_type": "stream",
     "text": [
      "Check if the file already exists...\n"
     ]
    }
   ],
   "source": [
    "try:\n",
    "    hg_structure.save('generated/a-bam-p/hg.inpcrd')\n",
    "except OSError:\n",
    "    print('Check if the file already exists...')"
   ]
  },
  {
   "cell_type": "markdown",
   "metadata": {},
   "source": [
    "# Use the original AMBER files to extract the waters and ions (and dummy atoms) and then parameterize those with GAFF or something else..."
   ]
  },
  {
   "cell_type": "code",
   "execution_count": 89,
   "metadata": {
    "ExecuteTime": {
     "end_time": "2018-02-23T18:14:58.927173Z",
     "start_time": "2018-02-23T18:14:58.798280Z"
    }
   },
   "outputs": [
    {
     "name": "stdout",
     "output_type": "stream",
     "text": [
      "Water and ion PDB file written by cpptraj.\n"
     ]
    }
   ],
   "source": [
    "extract_water_and_ions(amber_prmtop='original/a-bam-p/full.topo',\n",
    "                      amber_inpcrd='original/a-bam-p/full.crds',\n",
    "                      host_residue=':MGO',\n",
    "                      guest_residue=':BAM',\n",
    "                      dummy=None,\n",
    "                      output_pdb='generated/a-bam-p/water_ions.pdb')"
   ]
  },
  {
   "cell_type": "code",
   "execution_count": 90,
   "metadata": {
    "ExecuteTime": {
     "end_time": "2018-02-23T18:14:59.340454Z",
     "start_time": "2018-02-23T18:14:58.929034Z"
    }
   },
   "outputs": [
    {
     "name": "stdout",
     "output_type": "stream",
     "text": [
      "Writing dummy atom `frcmod`.\n",
      "Writing dummy atom `mol2`.\n",
      "Water and ion parameters and coordinates written by tleap.\n"
     ]
    }
   ],
   "source": [
    "create_water_and_ions_parameters(input_pdb='water_ions.pdb',\n",
    "                                output_prmtop='water_ions.prmtop',\n",
    "                                output_inpcrd='water_ions.inpcrd',\n",
    "                                dummy_atoms=True,\n",
    "                                path='generated/a-bam-p/')"
   ]
  },
  {
   "cell_type": "markdown",
   "metadata": {},
   "source": [
    "# Load those parameters and coordinates into a ParmEd structure... and merge with the host-guest ParmEd structure..."
   ]
  },
  {
   "cell_type": "code",
   "execution_count": 91,
   "metadata": {
    "ExecuteTime": {
     "end_time": "2018-02-23T18:14:59.708262Z",
     "start_time": "2018-02-23T18:14:59.342463Z"
    }
   },
   "outputs": [],
   "source": [
    "water_and_ions = pmd.amber.AmberParm('generated/a-bam-p/water_ions.prmtop', xyz='generated/a-bam-p/water_ions.inpcrd')"
   ]
  },
  {
   "cell_type": "code",
   "execution_count": 92,
   "metadata": {
    "ExecuteTime": {
     "end_time": "2018-02-23T18:15:00.217912Z",
     "start_time": "2018-02-23T18:14:59.709918Z"
    }
   },
   "outputs": [],
   "source": [
    "merged = mergeStructure(hg_structure, water_and_ions)"
   ]
  },
  {
   "cell_type": "code",
   "execution_count": 93,
   "metadata": {
    "ExecuteTime": {
     "end_time": "2018-02-23T18:15:02.789437Z",
     "start_time": "2018-02-23T18:15:00.219599Z"
    }
   },
   "outputs": [],
   "source": [
    "try:\n",
    "    merged.save('generated/a-bam-p/solvated_smirnoff.prmtop')\n",
    "    merged.save('generated/a-bam-p/solvated_smirnoff.inpcrd')\n",
    "except:\n",
    "    print('Check if file exists...')"
   ]
  },
  {
   "cell_type": "markdown",
   "metadata": {},
   "source": [
    "# Now, because we lumped the dummy atoms with the water and ions, they are no longer at the beginning of the coordinate file (if we extract the dummy atoms, then [ParmEd can't merge](https://github.com/ParmEd/ParmEd/issues/952) the structures). Thus, we need to remap all restraints to new atom and residue indices..."
   ]
  },
  {
   "cell_type": "markdown",
   "metadata": {},
   "source": [
    "However, we need to do the *atom* mapping on a `mol2` file and the *residue* mapping on a `pdb` file -- where we can specifically choose to *not* ignore dummy atoms -- otherwise the graph is not isomorphic..."
   ]
  },
  {
   "cell_type": "code",
   "execution_count": 94,
   "metadata": {
    "ExecuteTime": {
     "end_time": "2018-02-23T18:15:04.316576Z",
     "start_time": "2018-02-23T18:15:02.791026Z"
    }
   },
   "outputs": [
    {
     "name": "stdout",
     "output_type": "stream",
     "text": [
      "Check if file exists...\n",
      "Check if file exists...\n"
     ]
    }
   ],
   "source": [
    "reference = pmd.load_file('original/a-bam-p/full.topo', 'original/a-bam-p/full.crds')\n",
    "try:\n",
    "    reference.save('generated/a-bam-p/reference.pdb')\n",
    "    reference.save('generated/a-bam-p/reference.mol2')\n",
    "except OSError:\n",
    "    print('Check if file exists...')\n",
    "target = pmd.load_file('generated/a-bam-p/solvated_smirnoff.prmtop', 'generated/a-bam-p/solvated_smirnoff.inpcrd')\n",
    "try:\n",
    "    target.save('generated/a-bam-p/target.pdb')\n",
    "    target.save('generated/a-bam-p/target.mol2')\n",
    "except OSError:\n",
    "    print('Check if file exists...')"
   ]
  },
  {
   "cell_type": "code",
   "execution_count": 95,
   "metadata": {
    "ExecuteTime": {
     "end_time": "2018-02-23T18:15:04.470736Z",
     "start_time": "2018-02-23T18:15:04.318212Z"
    }
   },
   "outputs": [],
   "source": [
    "reference_mol = load_mol2('generated/a-bam-p/reference.mol2')\n",
    "target_mol = load_mol2('generated/a-bam-p/target.mol2')"
   ]
  },
  {
   "cell_type": "code",
   "execution_count": 96,
   "metadata": {
    "ExecuteTime": {
     "end_time": "2018-02-23T18:15:59.503690Z",
     "start_time": "2018-02-23T18:15:04.473398Z"
    }
   },
   "outputs": [
    {
     "name": "stdout",
     "output_type": "stream",
     "text": [
      "Determining mapping...\n"
     ]
    }
   ],
   "source": [
    "atom_mapping = map_atoms(reference_mol, target_mol)"
   ]
  },
  {
   "cell_type": "code",
   "execution_count": 97,
   "metadata": {
    "ExecuteTime": {
     "end_time": "2018-02-23T18:16:01.007152Z",
     "start_time": "2018-02-23T18:16:00.830824Z"
    }
   },
   "outputs": [],
   "source": [
    "reference_mol = load_pdb('generated/a-bam-p/reference.pdb')\n",
    "target_mol = load_pdb('generated/a-bam-p/target.pdb')"
   ]
  },
  {
   "cell_type": "code",
   "execution_count": 98,
   "metadata": {
    "ExecuteTime": {
     "end_time": "2018-02-23T18:16:02.383056Z",
     "start_time": "2018-02-23T18:16:01.009325Z"
    }
   },
   "outputs": [],
   "source": [
    "residue_mapping = map_residues(atom_mapping, reference_mol, target_mol)"
   ]
  },
  {
   "cell_type": "markdown",
   "metadata": {},
   "source": [
    "# Now let's copy over the minimization input file, and replace the residue indices of the positional restraints..."
   ]
  },
  {
   "cell_type": "code",
   "execution_count": 99,
   "metadata": {
    "ExecuteTime": {
     "end_time": "2018-02-23T20:38:27.526902Z",
     "start_time": "2018-02-23T20:38:27.502913Z"
    }
   },
   "outputs": [
    {
     "name": "stdout",
     "output_type": "stream",
     "text": [
      "[\"':1-3\", '|', ':10@C4', '|', \":10@N1',\"] → ':8-10 | :7@C4 | :7@N1',\n"
     ]
    }
   ],
   "source": [
    "rewrite_amber_input_file(reference_input='original/a-bam-p/therm1.in',\n",
    "                        target_input='generated/a-bam-p/therm1.in',\n",
    "                        reference_to_target_mapping=residue_mapping)"
   ]
  },
  {
   "cell_type": "markdown",
   "metadata": {},
   "source": [
    "# Now let's copy over the restraint file, and replace the atom indices..."
   ]
  },
  {
   "cell_type": "code",
   "execution_count": 100,
   "metadata": {
    "ExecuteTime": {
     "end_time": "2018-02-23T20:16:56.436508Z",
     "start_time": "2018-02-23T20:16:56.382694Z"
    }
   },
   "outputs": [
    {
     "name": "stdout",
     "output_type": "stream",
     "text": [
      "1,13,              → 144,10            \n",
      "2,1,13,            → 145,144,10        \n",
      "3,2,1,13,          → 146,145,144,10    \n",
      "1,13,46,           → 144,10,43         \n",
      "2,1,13,46,         → 145,144,10,43     \n",
      "1,13,46,104,       → 144,10,43,101     \n",
      "1,143,             → 144,140           \n",
      "2,1,143,           → 145,144,140       \n",
      "1,143,130,         → 144,140,127       \n",
      "19,4,6,36,         → 16,1,3,33         \n",
      "40,25,27,57,       → 37,22,24,54       \n",
      "61,46,48,78,       → 58,43,45,75       \n",
      "82,67,69,99,       → 79,64,66,96       \n",
      "103,88,90,120,     → 100,85,87,117     \n",
      "124,109,111,15,    → 121,106,108,12    \n",
      "4,6,36,38,         → 1,3,33,35         \n",
      "25,27,57,59,       → 22,24,54,56       \n",
      "46,48,78,80,       → 43,45,75,77       \n",
      "67,69,99,101,      → 64,66,96,98       \n",
      "88,90,120,122,     → 85,87,117,119     \n",
      "109,111,15,17,     → 106,108,12,14     \n",
      "9,143              → 6,140             \n",
      "23,143             → 20,140            \n",
      "30,143             → 27,140            \n",
      "44,143             → 41,140            \n",
      "51,143             → 48,140            \n",
      "65,143             → 62,140            \n",
      "72,143             → 69,140            \n",
      "86,143             → 83,140            \n",
      "93,143             → 90,140            \n",
      "107,143            → 104,140           \n",
      "114,143            → 111,140           \n",
      "128,143            → 125,140           \n",
      "2,143,130          → 145,140,127       \n"
     ]
    }
   ],
   "source": [
    "rewrite_restraints_file(reference_restraints='original/a-bam-p/disang.rest',\n",
    "                       target_restraints='generated/a-bam-p/disang.rest',\n",
    "                       reference_to_target_mapping=atom_mapping)"
   ]
  },
  {
   "cell_type": "markdown",
   "metadata": {},
   "source": [
    "# Finally, copy over the box dimensions and angles, and we should be good to go..."
   ]
  },
  {
   "cell_type": "code",
   "execution_count": 101,
   "metadata": {
    "ExecuteTime": {
     "end_time": "2018-02-23T18:16:02.771705Z",
     "start_time": "2018-02-23T18:16:02.607125Z"
    }
   },
   "outputs": [],
   "source": [
    "copy_box_vectors(input_inpcrd='original/a-bam-p/full.crds',\n",
    "                output_inpcrd='generated/a-bam-p/solvated_smirnoff.inpcrd')"
   ]
  },
  {
   "cell_type": "markdown",
   "metadata": {
    "ExecuteTime": {
     "end_time": "2018-02-23T20:04:49.551052Z",
     "start_time": "2018-02-23T20:04:49.517590Z"
    }
   },
   "source": [
    "# Check restraints look okay in Chimera"
   ]
  },
  {
   "cell_type": "code",
   "execution_count": 31,
   "metadata": {
    "ExecuteTime": {
     "end_time": "2018-02-23T20:33:34.294216Z",
     "start_time": "2018-02-23T20:33:34.256869Z"
    },
    "scrolled": true
   },
   "outputs": [],
   "source": [
    "color_restraints('original/a-bam-p/disang.rest', color='red',\n",
    "                 suffix='niel', \n",
    "                 md_file='niel.txt',\n",
    "                path='generated/a-bam-p/render-restraints/')"
   ]
  },
  {
   "cell_type": "code",
   "execution_count": 32,
   "metadata": {
    "ExecuteTime": {
     "end_time": "2018-02-23T20:33:34.618889Z",
     "start_time": "2018-02-23T20:33:34.592192Z"
    }
   },
   "outputs": [],
   "source": [
    "color_restraints('generated/a-bam-p/disang.rest', color='blue',\n",
    "                 suffix='dave', \n",
    "                 md_file='dave.txt',\n",
    "                path='generated/a-bam-p/render-restraints/')"
   ]
  },
  {
   "cell_type": "code",
   "execution_count": 103,
   "metadata": {},
   "outputs": [
    {
     "data": {
      "text/plain": [
       "\u001b[0;31mInit signature:\u001b[0m \u001b[0mpmd\u001b[0m\u001b[0;34m.\u001b[0m\u001b[0mtools\u001b[0m\u001b[0;34m.\u001b[0m\u001b[0mHMassRepartition\u001b[0m\u001b[0;34m(\u001b[0m\u001b[0minput_parm\u001b[0m\u001b[0;34m,\u001b[0m \u001b[0marg_list\u001b[0m\u001b[0;34m=\u001b[0m\u001b[0;32mNone\u001b[0m\u001b[0;34m,\u001b[0m \u001b[0;34m*\u001b[0m\u001b[0margs\u001b[0m\u001b[0;34m,\u001b[0m \u001b[0;34m**\u001b[0m\u001b[0mkwargs\u001b[0m\u001b[0;34m)\u001b[0m\u001b[0;34m\u001b[0m\u001b[0m\n",
       "\u001b[0;31mSource:\u001b[0m        \n",
       "\u001b[0;32mclass\u001b[0m \u001b[0mHMassRepartition\u001b[0m\u001b[0;34m(\u001b[0m\u001b[0mAction\u001b[0m\u001b[0;34m)\u001b[0m\u001b[0;34m:\u001b[0m\u001b[0;34m\u001b[0m\n",
       "\u001b[0;34m\u001b[0m    \u001b[0;34m\"\"\"\u001b[0m\n",
       "\u001b[0;34m    This action implements hydrogen mass repartitioning in the system by\u001b[0m\n",
       "\u001b[0;34m    changing the mass of each hydrogen to the desired value (the default new\u001b[0m\n",
       "\u001b[0;34m    hydrogen mass is 3.024 daltons) and adjusting the mass of the atom to which\u001b[0m\n",
       "\u001b[0;34m    it is bonded by the amount required to leave the total mass unchanged. By\u001b[0m\n",
       "\u001b[0;34m    default, water hydrogen masses are unchanged (the SETTLE algorithm for\u001b[0m\n",
       "\u001b[0;34m    implementing constraints on water molecules is analytical). Water masses can\u001b[0m\n",
       "\u001b[0;34m    be repartitioned as well with the 'dowater' keyword.\u001b[0m\n",
       "\u001b[0;34m    \"\"\"\u001b[0m\u001b[0;34m\u001b[0m\n",
       "\u001b[0;34m\u001b[0m    \u001b[0musage\u001b[0m \u001b[0;34m=\u001b[0m \u001b[0;34m'[<mass>] [dowater]'\u001b[0m\u001b[0;34m\u001b[0m\n",
       "\u001b[0;34m\u001b[0m    \u001b[0;32mdef\u001b[0m \u001b[0minit\u001b[0m\u001b[0;34m(\u001b[0m\u001b[0mself\u001b[0m\u001b[0;34m,\u001b[0m \u001b[0marg_list\u001b[0m\u001b[0;34m)\u001b[0m\u001b[0;34m:\u001b[0m\u001b[0;34m\u001b[0m\n",
       "\u001b[0;34m\u001b[0m        \u001b[0mself\u001b[0m\u001b[0;34m.\u001b[0m\u001b[0mchangewater\u001b[0m \u001b[0;34m=\u001b[0m \u001b[0marg_list\u001b[0m\u001b[0;34m.\u001b[0m\u001b[0mhas_key\u001b[0m\u001b[0;34m(\u001b[0m\u001b[0;34m'dowater'\u001b[0m\u001b[0;34m)\u001b[0m\u001b[0;34m\u001b[0m\n",
       "\u001b[0;34m\u001b[0m        \u001b[0mself\u001b[0m\u001b[0;34m.\u001b[0m\u001b[0mnew_h_mass\u001b[0m \u001b[0;34m=\u001b[0m \u001b[0marg_list\u001b[0m\u001b[0;34m.\u001b[0m\u001b[0mget_next_float\u001b[0m\u001b[0;34m(\u001b[0m\u001b[0moptional\u001b[0m\u001b[0;34m=\u001b[0m\u001b[0;32mTrue\u001b[0m\u001b[0;34m,\u001b[0m \u001b[0mdefault\u001b[0m\u001b[0;34m=\u001b[0m\u001b[0;36m3.024\u001b[0m\u001b[0;34m)\u001b[0m\u001b[0;34m\u001b[0m\n",
       "\u001b[0;34m\u001b[0m\u001b[0;34m\u001b[0m\n",
       "\u001b[0;34m\u001b[0m    \u001b[0;32mdef\u001b[0m \u001b[0m__str__\u001b[0m\u001b[0;34m(\u001b[0m\u001b[0mself\u001b[0m\u001b[0;34m)\u001b[0m\u001b[0;34m:\u001b[0m\u001b[0;34m\u001b[0m\n",
       "\u001b[0;34m\u001b[0m        \u001b[0mretstr\u001b[0m \u001b[0;34m=\u001b[0m \u001b[0;34m(\u001b[0m\u001b[0;34m'Repartitioning hydrogen masses to %s daltons. '\u001b[0m \u001b[0;34m%\u001b[0m\u001b[0;34m\u001b[0m\n",
       "\u001b[0;34m\u001b[0m                  \u001b[0mself\u001b[0m\u001b[0;34m.\u001b[0m\u001b[0mnew_h_mass\u001b[0m\u001b[0;34m)\u001b[0m\u001b[0;34m\u001b[0m\n",
       "\u001b[0;34m\u001b[0m        \u001b[0;32mif\u001b[0m \u001b[0mself\u001b[0m\u001b[0;34m.\u001b[0m\u001b[0mchangewater\u001b[0m\u001b[0;34m:\u001b[0m\u001b[0;34m\u001b[0m\n",
       "\u001b[0;34m\u001b[0m            \u001b[0;32mreturn\u001b[0m \u001b[0mretstr\u001b[0m \u001b[0;34m+\u001b[0m \u001b[0;34m'Also changing water hydrogen masses.'\u001b[0m\u001b[0;34m\u001b[0m\n",
       "\u001b[0;34m\u001b[0m        \u001b[0;32mreturn\u001b[0m \u001b[0mretstr\u001b[0m \u001b[0;34m+\u001b[0m \u001b[0;34m'Not changing water hydrogen masses.'\u001b[0m\u001b[0;34m\u001b[0m\n",
       "\u001b[0;34m\u001b[0m\u001b[0;34m\u001b[0m\n",
       "\u001b[0;34m\u001b[0m    \u001b[0;32mdef\u001b[0m \u001b[0mexecute\u001b[0m\u001b[0;34m(\u001b[0m\u001b[0mself\u001b[0m\u001b[0;34m)\u001b[0m\u001b[0;34m:\u001b[0m\u001b[0;34m\u001b[0m\n",
       "\u001b[0;34m\u001b[0m        \u001b[0;31m# Back up the masses in case something goes wrong\u001b[0m\u001b[0;34m\u001b[0m\n",
       "\u001b[0;34m\u001b[0m        \u001b[0moriginal_masses\u001b[0m \u001b[0;34m=\u001b[0m \u001b[0;34m[\u001b[0m\u001b[0matom\u001b[0m\u001b[0;34m.\u001b[0m\u001b[0mmass\u001b[0m \u001b[0;32mfor\u001b[0m \u001b[0matom\u001b[0m \u001b[0;32min\u001b[0m \u001b[0mself\u001b[0m\u001b[0;34m.\u001b[0m\u001b[0mparm\u001b[0m\u001b[0;34m.\u001b[0m\u001b[0matoms\u001b[0m\u001b[0;34m]\u001b[0m\u001b[0;34m\u001b[0m\n",
       "\u001b[0;34m\u001b[0m        \u001b[0mwater\u001b[0m \u001b[0;34m=\u001b[0m \u001b[0mSOLVENT_NAMES\u001b[0m\u001b[0;34m\u001b[0m\n",
       "\u001b[0;34m\u001b[0m        \u001b[0;32mfor\u001b[0m \u001b[0mi\u001b[0m\u001b[0;34m,\u001b[0m \u001b[0matom\u001b[0m \u001b[0;32min\u001b[0m \u001b[0menumerate\u001b[0m\u001b[0;34m(\u001b[0m\u001b[0mself\u001b[0m\u001b[0;34m.\u001b[0m\u001b[0mparm\u001b[0m\u001b[0;34m.\u001b[0m\u001b[0matoms\u001b[0m\u001b[0;34m)\u001b[0m\u001b[0;34m:\u001b[0m\u001b[0;34m\u001b[0m\n",
       "\u001b[0;34m\u001b[0m            \u001b[0;32mif\u001b[0m \u001b[0matom\u001b[0m\u001b[0;34m.\u001b[0m\u001b[0matomic_number\u001b[0m \u001b[0;34m!=\u001b[0m \u001b[0;36m1\u001b[0m\u001b[0;34m:\u001b[0m \u001b[0;32mcontinue\u001b[0m\u001b[0;34m\u001b[0m\n",
       "\u001b[0;34m\u001b[0m            \u001b[0;32mif\u001b[0m \u001b[0;32mnot\u001b[0m \u001b[0mself\u001b[0m\u001b[0;34m.\u001b[0m\u001b[0mchangewater\u001b[0m \u001b[0;32mand\u001b[0m \u001b[0matom\u001b[0m\u001b[0;34m.\u001b[0m\u001b[0mresidue\u001b[0m\u001b[0;34m.\u001b[0m\u001b[0mname\u001b[0m \u001b[0;32min\u001b[0m \u001b[0mwater\u001b[0m\u001b[0;34m:\u001b[0m\u001b[0;34m\u001b[0m\n",
       "\u001b[0;34m\u001b[0m                \u001b[0;32mcontinue\u001b[0m\u001b[0;34m\u001b[0m\n",
       "\u001b[0;34m\u001b[0m            \u001b[0mheteroatom\u001b[0m \u001b[0;34m=\u001b[0m \u001b[0;32mNone\u001b[0m\u001b[0;34m\u001b[0m\n",
       "\u001b[0;34m\u001b[0m            \u001b[0mheteroidx\u001b[0m \u001b[0;34m=\u001b[0m \u001b[0;36m0\u001b[0m\u001b[0;34m\u001b[0m\n",
       "\u001b[0;34m\u001b[0m            \u001b[0mbondeds\u001b[0m \u001b[0;34m=\u001b[0m \u001b[0mlist\u001b[0m\u001b[0;34m(\u001b[0m\u001b[0matom\u001b[0m\u001b[0;34m.\u001b[0m\u001b[0mbond_partners\u001b[0m\u001b[0;34m)\u001b[0m\u001b[0;34m\u001b[0m\n",
       "\u001b[0;34m\u001b[0m            \u001b[0;32mwhile\u001b[0m \u001b[0mheteroidx\u001b[0m \u001b[0;34m<\u001b[0m \u001b[0mlen\u001b[0m\u001b[0;34m(\u001b[0m\u001b[0mbondeds\u001b[0m\u001b[0;34m)\u001b[0m\u001b[0;34m:\u001b[0m\u001b[0;34m\u001b[0m\n",
       "\u001b[0;34m\u001b[0m                \u001b[0;32mif\u001b[0m \u001b[0mbondeds\u001b[0m\u001b[0;34m[\u001b[0m\u001b[0mheteroidx\u001b[0m\u001b[0;34m]\u001b[0m\u001b[0;34m.\u001b[0m\u001b[0matomic_number\u001b[0m \u001b[0;34m!=\u001b[0m \u001b[0;36m1\u001b[0m\u001b[0;34m:\u001b[0m\u001b[0;34m\u001b[0m\n",
       "\u001b[0;34m\u001b[0m                    \u001b[0mheteroatom\u001b[0m \u001b[0;34m=\u001b[0m \u001b[0mbondeds\u001b[0m\u001b[0;34m[\u001b[0m\u001b[0mheteroidx\u001b[0m\u001b[0;34m]\u001b[0m\u001b[0;34m\u001b[0m\n",
       "\u001b[0;34m\u001b[0m                    \u001b[0;32mbreak\u001b[0m\u001b[0;34m\u001b[0m\n",
       "\u001b[0;34m\u001b[0m                \u001b[0mheteroidx\u001b[0m \u001b[0;34m+=\u001b[0m \u001b[0;36m1\u001b[0m\u001b[0;34m\u001b[0m\n",
       "\u001b[0;34m\u001b[0m            \u001b[0;32mif\u001b[0m \u001b[0mheteroatom\u001b[0m \u001b[0;32mis\u001b[0m \u001b[0;32mNone\u001b[0m\u001b[0;34m:\u001b[0m\u001b[0;34m\u001b[0m\n",
       "\u001b[0;34m\u001b[0m                \u001b[0;31m# Only bonded to other hydrogens. Weird, but do not repartition\u001b[0m\u001b[0;34m\u001b[0m\n",
       "\u001b[0;34m\u001b[0m                \u001b[0mwarnings\u001b[0m\u001b[0;34m.\u001b[0m\u001b[0mwarn\u001b[0m\u001b[0;34m(\u001b[0m\u001b[0;34m'H atom detected not bound to heteroatom. '\u001b[0m\u001b[0;34m\u001b[0m\n",
       "\u001b[0;34m\u001b[0m                              \u001b[0;34m'Ignoring.'\u001b[0m\u001b[0;34m,\u001b[0m \u001b[0mParmWarning\u001b[0m\u001b[0;34m)\u001b[0m\u001b[0;34m\u001b[0m\n",
       "\u001b[0;34m\u001b[0m                \u001b[0;32mcontinue\u001b[0m\u001b[0;34m\u001b[0m\n",
       "\u001b[0;34m\u001b[0m            \u001b[0mtransfermass\u001b[0m \u001b[0;34m=\u001b[0m \u001b[0mself\u001b[0m\u001b[0;34m.\u001b[0m\u001b[0mnew_h_mass\u001b[0m \u001b[0;34m-\u001b[0m \u001b[0matom\u001b[0m\u001b[0;34m.\u001b[0m\u001b[0mmass\u001b[0m\u001b[0;34m\u001b[0m\n",
       "\u001b[0;34m\u001b[0m            \u001b[0matom\u001b[0m\u001b[0;34m.\u001b[0m\u001b[0mmass\u001b[0m \u001b[0;34m=\u001b[0m \u001b[0mself\u001b[0m\u001b[0;34m.\u001b[0m\u001b[0mnew_h_mass\u001b[0m\u001b[0;34m\u001b[0m\n",
       "\u001b[0;34m\u001b[0m            \u001b[0mheteroatom\u001b[0m\u001b[0;34m.\u001b[0m\u001b[0mmass\u001b[0m \u001b[0;34m-=\u001b[0m \u001b[0mtransfermass\u001b[0m\u001b[0;34m\u001b[0m\n",
       "\u001b[0;34m\u001b[0m            \u001b[0;32mif\u001b[0m \u001b[0misinstance\u001b[0m\u001b[0;34m(\u001b[0m\u001b[0mself\u001b[0m\u001b[0;34m.\u001b[0m\u001b[0mparm\u001b[0m\u001b[0;34m,\u001b[0m \u001b[0mAmberParm\u001b[0m\u001b[0;34m)\u001b[0m\u001b[0;34m:\u001b[0m\u001b[0;34m\u001b[0m\n",
       "\u001b[0;34m\u001b[0m                \u001b[0mself\u001b[0m\u001b[0;34m.\u001b[0m\u001b[0mparm\u001b[0m\u001b[0;34m.\u001b[0m\u001b[0mparm_data\u001b[0m\u001b[0;34m[\u001b[0m\u001b[0;34m'MASS'\u001b[0m\u001b[0;34m]\u001b[0m\u001b[0;34m[\u001b[0m\u001b[0mi\u001b[0m\u001b[0;34m]\u001b[0m \u001b[0;34m=\u001b[0m \u001b[0mself\u001b[0m\u001b[0;34m.\u001b[0m\u001b[0mnew_h_mass\u001b[0m\u001b[0;34m\u001b[0m\n",
       "\u001b[0;34m\u001b[0m                \u001b[0mself\u001b[0m\u001b[0;34m.\u001b[0m\u001b[0mparm\u001b[0m\u001b[0;34m.\u001b[0m\u001b[0mparm_data\u001b[0m\u001b[0;34m[\u001b[0m\u001b[0;34m'MASS'\u001b[0m\u001b[0;34m]\u001b[0m\u001b[0;34m[\u001b[0m\u001b[0mheteroatom\u001b[0m\u001b[0;34m.\u001b[0m\u001b[0midx\u001b[0m\u001b[0;34m]\u001b[0m \u001b[0;34m-=\u001b[0m \u001b[0mtransfermass\u001b[0m\u001b[0;34m\u001b[0m\n",
       "\u001b[0;34m\u001b[0m\u001b[0;34m\u001b[0m\n",
       "\u001b[0;34m\u001b[0m        \u001b[0;31m# Now make sure that all masses are positive, or revert masses and\u001b[0m\u001b[0;34m\u001b[0m\n",
       "\u001b[0;34m\u001b[0m        \u001b[0;31m# raise an exception\u001b[0m\u001b[0;34m\u001b[0m\n",
       "\u001b[0;34m\u001b[0m        \u001b[0;32mfor\u001b[0m \u001b[0matom\u001b[0m \u001b[0;32min\u001b[0m \u001b[0mself\u001b[0m\u001b[0;34m.\u001b[0m\u001b[0mparm\u001b[0m\u001b[0;34m.\u001b[0m\u001b[0matoms\u001b[0m\u001b[0;34m:\u001b[0m\u001b[0;34m\u001b[0m\n",
       "\u001b[0;34m\u001b[0m            \u001b[0;32mif\u001b[0m \u001b[0matom\u001b[0m\u001b[0;34m.\u001b[0m\u001b[0mmass\u001b[0m \u001b[0;34m<=\u001b[0m \u001b[0;36m0\u001b[0m \u001b[0;32mand\u001b[0m \u001b[0matom\u001b[0m\u001b[0;34m.\u001b[0m\u001b[0matomic_number\u001b[0m \u001b[0;34m>\u001b[0m \u001b[0;36m0\u001b[0m\u001b[0;34m:\u001b[0m\u001b[0;34m\u001b[0m\n",
       "\u001b[0;34m\u001b[0m                \u001b[0;32mfor\u001b[0m \u001b[0mi\u001b[0m\u001b[0;34m,\u001b[0m \u001b[0matom\u001b[0m \u001b[0;32min\u001b[0m \u001b[0menumerate\u001b[0m\u001b[0;34m(\u001b[0m\u001b[0mself\u001b[0m\u001b[0;34m.\u001b[0m\u001b[0mparm\u001b[0m\u001b[0;34m.\u001b[0m\u001b[0matoms\u001b[0m\u001b[0;34m)\u001b[0m\u001b[0;34m:\u001b[0m\u001b[0;34m\u001b[0m\n",
       "\u001b[0;34m\u001b[0m                    \u001b[0matom\u001b[0m\u001b[0;34m.\u001b[0m\u001b[0mmass\u001b[0m \u001b[0;34m=\u001b[0m \u001b[0moriginal_masses\u001b[0m\u001b[0;34m[\u001b[0m\u001b[0mi\u001b[0m\u001b[0;34m]\u001b[0m\u001b[0;34m\u001b[0m\n",
       "\u001b[0;34m\u001b[0m                    \u001b[0;32mif\u001b[0m \u001b[0misinstance\u001b[0m\u001b[0;34m(\u001b[0m\u001b[0mself\u001b[0m\u001b[0;34m.\u001b[0m\u001b[0mparm\u001b[0m\u001b[0;34m,\u001b[0m \u001b[0mAmberParm\u001b[0m\u001b[0;34m)\u001b[0m\u001b[0;34m:\u001b[0m\u001b[0;34m\u001b[0m\n",
       "\u001b[0;34m\u001b[0m                        \u001b[0mself\u001b[0m\u001b[0;34m.\u001b[0m\u001b[0mparm\u001b[0m\u001b[0;34m.\u001b[0m\u001b[0mparm_data\u001b[0m\u001b[0;34m[\u001b[0m\u001b[0;34m'MASS'\u001b[0m\u001b[0;34m]\u001b[0m\u001b[0;34m[\u001b[0m\u001b[0mi\u001b[0m\u001b[0;34m]\u001b[0m \u001b[0;34m=\u001b[0m \u001b[0moriginal_masses\u001b[0m\u001b[0;34m[\u001b[0m\u001b[0mi\u001b[0m\u001b[0;34m]\u001b[0m\u001b[0;34m\u001b[0m\n",
       "\u001b[0;34m\u001b[0m                \u001b[0;32mraise\u001b[0m \u001b[0mHMassRepartitionError\u001b[0m\u001b[0;34m(\u001b[0m\u001b[0;34m'Too much mass removed from atom '\u001b[0m\u001b[0;34m\u001b[0m\n",
       "\u001b[0;34m\u001b[0m                                            \u001b[0;34m'%d. Hydrogen masses must be '\u001b[0m\u001b[0;34m\u001b[0m\n",
       "\u001b[0;34m\u001b[0m                                            \u001b[0;34m'smaller.'\u001b[0m \u001b[0;34m%\u001b[0m \u001b[0mi\u001b[0m\u001b[0;34m)\u001b[0m\u001b[0;34m\u001b[0m\u001b[0m\n",
       "\u001b[0;31mFile:\u001b[0m           ~/data/applications/anaconda3/envs/openforcefield/lib/python3.6/site-packages/parmed/tools/actions.py\n",
       "\u001b[0;31mType:\u001b[0m           ActionType\n"
      ]
     },
     "metadata": {},
     "output_type": "display_data"
    }
   ],
   "source": [
    "pmd.tools.HMassRepartition??"
   ]
  },
  {
   "cell_type": "code",
   "execution_count": 106,
   "metadata": {},
   "outputs": [
    {
     "data": {
      "text/plain": [
       "array([ 38.860523,  39.115493,  56.411969,  90.      ,  90.      ,  90.      ])"
      ]
     },
     "execution_count": 106,
     "metadata": {},
     "output_type": "execute_result"
    }
   ],
   "source": [
    "reference.box"
   ]
  },
  {
   "cell_type": "code",
   "execution_count": 107,
   "metadata": {},
   "outputs": [],
   "source": [
    "target.box"
   ]
  },
  {
   "cell_type": "code",
   "execution_count": 108,
   "metadata": {},
   "outputs": [],
   "source": [
    "target.box = reference.box"
   ]
  },
  {
   "cell_type": "code",
   "execution_count": 109,
   "metadata": {},
   "outputs": [
    {
     "data": {
      "text/plain": [
       "array([ 38.860523,  39.115493,  56.411969,  90.      ,  90.      ,  90.      ])"
      ]
     },
     "execution_count": 109,
     "metadata": {},
     "output_type": "execute_result"
    }
   ],
   "source": [
    "target.box"
   ]
  },
  {
   "cell_type": "code",
   "execution_count": null,
   "metadata": {},
   "outputs": [],
   "source": []
  }
 ],
 "metadata": {
  "kernelspec": {
   "display_name": "Python [conda env:openforcefield]",
   "language": "python",
   "name": "conda-env-openforcefield-py"
  },
  "language_info": {
   "codemirror_mode": {
    "name": "ipython",
    "version": 3
   },
   "file_extension": ".py",
   "mimetype": "text/x-python",
   "name": "python",
   "nbconvert_exporter": "python",
   "pygments_lexer": "ipython3",
   "version": "3.6.1"
  }
 },
 "nbformat": 4,
 "nbformat_minor": 2
}
