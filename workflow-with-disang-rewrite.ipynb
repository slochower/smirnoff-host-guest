{
 "cells": [
  {
   "cell_type": "markdown",
   "metadata": {},
   "source": [
    "# Test conversion on Niel's alpha-cyldextrin bound to 1-butylamine[+1] file!\n",
    "```\n",
    "/data/nhenriksen/projects/cds/wat6/bgbg-tip3p/a-bam-p/a00\n",
    "```"
   ]
  },
  {
   "cell_type": "code",
   "execution_count": 1,
   "metadata": {
    "ExecuteTime": {
     "end_time": "2018-02-23T03:00:04.479825Z",
     "start_time": "2018-02-23T03:00:03.561577Z"
    }
   },
   "outputs": [],
   "source": [
    "%load_ext autoreload\n",
    "%autoreload 2\n",
    "\n",
    "import numpy as np\n",
    "import subprocess as sp\n",
    "\n",
    "from openeye.oechem import *\n",
    "from openforcefield.typing.engines.smirnoff import *\n",
    "from openforcefield.utils import mergeStructure\n",
    "import parmed as pmd\n",
    "\n",
    "from utils import create_pdb_with_conect, prune_conect\n",
    "from utils import split_topology, create_host_guest_topology\n",
    "from utils import create_host_mol2\n",
    "from utils import load_mol2, check_unique_atom_names, load_pdb\n",
    "from utils import extract_water_and_ions, create_water_and_ions_parameters\n",
    "from utils import extract_dummy_atoms, create_dummy_atom_parameters\n",
    "from utils import map_residues, map_atoms\n",
    "from utils import copy_box_vectors\n",
    "from utils import rewrite_restraints_file, rewrite_amber_input_file"
   ]
  },
  {
   "cell_type": "markdown",
   "metadata": {},
   "source": [
    "# Create a standards-compliant PDB..."
   ]
  },
  {
   "cell_type": "code",
   "execution_count": 2,
   "metadata": {
    "ExecuteTime": {
     "end_time": "2018-02-23T03:00:04.568831Z",
     "start_time": "2018-02-23T03:00:04.481435Z"
    }
   },
   "outputs": [
    {
     "name": "stdout",
     "output_type": "stream",
     "text": [
      "PDB file written by cpptraj.\n",
      "First water residue = 160\n",
      "Found first water CONECT entry at line = 8322\n"
     ]
    }
   ],
   "source": [
    "create_pdb_with_conect(solvated_pdb='original/a-bam-p/full.crds', \n",
    "                       amber_prmtop='original/a-bam-p/full.topo', \n",
    "                       output_pdb='generated/a-bam-p/full.pdb')\n",
    "prune_conect(input_pdb='full.pdb', \n",
    "             output_pdb='full_conect.pdb', \n",
    "             path='generated/a-bam-p/')"
   ]
  },
  {
   "cell_type": "markdown",
   "metadata": {},
   "source": [
    "# Split the PDB into components and generate a topology for each of them..."
   ]
  },
  {
   "cell_type": "code",
   "execution_count": 3,
   "metadata": {
    "ExecuteTime": {
     "end_time": "2018-02-23T03:00:06.515748Z",
     "start_time": "2018-02-23T03:00:04.570576Z"
    }
   },
   "outputs": [],
   "source": [
    "components = split_topology(file_name='generated/a-bam-p/full.pdb')\n",
    "hg_topology = create_host_guest_topology(components, host_resname='MGO', guest_resname='BAM')"
   ]
  },
  {
   "cell_type": "markdown",
   "metadata": {},
   "source": [
    "# Load each topology component (from `mol2`) into separate `OEMol`s..."
   ]
  },
  {
   "cell_type": "code",
   "execution_count": 4,
   "metadata": {
    "ExecuteTime": {
     "end_time": "2018-02-23T03:00:06.545188Z",
     "start_time": "2018-02-23T03:00:06.517283Z"
    }
   },
   "outputs": [
    {
     "name": "stdout",
     "output_type": "stream",
     "text": [
      "21 atoms in structure, 21 unique atom names.\n",
      "17 atoms in structure, 17 unique atom names.\n"
     ]
    }
   ],
   "source": [
    "host = load_mol2(filename='original/a-bam-p/MGO.mol2', \n",
    "                 name='MGO', \n",
    "                 add_tripos=True)\n",
    "guest = load_mol2(filename='original/a-bam-p/bam.mol2', \n",
    "                  name='BAM', \n",
    "                  add_tripos=False)\n",
    "check_unique_atom_names(host)\n",
    "check_unique_atom_names(guest)\n",
    "molecules = [host, guest]"
   ]
  },
  {
   "cell_type": "markdown",
   "metadata": {},
   "source": [
    "# Polymerize the host molecule and make sure there are *unique* atom types for every atom in the host..."
   ]
  },
  {
   "cell_type": "code",
   "execution_count": 5,
   "metadata": {
    "ExecuteTime": {
     "end_time": "2018-02-23T03:00:06.635866Z",
     "start_time": "2018-02-23T03:00:06.546730Z"
    }
   },
   "outputs": [
    {
     "name": "stdout",
     "output_type": "stream",
     "text": [
      "MOL2 file written by cpptraj.\n"
     ]
    }
   ],
   "source": [
    "create_host_mol2('generated/a-bam-p/full.pdb', 'original/a-bam-p/full.topo', 'MGO', 'generated/a-bam-p/MGO.mol2')"
   ]
  },
  {
   "cell_type": "code",
   "execution_count": 6,
   "metadata": {
    "ExecuteTime": {
     "end_time": "2018-02-23T03:00:06.726630Z",
     "start_time": "2018-02-23T03:00:06.637688Z"
    }
   },
   "outputs": [
    {
     "name": "stdout",
     "output_type": "stream",
     "text": [
      "126 atoms in structure, 126 unique atom names.\n",
      "17 atoms in structure, 17 unique atom names.\n"
     ]
    }
   ],
   "source": [
    "host = load_mol2(filename='generated/a-bam-p/MGO.mol2', \n",
    "                 name='MGO', \n",
    "                 add_tripos=True)\n",
    "guest = load_mol2(filename='original/a-bam-p/bam.mol2', \n",
    "                  name='BAM', \n",
    "                  add_tripos=False)\n",
    "check_unique_atom_names(host)\n",
    "check_unique_atom_names(guest)\n",
    "molecules = [host, guest]"
   ]
  },
  {
   "cell_type": "markdown",
   "metadata": {},
   "source": [
    "# Parameterize the host and guest with SMIRNOFF99Frosst..."
   ]
  },
  {
   "cell_type": "code",
   "execution_count": 7,
   "metadata": {
    "ExecuteTime": {
     "end_time": "2018-02-23T03:00:07.433098Z",
     "start_time": "2018-02-23T03:00:06.728230Z"
    }
   },
   "outputs": [],
   "source": [
    "ff = ForceField('forcefield/smirnoff99Frosst.ffxml') \n",
    "system = ff.createSystem(hg_topology.topology, molecules,\n",
    "                         nonbondedCutoff=1.1*unit.nanometer, \n",
    "                         ewaldErrorTolerance=1e-4\n",
    "                         )"
   ]
  },
  {
   "cell_type": "markdown",
   "metadata": {},
   "source": [
    "# Convert the parameterized system in a ParmEd structure -- now with the SMIRNOFF99Frosst parameters..."
   ]
  },
  {
   "cell_type": "code",
   "execution_count": 8,
   "metadata": {
    "ExecuteTime": {
     "end_time": "2018-02-23T03:00:07.525777Z",
     "start_time": "2018-02-23T03:00:07.434729Z"
    }
   },
   "outputs": [],
   "source": [
    "hg_structure = pmd.openmm.topsystem.load_topology(hg_topology.topology, system, hg_topology.positions)"
   ]
  },
  {
   "cell_type": "markdown",
   "metadata": {},
   "source": [
    "# ...and save this as an AMBER-format `prmtop` and `inpcrd`..."
   ]
  },
  {
   "cell_type": "code",
   "execution_count": 9,
   "metadata": {
    "ExecuteTime": {
     "end_time": "2018-02-23T03:00:07.563848Z",
     "start_time": "2018-02-23T03:00:07.527441Z"
    }
   },
   "outputs": [
    {
     "name": "stdout",
     "output_type": "stream",
     "text": [
      "Check if the file already exists...\n"
     ]
    }
   ],
   "source": [
    "try:\n",
    "    hg_structure.save('generated/a-bam-p/hg.prmtop')\n",
    "except OSError:\n",
    "    print('Check if the file already exists...')"
   ]
  },
  {
   "cell_type": "code",
   "execution_count": 10,
   "metadata": {
    "ExecuteTime": {
     "end_time": "2018-02-23T03:00:07.630403Z",
     "start_time": "2018-02-23T03:00:07.565273Z"
    }
   },
   "outputs": [
    {
     "name": "stdout",
     "output_type": "stream",
     "text": [
      "Check if the file already exists...\n"
     ]
    }
   ],
   "source": [
    "try:\n",
    "    hg_structure.save('generated/a-bam-p/hg.inpcrd')\n",
    "except OSError:\n",
    "    print('Check if the file already exists...')"
   ]
  },
  {
   "cell_type": "markdown",
   "metadata": {},
   "source": [
    "# Use the original AMBER files to extract the waters and ions (and dummy atoms) and then parameterize those with GAFF or something else..."
   ]
  },
  {
   "cell_type": "code",
   "execution_count": 11,
   "metadata": {
    "ExecuteTime": {
     "end_time": "2018-02-23T03:00:07.981641Z",
     "start_time": "2018-02-23T03:00:07.913318Z"
    }
   },
   "outputs": [
    {
     "name": "stdout",
     "output_type": "stream",
     "text": [
      "Water and ion PDB file written by cpptraj.\n"
     ]
    }
   ],
   "source": [
    "extract_water_and_ions(amber_prmtop='original/a-bam-p/full.topo',\n",
    "                      amber_inpcrd='original/a-bam-p/full.crds',\n",
    "                      host_residue=':MGO',\n",
    "                      guest_residue=':BAM',\n",
    "                      dummy=None,\n",
    "                      output_pdb='generated/a-bam-p/water_ions.pdb')"
   ]
  },
  {
   "cell_type": "code",
   "execution_count": 12,
   "metadata": {
    "ExecuteTime": {
     "end_time": "2018-02-23T03:00:08.713698Z",
     "start_time": "2018-02-23T03:00:08.357953Z"
    }
   },
   "outputs": [
    {
     "name": "stdout",
     "output_type": "stream",
     "text": [
      "Writing dummy atom `frcmod`.\n",
      "Writing dummy atom `mol2`.\n",
      "Water and ion parameters and coordinates written by tleap.\n"
     ]
    }
   ],
   "source": [
    "create_water_and_ions_parameters(input_pdb='water_ions.pdb',\n",
    "                                output_prmtop='water_ions.prmtop',\n",
    "                                output_inpcrd='water_ions.inpcrd',\n",
    "                                dummy_atoms=True,\n",
    "                                path='generated/a-bam-p/')"
   ]
  },
  {
   "cell_type": "markdown",
   "metadata": {},
   "source": [
    "# Load those parameters and coordinates into a ParmEd structure... and merge with the host-guest ParmEd structure..."
   ]
  },
  {
   "cell_type": "code",
   "execution_count": 13,
   "metadata": {
    "ExecuteTime": {
     "end_time": "2018-02-23T03:00:09.559927Z",
     "start_time": "2018-02-23T03:00:09.226089Z"
    }
   },
   "outputs": [],
   "source": [
    "water_and_ions = pmd.amber.AmberParm('generated/a-bam-p/water_ions.prmtop', xyz='generated/a-bam-p/water_ions.inpcrd')"
   ]
  },
  {
   "cell_type": "code",
   "execution_count": 14,
   "metadata": {
    "ExecuteTime": {
     "end_time": "2018-02-23T03:00:10.114816Z",
     "start_time": "2018-02-23T03:00:09.639556Z"
    }
   },
   "outputs": [],
   "source": [
    "merged = mergeStructure(hg_structure, water_and_ions)"
   ]
  },
  {
   "cell_type": "code",
   "execution_count": 15,
   "metadata": {
    "ExecuteTime": {
     "end_time": "2018-02-23T03:00:10.140168Z",
     "start_time": "2018-02-23T03:00:10.116376Z"
    }
   },
   "outputs": [
    {
     "name": "stdout",
     "output_type": "stream",
     "text": [
      "Check if file exists...\n"
     ]
    }
   ],
   "source": [
    "try:\n",
    "    merged.save('generated/a-bam-p/solvated_smirnoff.prmtop')\n",
    "    merged.save('generated/a-bam-p/solvated_smirnoff.inpcrd')\n",
    "except:\n",
    "    print('Check if file exists...')"
   ]
  },
  {
   "cell_type": "markdown",
   "metadata": {},
   "source": [
    "# Now, because we lumped the dummy atoms with the water and ions, they are no longer at the beginning of the coordinate file (if we extract the dummy atoms, then [ParmEd can't merge](https://github.com/ParmEd/ParmEd/issues/952) the structures). Thus, we need to remap all restraints to new atom and residue indices..."
   ]
  },
  {
   "cell_type": "markdown",
   "metadata": {},
   "source": [
    "However, we need to do the *atom* mapping on a `mol2` file and the *residue* mapping on a `pdb` file -- where we can specifically choose to *not* ignore dummy atoms -- otherwise the graph is not isomorphic..."
   ]
  },
  {
   "cell_type": "code",
   "execution_count": 16,
   "metadata": {
    "ExecuteTime": {
     "end_time": "2018-02-23T03:00:12.410220Z",
     "start_time": "2018-02-23T03:00:11.604015Z"
    }
   },
   "outputs": [
    {
     "name": "stdout",
     "output_type": "stream",
     "text": [
      "Check if file exists...\n",
      "Check if file exists...\n"
     ]
    }
   ],
   "source": [
    "reference = pmd.load_file('original/a-bam-p/full.topo', 'original/a-bam-p/full.crds')\n",
    "try:\n",
    "    reference.save('generated/a-bam-p/reference.pdb')\n",
    "    reference.save('generated/a-bam-p/reference.mol2')\n",
    "except OSError:\n",
    "    print('Check if file exists...')\n",
    "target = pmd.load_file('generated/a-bam-p/solvated_smirnoff.prmtop', 'generated/a-bam-p/solvated_smirnoff.inpcrd')\n",
    "try:\n",
    "    target.save('generated/a-bam-p/target.pdb')\n",
    "    target.save('generated/a-bam-p/target.mol2')\n",
    "except OSError:\n",
    "    print('Check if file exists...')"
   ]
  },
  {
   "cell_type": "code",
   "execution_count": 17,
   "metadata": {
    "ExecuteTime": {
     "end_time": "2018-02-23T03:00:12.488734Z",
     "start_time": "2018-02-23T03:00:12.411879Z"
    }
   },
   "outputs": [],
   "source": [
    "reference_mol = load_mol2('generated/a-bam-p/reference.mol2')\n",
    "target_mol = load_mol2('generated/a-bam-p/target.mol2')"
   ]
  },
  {
   "cell_type": "code",
   "execution_count": 18,
   "metadata": {
    "ExecuteTime": {
     "end_time": "2018-02-23T03:01:02.320096Z",
     "start_time": "2018-02-23T03:00:13.224171Z"
    }
   },
   "outputs": [
    {
     "name": "stdout",
     "output_type": "stream",
     "text": [
      "Determining mapping...\n",
      "Reference → Target\n"
     ]
    }
   ],
   "source": [
    "atom_mapping = map_atoms(reference_mol, target_mol)"
   ]
  },
  {
   "cell_type": "markdown",
   "metadata": {},
   "source": [
    "Before I do that, make sure the mapping doesn't have `None`..."
   ]
  },
  {
   "cell_type": "code",
   "execution_count": 19,
   "metadata": {
    "ExecuteTime": {
     "end_time": "2018-02-23T03:01:02.374929Z",
     "start_time": "2018-02-23T03:01:02.321635Z"
    }
   },
   "outputs": [
    {
     "data": {
      "text/plain": [
       "{3: 0,\n",
       " 4: 1,\n",
       " 5: 2,\n",
       " 6: 3,\n",
       " 7: 4,\n",
       " 8: 5,\n",
       " 9: 6,\n",
       " 10: 7,\n",
       " 11: 8,\n",
       " 12: 9,\n",
       " 13: 10,\n",
       " 14: 11,\n",
       " 15: 12,\n",
       " 16: 13,\n",
       " 17: 14,\n",
       " 18: 15,\n",
       " 19: 16,\n",
       " 20: 17,\n",
       " 21: 18,\n",
       " 22: 19,\n",
       " 23: 20,\n",
       " 35: 32,\n",
       " 31: 28,\n",
       " 27: 24,\n",
       " 24: 21,\n",
       " 25: 22,\n",
       " 26: 23,\n",
       " 28: 25,\n",
       " 29: 26,\n",
       " 30: 27,\n",
       " 32: 29,\n",
       " 33: 30,\n",
       " 34: 31,\n",
       " 36: 33,\n",
       " 37: 34,\n",
       " 38: 35,\n",
       " 39: 36,\n",
       " 40: 37,\n",
       " 41: 38,\n",
       " 42: 39,\n",
       " 43: 40,\n",
       " 44: 41,\n",
       " 56: 53,\n",
       " 52: 49,\n",
       " 48: 45,\n",
       " 45: 42,\n",
       " 46: 43,\n",
       " 47: 44,\n",
       " 49: 46,\n",
       " 50: 47,\n",
       " 51: 48,\n",
       " 53: 50,\n",
       " 54: 51,\n",
       " 55: 52,\n",
       " 57: 54,\n",
       " 58: 55,\n",
       " 59: 56,\n",
       " 60: 57,\n",
       " 61: 58,\n",
       " 62: 59,\n",
       " 63: 60,\n",
       " 64: 61,\n",
       " 65: 62,\n",
       " 77: 74,\n",
       " 73: 70,\n",
       " 69: 66,\n",
       " 66: 63,\n",
       " 67: 64,\n",
       " 68: 65,\n",
       " 70: 67,\n",
       " 71: 68,\n",
       " 72: 69,\n",
       " 74: 71,\n",
       " 75: 72,\n",
       " 76: 73,\n",
       " 78: 75,\n",
       " 79: 76,\n",
       " 80: 77,\n",
       " 81: 78,\n",
       " 82: 79,\n",
       " 83: 80,\n",
       " 84: 81,\n",
       " 85: 82,\n",
       " 86: 83,\n",
       " 98: 95,\n",
       " 94: 91,\n",
       " 90: 87,\n",
       " 87: 84,\n",
       " 88: 85,\n",
       " 89: 86,\n",
       " 91: 88,\n",
       " 92: 89,\n",
       " 93: 90,\n",
       " 95: 92,\n",
       " 96: 93,\n",
       " 97: 94,\n",
       " 99: 96,\n",
       " 100: 97,\n",
       " 101: 98,\n",
       " 102: 99,\n",
       " 103: 100,\n",
       " 104: 101,\n",
       " 105: 102,\n",
       " 106: 103,\n",
       " 107: 104,\n",
       " 110: 107,\n",
       " 108: 105,\n",
       " 109: 106,\n",
       " 111: 108,\n",
       " 112: 109,\n",
       " 113: 110,\n",
       " 114: 111,\n",
       " 115: 112,\n",
       " 116: 113,\n",
       " 117: 114,\n",
       " 118: 115,\n",
       " 119: 116,\n",
       " 120: 117,\n",
       " 121: 118,\n",
       " 122: 119,\n",
       " 123: 120,\n",
       " 124: 121,\n",
       " 125: 122,\n",
       " 126: 123,\n",
       " 127: 124,\n",
       " 128: 125,\n",
       " 129: 126,\n",
       " 130: 127,\n",
       " 131: 128,\n",
       " 132: 129,\n",
       " 133: 130,\n",
       " 134: 131,\n",
       " 135: 132,\n",
       " 136: 133,\n",
       " 137: 134,\n",
       " 138: 135,\n",
       " 139: 136,\n",
       " 140: 137,\n",
       " 141: 138,\n",
       " 142: 139,\n",
       " 143: 140,\n",
       " 144: 141,\n",
       " 145: 142,\n",
       " 0: 143,\n",
       " 1: 144,\n",
       " 2: 145,\n",
       " 146: 146,\n",
       " 147: 147,\n",
       " 148: 148,\n",
       " 149: 149,\n",
       " 150: 150,\n",
       " 151: 151,\n",
       " 152: 152,\n",
       " 153: 153,\n",
       " 154: 154,\n",
       " 155: 155,\n",
       " 156: 156,\n",
       " 157: 157,\n",
       " 158: 158,\n",
       " 159: 159,\n",
       " 160: 160,\n",
       " 161: 161,\n",
       " 162: 162,\n",
       " 163: 163,\n",
       " 164: 164,\n",
       " 165: 165,\n",
       " 166: 166,\n",
       " 167: 167,\n",
       " 168: 168,\n",
       " 169: 169,\n",
       " 170: 170,\n",
       " 171: 171,\n",
       " 172: 172,\n",
       " 173: 173,\n",
       " 174: 174,\n",
       " 175: 175,\n",
       " 176: 176,\n",
       " 177: 177,\n",
       " 178: 178,\n",
       " 179: 179,\n",
       " 180: 180,\n",
       " 181: 181,\n",
       " 182: 182,\n",
       " 183: 183,\n",
       " 184: 184,\n",
       " 185: 185,\n",
       " 186: 186,\n",
       " 187: 187,\n",
       " 188: 188,\n",
       " 189: 189,\n",
       " 190: 190,\n",
       " 191: 191,\n",
       " 192: 192,\n",
       " 193: 193,\n",
       " 194: 194,\n",
       " 195: 195,\n",
       " 196: 196,\n",
       " 197: 197,\n",
       " 198: 198,\n",
       " 199: 199,\n",
       " 200: 200,\n",
       " 201: 201,\n",
       " 202: 202,\n",
       " 203: 203,\n",
       " 204: 204,\n",
       " 205: 205,\n",
       " 206: 206,\n",
       " 207: 207,\n",
       " 208: 208,\n",
       " 209: 209,\n",
       " 210: 210,\n",
       " 211: 211,\n",
       " 212: 212,\n",
       " 213: 213,\n",
       " 214: 214,\n",
       " 215: 215,\n",
       " 216: 216,\n",
       " 217: 217,\n",
       " 218: 218,\n",
       " 219: 219,\n",
       " 220: 220,\n",
       " 221: 221,\n",
       " 222: 222,\n",
       " 223: 223,\n",
       " 224: 224,\n",
       " 225: 225,\n",
       " 226: 226,\n",
       " 227: 227,\n",
       " 228: 228,\n",
       " 229: 229,\n",
       " 230: 230,\n",
       " 231: 231,\n",
       " 232: 232,\n",
       " 233: 233,\n",
       " 234: 234,\n",
       " 235: 235,\n",
       " 236: 236,\n",
       " 237: 237,\n",
       " 238: 238,\n",
       " 239: 239,\n",
       " 240: 240,\n",
       " 241: 241,\n",
       " 242: 242,\n",
       " 243: 243,\n",
       " 244: 244,\n",
       " 245: 245,\n",
       " 246: 246,\n",
       " 247: 247,\n",
       " 248: 248,\n",
       " 249: 249,\n",
       " 250: 250,\n",
       " 251: 251,\n",
       " 252: 252,\n",
       " 253: 253,\n",
       " 254: 254,\n",
       " 255: 255,\n",
       " 256: 256,\n",
       " 257: 257,\n",
       " 258: 258,\n",
       " 259: 259,\n",
       " 260: 260,\n",
       " 261: 261,\n",
       " 262: 262,\n",
       " 263: 263,\n",
       " 264: 264,\n",
       " 265: 265,\n",
       " 266: 266,\n",
       " 267: 267,\n",
       " 268: 268,\n",
       " 269: 269,\n",
       " 270: 270,\n",
       " 271: 271,\n",
       " 272: 272,\n",
       " 273: 273,\n",
       " 274: 274,\n",
       " 275: 275,\n",
       " 276: 276,\n",
       " 277: 277,\n",
       " 278: 278,\n",
       " 279: 279,\n",
       " 280: 280,\n",
       " 281: 281,\n",
       " 282: 282,\n",
       " 283: 283,\n",
       " 284: 284,\n",
       " 285: 285,\n",
       " 286: 286,\n",
       " 287: 287,\n",
       " 288: 288,\n",
       " 289: 289,\n",
       " 290: 290,\n",
       " 291: 291,\n",
       " 292: 292,\n",
       " 293: 293,\n",
       " 294: 294,\n",
       " 295: 295,\n",
       " 296: 296,\n",
       " 297: 297,\n",
       " 298: 298,\n",
       " 299: 299,\n",
       " 300: 300,\n",
       " 301: 301,\n",
       " 302: 302,\n",
       " 303: 303,\n",
       " 304: 304,\n",
       " 305: 305,\n",
       " 306: 306,\n",
       " 307: 307,\n",
       " 308: 308,\n",
       " 309: 309,\n",
       " 310: 310,\n",
       " 311: 311,\n",
       " 312: 312,\n",
       " 313: 313,\n",
       " 314: 314,\n",
       " 315: 315,\n",
       " 316: 316,\n",
       " 317: 317,\n",
       " 318: 318,\n",
       " 319: 319,\n",
       " 320: 320,\n",
       " 321: 321,\n",
       " 322: 322,\n",
       " 323: 323,\n",
       " 324: 324,\n",
       " 325: 325,\n",
       " 326: 326,\n",
       " 327: 327,\n",
       " 328: 328,\n",
       " 329: 329,\n",
       " 330: 330,\n",
       " 331: 331,\n",
       " 332: 332,\n",
       " 333: 333,\n",
       " 334: 334,\n",
       " 335: 335,\n",
       " 336: 336,\n",
       " 337: 337,\n",
       " 338: 338,\n",
       " 339: 339,\n",
       " 340: 340,\n",
       " 341: 341,\n",
       " 342: 342,\n",
       " 343: 343,\n",
       " 344: 344,\n",
       " 345: 345,\n",
       " 346: 346,\n",
       " 347: 347,\n",
       " 348: 348,\n",
       " 349: 349,\n",
       " 350: 350,\n",
       " 351: 351,\n",
       " 352: 352,\n",
       " 353: 353,\n",
       " 354: 354,\n",
       " 355: 355,\n",
       " 356: 356,\n",
       " 357: 357,\n",
       " 358: 358,\n",
       " 359: 359,\n",
       " 360: 360,\n",
       " 361: 361,\n",
       " 362: 362,\n",
       " 363: 363,\n",
       " 364: 364,\n",
       " 365: 365,\n",
       " 366: 366,\n",
       " 367: 367,\n",
       " 368: 368,\n",
       " 369: 369,\n",
       " 370: 370,\n",
       " 371: 371,\n",
       " 372: 372,\n",
       " 373: 373,\n",
       " 374: 374,\n",
       " 375: 375,\n",
       " 376: 376,\n",
       " 377: 377,\n",
       " 378: 378,\n",
       " 379: 379,\n",
       " 380: 380,\n",
       " 381: 381,\n",
       " 382: 382,\n",
       " 383: 383,\n",
       " 384: 384,\n",
       " 385: 385,\n",
       " 386: 386,\n",
       " 387: 387,\n",
       " 388: 388,\n",
       " 389: 389,\n",
       " 390: 390,\n",
       " 391: 391,\n",
       " 392: 392,\n",
       " 393: 393,\n",
       " 394: 394,\n",
       " 395: 395,\n",
       " 396: 396,\n",
       " 397: 397,\n",
       " 398: 398,\n",
       " 399: 399,\n",
       " 400: 400,\n",
       " 401: 401,\n",
       " 402: 402,\n",
       " 403: 403,\n",
       " 404: 404,\n",
       " 405: 405,\n",
       " 406: 406,\n",
       " 407: 407,\n",
       " 408: 408,\n",
       " 409: 409,\n",
       " 410: 410,\n",
       " 411: 411,\n",
       " 412: 412,\n",
       " 413: 413,\n",
       " 414: 414,\n",
       " 415: 415,\n",
       " 416: 416,\n",
       " 417: 417,\n",
       " 418: 418,\n",
       " 419: 419,\n",
       " 420: 420,\n",
       " 421: 421,\n",
       " 422: 422,\n",
       " 423: 423,\n",
       " 424: 424,\n",
       " 425: 425,\n",
       " 426: 426,\n",
       " 427: 427,\n",
       " 428: 428,\n",
       " 429: 429,\n",
       " 430: 430,\n",
       " 431: 431,\n",
       " 432: 432,\n",
       " 433: 433,\n",
       " 434: 434,\n",
       " 435: 435,\n",
       " 436: 436,\n",
       " 437: 437,\n",
       " 438: 438,\n",
       " 439: 439,\n",
       " 440: 440,\n",
       " 441: 441,\n",
       " 442: 442,\n",
       " 443: 443,\n",
       " 444: 444,\n",
       " 445: 445,\n",
       " 446: 446,\n",
       " 447: 447,\n",
       " 448: 448,\n",
       " 449: 449,\n",
       " 450: 450,\n",
       " 451: 451,\n",
       " 452: 452,\n",
       " 453: 453,\n",
       " 454: 454,\n",
       " 455: 455,\n",
       " 456: 456,\n",
       " 457: 457,\n",
       " 458: 458,\n",
       " 459: 459,\n",
       " 460: 460,\n",
       " 461: 461,\n",
       " 462: 462,\n",
       " 463: 463,\n",
       " 464: 464,\n",
       " 465: 465,\n",
       " 466: 466,\n",
       " 467: 467,\n",
       " 468: 468,\n",
       " 469: 469,\n",
       " 470: 470,\n",
       " 471: 471,\n",
       " 472: 472,\n",
       " 473: 473,\n",
       " 474: 474,\n",
       " 475: 475,\n",
       " 476: 476,\n",
       " 477: 477,\n",
       " 478: 478,\n",
       " 479: 479,\n",
       " 480: 480,\n",
       " 481: 481,\n",
       " 482: 482,\n",
       " 483: 483,\n",
       " 484: 484,\n",
       " 485: 485,\n",
       " 486: 486,\n",
       " 487: 487,\n",
       " 488: 488,\n",
       " 489: 489,\n",
       " 490: 490,\n",
       " 491: 491,\n",
       " 492: 492,\n",
       " 493: 493,\n",
       " 494: 494,\n",
       " 495: 495,\n",
       " 496: 496,\n",
       " 497: 497,\n",
       " 498: 498,\n",
       " 499: 499,\n",
       " 500: 500,\n",
       " 501: 501,\n",
       " 502: 502,\n",
       " 503: 503,\n",
       " 504: 504,\n",
       " 505: 505,\n",
       " 506: 506,\n",
       " 507: 507,\n",
       " 508: 508,\n",
       " 509: 509,\n",
       " 510: 510,\n",
       " 511: 511,\n",
       " 512: 512,\n",
       " 513: 513,\n",
       " 514: 514,\n",
       " 515: 515,\n",
       " 516: 516,\n",
       " 517: 517,\n",
       " 518: 518,\n",
       " 519: 519,\n",
       " 520: 520,\n",
       " 521: 521,\n",
       " 522: 522,\n",
       " 523: 523,\n",
       " 524: 524,\n",
       " 525: 525,\n",
       " 526: 526,\n",
       " 527: 527,\n",
       " 528: 528,\n",
       " 529: 529,\n",
       " 530: 530,\n",
       " 531: 531,\n",
       " 532: 532,\n",
       " 533: 533,\n",
       " 534: 534,\n",
       " 535: 535,\n",
       " 536: 536,\n",
       " 537: 537,\n",
       " 538: 538,\n",
       " 539: 539,\n",
       " 540: 540,\n",
       " 541: 541,\n",
       " 542: 542,\n",
       " 543: 543,\n",
       " 544: 544,\n",
       " 545: 545,\n",
       " 546: 546,\n",
       " 547: 547,\n",
       " 548: 548,\n",
       " 549: 549,\n",
       " 550: 550,\n",
       " 551: 551,\n",
       " 552: 552,\n",
       " 553: 553,\n",
       " 554: 554,\n",
       " 555: 555,\n",
       " 556: 556,\n",
       " 557: 557,\n",
       " 558: 558,\n",
       " 559: 559,\n",
       " 560: 560,\n",
       " 561: 561,\n",
       " 562: 562,\n",
       " 563: 563,\n",
       " 564: 564,\n",
       " 565: 565,\n",
       " 566: 566,\n",
       " 567: 567,\n",
       " 568: 568,\n",
       " 569: 569,\n",
       " 570: 570,\n",
       " 571: 571,\n",
       " 572: 572,\n",
       " 573: 573,\n",
       " 574: 574,\n",
       " 575: 575,\n",
       " 576: 576,\n",
       " 577: 577,\n",
       " 578: 578,\n",
       " 579: 579,\n",
       " 580: 580,\n",
       " 581: 581,\n",
       " 582: 582,\n",
       " 583: 583,\n",
       " 584: 584,\n",
       " 585: 585,\n",
       " 586: 586,\n",
       " 587: 587,\n",
       " 588: 588,\n",
       " 589: 589,\n",
       " 590: 590,\n",
       " 591: 591,\n",
       " 592: 592,\n",
       " 593: 593,\n",
       " 594: 594,\n",
       " 595: 595,\n",
       " 596: 596,\n",
       " 597: 597,\n",
       " 598: 598,\n",
       " 599: 599,\n",
       " 600: 600,\n",
       " 601: 601,\n",
       " 602: 602,\n",
       " 603: 603,\n",
       " 604: 604,\n",
       " 605: 605,\n",
       " 606: 606,\n",
       " 607: 607,\n",
       " 608: 608,\n",
       " 609: 609,\n",
       " 610: 610,\n",
       " 611: 611,\n",
       " 612: 612,\n",
       " 613: 613,\n",
       " 614: 614,\n",
       " 615: 615,\n",
       " 616: 616,\n",
       " 617: 617,\n",
       " 618: 618,\n",
       " 619: 619,\n",
       " 620: 620,\n",
       " 621: 621,\n",
       " 622: 622,\n",
       " 623: 623,\n",
       " 624: 624,\n",
       " 625: 625,\n",
       " 626: 626,\n",
       " 627: 627,\n",
       " 628: 628,\n",
       " 629: 629,\n",
       " 630: 630,\n",
       " 631: 631,\n",
       " 632: 632,\n",
       " 633: 633,\n",
       " 634: 634,\n",
       " 635: 635,\n",
       " 636: 636,\n",
       " 637: 637,\n",
       " 638: 638,\n",
       " 639: 639,\n",
       " 640: 640,\n",
       " 641: 641,\n",
       " 642: 642,\n",
       " 643: 643,\n",
       " 644: 644,\n",
       " 645: 645,\n",
       " 646: 646,\n",
       " 647: 647,\n",
       " 648: 648,\n",
       " 649: 649,\n",
       " 650: 650,\n",
       " 651: 651,\n",
       " 652: 652,\n",
       " 653: 653,\n",
       " 654: 654,\n",
       " 655: 655,\n",
       " 656: 656,\n",
       " 657: 657,\n",
       " 658: 658,\n",
       " 659: 659,\n",
       " 660: 660,\n",
       " 661: 661,\n",
       " 662: 662,\n",
       " 663: 663,\n",
       " 664: 664,\n",
       " 665: 665,\n",
       " 666: 666,\n",
       " 667: 667,\n",
       " 668: 668,\n",
       " 669: 669,\n",
       " 670: 670,\n",
       " 671: 671,\n",
       " 672: 672,\n",
       " 673: 673,\n",
       " 674: 674,\n",
       " 675: 675,\n",
       " 676: 676,\n",
       " 677: 677,\n",
       " 678: 678,\n",
       " 679: 679,\n",
       " 680: 680,\n",
       " 681: 681,\n",
       " 682: 682,\n",
       " 683: 683,\n",
       " 684: 684,\n",
       " 685: 685,\n",
       " 686: 686,\n",
       " 687: 687,\n",
       " 688: 688,\n",
       " 689: 689,\n",
       " 690: 690,\n",
       " 691: 691,\n",
       " 692: 692,\n",
       " 693: 693,\n",
       " 694: 694,\n",
       " 695: 695,\n",
       " 696: 696,\n",
       " 697: 697,\n",
       " 698: 698,\n",
       " 699: 699,\n",
       " 700: 700,\n",
       " 701: 701,\n",
       " 702: 702,\n",
       " 703: 703,\n",
       " 704: 704,\n",
       " 705: 705,\n",
       " 706: 706,\n",
       " 707: 707,\n",
       " 708: 708,\n",
       " 709: 709,\n",
       " 710: 710,\n",
       " 711: 711,\n",
       " 712: 712,\n",
       " 713: 713,\n",
       " 714: 714,\n",
       " 715: 715,\n",
       " 716: 716,\n",
       " 717: 717,\n",
       " 718: 718,\n",
       " 719: 719,\n",
       " 720: 720,\n",
       " 721: 721,\n",
       " 722: 722,\n",
       " 723: 723,\n",
       " 724: 724,\n",
       " 725: 725,\n",
       " 726: 726,\n",
       " 727: 727,\n",
       " 728: 728,\n",
       " 729: 729,\n",
       " 730: 730,\n",
       " 731: 731,\n",
       " 732: 732,\n",
       " 733: 733,\n",
       " 734: 734,\n",
       " 735: 735,\n",
       " 736: 736,\n",
       " 737: 737,\n",
       " 738: 738,\n",
       " 739: 739,\n",
       " 740: 740,\n",
       " 741: 741,\n",
       " 742: 742,\n",
       " 743: 743,\n",
       " 744: 744,\n",
       " 745: 745,\n",
       " 746: 746,\n",
       " 747: 747,\n",
       " 748: 748,\n",
       " 749: 749,\n",
       " 750: 750,\n",
       " 751: 751,\n",
       " 752: 752,\n",
       " 753: 753,\n",
       " 754: 754,\n",
       " 755: 755,\n",
       " 756: 756,\n",
       " 757: 757,\n",
       " 758: 758,\n",
       " 759: 759,\n",
       " 760: 760,\n",
       " 761: 761,\n",
       " 762: 762,\n",
       " 763: 763,\n",
       " 764: 764,\n",
       " 765: 765,\n",
       " 766: 766,\n",
       " 767: 767,\n",
       " 768: 768,\n",
       " 769: 769,\n",
       " 770: 770,\n",
       " 771: 771,\n",
       " 772: 772,\n",
       " 773: 773,\n",
       " 774: 774,\n",
       " 775: 775,\n",
       " 776: 776,\n",
       " 777: 777,\n",
       " 778: 778,\n",
       " 779: 779,\n",
       " 780: 780,\n",
       " 781: 781,\n",
       " 782: 782,\n",
       " 783: 783,\n",
       " 784: 784,\n",
       " 785: 785,\n",
       " 786: 786,\n",
       " 787: 787,\n",
       " 788: 788,\n",
       " 789: 789,\n",
       " 790: 790,\n",
       " 791: 791,\n",
       " 792: 792,\n",
       " 793: 793,\n",
       " 794: 794,\n",
       " 795: 795,\n",
       " 796: 796,\n",
       " 797: 797,\n",
       " 798: 798,\n",
       " 799: 799,\n",
       " 800: 800,\n",
       " 801: 801,\n",
       " 802: 802,\n",
       " 803: 803,\n",
       " 804: 804,\n",
       " 805: 805,\n",
       " 806: 806,\n",
       " 807: 807,\n",
       " 808: 808,\n",
       " 809: 809,\n",
       " 810: 810,\n",
       " 811: 811,\n",
       " 812: 812,\n",
       " 813: 813,\n",
       " 814: 814,\n",
       " 815: 815,\n",
       " 816: 816,\n",
       " 817: 817,\n",
       " 818: 818,\n",
       " 819: 819,\n",
       " 820: 820,\n",
       " 821: 821,\n",
       " 822: 822,\n",
       " 823: 823,\n",
       " 824: 824,\n",
       " 825: 825,\n",
       " 826: 826,\n",
       " 827: 827,\n",
       " 828: 828,\n",
       " 829: 829,\n",
       " 830: 830,\n",
       " 831: 831,\n",
       " 832: 832,\n",
       " 833: 833,\n",
       " 834: 834,\n",
       " 835: 835,\n",
       " 836: 836,\n",
       " 837: 837,\n",
       " 838: 838,\n",
       " 839: 839,\n",
       " 840: 840,\n",
       " 841: 841,\n",
       " 842: 842,\n",
       " 843: 843,\n",
       " 844: 844,\n",
       " 845: 845,\n",
       " 846: 846,\n",
       " 847: 847,\n",
       " 848: 848,\n",
       " 849: 849,\n",
       " 850: 850,\n",
       " 851: 851,\n",
       " 852: 852,\n",
       " 853: 853,\n",
       " 854: 854,\n",
       " 855: 855,\n",
       " 856: 856,\n",
       " 857: 857,\n",
       " 858: 858,\n",
       " 859: 859,\n",
       " 860: 860,\n",
       " 861: 861,\n",
       " 862: 862,\n",
       " 863: 863,\n",
       " 864: 864,\n",
       " 865: 865,\n",
       " 866: 866,\n",
       " 867: 867,\n",
       " 868: 868,\n",
       " 869: 869,\n",
       " 870: 870,\n",
       " 871: 871,\n",
       " 872: 872,\n",
       " 873: 873,\n",
       " 874: 874,\n",
       " 875: 875,\n",
       " 876: 876,\n",
       " 877: 877,\n",
       " 878: 878,\n",
       " 879: 879,\n",
       " 880: 880,\n",
       " 881: 881,\n",
       " 882: 882,\n",
       " 883: 883,\n",
       " 884: 884,\n",
       " 885: 885,\n",
       " 886: 886,\n",
       " 887: 887,\n",
       " 888: 888,\n",
       " 889: 889,\n",
       " 890: 890,\n",
       " 891: 891,\n",
       " 892: 892,\n",
       " 893: 893,\n",
       " 894: 894,\n",
       " 895: 895,\n",
       " 896: 896,\n",
       " 897: 897,\n",
       " 898: 898,\n",
       " 899: 899,\n",
       " 900: 900,\n",
       " 901: 901,\n",
       " 902: 902,\n",
       " 903: 903,\n",
       " 904: 904,\n",
       " 905: 905,\n",
       " 906: 906,\n",
       " 907: 907,\n",
       " 908: 908,\n",
       " 909: 909,\n",
       " 910: 910,\n",
       " 911: 911,\n",
       " 912: 912,\n",
       " 913: 913,\n",
       " 914: 914,\n",
       " 915: 915,\n",
       " 916: 916,\n",
       " 917: 917,\n",
       " 918: 918,\n",
       " 919: 919,\n",
       " 920: 920,\n",
       " 921: 921,\n",
       " 922: 922,\n",
       " 923: 923,\n",
       " 924: 924,\n",
       " 925: 925,\n",
       " 926: 926,\n",
       " 927: 927,\n",
       " 928: 928,\n",
       " 929: 929,\n",
       " 930: 930,\n",
       " 931: 931,\n",
       " 932: 932,\n",
       " 933: 933,\n",
       " 934: 934,\n",
       " 935: 935,\n",
       " 936: 936,\n",
       " 937: 937,\n",
       " 938: 938,\n",
       " 939: 939,\n",
       " 940: 940,\n",
       " 941: 941,\n",
       " 942: 942,\n",
       " 943: 943,\n",
       " 944: 944,\n",
       " 945: 945,\n",
       " 946: 946,\n",
       " 947: 947,\n",
       " 948: 948,\n",
       " 949: 949,\n",
       " 950: 950,\n",
       " 951: 951,\n",
       " 952: 952,\n",
       " 953: 953,\n",
       " 954: 954,\n",
       " 955: 955,\n",
       " 956: 956,\n",
       " 957: 957,\n",
       " 958: 958,\n",
       " 959: 959,\n",
       " 960: 960,\n",
       " 961: 961,\n",
       " 962: 962,\n",
       " 963: 963,\n",
       " 964: 964,\n",
       " 965: 965,\n",
       " 966: 966,\n",
       " 967: 967,\n",
       " 968: 968,\n",
       " 969: 969,\n",
       " 970: 970,\n",
       " 971: 971,\n",
       " 972: 972,\n",
       " 973: 973,\n",
       " 974: 974,\n",
       " 975: 975,\n",
       " 976: 976,\n",
       " 977: 977,\n",
       " 978: 978,\n",
       " 979: 979,\n",
       " 980: 980,\n",
       " 981: 981,\n",
       " 982: 982,\n",
       " 983: 983,\n",
       " 984: 984,\n",
       " 985: 985,\n",
       " 986: 986,\n",
       " 987: 987,\n",
       " 988: 988,\n",
       " 989: 989,\n",
       " 990: 990,\n",
       " 991: 991,\n",
       " 992: 992,\n",
       " 993: 993,\n",
       " 994: 994,\n",
       " 995: 995,\n",
       " 996: 996,\n",
       " 997: 997,\n",
       " 998: 998,\n",
       " 999: 999,\n",
       " ...}"
      ]
     },
     "execution_count": 19,
     "metadata": {},
     "output_type": "execute_result"
    }
   ],
   "source": [
    "atom_mapping"
   ]
  },
  {
   "cell_type": "code",
   "execution_count": 33,
   "metadata": {
    "ExecuteTime": {
     "end_time": "2018-02-23T03:07:22.483019Z",
     "start_time": "2018-02-23T03:07:22.455586Z"
    }
   },
   "outputs": [
    {
     "ename": "TypeError",
     "evalue": "'bool' object is not iterable",
     "output_type": "error",
     "traceback": [
      "\u001b[0;31m---------------------------------------------------------------------------\u001b[0m",
      "\u001b[0;31mTypeError\u001b[0m                                 Traceback (most recent call last)",
      "\u001b[0;32m<ipython-input-33-430b5ca6727f>\u001b[0m in \u001b[0;36m<module>\u001b[0;34m()\u001b[0m\n\u001b[0;32m----> 1\u001b[0;31m \u001b[0mall\u001b[0m\u001b[0;34m(\u001b[0m\u001b[0matom_mapping\u001b[0m\u001b[0;34m.\u001b[0m\u001b[0mvalues\u001b[0m\u001b[0;34m(\u001b[0m\u001b[0;34m)\u001b[0m \u001b[0;34m==\u001b[0m \u001b[0;32mNone\u001b[0m\u001b[0;34m)\u001b[0m\u001b[0;34m\u001b[0m\u001b[0m\n\u001b[0m",
      "\u001b[0;31mTypeError\u001b[0m: 'bool' object is not iterable"
     ]
    }
   ],
   "source": [
    "all(atom_mapping.values() == None)"
   ]
  },
  {
   "cell_type": "code",
   "execution_count": 30,
   "metadata": {
    "ExecuteTime": {
     "end_time": "2018-02-23T03:06:41.391854Z",
     "start_time": "2018-02-23T03:06:41.363822Z"
    }
   },
   "outputs": [
    {
     "ename": "AttributeError",
     "evalue": "'dict' object has no attribute 'viewvalues'",
     "output_type": "error",
     "traceback": [
      "\u001b[0;31m---------------------------------------------------------------------------\u001b[0m",
      "\u001b[0;31mAttributeError\u001b[0m                            Traceback (most recent call last)",
      "\u001b[0;32m<ipython-input-30-8be5ccd18414>\u001b[0m in \u001b[0;36m<module>\u001b[0;34m()\u001b[0m\n\u001b[0;32m----> 1\u001b[0;31m \u001b[0matom_mapping\u001b[0m\u001b[0;34m.\u001b[0m\u001b[0mviewvalues\u001b[0m\u001b[0;34m(\u001b[0m\u001b[0;34m)\u001b[0m\u001b[0;34m\u001b[0m\u001b[0m\n\u001b[0m",
      "\u001b[0;31mAttributeError\u001b[0m: 'dict' object has no attribute 'viewvalues'"
     ]
    }
   ],
   "source": [
    "atom_mapping.viewvalues()"
   ]
  },
  {
   "cell_type": "code",
   "execution_count": null,
   "metadata": {},
   "outputs": [],
   "source": []
  },
  {
   "cell_type": "code",
   "execution_count": null,
   "metadata": {},
   "outputs": [],
   "source": []
  },
  {
   "cell_type": "code",
   "execution_count": null,
   "metadata": {
    "ExecuteTime": {
     "start_time": "2018-02-23T02:38:00.471Z"
    }
   },
   "outputs": [],
   "source": [
    "# reference_mol = load_pdb('generated/a-bam-p/reference.pdb')\n",
    "# target_mol = load_pdb('generated/a-bam-p/target.pdb')"
   ]
  },
  {
   "cell_type": "code",
   "execution_count": null,
   "metadata": {
    "ExecuteTime": {
     "start_time": "2018-02-23T02:38:00.664Z"
    }
   },
   "outputs": [],
   "source": [
    "# residue_mapping = map_residues(atom_mapping, reference_mol, target_mol)"
   ]
  },
  {
   "cell_type": "markdown",
   "metadata": {},
   "source": [
    "# Now let's copy over the minimization input file, and replace the residue indices of the positional restraints..."
   ]
  },
  {
   "cell_type": "code",
   "execution_count": null,
   "metadata": {
    "ExecuteTime": {
     "end_time": "2018-02-23T02:39:43.696269Z",
     "start_time": "2018-02-23T02:37:24.837Z"
    }
   },
   "outputs": [],
   "source": [
    "rewrite_amber_input_file(reference_input='original/a-bam-p/mini.in',\n",
    "                        target_input='generated/a-bam-p/mini.in',\n",
    "                        reference_to_target_mapping=residue_mapping)"
   ]
  },
  {
   "cell_type": "markdown",
   "metadata": {},
   "source": [
    "# Now let's copy over the restraint file, and replace the atom indices..."
   ]
  },
  {
   "cell_type": "code",
   "execution_count": null,
   "metadata": {
    "ExecuteTime": {
     "end_time": "2018-02-23T02:39:43.697142Z",
     "start_time": "2018-02-23T02:37:24.839Z"
    }
   },
   "outputs": [],
   "source": [
    "rewrite_restraints_file(reference_restraints='original/a-bam-p/disang',\n",
    "                       target_restraints='generated/a-bam-p/disang',\n",
    "                       reference_to_target_mapping=atom_mapping)"
   ]
  },
  {
   "cell_type": "markdown",
   "metadata": {},
   "source": [
    "# Finally, copy over the box dimensions and angles, and we should be good to go..."
   ]
  },
  {
   "cell_type": "code",
   "execution_count": null,
   "metadata": {
    "ExecuteTime": {
     "end_time": "2018-02-23T02:39:43.698064Z",
     "start_time": "2018-02-23T02:37:24.841Z"
    }
   },
   "outputs": [],
   "source": [
    "copy_box_vectors(input_inpcrd='original/a-bam-p/full.crds',\n",
    "                output_inpcrd='generated/a-bam-p/solvated_smirnoff.inpcrd')"
   ]
  }
 ],
 "metadata": {
  "kernelspec": {
   "display_name": "Python [conda env:openforcefield]",
   "language": "python",
   "name": "conda-env-openforcefield-py"
  },
  "language_info": {
   "codemirror_mode": {
    "name": "ipython",
    "version": 3
   },
   "file_extension": ".py",
   "mimetype": "text/x-python",
   "name": "python",
   "nbconvert_exporter": "python",
   "pygments_lexer": "ipython3",
   "version": "3.6.1"
  }
 },
 "nbformat": 4,
 "nbformat_minor": 2
}
