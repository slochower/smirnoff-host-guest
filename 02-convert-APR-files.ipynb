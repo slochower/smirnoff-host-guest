{
 "cells": [
  {
   "cell_type": "markdown",
   "metadata": {},
   "source": [
    "# Convert a host-guest pair from an attach-pull-release workflow, with dummy atoms, and atom re-indexing"
   ]
  },
  {
   "cell_type": "markdown",
   "metadata": {},
   "source": [
    "**$\\alpha$CD-1-butylamine (primary orientation)**\n",
    "\n",
    "The initial bonded and Lennard-Jones parameters are GAFF v1.8, with partial charges determined using AM1-BCC on from a host residue monomer capped with methyls (see [Niel's paper](https://pubs.acs.org/doi/abs/10.1021/acs.jctc.7b00359) for details).\n",
    "\n",
    "This is largely going to follow the path in the first example notebook, but here we give special treatment to the dummy atoms, we polymerize the host from a single monomer, and we also generate a dictionary that maps between atoms and residues in the initial and final structures, so we rewrite restraints downstream."
   ]
  },
  {
   "cell_type": "code",
   "execution_count": 1,
   "metadata": {
    "ExecuteTime": {
     "end_time": "2018-03-06T22:38:13.240701Z",
     "start_time": "2018-03-06T22:38:12.479860Z"
    }
   },
   "outputs": [],
   "source": [
    "%load_ext autoreload\n",
    "%autoreload 2\n",
    "\n",
    "import os as os\n",
    "import urllib.request\n",
    "\n",
    "import parmed as pmd\n",
    "\n",
    "from openforcefield.typing.engines.smirnoff import ForceField, unit\n",
    "from openforcefield.utils import mergeStructure\n",
    "\n",
    "from smirnovert.utils import (create_pdb_with_conect, prune_conect, split_topology, create_host_guest_topology,\n",
    "                    create_host_mol2, convert_mol2_to_sybyl_antechamber,\n",
    "                    load_mol2, check_unique_atom_names,\n",
    "                    check_bond_lengths,\n",
    "                    extract_water_and_ions, create_water_and_ions_parameters,\n",
    "                    map_atoms, map_residues, load_pdb)"
   ]
  },
  {
   "cell_type": "markdown",
   "metadata": {},
   "source": [
    "Before we begin, let's specify the starting file names and prefix for the intermediary files. We are also going to write a bunch of temporary files that can be cleaned up later, but for debugging, I leave them. Also, the `utils.py` functions using the `logging` module, so we can specify how much information we want. Here I'll set the logging level to `INFO`."
   ]
  },
  {
   "cell_type": "code",
   "execution_count": 2,
   "metadata": {
    "ExecuteTime": {
     "end_time": "2018-03-06T22:38:13.264143Z",
     "start_time": "2018-03-06T22:38:13.242181Z"
    }
   },
   "outputs": [],
   "source": [
    "import logging\n",
    "from importlib import reload\n",
    "# `logging` needs to be reloaded, because `jupyter notebook` itself \n",
    "# uses the logging module to print messages to standard output...\n",
    "reload(logging)\n",
    "logger = logging.getLogger()\n",
    "logger.setLevel(logging.INFO)\n",
    "logging.basicConfig(\n",
    "    format='%(asctime)s %(message)s', datefmt='%Y-%m-%d %I:%M:%S %p')"
   ]
  },
  {
   "cell_type": "code",
   "execution_count": 3,
   "metadata": {
    "ExecuteTime": {
     "end_time": "2018-03-06T22:38:13.382437Z",
     "start_time": "2018-03-06T22:38:13.265569Z"
    }
   },
   "outputs": [],
   "source": [
    "test_case = 'a-bam-p/'\n",
    "reference_destination = './tests/' + test_case + 'original/'\n",
    "reference_prmtop = 'full.topo'\n",
    "reference_inpcrd = 'full.crds'\n",
    "\n",
    "generated_destination = './tests/' + test_case + 'generated/'\n",
    "prefix = 'full'\n",
    "host_resname = 'MGO'\n",
    "guest_resname = 'BAM'\n",
    "\n",
    "\n",
    "try:\n",
    "    os.stat(generated_destination)\n",
    "except:\n",
    "    os.mkdir(generated_destination)"
   ]
  },
  {
   "cell_type": "code",
   "execution_count": 4,
   "metadata": {
    "ExecuteTime": {
     "end_time": "2018-03-06T22:38:13.802529Z",
     "start_time": "2018-03-06T22:38:13.384025Z"
    }
   },
   "outputs": [],
   "source": [
    "reference = pmd.load_file(reference_destination + reference_prmtop, \n",
    "                          xyz=reference_destination + reference_inpcrd)\n",
    "box = reference.box"
   ]
  },
  {
   "cell_type": "markdown",
   "metadata": {},
   "source": [
    "Next, we'll create a proper PDB from these AMBER files, and delete the `CONECT` records that are solvent-solvent."
   ]
  },
  {
   "cell_type": "code",
   "execution_count": 5,
   "metadata": {
    "ExecuteTime": {
     "end_time": "2018-03-06T22:38:13.871391Z",
     "start_time": "2018-03-06T22:38:13.804068Z"
    }
   },
   "outputs": [
    {
     "name": "stderr",
     "output_type": "stream",
     "text": [
      "2018-03-06 02:38:13 PM Creating ./tests/a-bam-p/generated/full.pdb with CONECT records...\n"
     ]
    }
   ],
   "source": [
    "create_pdb_with_conect(solvated_pdb=reference_destination + reference_inpcrd,\n",
    "                      amber_prmtop=reference_destination + reference_prmtop,\n",
    "                      output_pdb=generated_destination + prefix + '.pdb')"
   ]
  },
  {
   "cell_type": "markdown",
   "metadata": {},
   "source": [
    "We need to prune the `CONECT` records to deal with https://github.com/openforcefield/openforcefield/issues/68."
   ]
  },
  {
   "cell_type": "code",
   "execution_count": 6,
   "metadata": {
    "ExecuteTime": {
     "end_time": "2018-03-06T22:38:13.930256Z",
     "start_time": "2018-03-06T22:38:13.873090Z"
    }
   },
   "outputs": [
    {
     "name": "stderr",
     "output_type": "stream",
     "text": [
      "2018-03-06 02:38:13 PM Pruning water-water CONECT records...\n"
     ]
    }
   ],
   "source": [
    "prune_conect(input_pdb=prefix + '.pdb',\n",
    "            output_pdb=prefix + '.pruned.pdb',\n",
    "            path=generated_destination)"
   ]
  },
  {
   "cell_type": "markdown",
   "metadata": {},
   "source": [
    "We'll split the PDB into separate topology objects, and extract the host-guest topology for now."
   ]
  },
  {
   "cell_type": "code",
   "execution_count": 7,
   "metadata": {
    "ExecuteTime": {
     "end_time": "2018-03-06T22:38:15.387725Z",
     "start_time": "2018-03-06T22:38:13.931976Z"
    }
   },
   "outputs": [
    {
     "name": "stderr",
     "output_type": "stream",
     "text": [
      "2018-03-06 02:38:13 PM Splitting topology into components...\n",
      "2018-03-06 02:38:15 PM Creating a combined topology for the host and guest molecules...\n"
     ]
    }
   ],
   "source": [
    "components = split_topology(file_name=generated_destination + prefix + '.pruned.pdb')\n",
    "hg_topology = create_host_guest_topology(components, \n",
    "                                         host_resname=host_resname, \n",
    "                                         guest_resname=guest_resname)"
   ]
  },
  {
   "cell_type": "markdown",
   "metadata": {},
   "source": [
    "Now, let's polymerize the host because the input `mol2` file is only a single sugar residue and not the cyclic molecule. This *should* occur without intervention because `cpptraj` will detect that the single residue in the input `mol2` matches *multiple* residues in the `pdb`, and be able to write out the multiresidue `mol2` file with proper topology."
   ]
  },
  {
   "cell_type": "code",
   "execution_count": 8,
   "metadata": {
    "ExecuteTime": {
     "end_time": "2018-03-06T22:38:15.550210Z",
     "start_time": "2018-03-06T22:38:15.389331Z"
    }
   },
   "outputs": [
    {
     "name": "stderr",
     "output_type": "stream",
     "text": [
      "2018-03-06 02:38:15 PM Writing a `mol2` for the host molecule...\n",
      "2018-03-06 02:38:15 PM Writing a `mol2` for the host molecule...\n",
      "2018-03-06 02:38:15 PM Converting ./tests/a-bam-p/generated/MGO.mol2 to SYBYL atom types via Antechamber...\n",
      "2018-03-06 02:38:15 PM Converting ./tests/a-bam-p/generated/BAM.mol2 to SYBYL atom types via Antechamber...\n"
     ]
    }
   ],
   "source": [
    "create_host_mol2(\n",
    "    solvated_pdb=generated_destination + prefix + '.pruned.pdb',\n",
    "    amber_prmtop=reference_destination + reference_prmtop,\n",
    "    mask=host_resname,\n",
    "    output_mol2=generated_destination + host_resname + '.mol2')\n",
    "\n",
    "create_host_mol2(\n",
    "    solvated_pdb=generated_destination + prefix + '.pdb',\n",
    "    amber_prmtop=reference_destination + reference_prmtop,\n",
    "    mask=guest_resname,\n",
    "    output_mol2=generated_destination + guest_resname + '.mol2')\n",
    "\n",
    "convert_mol2_to_sybyl_antechamber(\n",
    "    input_mol2=generated_destination + host_resname + '.mol2',\n",
    "    output_mol2=generated_destination + host_resname + '-sybyl.mol2',\n",
    "    ac_doctor=False)\n",
    "\n",
    "convert_mol2_to_sybyl_antechamber(\n",
    "    input_mol2=generated_destination + guest_resname + '.mol2',\n",
    "    output_mol2=generated_destination + guest_resname + '-sybyl.mol2',\n",
    "    ac_doctor=True)"
   ]
  },
  {
   "cell_type": "markdown",
   "metadata": {},
   "source": [
    "We also need to separate out waters and ions from the starting AMBER files.\n",
    "\n",
    "Below, we are going to first run `extract_water_and_ions` with `dummy_atoms=True` to also extract the dummy atoms, then run `create_water_and_ions_parameters` with `dummy_atoms=True` to create dummy atom parameters, in contrast to the first example notebook."
   ]
  },
  {
   "cell_type": "code",
   "execution_count": 9,
   "metadata": {
    "ExecuteTime": {
     "end_time": "2018-03-06T22:38:16.986276Z",
     "start_time": "2018-03-06T22:38:15.552128Z"
    }
   },
   "outputs": [
    {
     "name": "stderr",
     "output_type": "stream",
     "text": [
      "2018-03-06 02:38:15 PM Extracting water and ions from ./tests/a-bam-p/original/full.topo...\n",
      "2018-03-06 02:38:15 PM Creating parameters for the waters and ions...\n",
      "2018-03-06 02:38:15 PM Writing a `frcmod` file for dummy atoms...\n",
      "2018-03-06 02:38:15 PM Writing a `mol2` file for dummy atoms...\n"
     ]
    }
   ],
   "source": [
    "extract_water_and_ions(\n",
    "    amber_prmtop=reference_destination + reference_prmtop,\n",
    "    amber_inpcrd=reference_destination + reference_inpcrd,\n",
    "    host_residue=':' + host_resname,\n",
    "    guest_residue=':' + guest_resname,\n",
    "    dummy_atoms=True,\n",
    "    output_pdb=generated_destination + 'water_ions.pdb'\n",
    "    )\n",
    "\n",
    "create_water_and_ions_parameters(\n",
    "    input_pdb='water_ions.pdb',\n",
    "    output_prmtop='water_ions.prmtop',\n",
    "    output_inpcrd='water_ions.inpcrd',\n",
    "    dummy_atoms=True,\n",
    "    path=generated_destination)"
   ]
  },
  {
   "cell_type": "markdown",
   "metadata": {},
   "source": [
    "Now, we'll create `mol2` files with **SYBYL atom types** for the water and ions."
   ]
  },
  {
   "cell_type": "code",
   "execution_count": 10,
   "metadata": {
    "ExecuteTime": {
     "end_time": "2018-03-06T22:38:17.041916Z",
     "start_time": "2018-03-06T22:38:16.987965Z"
    }
   },
   "outputs": [
    {
     "name": "stderr",
     "output_type": "stream",
     "text": [
      "2018-03-06 02:38:17 PM Loading ./tests/a-bam-p/generated/MGO-sybyl.mol2...\n",
      "2018-03-06 02:38:17 PM Loading ./tests/a-bam-p/generated/BAM-sybyl.mol2...\n",
      "2018-03-06 02:38:17 PM Checking all atoms have unique names...\n",
      "2018-03-06 02:38:17 PM Checking all atoms have unique names...\n"
     ]
    }
   ],
   "source": [
    "host = load_mol2(\n",
    "    filename=generated_destination + host_resname + '-sybyl.mol2',\n",
    "    name=host_resname,\n",
    "    add_tripos=True)\n",
    "\n",
    "guest = load_mol2(\n",
    "    filename=generated_destination + guest_resname + '-sybyl.mol2',\n",
    "    name=guest_resname,\n",
    "    add_tripos=False)\n",
    "\n",
    "check_unique_atom_names(host)\n",
    "check_unique_atom_names(guest)\n",
    "molecules = [host, guest]"
   ]
  },
  {
   "cell_type": "markdown",
   "metadata": {},
   "source": [
    "At this point, let's create the OpenMM system with SMIRNOFF99Frosst parameters and finish dealing with the host and guest."
   ]
  },
  {
   "cell_type": "code",
   "execution_count": 11,
   "metadata": {
    "ExecuteTime": {
     "end_time": "2018-03-06T22:38:17.821570Z",
     "start_time": "2018-03-06T22:38:17.044044Z"
    }
   },
   "outputs": [],
   "source": [
    "ff = ForceField('forcefield/smirnoff99Frosst.ffxml')\n",
    "system = ff.createSystem(\n",
    "    hg_topology.topology,\n",
    "    molecules,\n",
    "    nonbondedCutoff=1.1 * unit.nanometer,\n",
    "    ewaldErrorTolerance=1e-4)"
   ]
  },
  {
   "cell_type": "markdown",
   "metadata": {},
   "source": [
    "We'll convert the OpenMM system to a ParmEd structure and check for bad bonds."
   ]
  },
  {
   "cell_type": "code",
   "execution_count": 12,
   "metadata": {
    "ExecuteTime": {
     "end_time": "2018-03-06T22:38:17.943511Z",
     "start_time": "2018-03-06T22:38:17.823189Z"
    }
   },
   "outputs": [
    {
     "name": "stderr",
     "output_type": "stream",
     "text": [
      "2018-03-06 02:38:17 PM Checking structure for bonds >4 A...\n"
     ]
    },
    {
     "name": "stdout",
     "output_type": "stream",
     "text": [
      "Check if the host-guest parameter file already exists...\n",
      "Check if the host-guest coordinate file already exists...\n"
     ]
    }
   ],
   "source": [
    "hg_structure = pmd.openmm.topsystem.load_topology(\n",
    "    hg_topology.topology, system, hg_topology.positions)\n",
    "\n",
    "check_bond_lengths(hg_structure, threshold=4)\n",
    "\n",
    "try:\n",
    "    hg_structure.save(generated_destination + 'hg.prmtop')\n",
    "except OSError:\n",
    "    print(\n",
    "        'Check if the host-guest parameter file already exists...')\n",
    "\n",
    "try:\n",
    "    hg_structure.save(generated_destination + 'hg.inpcrd')\n",
    "except OSError:\n",
    "    print(\n",
    "        'Check if the host-guest coordinate file already exists...')"
   ]
  },
  {
   "cell_type": "markdown",
   "metadata": {},
   "source": [
    "Next, we'll load the water and ions into a ParmEd structure."
   ]
  },
  {
   "cell_type": "code",
   "execution_count": 13,
   "metadata": {
    "ExecuteTime": {
     "end_time": "2018-03-06T22:38:18.319433Z",
     "start_time": "2018-03-06T22:38:17.945646Z"
    }
   },
   "outputs": [],
   "source": [
    "water_and_ions = pmd.amber.AmberParm(\n",
    "    generated_destination + 'water_ions.prmtop',\n",
    "    xyz=generated_destination + 'water_ions.inpcrd')"
   ]
  },
  {
   "cell_type": "markdown",
   "metadata": {},
   "source": [
    "Now, let's merge the host-guest structure with the dummy atoms, the waters, and the ions, and set the box coordinates of the merged structure."
   ]
  },
  {
   "cell_type": "code",
   "execution_count": 14,
   "metadata": {
    "ExecuteTime": {
     "end_time": "2018-03-06T22:38:18.689546Z",
     "start_time": "2018-03-06T22:38:18.321023Z"
    }
   },
   "outputs": [
    {
     "name": "stdout",
     "output_type": "stream",
     "text": [
      "Check if solvated parameter file already exists...\n",
      "Check if solvated coordinate file already exists...\n"
     ]
    }
   ],
   "source": [
    "merged = mergeStructure(hg_structure, water_and_ions)\n",
    "merged.box = reference.box\n",
    "\n",
    "try:\n",
    "    merged.save(generated_destination + 'smirnoff.prmtop')\n",
    "except:\n",
    "    print('Check if solvated parameter file already exists...')\n",
    "try:\n",
    "    merged.save(generated_destination + 'smirnoff.inpcrd')\n",
    "except:\n",
    "    print('Check if solvated coordinate file already exists...')\n"
   ]
  },
  {
   "cell_type": "markdown",
   "metadata": {},
   "source": [
    "At this point, we can compare parameters between the sets, like in the first example notebook. But for attach-pull-release calculations, we usually run simulations with restraints specified relative to the dummy atoms (either by residue number or atom index), and because here we *included* the dummy atoms with the water and ions, they are written *after* the host and guest instead of at the beginning of the coordinates. Thus, the atom indexing and residue indexing between the reference and generated structures are different. N.B. If I include the dummy atoms with the host and guest, I was not able to correctly parameterize the host and guest with SMIRNOFF99Frosst.\n",
    "\n",
    "To help with this, I've written functions that will look through connected bonds and generate a mapping between atoms and residues. To map the atoms, I'm going to save the reference and target structures as `mol2`. To map the residues, I'm going to save the reference and target structures as `pdb`. This is because the interaction between OpenEye and ParmEd (or maybe just one of those) has difficult saving and re-reading `mol2` files with dummy atoms. On the other hand, when reading a `pdb`, we can instruct OpenEye to *not* ignore dummy atoms (if we ignore dummy atoms -- even in both cases -- the graph is not isomorphic). I have not fully investigated what is going on here, but this workaround seems to work well enough."
   ]
  },
  {
   "cell_type": "code",
   "execution_count": 15,
   "metadata": {
    "ExecuteTime": {
     "end_time": "2018-03-06T22:38:18.715735Z",
     "start_time": "2018-03-06T22:38:18.691105Z"
    }
   },
   "outputs": [
    {
     "name": "stdout",
     "output_type": "stream",
     "text": [
      "Check if reference pdb and mol2 files exist...\n",
      "Check if target pdb and mol2 files exist...\n"
     ]
    }
   ],
   "source": [
    "try:\n",
    "    reference.save(generated_destination + 'reference.pdb')\n",
    "    reference.save(generated_destination + 'reference.mol2')\n",
    "except OSError:\n",
    "    print('Check if reference pdb and mol2 files exist...')\n",
    "\n",
    "try:\n",
    "    merged.save(generated_destination + 'target.pdb')\n",
    "    merged.save(generated_destination + 'target.mol2')\n",
    "except OSError:\n",
    "    print('Check if target pdb and mol2 files exist...')"
   ]
  },
  {
   "cell_type": "markdown",
   "metadata": {},
   "source": [
    "Now, let's load those into OpenEye `OEMol`s, so we can do the mapping."
   ]
  },
  {
   "cell_type": "code",
   "execution_count": 16,
   "metadata": {
    "ExecuteTime": {
     "end_time": "2018-03-06T22:38:55.914623Z",
     "start_time": "2018-03-06T22:38:18.717160Z"
    }
   },
   "outputs": [
    {
     "name": "stderr",
     "output_type": "stream",
     "text": [
      "2018-03-06 02:38:18 PM Loading ./tests/a-bam-p/generated/reference.mol2...\n",
      "2018-03-06 02:38:18 PM Loading ./tests/a-bam-p/generated/target.mol2...\n",
      "2018-03-06 02:38:18 PM Generating map between atoms...\n"
     ]
    }
   ],
   "source": [
    "reference_mol = load_mol2(generated_destination + 'reference.mol2')\n",
    "target_mol = load_mol2(generated_destination + 'target.mol2')\n",
    "\n",
    "atom_mapping = map_atoms(reference_mol, target_mol)"
   ]
  },
  {
   "cell_type": "markdown",
   "metadata": {},
   "source": [
    "We can use the atom mapping to do the residue mapping."
   ]
  },
  {
   "cell_type": "code",
   "execution_count": 17,
   "metadata": {
    "ExecuteTime": {
     "end_time": "2018-03-06T22:38:56.490195Z",
     "start_time": "2018-03-06T22:38:55.916546Z"
    }
   },
   "outputs": [
    {
     "name": "stderr",
     "output_type": "stream",
     "text": [
      "2018-03-06 02:38:55 PM Loading ./tests/a-bam-p/generated/reference.pdb...\n",
      "2018-03-06 02:38:55 PM Loading ./tests/a-bam-p/generated/target.pdb...\n",
      "2018-03-06 02:38:56 PM Generating map between residues...\n"
     ]
    }
   ],
   "source": [
    "reference_mol = load_pdb(generated_destination + 'reference.pdb')\n",
    "target_mol = load_pdb(generated_destination + 'target.pdb')\n",
    "\n",
    "residue_mapping = map_residues(atom_mapping, reference_mol, target_mol)"
   ]
  },
  {
   "cell_type": "markdown",
   "metadata": {},
   "source": [
    "Now, we're basically finished. If we had AMBER input files in the same directory, we could rewrite the input file by searching for atom or residue masks as positional restraints and using the dictionaries to replace them (`rewrite_amber_input_file`). Likewise, we could rewrite files with NMR restraints using the atom_mapping dictionary (`rewrite_restraints_file`)."
   ]
  },
  {
   "cell_type": "code",
   "execution_count": null,
   "metadata": {},
   "outputs": [],
   "source": []
  }
 ],
 "metadata": {
  "kernelspec": {
   "display_name": "Python [conda env:smirnoff-host-guest]",
   "language": "python",
   "name": "conda-env-smirnoff-host-guest-py"
  },
  "language_info": {
   "codemirror_mode": {
    "name": "ipython",
    "version": 3
   },
   "file_extension": ".py",
   "mimetype": "text/x-python",
   "name": "python",
   "nbconvert_exporter": "python",
   "pygments_lexer": "ipython3",
   "version": "3.6.4"
  }
 },
 "nbformat": 4,
 "nbformat_minor": 2
}
