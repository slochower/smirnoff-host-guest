{
 "cells": [
  {
   "cell_type": "markdown",
   "metadata": {},
   "source": [
    "# Test conversion on Niel's alpha-cyldextrin bound to 1-butylamine[+1] file!\n",
    "```\n",
    "/data/nhenriksen/projects/cds/wat6/bgbg-tip3p/a-bam-p/a00\n",
    "```"
   ]
  },
  {
   "cell_type": "code",
   "execution_count": 78,
   "metadata": {
    "ExecuteTime": {
     "end_time": "2018-02-20T01:02:36.903624Z",
     "start_time": "2018-02-20T01:02:36.864926Z"
    }
   },
   "outputs": [
    {
     "name": "stdout",
     "output_type": "stream",
     "text": [
      "The autoreload extension is already loaded. To reload it, use:\n",
      "  %reload_ext autoreload\n"
     ]
    }
   ],
   "source": [
    "%load_ext autoreload\n",
    "%autoreload 2\n",
    "\n",
    "import numpy as np\n",
    "import subprocess as sp\n",
    "\n",
    "from openeye.oechem import *\n",
    "from openforcefield.typing.engines.smirnoff import *\n",
    "from openforcefield.utils import mergeStructure\n",
    "import parmed as pmd\n",
    "\n",
    "from utils import create_pdb_with_conect, prune_conect\n",
    "from utils import split_topology, create_host_guest_topology\n",
    "from utils import create_host_mol2\n",
    "from utils import load_mol2, check_unique_atom_names\n",
    "from utils import extract_water_and_ions, create_water_and_ions_parameters\n",
    "from utils import extract_dummy_atoms, create_dummy_atom_parameters\n",
    "from utils import residue_mapping"
   ]
  },
  {
   "cell_type": "code",
   "execution_count": 19,
   "metadata": {
    "ExecuteTime": {
     "end_time": "2018-02-20T00:36:05.173388Z",
     "start_time": "2018-02-20T00:36:05.008035Z"
    }
   },
   "outputs": [
    {
     "name": "stdout",
     "output_type": "stream",
     "text": [
      "PDB file written by cpptraj.\n",
      "First water residue = 160\n",
      "Found first water CONECT entry at line = 8322\n"
     ]
    }
   ],
   "source": [
    "create_pdb_with_conect(solvated_pdb='original/a-bam-p/full.crds', \n",
    "                       amber_prmtop='original/a-bam-p/full.topo', \n",
    "                       output_pdb='generated/a-bam-p/full.pdb')\n",
    "prune_conect(input_pdb='full.pdb', \n",
    "             output_pdb='full_conect.pdb', \n",
    "             path='generated/a-bam-p/')"
   ]
  },
  {
   "cell_type": "code",
   "execution_count": 20,
   "metadata": {
    "ExecuteTime": {
     "end_time": "2018-02-20T00:36:07.615882Z",
     "start_time": "2018-02-20T00:36:05.759946Z"
    }
   },
   "outputs": [],
   "source": [
    "components = split_topology(file_name='generated/a-bam-p/full.pdb')\n",
    "hg_topology = create_host_guest_topology(components, host_resname='MGO', guest_resname='BAM')"
   ]
  },
  {
   "cell_type": "code",
   "execution_count": 21,
   "metadata": {
    "ExecuteTime": {
     "end_time": "2018-02-20T00:36:07.669455Z",
     "start_time": "2018-02-20T00:36:07.617735Z"
    }
   },
   "outputs": [
    {
     "name": "stdout",
     "output_type": "stream",
     "text": [
      "21 atoms in structure, 21 unique atom names.\n",
      "17 atoms in structure, 17 unique atom names.\n"
     ]
    }
   ],
   "source": [
    "host = load_mol2(filename='original/a-bam-p/MGO.mol2', \n",
    "                 name='MGO', \n",
    "                 add_tripos=True)\n",
    "guest = load_mol2(filename='original/a-bam-p/bam.mol2', \n",
    "                  name='BAM', \n",
    "                  add_tripos=False)\n",
    "check_unique_atom_names(host)\n",
    "check_unique_atom_names(guest)\n",
    "molecules = [host, guest]"
   ]
  },
  {
   "cell_type": "code",
   "execution_count": 22,
   "metadata": {
    "ExecuteTime": {
     "end_time": "2018-02-20T00:36:10.021773Z",
     "start_time": "2018-02-20T00:36:09.951724Z"
    }
   },
   "outputs": [
    {
     "name": "stdout",
     "output_type": "stream",
     "text": [
      "MOL2 file written by cpptraj.\n"
     ]
    }
   ],
   "source": [
    "create_host_mol2('generated/a-bam-p/full.pdb', 'original/a-bam-p/full.topo', 'MGO', 'generated/a-bam-p/MGO.mol2')"
   ]
  },
  {
   "cell_type": "code",
   "execution_count": 23,
   "metadata": {
    "ExecuteTime": {
     "end_time": "2018-02-20T00:36:11.296515Z",
     "start_time": "2018-02-20T00:36:11.264425Z"
    }
   },
   "outputs": [
    {
     "name": "stdout",
     "output_type": "stream",
     "text": [
      "126 atoms in structure, 126 unique atom names.\n",
      "17 atoms in structure, 17 unique atom names.\n"
     ]
    }
   ],
   "source": [
    "host = load_mol2(filename='generated/a-bam-p/MGO.mol2', \n",
    "                 name='MGO', \n",
    "                 add_tripos=True)\n",
    "guest = load_mol2(filename='original/a-bam-p/bam.mol2', \n",
    "                  name='BAM', \n",
    "                  add_tripos=False)\n",
    "check_unique_atom_names(host)\n",
    "check_unique_atom_names(guest)\n",
    "molecules = [host, guest]"
   ]
  },
  {
   "cell_type": "code",
   "execution_count": 24,
   "metadata": {
    "ExecuteTime": {
     "end_time": "2018-02-20T00:36:12.324247Z",
     "start_time": "2018-02-20T00:36:11.669549Z"
    }
   },
   "outputs": [],
   "source": [
    "ff = ForceField('forcefield/smirnoff99Frosst.ffxml') \n",
    "system = ff.createSystem(hg_topology.topology, molecules,\n",
    "                         nonbondedCutoff=1.1*unit.nanometer, \n",
    "                         ewaldErrorTolerance=1e-4\n",
    "                         )"
   ]
  },
  {
   "cell_type": "code",
   "execution_count": 25,
   "metadata": {
    "ExecuteTime": {
     "end_time": "2018-02-20T00:36:12.413334Z",
     "start_time": "2018-02-20T00:36:12.326007Z"
    }
   },
   "outputs": [],
   "source": [
    "hg_structure = pmd.openmm.topsystem.load_topology(hg_topology.topology, system, hg_topology.positions)"
   ]
  },
  {
   "cell_type": "code",
   "execution_count": 26,
   "metadata": {
    "ExecuteTime": {
     "end_time": "2018-02-20T00:36:15.279841Z",
     "start_time": "2018-02-20T00:36:15.247677Z"
    }
   },
   "outputs": [
    {
     "ename": "OSError",
     "evalue": "generated/a-bam-p/hg.prmtop exists; not overwriting",
     "output_type": "error",
     "traceback": [
      "\u001b[0;31m---------------------------------------------------------------------------\u001b[0m",
      "\u001b[0;31mOSError\u001b[0m                                   Traceback (most recent call last)",
      "\u001b[0;32m<ipython-input-26-55344263ba02>\u001b[0m in \u001b[0;36m<module>\u001b[0;34m()\u001b[0m\n\u001b[0;32m----> 1\u001b[0;31m \u001b[0mhg_structure\u001b[0m\u001b[0;34m.\u001b[0m\u001b[0msave\u001b[0m\u001b[0;34m(\u001b[0m\u001b[0;34m'generated/a-bam-p/hg.prmtop'\u001b[0m\u001b[0;34m)\u001b[0m\u001b[0;34m\u001b[0m\u001b[0m\n\u001b[0m",
      "\u001b[0;32m~/data/applications/anaconda3/envs/openforcefield/lib/python3.6/site-packages/parmed/structure.py\u001b[0m in \u001b[0;36msave\u001b[0;34m(self, fname, format, overwrite, **kwargs)\u001b[0m\n\u001b[1;32m   1476\u001b[0m         \u001b[0;32mif\u001b[0m \u001b[0;32mnot\u001b[0m \u001b[0mhasattr\u001b[0m\u001b[0;34m(\u001b[0m\u001b[0mfname\u001b[0m\u001b[0;34m,\u001b[0m \u001b[0;34m'write'\u001b[0m\u001b[0;34m)\u001b[0m\u001b[0;34m:\u001b[0m\u001b[0;34m\u001b[0m\u001b[0m\n\u001b[1;32m   1477\u001b[0m             \u001b[0;32mif\u001b[0m \u001b[0mos\u001b[0m\u001b[0;34m.\u001b[0m\u001b[0mpath\u001b[0m\u001b[0;34m.\u001b[0m\u001b[0mexists\u001b[0m\u001b[0;34m(\u001b[0m\u001b[0mfname\u001b[0m\u001b[0;34m)\u001b[0m \u001b[0;32mand\u001b[0m \u001b[0;32mnot\u001b[0m \u001b[0moverwrite\u001b[0m\u001b[0;34m:\u001b[0m\u001b[0;34m\u001b[0m\u001b[0m\n\u001b[0;32m-> 1478\u001b[0;31m                 \u001b[0;32mraise\u001b[0m \u001b[0mIOError\u001b[0m\u001b[0;34m(\u001b[0m\u001b[0;34m'%s exists; not overwriting'\u001b[0m \u001b[0;34m%\u001b[0m \u001b[0mfname\u001b[0m\u001b[0;34m)\u001b[0m\u001b[0;34m\u001b[0m\u001b[0m\n\u001b[0m\u001b[1;32m   1479\u001b[0m         \u001b[0;32melse\u001b[0m\u001b[0;34m:\u001b[0m\u001b[0;34m\u001b[0m\u001b[0m\n\u001b[1;32m   1480\u001b[0m             \u001b[0;32mif\u001b[0m \u001b[0mformat\u001b[0m \u001b[0;32mis\u001b[0m \u001b[0;32mNone\u001b[0m\u001b[0;34m:\u001b[0m\u001b[0;34m\u001b[0m\u001b[0m\n",
      "\u001b[0;31mOSError\u001b[0m: generated/a-bam-p/hg.prmtop exists; not overwriting"
     ]
    }
   ],
   "source": [
    "hg_structure.save('generated/a-bam-p/hg.prmtop')"
   ]
  },
  {
   "cell_type": "code",
   "execution_count": 27,
   "metadata": {
    "ExecuteTime": {
     "end_time": "2018-02-20T00:36:15.489273Z",
     "start_time": "2018-02-20T00:36:15.459331Z"
    }
   },
   "outputs": [
    {
     "ename": "OSError",
     "evalue": "generated/a-bam-p/hg.inpcrd exists; not overwriting",
     "output_type": "error",
     "traceback": [
      "\u001b[0;31m---------------------------------------------------------------------------\u001b[0m",
      "\u001b[0;31mOSError\u001b[0m                                   Traceback (most recent call last)",
      "\u001b[0;32m<ipython-input-27-67082b761a21>\u001b[0m in \u001b[0;36m<module>\u001b[0;34m()\u001b[0m\n\u001b[0;32m----> 1\u001b[0;31m \u001b[0mhg_structure\u001b[0m\u001b[0;34m.\u001b[0m\u001b[0msave\u001b[0m\u001b[0;34m(\u001b[0m\u001b[0;34m'generated/a-bam-p/hg.inpcrd'\u001b[0m\u001b[0;34m)\u001b[0m\u001b[0;34m\u001b[0m\u001b[0m\n\u001b[0m",
      "\u001b[0;32m~/data/applications/anaconda3/envs/openforcefield/lib/python3.6/site-packages/parmed/structure.py\u001b[0m in \u001b[0;36msave\u001b[0;34m(self, fname, format, overwrite, **kwargs)\u001b[0m\n\u001b[1;32m   1476\u001b[0m         \u001b[0;32mif\u001b[0m \u001b[0;32mnot\u001b[0m \u001b[0mhasattr\u001b[0m\u001b[0;34m(\u001b[0m\u001b[0mfname\u001b[0m\u001b[0;34m,\u001b[0m \u001b[0;34m'write'\u001b[0m\u001b[0;34m)\u001b[0m\u001b[0;34m:\u001b[0m\u001b[0;34m\u001b[0m\u001b[0m\n\u001b[1;32m   1477\u001b[0m             \u001b[0;32mif\u001b[0m \u001b[0mos\u001b[0m\u001b[0;34m.\u001b[0m\u001b[0mpath\u001b[0m\u001b[0;34m.\u001b[0m\u001b[0mexists\u001b[0m\u001b[0;34m(\u001b[0m\u001b[0mfname\u001b[0m\u001b[0;34m)\u001b[0m \u001b[0;32mand\u001b[0m \u001b[0;32mnot\u001b[0m \u001b[0moverwrite\u001b[0m\u001b[0;34m:\u001b[0m\u001b[0;34m\u001b[0m\u001b[0m\n\u001b[0;32m-> 1478\u001b[0;31m                 \u001b[0;32mraise\u001b[0m \u001b[0mIOError\u001b[0m\u001b[0;34m(\u001b[0m\u001b[0;34m'%s exists; not overwriting'\u001b[0m \u001b[0;34m%\u001b[0m \u001b[0mfname\u001b[0m\u001b[0;34m)\u001b[0m\u001b[0;34m\u001b[0m\u001b[0m\n\u001b[0m\u001b[1;32m   1479\u001b[0m         \u001b[0;32melse\u001b[0m\u001b[0;34m:\u001b[0m\u001b[0;34m\u001b[0m\u001b[0m\n\u001b[1;32m   1480\u001b[0m             \u001b[0;32mif\u001b[0m \u001b[0mformat\u001b[0m \u001b[0;32mis\u001b[0m \u001b[0;32mNone\u001b[0m\u001b[0;34m:\u001b[0m\u001b[0;34m\u001b[0m\u001b[0m\n",
      "\u001b[0;31mOSError\u001b[0m: generated/a-bam-p/hg.inpcrd exists; not overwriting"
     ]
    }
   ],
   "source": [
    "hg_structure.save('generated/a-bam-p/hg.inpcrd')"
   ]
  },
  {
   "cell_type": "code",
   "execution_count": 28,
   "metadata": {
    "ExecuteTime": {
     "end_time": "2018-02-20T00:36:35.831883Z",
     "start_time": "2018-02-20T00:36:35.808718Z"
    }
   },
   "outputs": [],
   "source": [
    "# extract_dummy_atoms(amber_prmtop='original/a-bam-p/full.topo',\n",
    "#                       amber_inpcrd='original/a-bam-p/full.crds',\n",
    "#                       dummy_residue=':DUM',\n",
    "#                      output_pdb='generated/a-bam-p/dummy.pdb')"
   ]
  },
  {
   "cell_type": "code",
   "execution_count": 29,
   "metadata": {
    "ExecuteTime": {
     "end_time": "2018-02-20T00:36:41.453145Z",
     "start_time": "2018-02-20T00:36:41.428471Z"
    }
   },
   "outputs": [],
   "source": [
    "# create_dummy_atom_parameters(input_pdb='dummy.pdb',\n",
    "#                                 output_prmtop='dummy.prmtop',\n",
    "#                                 output_inpcrd='dummy.inpcrd',\n",
    "#                                 path='generated/a-bam-p/')"
   ]
  },
  {
   "cell_type": "code",
   "execution_count": 30,
   "metadata": {
    "ExecuteTime": {
     "end_time": "2018-02-20T00:37:10.929803Z",
     "start_time": "2018-02-20T00:37:10.852368Z"
    }
   },
   "outputs": [
    {
     "name": "stdout",
     "output_type": "stream",
     "text": [
      "Water and ion PDB file written by cpptraj.\n"
     ]
    }
   ],
   "source": [
    "# extract_water_and_ions(amber_prmtop='original/a-bam-p/full.topo',\n",
    "#                       amber_inpcrd='original/a-bam-p/full.crds',\n",
    "#                       host_residue=':MGO',\n",
    "#                       guest_residue=':BAM',\n",
    "#                       dummy=':DUM',\n",
    "#                       output_pdb='generated/a-bam-p/water_ions.pdb')\n",
    "\n",
    "extract_water_and_ions(amber_prmtop='original/a-bam-p/full.topo',\n",
    "                      amber_inpcrd='original/a-bam-p/full.crds',\n",
    "                      host_residue=':MGO',\n",
    "                      guest_residue=':BAM',\n",
    "                      dummy=None,\n",
    "                      output_pdb='generated/a-bam-p/water_ions.pdb')"
   ]
  },
  {
   "cell_type": "code",
   "execution_count": 31,
   "metadata": {
    "ExecuteTime": {
     "end_time": "2018-02-20T00:37:27.132291Z",
     "start_time": "2018-02-20T00:37:26.727857Z"
    }
   },
   "outputs": [
    {
     "name": "stdout",
     "output_type": "stream",
     "text": [
      "Writing dummy atom `frcmod`.\n",
      "Writing dummy atom `mol2`.\n",
      "Water and ion parameters and coordinates written by tleap.\n"
     ]
    }
   ],
   "source": [
    "# create_water_and_ions_parameters(input_pdb='water_ions.pdb',\n",
    "#                                 output_prmtop='water_ions.prmtop',\n",
    "#                                 output_inpcrd='water_ions.inpcrd',\n",
    "#                                 dummy_atoms=False,\n",
    "#                                 path='generated/a-bam-p/')\n",
    "\n",
    "create_water_and_ions_parameters(input_pdb='water_ions.pdb',\n",
    "                                output_prmtop='water_ions.prmtop',\n",
    "                                output_inpcrd='water_ions.inpcrd',\n",
    "                                dummy_atoms=True,\n",
    "                                path='generated/a-bam-p/')"
   ]
  },
  {
   "cell_type": "code",
   "execution_count": 32,
   "metadata": {
    "ExecuteTime": {
     "end_time": "2018-02-20T00:37:32.042796Z",
     "start_time": "2018-02-20T00:37:32.016373Z"
    }
   },
   "outputs": [],
   "source": [
    "# dummy = pmd.amber.AmberParm('generated/a-bam-p/dummy.prmtop', xyz='generated/a-bam-p/dummy.inpcrd')"
   ]
  },
  {
   "cell_type": "code",
   "execution_count": 33,
   "metadata": {
    "ExecuteTime": {
     "end_time": "2018-02-20T00:37:33.325231Z",
     "start_time": "2018-02-20T00:37:32.704635Z"
    }
   },
   "outputs": [],
   "source": [
    "water_and_ions = pmd.amber.AmberParm('generated/a-bam-p/water_ions.prmtop', xyz='generated/a-bam-p/water_ions.inpcrd')"
   ]
  },
  {
   "cell_type": "code",
   "execution_count": 34,
   "metadata": {
    "ExecuteTime": {
     "end_time": "2018-02-20T00:37:36.883408Z",
     "start_time": "2018-02-20T00:37:36.848894Z"
    }
   },
   "outputs": [],
   "source": [
    "# merged = mergeStructure(dummy, hg_structure)"
   ]
  },
  {
   "cell_type": "code",
   "execution_count": 35,
   "metadata": {
    "ExecuteTime": {
     "end_time": "2018-02-20T00:37:38.873115Z",
     "start_time": "2018-02-20T00:37:38.847946Z"
    }
   },
   "outputs": [],
   "source": [
    "# merged.save('generated/a-bam-p/dum-hg.prmtop')"
   ]
  },
  {
   "cell_type": "code",
   "execution_count": 36,
   "metadata": {
    "ExecuteTime": {
     "end_time": "2018-02-20T00:37:40.555175Z",
     "start_time": "2018-02-20T00:37:40.530052Z"
    }
   },
   "outputs": [],
   "source": [
    "# merged.save('generated/a-bam-p/dum-hg.inpcrd')"
   ]
  },
  {
   "cell_type": "code",
   "execution_count": 38,
   "metadata": {
    "ExecuteTime": {
     "end_time": "2018-02-20T00:38:05.238052Z",
     "start_time": "2018-02-20T00:38:04.880469Z"
    }
   },
   "outputs": [],
   "source": [
    "# merged_2 = mergeStructure(merged, water_and_ions)\n",
    "merged_2 = mergeStructure(hg_structure, water_and_ions)"
   ]
  },
  {
   "cell_type": "code",
   "execution_count": 40,
   "metadata": {
    "ExecuteTime": {
     "end_time": "2018-02-20T00:38:21.870164Z",
     "start_time": "2018-02-20T00:38:19.313217Z"
    }
   },
   "outputs": [],
   "source": [
    "merged_2.save('generated/a-bam-p/solvated_smirnoff.prmtop')"
   ]
  },
  {
   "cell_type": "code",
   "execution_count": 41,
   "metadata": {
    "ExecuteTime": {
     "end_time": "2018-02-20T00:38:21.919084Z",
     "start_time": "2018-02-20T00:38:21.871802Z"
    }
   },
   "outputs": [],
   "source": [
    "merged_2.save('generated/a-bam-p/solvated_smirnoff.inpcrd')"
   ]
  },
  {
   "cell_type": "markdown",
   "metadata": {},
   "source": [
    "This is still a problem because the atom index has changed and that's because the dummy atoms in my file are *after* the host and guest, but the dummy atoms are *before* the host and guest in the original coordinates. I think the easist way to deal with this is to extra them first, then merge."
   ]
  },
  {
   "cell_type": "code",
   "execution_count": 132,
   "metadata": {
    "ExecuteTime": {
     "end_time": "2018-02-14T00:20:37.063402Z",
     "start_time": "2018-02-14T00:20:37.019180Z"
    }
   },
   "outputs": [],
   "source": [
    "merged_2.box"
   ]
  },
  {
   "cell_type": "code",
   "execution_count": 133,
   "metadata": {
    "ExecuteTime": {
     "end_time": "2018-02-14T00:20:46.724506Z",
     "start_time": "2018-02-14T00:20:46.650151Z"
    }
   },
   "outputs": [
    {
     "data": {
      "text/plain": [
       "array([[ 19.42200089,  19.38299942,  26.52599907],\n",
       "       [ 19.42200089,  19.38299942,  21.52599907],\n",
       "       [ 19.42200089,  22.88299942,  18.02599907],\n",
       "       ..., \n",
       "       [ 16.58300018,  18.46800041,  17.95100021],\n",
       "       [ 17.37599945,  17.97299957,  17.74300003],\n",
       "       [ 16.87700081,  19.14699936,  18.55800056]], dtype=float32)"
      ]
     },
     "execution_count": 133,
     "metadata": {},
     "output_type": "execute_result"
    }
   ],
   "source": [
    "merged_2.coordinates"
   ]
  },
  {
   "cell_type": "code",
   "execution_count": 134,
   "metadata": {
    "ExecuteTime": {
     "end_time": "2018-02-14T00:21:07.238120Z",
     "start_time": "2018-02-14T00:21:07.212658Z"
    }
   },
   "outputs": [
    {
     "data": {
      "text/plain": [
       "<bound method Structure.visualize of <AmberParm 6159 atoms; 2023 residues; 6148 bonds; parametrized>>"
      ]
     },
     "execution_count": 134,
     "metadata": {},
     "output_type": "execute_result"
    }
   ],
   "source": [
    "merged_2.visualize"
   ]
  },
  {
   "cell_type": "code",
   "execution_count": 136,
   "metadata": {
    "ExecuteTime": {
     "end_time": "2018-02-14T00:21:46.937965Z",
     "start_time": "2018-02-14T00:21:46.362626Z"
    }
   },
   "outputs": [],
   "source": [
    "merged = dummy + hg_structure + water_and_ions"
   ]
  },
  {
   "cell_type": "code",
   "execution_count": 137,
   "metadata": {
    "ExecuteTime": {
     "end_time": "2018-02-14T00:21:48.884479Z",
     "start_time": "2018-02-14T00:21:48.858171Z"
    }
   },
   "outputs": [
    {
     "data": {
      "text/plain": [
       "<AmberParm 6159 atoms; 2023 residues; 6148 bonds; parametrized>"
      ]
     },
     "execution_count": 137,
     "metadata": {},
     "output_type": "execute_result"
    }
   ],
   "source": [
    "merged"
   ]
  },
  {
   "cell_type": "code",
   "execution_count": 138,
   "metadata": {
    "ExecuteTime": {
     "end_time": "2018-02-14T00:21:59.041005Z",
     "start_time": "2018-02-14T00:21:58.650691Z"
    }
   },
   "outputs": [],
   "source": [
    "merged.save('generated/a-bam-p/tmp.prmtop')"
   ]
  },
  {
   "cell_type": "code",
   "execution_count": 139,
   "metadata": {
    "ExecuteTime": {
     "end_time": "2018-02-14T00:22:18.575449Z",
     "start_time": "2018-02-14T00:22:18.522378Z"
    }
   },
   "outputs": [],
   "source": [
    "merged.save('generated/a-bam-p/tmp.inpcrd')"
   ]
  },
  {
   "cell_type": "code",
   "execution_count": 141,
   "metadata": {
    "ExecuteTime": {
     "end_time": "2018-02-14T00:30:42.261452Z",
     "start_time": "2018-02-14T00:30:42.191187Z"
    }
   },
   "outputs": [
    {
     "ename": "IndexError",
     "evalue": "list index out of range",
     "output_type": "error",
     "traceback": [
      "\u001b[0;31m---------------------------------------------------------------------------\u001b[0m",
      "\u001b[0;31mIndexError\u001b[0m                                Traceback (most recent call last)",
      "\u001b[0;32m<ipython-input-141-317760bb6df3>\u001b[0m in \u001b[0;36m<module>\u001b[0;34m()\u001b[0m\n\u001b[0;32m----> 1\u001b[0;31m \u001b[0mprmtop\u001b[0m \u001b[0;34m=\u001b[0m \u001b[0mpmd\u001b[0m\u001b[0;34m.\u001b[0m\u001b[0mamber\u001b[0m\u001b[0;34m.\u001b[0m\u001b[0mAmberParm\u001b[0m\u001b[0;34m(\u001b[0m\u001b[0;34m'generated/a-bam-p/tmp.prmtop'\u001b[0m\u001b[0;34m)\u001b[0m\u001b[0;34m\u001b[0m\u001b[0m\n\u001b[0m\u001b[1;32m      2\u001b[0m \u001b[0mpmd\u001b[0m\u001b[0;34m.\u001b[0m\u001b[0mtools\u001b[0m\u001b[0;34m.\u001b[0m\u001b[0mcheckValidity\u001b[0m\u001b[0;34m(\u001b[0m\u001b[0mprmtop\u001b[0m\u001b[0;34m)\u001b[0m\u001b[0;34m\u001b[0m\u001b[0m\n",
      "\u001b[0;32m~/data/applications/anaconda3/envs/openforcefield/lib/python3.6/site-packages/parmed/amber/_amberparm.py\u001b[0m in \u001b[0;36m__init__\u001b[0;34m(self, prm_name, xyz, box, rst7_name)\u001b[0m\n\u001b[1;32m    180\u001b[0m             \u001b[0mself\u001b[0m\u001b[0;34m.\u001b[0m\u001b[0mcrdname\u001b[0m \u001b[0;34m=\u001b[0m \u001b[0mxyz\u001b[0m\u001b[0;34m\u001b[0m\u001b[0m\n\u001b[1;32m    181\u001b[0m         \u001b[0;32mif\u001b[0m \u001b[0mprm_name\u001b[0m \u001b[0;32mis\u001b[0m \u001b[0;32mnot\u001b[0m \u001b[0;32mNone\u001b[0m\u001b[0;34m:\u001b[0m\u001b[0;34m\u001b[0m\u001b[0m\n\u001b[0;32m--> 182\u001b[0;31m             \u001b[0mself\u001b[0m\u001b[0;34m.\u001b[0m\u001b[0minitialize_topology\u001b[0m\u001b[0;34m(\u001b[0m\u001b[0mxyz\u001b[0m\u001b[0;34m,\u001b[0m \u001b[0mbox\u001b[0m\u001b[0;34m)\u001b[0m\u001b[0;34m\u001b[0m\u001b[0m\n\u001b[0m\u001b[1;32m    183\u001b[0m \u001b[0;34m\u001b[0m\u001b[0m\n\u001b[1;32m    184\u001b[0m     \u001b[0;31m#===================================================\u001b[0m\u001b[0;34m\u001b[0m\u001b[0;34m\u001b[0m\u001b[0m\n",
      "\u001b[0;32m~/data/applications/anaconda3/envs/openforcefield/lib/python3.6/site-packages/parmed/amber/_amberparm.py\u001b[0m in \u001b[0;36minitialize_topology\u001b[0;34m(self, xyz, box)\u001b[0m\n\u001b[1;32m    201\u001b[0m         \u001b[0mself\u001b[0m\u001b[0;34m.\u001b[0m\u001b[0mLJ_depth\u001b[0m \u001b[0;34m=\u001b[0m \u001b[0;34m[\u001b[0m\u001b[0;34m]\u001b[0m\u001b[0;34m\u001b[0m\u001b[0m\n\u001b[1;32m    202\u001b[0m         \u001b[0mself\u001b[0m\u001b[0;34m.\u001b[0m\u001b[0mload_pointers\u001b[0m\u001b[0;34m(\u001b[0m\u001b[0;34m)\u001b[0m\u001b[0;34m\u001b[0m\u001b[0m\n\u001b[0;32m--> 203\u001b[0;31m         \u001b[0mself\u001b[0m\u001b[0;34m.\u001b[0m\u001b[0mfill_LJ\u001b[0m\u001b[0;34m(\u001b[0m\u001b[0;34m)\u001b[0m\u001b[0;34m\u001b[0m\u001b[0m\n\u001b[0m\u001b[1;32m    204\u001b[0m         \u001b[0;31m# The way we check if the combining rules are geometric vs.\u001b[0m\u001b[0;34m\u001b[0m\u001b[0;34m\u001b[0m\u001b[0m\n\u001b[1;32m    205\u001b[0m         \u001b[0;31m# Lorentz-Berthelot is to try and change the combining rules to\u001b[0m\u001b[0;34m\u001b[0m\u001b[0;34m\u001b[0m\u001b[0m\n",
      "\u001b[0;32m~/data/applications/anaconda3/envs/openforcefield/lib/python3.6/site-packages/parmed/amber/_amberparm.py\u001b[0m in \u001b[0;36mfill_LJ\u001b[0;34m(self)\u001b[0m\n\u001b[1;32m    813\u001b[0m \u001b[0;34m\u001b[0m\u001b[0m\n\u001b[1;32m    814\u001b[0m         \u001b[0;32mfor\u001b[0m \u001b[0mi\u001b[0m \u001b[0;32min\u001b[0m \u001b[0mrange\u001b[0m\u001b[0;34m(\u001b[0m\u001b[0mntypes\u001b[0m\u001b[0;34m)\u001b[0m\u001b[0;34m:\u001b[0m\u001b[0;34m\u001b[0m\u001b[0m\n\u001b[0;32m--> 815\u001b[0;31m             \u001b[0mlj_index\u001b[0m \u001b[0;34m=\u001b[0m \u001b[0mpd\u001b[0m\u001b[0;34m[\u001b[0m\u001b[0;34m\"NONBONDED_PARM_INDEX\"\u001b[0m\u001b[0;34m]\u001b[0m\u001b[0;34m[\u001b[0m\u001b[0mntypes\u001b[0m\u001b[0;34m*\u001b[0m\u001b[0mi\u001b[0m\u001b[0;34m+\u001b[0m\u001b[0mi\u001b[0m\u001b[0;34m]\u001b[0m \u001b[0;34m-\u001b[0m \u001b[0;36m1\u001b[0m\u001b[0;34m\u001b[0m\u001b[0m\n\u001b[0m\u001b[1;32m    816\u001b[0m             \u001b[0;32mif\u001b[0m \u001b[0mlj_index\u001b[0m \u001b[0;34m<\u001b[0m \u001b[0;36m0\u001b[0m \u001b[0;32mor\u001b[0m \u001b[0mpd\u001b[0m\u001b[0;34m[\u001b[0m\u001b[0;34m\"LENNARD_JONES_ACOEF\"\u001b[0m\u001b[0;34m]\u001b[0m\u001b[0;34m[\u001b[0m\u001b[0mlj_index\u001b[0m\u001b[0;34m]\u001b[0m \u001b[0;34m<\u001b[0m \u001b[0;36m1.0e-10\u001b[0m\u001b[0;34m:\u001b[0m\u001b[0;34m\u001b[0m\u001b[0m\n\u001b[1;32m    817\u001b[0m                 \u001b[0mself\u001b[0m\u001b[0;34m.\u001b[0m\u001b[0mLJ_radius\u001b[0m\u001b[0;34m.\u001b[0m\u001b[0mappend\u001b[0m\u001b[0;34m(\u001b[0m\u001b[0;36m0\u001b[0m\u001b[0;34m)\u001b[0m\u001b[0;34m\u001b[0m\u001b[0m\n",
      "\u001b[0;31mIndexError\u001b[0m: list index out of range"
     ]
    }
   ],
   "source": [
    "prmtop = pmd.amber.AmberParm('generated/a-bam-p/tmp.prmtop')\n",
    "pmd.tools.checkValidity(prmtop)"
   ]
  },
  {
   "cell_type": "markdown",
   "metadata": {},
   "source": [
    "The problem comes from separating out the dummy atoms. Let's *keep* the dummy atoms in place, and re-write the `disang` file with a mapping between the index numbers in my host and guest molecule and Niel's."
   ]
  },
  {
   "cell_type": "code",
   "execution_count": 52,
   "metadata": {
    "ExecuteTime": {
     "end_time": "2018-02-20T00:40:20.076262Z",
     "start_time": "2018-02-20T00:40:18.431685Z"
    }
   },
   "outputs": [],
   "source": [
    "def residue_mapping\n",
    "\n",
    "original = pmd.load_file('original/a-bam-p/full.topo', 'original/a-bam-p/full.crds')\n",
    "new = pmd.load_file('generated/a-bam-p/solvated_smirnoff.prmtop', 'generated/a-bam-p/solvated_smirnoff.inpcrd')\n",
    "from utils import atom_mapping\n",
    "original_host = pmd.amber.mask.AmberMask(original, ':MGO')\n",
    "new_host = pmd.amber.mask.AmberMask(new, ':MGO')\n",
    "# atom_mapping(original_host, new_host)"
   ]
  },
  {
   "cell_type": "code",
   "execution_count": 53,
   "metadata": {
    "ExecuteTime": {
     "end_time": "2018-02-20T00:40:20.099561Z",
     "start_time": "2018-02-20T00:40:20.077793Z"
    }
   },
   "outputs": [],
   "source": [
    "from oeommtools.utils import *"
   ]
  },
  {
   "cell_type": "code",
   "execution_count": 54,
   "metadata": {
    "ExecuteTime": {
     "end_time": "2018-02-20T00:40:20.942986Z",
     "start_time": "2018-02-20T00:40:20.724742Z"
    }
   },
   "outputs": [
    {
     "ename": "AttributeError",
     "evalue": "'AmberParm' object has no attribute 'chains'",
     "output_type": "error",
     "traceback": [
      "\u001b[0;31m---------------------------------------------------------------------------\u001b[0m",
      "\u001b[0;31mAttributeError\u001b[0m                            Traceback (most recent call last)",
      "\u001b[0;32m<ipython-input-54-9894052024ad>\u001b[0m in \u001b[0;36m<module>\u001b[0;34m()\u001b[0m\n\u001b[0;32m----> 1\u001b[0;31m \u001b[0mopenmmTop_to_oemol\u001b[0m\u001b[0;34m(\u001b[0m\u001b[0moriginal\u001b[0m\u001b[0;34m[\u001b[0m\u001b[0;34m':MGO'\u001b[0m\u001b[0;34m]\u001b[0m\u001b[0;34m,\u001b[0m \u001b[0moriginal\u001b[0m\u001b[0;34m[\u001b[0m\u001b[0;34m':MGO'\u001b[0m\u001b[0;34m]\u001b[0m\u001b[0;34m.\u001b[0m\u001b[0mpositions\u001b[0m\u001b[0;34m)\u001b[0m\u001b[0;34m\u001b[0m\u001b[0m\n\u001b[0m",
      "\u001b[0;32m~/data/applications/anaconda3/envs/openforcefield/lib/python3.6/site-packages/oeommtools-0.0.6-py3.6.egg/oeommtools/utils.py\u001b[0m in \u001b[0;36mopenmmTop_to_oemol\u001b[0;34m(topology, positions, verbose)\u001b[0m\n\u001b[1;32m    126\u001b[0m     \u001b[0mkeep\u001b[0m \u001b[0;34m=\u001b[0m \u001b[0mset\u001b[0m\u001b[0;34m(\u001b[0m\u001b[0mproteinResidues\u001b[0m\u001b[0;34m)\u001b[0m\u001b[0;34m.\u001b[0m\u001b[0munion\u001b[0m\u001b[0;34m(\u001b[0m\u001b[0mdnaResidues\u001b[0m\u001b[0;34m)\u001b[0m\u001b[0;34m.\u001b[0m\u001b[0munion\u001b[0m\u001b[0;34m(\u001b[0m\u001b[0mrnaResidues\u001b[0m\u001b[0;34m)\u001b[0m\u001b[0;34m\u001b[0m\u001b[0m\n\u001b[1;32m    127\u001b[0m \u001b[0;34m\u001b[0m\u001b[0m\n\u001b[0;32m--> 128\u001b[0;31m     \u001b[0;32mfor\u001b[0m \u001b[0mchain\u001b[0m \u001b[0;32min\u001b[0m \u001b[0mtopology\u001b[0m\u001b[0;34m.\u001b[0m\u001b[0mchains\u001b[0m\u001b[0;34m(\u001b[0m\u001b[0;34m)\u001b[0m\u001b[0;34m:\u001b[0m\u001b[0;34m\u001b[0m\u001b[0m\n\u001b[0m\u001b[1;32m    129\u001b[0m         \u001b[0;32mfor\u001b[0m \u001b[0mres\u001b[0m \u001b[0;32min\u001b[0m \u001b[0mchain\u001b[0m\u001b[0;34m.\u001b[0m\u001b[0mresidues\u001b[0m\u001b[0;34m(\u001b[0m\u001b[0;34m)\u001b[0m\u001b[0;34m:\u001b[0m\u001b[0;34m\u001b[0m\u001b[0m\n\u001b[1;32m    130\u001b[0m             \u001b[0;31m# Create an OEResidue\u001b[0m\u001b[0;34m\u001b[0m\u001b[0;34m\u001b[0m\u001b[0m\n",
      "\u001b[0;31mAttributeError\u001b[0m: 'AmberParm' object has no attribute 'chains'"
     ]
    }
   ],
   "source": [
    "openmmTop_to_oemol(original[':MGO'], original[':MGO'].positions)"
   ]
  },
  {
   "cell_type": "code",
   "execution_count": 55,
   "metadata": {
    "ExecuteTime": {
     "end_time": "2018-02-20T00:40:21.386450Z",
     "start_time": "2018-02-20T00:40:21.349606Z"
    }
   },
   "outputs": [
    {
     "ename": "AttributeError",
     "evalue": "'AmberParm' object has no attribute 'chains'",
     "output_type": "error",
     "traceback": [
      "\u001b[0;31m---------------------------------------------------------------------------\u001b[0m",
      "\u001b[0;31mAttributeError\u001b[0m                            Traceback (most recent call last)",
      "\u001b[0;32m<ipython-input-55-705968a47751>\u001b[0m in \u001b[0;36m<module>\u001b[0;34m()\u001b[0m\n\u001b[0;32m----> 1\u001b[0;31m \u001b[0mopenmmTop_to_oemol\u001b[0m\u001b[0;34m(\u001b[0m\u001b[0moriginal\u001b[0m\u001b[0;34m,\u001b[0m \u001b[0moriginal\u001b[0m\u001b[0;34m.\u001b[0m\u001b[0mpositions\u001b[0m\u001b[0;34m)\u001b[0m\u001b[0;34m\u001b[0m\u001b[0m\n\u001b[0m",
      "\u001b[0;32m~/data/applications/anaconda3/envs/openforcefield/lib/python3.6/site-packages/oeommtools-0.0.6-py3.6.egg/oeommtools/utils.py\u001b[0m in \u001b[0;36mopenmmTop_to_oemol\u001b[0;34m(topology, positions, verbose)\u001b[0m\n\u001b[1;32m    126\u001b[0m     \u001b[0mkeep\u001b[0m \u001b[0;34m=\u001b[0m \u001b[0mset\u001b[0m\u001b[0;34m(\u001b[0m\u001b[0mproteinResidues\u001b[0m\u001b[0;34m)\u001b[0m\u001b[0;34m.\u001b[0m\u001b[0munion\u001b[0m\u001b[0;34m(\u001b[0m\u001b[0mdnaResidues\u001b[0m\u001b[0;34m)\u001b[0m\u001b[0;34m.\u001b[0m\u001b[0munion\u001b[0m\u001b[0;34m(\u001b[0m\u001b[0mrnaResidues\u001b[0m\u001b[0;34m)\u001b[0m\u001b[0;34m\u001b[0m\u001b[0m\n\u001b[1;32m    127\u001b[0m \u001b[0;34m\u001b[0m\u001b[0m\n\u001b[0;32m--> 128\u001b[0;31m     \u001b[0;32mfor\u001b[0m \u001b[0mchain\u001b[0m \u001b[0;32min\u001b[0m \u001b[0mtopology\u001b[0m\u001b[0;34m.\u001b[0m\u001b[0mchains\u001b[0m\u001b[0;34m(\u001b[0m\u001b[0;34m)\u001b[0m\u001b[0;34m:\u001b[0m\u001b[0;34m\u001b[0m\u001b[0m\n\u001b[0m\u001b[1;32m    129\u001b[0m         \u001b[0;32mfor\u001b[0m \u001b[0mres\u001b[0m \u001b[0;32min\u001b[0m \u001b[0mchain\u001b[0m\u001b[0;34m.\u001b[0m\u001b[0mresidues\u001b[0m\u001b[0;34m(\u001b[0m\u001b[0;34m)\u001b[0m\u001b[0;34m:\u001b[0m\u001b[0;34m\u001b[0m\u001b[0m\n\u001b[1;32m    130\u001b[0m             \u001b[0;31m# Create an OEResidue\u001b[0m\u001b[0;34m\u001b[0m\u001b[0;34m\u001b[0m\u001b[0m\n",
      "\u001b[0;31mAttributeError\u001b[0m: 'AmberParm' object has no attribute 'chains'"
     ]
    }
   ],
   "source": [
    "openmmTop_to_oemol(original, original.positions)"
   ]
  },
  {
   "cell_type": "code",
   "execution_count": 59,
   "metadata": {
    "ExecuteTime": {
     "end_time": "2018-02-20T00:42:51.987698Z",
     "start_time": "2018-02-20T00:42:51.857645Z"
    }
   },
   "outputs": [],
   "source": [
    "original[':MGO'].save('tmp.mol2')"
   ]
  },
  {
   "cell_type": "code",
   "execution_count": 60,
   "metadata": {
    "ExecuteTime": {
     "end_time": "2018-02-20T00:43:19.894968Z",
     "start_time": "2018-02-20T00:43:19.872302Z"
    }
   },
   "outputs": [],
   "source": [
    "from utils import load_mol2"
   ]
  },
  {
   "cell_type": "code",
   "execution_count": 64,
   "metadata": {
    "ExecuteTime": {
     "end_time": "2018-02-20T00:43:56.264609Z",
     "start_time": "2018-02-20T00:43:56.241089Z"
    }
   },
   "outputs": [],
   "source": [
    "original_OEMol = load_mol2('tmp.mol2')"
   ]
  },
  {
   "cell_type": "code",
   "execution_count": 65,
   "metadata": {
    "ExecuteTime": {
     "end_time": "2018-02-20T00:43:58.033516Z",
     "start_time": "2018-02-20T00:43:57.887688Z"
    }
   },
   "outputs": [
    {
     "ename": "OSError",
     "evalue": "tmp2.mol2 exists; not overwriting",
     "output_type": "error",
     "traceback": [
      "\u001b[0;31m---------------------------------------------------------------------------\u001b[0m",
      "\u001b[0;31mOSError\u001b[0m                                   Traceback (most recent call last)",
      "\u001b[0;32m<ipython-input-65-74f7c1eb47f9>\u001b[0m in \u001b[0;36m<module>\u001b[0;34m()\u001b[0m\n\u001b[0;32m----> 1\u001b[0;31m \u001b[0mnew\u001b[0m\u001b[0;34m[\u001b[0m\u001b[0;34m':MGO'\u001b[0m\u001b[0;34m]\u001b[0m\u001b[0;34m.\u001b[0m\u001b[0msave\u001b[0m\u001b[0;34m(\u001b[0m\u001b[0;34m'tmp2.mol2'\u001b[0m\u001b[0;34m)\u001b[0m\u001b[0;34m\u001b[0m\u001b[0m\n\u001b[0m",
      "\u001b[0;32m~/data/applications/anaconda3/envs/openforcefield/lib/python3.6/site-packages/parmed/structure.py\u001b[0m in \u001b[0;36msave\u001b[0;34m(self, fname, format, overwrite, **kwargs)\u001b[0m\n\u001b[1;32m   1476\u001b[0m         \u001b[0;32mif\u001b[0m \u001b[0;32mnot\u001b[0m \u001b[0mhasattr\u001b[0m\u001b[0;34m(\u001b[0m\u001b[0mfname\u001b[0m\u001b[0;34m,\u001b[0m \u001b[0;34m'write'\u001b[0m\u001b[0;34m)\u001b[0m\u001b[0;34m:\u001b[0m\u001b[0;34m\u001b[0m\u001b[0m\n\u001b[1;32m   1477\u001b[0m             \u001b[0;32mif\u001b[0m \u001b[0mos\u001b[0m\u001b[0;34m.\u001b[0m\u001b[0mpath\u001b[0m\u001b[0;34m.\u001b[0m\u001b[0mexists\u001b[0m\u001b[0;34m(\u001b[0m\u001b[0mfname\u001b[0m\u001b[0;34m)\u001b[0m \u001b[0;32mand\u001b[0m \u001b[0;32mnot\u001b[0m \u001b[0moverwrite\u001b[0m\u001b[0;34m:\u001b[0m\u001b[0;34m\u001b[0m\u001b[0m\n\u001b[0;32m-> 1478\u001b[0;31m                 \u001b[0;32mraise\u001b[0m \u001b[0mIOError\u001b[0m\u001b[0;34m(\u001b[0m\u001b[0;34m'%s exists; not overwriting'\u001b[0m \u001b[0;34m%\u001b[0m \u001b[0mfname\u001b[0m\u001b[0;34m)\u001b[0m\u001b[0;34m\u001b[0m\u001b[0m\n\u001b[0m\u001b[1;32m   1479\u001b[0m         \u001b[0;32melse\u001b[0m\u001b[0;34m:\u001b[0m\u001b[0;34m\u001b[0m\u001b[0m\n\u001b[1;32m   1480\u001b[0m             \u001b[0;32mif\u001b[0m \u001b[0mformat\u001b[0m \u001b[0;32mis\u001b[0m \u001b[0;32mNone\u001b[0m\u001b[0;34m:\u001b[0m\u001b[0;34m\u001b[0m\u001b[0m\n",
      "\u001b[0;31mOSError\u001b[0m: tmp2.mol2 exists; not overwriting"
     ]
    }
   ],
   "source": [
    "new[':MGO'].save('tmp2.mol2')"
   ]
  },
  {
   "cell_type": "code",
   "execution_count": 66,
   "metadata": {
    "ExecuteTime": {
     "end_time": "2018-02-20T00:44:06.646783Z",
     "start_time": "2018-02-20T00:44:06.623764Z"
    }
   },
   "outputs": [],
   "source": [
    "new_OEMol = load_mol2('tmp2.mol2')"
   ]
  },
  {
   "cell_type": "code",
   "execution_count": 67,
   "metadata": {
    "ExecuteTime": {
     "end_time": "2018-02-20T00:44:19.764650Z",
     "start_time": "2018-02-20T00:44:19.599853Z"
    },
    "scrolled": true
   },
   "outputs": [
    {
     "name": "stdout",
     "output_type": "stream",
     "text": [
      "Determining mapping...\n",
      "Reference → Target\n",
      "(C1   Du   )   0 →   0 (C1  )\n",
      "(H1   Du   )   1 →   1 (H1  )\n",
      "(Os1  Du   )   2 →   2 (O1  )\n",
      "(C2   Du   )   3 →   3 (C2  )\n",
      "(H2   Du   )   4 →   4 (H2  )\n",
      "(O1   Du   )   5 →   5 (O2  )\n",
      "(Ho1  Du   )   6 →   6 (H3  )\n",
      "(C3   Du   )   7 →   7 (C3  )\n",
      "(H3   Du   )   8 →   8 (H4  )\n",
      "(O2   Du   )   9 →   9 (O3  )\n",
      "(Ho2  Du   )  10 →  10 (H5  )\n",
      "(C4   Du   )  11 →  11 (C4  )\n",
      "(H4   Du   )  12 →  12 (H6  )\n",
      "(C5   Du   )  13 →  13 (C5  )\n",
      "(H5   Du   )  14 →  14 (H7  )\n",
      "(Os2  Du   )  15 →  15 (O4  )\n",
      "(C6   Du   )  16 →  16 (C6  )\n",
      "(H6   Du   )  17 →  17 (H8  )\n",
      "(H7   Du   )  18 →  18 (H9  )\n",
      "(O3   Du   )  19 →  19 (O5  )\n",
      "(Ho3  Du   )  20 →  20 (H10 )\n",
      "(C10  Du   )  32 →  32 (C10 )\n",
      "(C9   Du   )  28 →  28 (C9  )\n",
      "(C8   Du   )  24 →  24 (C8  )\n",
      "(C7   Du   )  21 →  21 (C7  )\n",
      "(H8   Du   )  22 →  22 (H11 )\n",
      "(Os3  Du   )  23 →  23 (O6  )\n",
      "(H9   Du   )  25 →  25 (H12 )\n",
      "(O4   Du   )  26 →  26 (O7  )\n",
      "(Ho4  Du   )  27 →  27 (H13 )\n",
      "(H10  Du   )  29 →  29 (H14 )\n",
      "(O5   Du   )  30 →  30 (O8  )\n",
      "(Ho5  Du   )  31 →  31 (H15 )\n",
      "(H11  Du   )  33 →  33 (H16 )\n",
      "(C11  Du   )  34 →  34 (C11 )\n",
      "(H12  Du   )  35 →  35 (H17 )\n",
      "(Os4  Du   )  36 →  36 (O9  )\n",
      "(C12  Du   )  37 →  37 (C12 )\n",
      "(H13  Du   )  38 →  38 (H18 )\n",
      "(H14  Du   )  39 →  39 (H19 )\n",
      "(O6   Du   )  40 →  40 (O10 )\n",
      "(Ho6  Du   )  41 →  41 (H20 )\n",
      "(C16  Du   )  53 →  53 (C16 )\n",
      "(C15  Du   )  49 →  49 (C15 )\n",
      "(C14  Du   )  45 →  45 (C14 )\n",
      "(C13  Du   )  42 →  42 (C13 )\n",
      "(H15  Du   )  43 →  43 (H21 )\n",
      "(Os5  Du   )  44 →  44 (O11 )\n",
      "(H16  Du   )  46 →  46 (H22 )\n",
      "(O7   Du   )  47 →  47 (O12 )\n",
      "(Ho7  Du   )  48 →  48 (H23 )\n",
      "(H17  Du   )  50 →  50 (H24 )\n",
      "(O8   Du   )  51 →  51 (O13 )\n",
      "(Ho8  Du   )  52 →  52 (H25 )\n",
      "(H18  Du   )  54 →  54 (H26 )\n",
      "(C17  Du   )  55 →  55 (C17 )\n",
      "(H19  Du   )  56 →  56 (H27 )\n",
      "(Os6  Du   )  57 →  57 (O14 )\n",
      "(C18  Du   )  58 →  58 (C18 )\n",
      "(H20  Du   )  59 →  59 (H28 )\n",
      "(H21  Du   )  60 →  60 (H29 )\n",
      "(O9   Du   )  61 →  61 (O15 )\n",
      "(Ho9  Du   )  62 →  62 (H30 )\n",
      "(C22  Du   )  74 →  74 (C22 )\n",
      "(C21  Du   )  70 →  70 (C21 )\n",
      "(C20  Du   )  66 →  66 (C20 )\n",
      "(C19  Du   )  63 →  63 (C19 )\n",
      "(H22  Du   )  64 →  64 (H31 )\n",
      "(Os7  Du   )  65 →  65 (O16 )\n",
      "(H23  Du   )  67 →  67 (H32 )\n",
      "(O10  Du   )  68 →  68 (O17 )\n",
      "(Ho10 Du   )  69 →  69 (H33 )\n",
      "(H24  Du   )  71 →  71 (H34 )\n",
      "(O11  Du   )  72 →  72 (O18 )\n",
      "(Ho11 Du   )  73 →  73 (H35 )\n",
      "(H25  Du   )  75 →  75 (H36 )\n",
      "(C23  Du   )  76 →  76 (C23 )\n",
      "(H26  Du   )  77 →  77 (H37 )\n",
      "(Os8  Du   )  78 →  78 (O19 )\n",
      "(C24  Du   )  79 →  79 (C24 )\n",
      "(H27  Du   )  80 →  80 (H38 )\n",
      "(H28  Du   )  81 →  81 (H39 )\n",
      "(O12  Du   )  82 →  82 (O20 )\n",
      "(Ho12 Du   )  83 →  83 (H40 )\n",
      "(C28  Du   )  95 →  95 (C28 )\n",
      "(C27  Du   )  91 →  91 (C27 )\n",
      "(C26  Du   )  87 →  87 (C26 )\n",
      "(C25  Du   )  84 →  84 (C25 )\n",
      "(H29  Du   )  85 →  85 (H41 )\n",
      "(Os9  Du   )  86 →  86 (O21 )\n",
      "(H30  Du   )  88 →  88 (H42 )\n",
      "(O13  Du   )  89 →  89 (O22 )\n",
      "(Ho13 Du   )  90 →  90 (H43 )\n",
      "(H31  Du   )  92 →  92 (H44 )\n",
      "(O14  Du   )  93 →  93 (O23 )\n",
      "(Ho14 Du   )  94 →  94 (H45 )\n",
      "(H32  Du   )  96 →  96 (H46 )\n",
      "(C29  Du   )  97 →  97 (C29 )\n",
      "(H33  Du   )  98 →  98 (H47 )\n",
      "(Os10 Du   )  99 →  99 (O24 )\n",
      "(C30  Du   ) 100 → 100 (C30 )\n",
      "(H34  Du   ) 101 → 101 (H48 )\n",
      "(H35  Du   ) 102 → 102 (H49 )\n",
      "(O15  Du   ) 103 → 103 (O25 )\n",
      "(Ho15 Du   ) 104 → 104 (H50 )\n",
      "(Os11 Du   ) 107 → 107 (O26 )\n",
      "(C31  Du   ) 105 → 105 (C31 )\n",
      "(H36  Du   ) 106 → 106 (H51 )\n",
      "(C32  Du   ) 108 → 108 (C32 )\n",
      "(H37  Du   ) 109 → 109 (H52 )\n",
      "(O16  Du   ) 110 → 110 (O27 )\n",
      "(Ho16 Du   ) 111 → 111 (H53 )\n",
      "(C33  Du   ) 112 → 112 (C33 )\n",
      "(H38  Du   ) 113 → 113 (H54 )\n",
      "(O17  Du   ) 114 → 114 (O28 )\n",
      "(Ho17 Du   ) 115 → 115 (H55 )\n",
      "(C34  Du   ) 116 → 116 (C34 )\n",
      "(H39  Du   ) 117 → 117 (H56 )\n",
      "(C35  Du   ) 118 → 118 (C35 )\n",
      "(H40  Du   ) 119 → 119 (H57 )\n",
      "(Os12 Du   ) 120 → 120 (O29 )\n",
      "(C36  Du   ) 121 → 121 (C36 )\n",
      "(H41  Du   ) 122 → 122 (H58 )\n",
      "(H42  Du   ) 123 → 123 (H59 )\n",
      "(O18  Du   ) 124 → 124 (O30 )\n",
      "(Ho18 Du   ) 125 → 125 (H60 )\n"
     ]
    },
    {
     "data": {
      "text/plain": [
       "{0: 0,\n",
       " 1: 1,\n",
       " 2: 2,\n",
       " 3: 3,\n",
       " 4: 4,\n",
       " 5: 5,\n",
       " 6: 6,\n",
       " 7: 7,\n",
       " 8: 8,\n",
       " 9: 9,\n",
       " 10: 10,\n",
       " 11: 11,\n",
       " 12: 12,\n",
       " 13: 13,\n",
       " 14: 14,\n",
       " 15: 15,\n",
       " 16: 16,\n",
       " 17: 17,\n",
       " 18: 18,\n",
       " 19: 19,\n",
       " 20: 20,\n",
       " 21: 21,\n",
       " 22: 22,\n",
       " 23: 23,\n",
       " 24: 24,\n",
       " 25: 25,\n",
       " 26: 26,\n",
       " 27: 27,\n",
       " 28: 28,\n",
       " 29: 29,\n",
       " 30: 30,\n",
       " 31: 31,\n",
       " 32: 32,\n",
       " 33: 33,\n",
       " 34: 34,\n",
       " 35: 35,\n",
       " 36: 36,\n",
       " 37: 37,\n",
       " 38: 38,\n",
       " 39: 39,\n",
       " 40: 40,\n",
       " 41: 41,\n",
       " 42: 42,\n",
       " 43: 43,\n",
       " 44: 44,\n",
       " 45: 45,\n",
       " 46: 46,\n",
       " 47: 47,\n",
       " 48: 48,\n",
       " 49: 49,\n",
       " 50: 50,\n",
       " 51: 51,\n",
       " 52: 52,\n",
       " 53: 53,\n",
       " 54: 54,\n",
       " 55: 55,\n",
       " 56: 56,\n",
       " 57: 57,\n",
       " 58: 58,\n",
       " 59: 59,\n",
       " 60: 60,\n",
       " 61: 61,\n",
       " 62: 62,\n",
       " 63: 63,\n",
       " 64: 64,\n",
       " 65: 65,\n",
       " 66: 66,\n",
       " 67: 67,\n",
       " 68: 68,\n",
       " 69: 69,\n",
       " 70: 70,\n",
       " 71: 71,\n",
       " 72: 72,\n",
       " 73: 73,\n",
       " 74: 74,\n",
       " 75: 75,\n",
       " 76: 76,\n",
       " 77: 77,\n",
       " 78: 78,\n",
       " 79: 79,\n",
       " 80: 80,\n",
       " 81: 81,\n",
       " 82: 82,\n",
       " 83: 83,\n",
       " 84: 84,\n",
       " 85: 85,\n",
       " 86: 86,\n",
       " 87: 87,\n",
       " 88: 88,\n",
       " 89: 89,\n",
       " 90: 90,\n",
       " 91: 91,\n",
       " 92: 92,\n",
       " 93: 93,\n",
       " 94: 94,\n",
       " 95: 95,\n",
       " 96: 96,\n",
       " 97: 97,\n",
       " 98: 98,\n",
       " 99: 99,\n",
       " 100: 100,\n",
       " 101: 101,\n",
       " 102: 102,\n",
       " 103: 103,\n",
       " 104: 104,\n",
       " 105: 105,\n",
       " 106: 106,\n",
       " 107: 107,\n",
       " 108: 108,\n",
       " 109: 109,\n",
       " 110: 110,\n",
       " 111: 111,\n",
       " 112: 112,\n",
       " 113: 113,\n",
       " 114: 114,\n",
       " 115: 115,\n",
       " 116: 116,\n",
       " 117: 117,\n",
       " 118: 118,\n",
       " 119: 119,\n",
       " 120: 120,\n",
       " 121: 121,\n",
       " 122: 122,\n",
       " 123: 123,\n",
       " 124: 124,\n",
       " 125: 125}"
      ]
     },
     "execution_count": 67,
     "metadata": {},
     "output_type": "execute_result"
    }
   ],
   "source": [
    "atom_mapping(original_OEMol, new_OEMol)"
   ]
  },
  {
   "cell_type": "code",
   "execution_count": 69,
   "metadata": {
    "ExecuteTime": {
     "end_time": "2018-02-20T00:51:07.948223Z",
     "start_time": "2018-02-20T00:51:07.057448Z"
    }
   },
   "outputs": [
    {
     "name": "stdout",
     "output_type": "stream",
     "text": [
      "Determining mapping...\n",
      "Reference → Target\n",
      "(C1   Du   )   0 →   0 (C1  )\n",
      "(H1   Du   )   1 →   1 (H1  )\n",
      "(Os1  Du   )   2 →   2 (O1  )\n",
      "(C2   Du   )   3 →   3 (C2  )\n",
      "(H2   Du   )   4 →   4 (H2  )\n",
      "(O1   Du   )   5 →   5 (O2  )\n",
      "(Ho1  Du   )   6 →   6 (H3  )\n",
      "(C3   Du   )   7 →   7 (C3  )\n",
      "(H3   Du   )   8 →   8 (H4  )\n",
      "(O2   Du   )   9 →   9 (O3  )\n",
      "(Ho2  Du   )  10 →  10 (H5  )\n",
      "(C4   Du   )  11 →  11 (C4  )\n",
      "(H4   Du   )  12 →  12 (H6  )\n",
      "(C5   Du   )  13 →  13 (C5  )\n",
      "(H5   Du   )  14 →  14 (H7  )\n",
      "(Os2  Du   )  15 →  15 (O4  )\n",
      "(C6   Du   )  16 →  16 (C6  )\n",
      "(H6   Du   )  17 →  17 (H8  )\n",
      "(H7   Du   )  18 →  18 (H9  )\n",
      "(O3   Du   )  19 →  19 (O5  )\n",
      "(Ho3  Du   )  20 →  20 (H10 )\n",
      "(C10  Du   )  32 →  32 (C10 )\n",
      "(C9   Du   )  28 →  28 (C9  )\n",
      "(C8   Du   )  24 →  24 (C8  )\n",
      "(C7   Du   )  21 →  21 (C7  )\n",
      "(H8   Du   )  22 →  22 (H11 )\n",
      "(Os3  Du   )  23 →  23 (O6  )\n",
      "(H9   Du   )  25 →  25 (H12 )\n",
      "(O4   Du   )  26 →  26 (O7  )\n",
      "(Ho4  Du   )  27 →  27 (H13 )\n",
      "(H10  Du   )  29 →  29 (H14 )\n",
      "(O5   Du   )  30 →  30 (O8  )\n",
      "(Ho5  Du   )  31 →  31 (H15 )\n",
      "(H11  Du   )  33 →  33 (H16 )\n",
      "(C11  Du   )  34 →  34 (C11 )\n",
      "(H12  Du   )  35 →  35 (H17 )\n",
      "(Os4  Du   )  36 →  36 (O9  )\n",
      "(C12  Du   )  37 →  37 (C12 )\n",
      "(H13  Du   )  38 →  38 (H18 )\n",
      "(H14  Du   )  39 →  39 (H19 )\n",
      "(O6   Du   )  40 →  40 (O10 )\n",
      "(Ho6  Du   )  41 →  41 (H20 )\n",
      "(C16  Du   )  53 →  53 (C16 )\n",
      "(C15  Du   )  49 →  49 (C15 )\n",
      "(C14  Du   )  45 →  45 (C14 )\n",
      "(C13  Du   )  42 →  42 (C13 )\n",
      "(H15  Du   )  43 →  43 (H21 )\n",
      "(Os5  Du   )  44 →  44 (O11 )\n",
      "(H16  Du   )  46 →  46 (H22 )\n",
      "(O7   Du   )  47 →  47 (O12 )\n",
      "(Ho7  Du   )  48 →  48 (H23 )\n",
      "(H17  Du   )  50 →  50 (H24 )\n",
      "(O8   Du   )  51 →  51 (O13 )\n",
      "(Ho8  Du   )  52 →  52 (H25 )\n",
      "(H18  Du   )  54 →  54 (H26 )\n",
      "(C17  Du   )  55 →  55 (C17 )\n",
      "(H19  Du   )  56 →  56 (H27 )\n",
      "(Os6  Du   )  57 →  57 (O14 )\n",
      "(C18  Du   )  58 →  58 (C18 )\n",
      "(H20  Du   )  59 →  59 (H28 )\n",
      "(H21  Du   )  60 →  60 (H29 )\n",
      "(O9   Du   )  61 →  61 (O15 )\n",
      "(Ho9  Du   )  62 →  62 (H30 )\n",
      "(C22  Du   )  74 →  74 (C22 )\n",
      "(C21  Du   )  70 →  70 (C21 )\n",
      "(C20  Du   )  66 →  66 (C20 )\n",
      "(C19  Du   )  63 →  63 (C19 )\n",
      "(H22  Du   )  64 →  64 (H31 )\n",
      "(Os7  Du   )  65 →  65 (O16 )\n",
      "(H23  Du   )  67 →  67 (H32 )\n",
      "(O10  Du   )  68 →  68 (O17 )\n",
      "(Ho10 Du   )  69 →  69 (H33 )\n",
      "(H24  Du   )  71 →  71 (H34 )\n",
      "(O11  Du   )  72 →  72 (O18 )\n",
      "(Ho11 Du   )  73 →  73 (H35 )\n",
      "(H25  Du   )  75 →  75 (H36 )\n",
      "(C23  Du   )  76 →  76 (C23 )\n",
      "(H26  Du   )  77 →  77 (H37 )\n",
      "(Os8  Du   )  78 →  78 (O19 )\n",
      "(C24  Du   )  79 →  79 (C24 )\n",
      "(H27  Du   )  80 →  80 (H38 )\n",
      "(H28  Du   )  81 →  81 (H39 )\n",
      "(O12  Du   )  82 →  82 (O20 )\n",
      "(Ho12 Du   )  83 →  83 (H40 )\n",
      "(C28  Du   )  95 →  95 (C28 )\n",
      "(C27  Du   )  91 →  91 (C27 )\n",
      "(C26  Du   )  87 →  87 (C26 )\n",
      "(C25  Du   )  84 →  84 (C25 )\n",
      "(H29  Du   )  85 →  85 (H41 )\n",
      "(Os9  Du   )  86 →  86 (O21 )\n",
      "(H30  Du   )  88 →  88 (H42 )\n",
      "(O13  Du   )  89 →  89 (O22 )\n",
      "(Ho13 Du   )  90 →  90 (H43 )\n",
      "(H31  Du   )  92 →  92 (H44 )\n",
      "(O14  Du   )  93 →  93 (O23 )\n",
      "(Ho14 Du   )  94 →  94 (H45 )\n",
      "(H32  Du   )  96 →  96 (H46 )\n",
      "(C29  Du   )  97 →  97 (C29 )\n",
      "(H33  Du   )  98 →  98 (H47 )\n",
      "(Os10 Du   )  99 →  99 (O24 )\n",
      "(C30  Du   ) 100 → 100 (C30 )\n",
      "(H34  Du   ) 101 → 101 (H48 )\n",
      "(H35  Du   ) 102 → 102 (H49 )\n",
      "(O15  Du   ) 103 → 103 (O25 )\n",
      "(Ho15 Du   ) 104 → 104 (H50 )\n",
      "(Os11 Du   ) 107 → 107 (O26 )\n",
      "(C31  Du   ) 105 → 105 (C31 )\n",
      "(H36  Du   ) 106 → 106 (H51 )\n",
      "(C32  Du   ) 108 → 108 (C32 )\n",
      "(H37  Du   ) 109 → 109 (H52 )\n",
      "(O16  Du   ) 110 → 110 (O27 )\n",
      "(Ho16 Du   ) 111 → 111 (H53 )\n",
      "(C33  Du   ) 112 → 112 (C33 )\n",
      "(H38  Du   ) 113 → 113 (H54 )\n",
      "(O17  Du   ) 114 → 114 (O28 )\n",
      "(Ho17 Du   ) 115 → 115 (H55 )\n",
      "(C34  Du   ) 116 → 116 (C34 )\n",
      "(H39  Du   ) 117 → 117 (H56 )\n",
      "(C35  Du   ) 118 → 118 (C35 )\n",
      "(H40  Du   ) 119 → 119 (H57 )\n",
      "(Os12 Du   ) 120 → 120 (O29 )\n",
      "(C36  Du   ) 121 → 121 (C36 )\n",
      "(H41  Du   ) 122 → 122 (H58 )\n",
      "(H42  Du   ) 123 → 123 (H59 )\n",
      "(O18  Du   ) 124 → 124 (O30 )\n",
      "(Ho18 Du   ) 125 → 125 (H60 )\n"
     ]
    }
   ],
   "source": [
    "host_map = residue_mapping(input_inpcrd='original/a-bam-p/full.crds',\n",
    "                          input_topology='original/a-bam-p/full.topo',\n",
    "                          target_inpcrd='generated/a-bam-p/solvated_smirnoff.inpcrd',\n",
    "                          target_topology='generated/a-bam-p/solvated_smirnoff.prmtop',\n",
    "                          mask=':MGO')"
   ]
  },
  {
   "cell_type": "code",
   "execution_count": 71,
   "metadata": {
    "ExecuteTime": {
     "end_time": "2018-02-20T00:51:28.529915Z",
     "start_time": "2018-02-20T00:51:27.265194Z"
    }
   },
   "outputs": [
    {
     "name": "stdout",
     "output_type": "stream",
     "text": [
      "Determining mapping...\n",
      "Reference → Target\n",
      "(N1   Du   )   0 →   0 (N1  )\n",
      "(H1   Du   )   1 →   1 (H1  )\n",
      "(H2   Du   )   2 →   2 (H2  )\n",
      "(H3   Du   )   3 →   3 (H3  )\n",
      "(C1   Du   )   4 →   4 (C1  )\n",
      "(H4   Du   )   5 →   5 (H4  )\n",
      "(H5   Du   )   6 →   6 (H5  )\n",
      "(C2   Du   )   7 →   7 (C2  )\n",
      "(H6   Du   )   8 →   8 (H6  )\n",
      "(H7   Du   )   9 →   9 (H7  )\n",
      "(C3   Du   )  10 →  10 (C3  )\n",
      "(H8   Du   )  11 →  11 (H8  )\n",
      "(H9   Du   )  12 →  12 (H9  )\n",
      "(C4   Du   )  13 →  13 (C4  )\n",
      "(H10  Du   )  14 →  14 (H10 )\n",
      "(H11  Du   )  15 →  15 (H11 )\n",
      "(H12  Du   )  16 →  16 (H12 )\n"
     ]
    }
   ],
   "source": [
    "guest_map = residue_mapping(input_inpcrd='original/a-bam-p/full.crds',\n",
    "                          input_topology='original/a-bam-p/full.topo',\n",
    "                          target_inpcrd='generated/a-bam-p/solvated_smirnoff.inpcrd',\n",
    "                          target_topology='generated/a-bam-p/solvated_smirnoff.prmtop',\n",
    "                          mask=':BAM')"
   ]
  },
  {
   "cell_type": "code",
   "execution_count": null,
   "metadata": {
    "ExecuteTime": {
     "start_time": "2018-02-20T01:04:08.914Z"
    }
   },
   "outputs": [],
   "source": [
    "dummy_map = residue_mapping(input_inpcrd='original/a-bam-p/full.crds',\n",
    "                          input_topology='original/a-bam-p/full.topo',\n",
    "                          target_inpcrd='generated/a-bam-p/solvated_smirnoff.inpcrd',\n",
    "                          target_topology='generated/a-bam-p/solvated_smirnoff.prmtop',\n",
    "                          mask=':DUM')"
   ]
  },
  {
   "cell_type": "code",
   "execution_count": null,
   "metadata": {
    "ExecuteTime": {
     "end_time": "2018-02-20T00:54:32.846387Z",
     "start_time": "2018-02-20T00:54:32.819798Z"
    }
   },
   "outputs": [],
   "source": []
  },
  {
   "cell_type": "code",
   "execution_count": null,
   "metadata": {},
   "outputs": [],
   "source": []
  }
 ],
 "metadata": {
  "kernelspec": {
   "display_name": "Python [conda env:openforcefield]",
   "language": "python",
   "name": "conda-env-openforcefield-py"
  },
  "language_info": {
   "codemirror_mode": {
    "name": "ipython",
    "version": 3
   },
   "file_extension": ".py",
   "mimetype": "text/x-python",
   "name": "python",
   "nbconvert_exporter": "python",
   "pygments_lexer": "ipython3",
   "version": "3.6.1"
  }
 },
 "nbformat": 4,
 "nbformat_minor": 2
}
