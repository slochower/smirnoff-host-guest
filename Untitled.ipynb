{
 "cells": [
  {
   "cell_type": "markdown",
   "metadata": {},
   "source": [
    "# Test conversion on Niel's alpha-cyldextrin bound to 1-butylamine[+1] file!\n",
    "```\n",
    "/data/nhenriksen/projects/cds/wat6/bgbg-tip3p/a-bam-p/a00\n",
    "```"
   ]
  },
  {
   "cell_type": "code",
   "execution_count": 112,
   "metadata": {
    "ExecuteTime": {
     "end_time": "2018-02-14T00:17:52.860731Z",
     "start_time": "2018-02-14T00:17:52.822640Z"
    }
   },
   "outputs": [
    {
     "name": "stdout",
     "output_type": "stream",
     "text": [
      "The autoreload extension is already loaded. To reload it, use:\n",
      "  %reload_ext autoreload\n"
     ]
    }
   ],
   "source": [
    "%load_ext autoreload\n",
    "%autoreload 2\n",
    "\n",
    "import numpy as np\n",
    "import subprocess as sp\n",
    "\n",
    "from openeye.oechem import *\n",
    "from openforcefield.typing.engines.smirnoff import *\n",
    "from openforcefield.utils import mergeStructure\n",
    "import parmed as pmd\n",
    "\n",
    "from utils import create_pdb_with_conect, prune_conect\n",
    "from utils import split_topology, create_host_guest_topology\n",
    "from utils import create_host_mol2\n",
    "from utils import load_mol2, check_unique_atom_names\n",
    "from utils import extract_water_and_ions, create_water_and_ions_parameters\n",
    "from utils import extract_dummy_atoms, create_dummy_atom_parameters"
   ]
  },
  {
   "cell_type": "code",
   "execution_count": 113,
   "metadata": {
    "ExecuteTime": {
     "end_time": "2018-02-14T00:17:53.100270Z",
     "start_time": "2018-02-14T00:17:52.862715Z"
    }
   },
   "outputs": [
    {
     "name": "stdout",
     "output_type": "stream",
     "text": [
      "PDB file written by cpptraj.\n",
      "First water residue = 160\n",
      "Found first water CONECT entry at line = 8322\n"
     ]
    }
   ],
   "source": [
    "create_pdb_with_conect(solvated_pdb='original/a-bam-p/full.crds', \n",
    "                       amber_prmtop='original/a-bam-p/full.topo', \n",
    "                       output_pdb='generated/a-bam-p/full.pdb')\n",
    "prune_conect(input_pdb='full.pdb', \n",
    "             output_pdb='full_conect.pdb', \n",
    "             path='generated/a-bam-p/')"
   ]
  },
  {
   "cell_type": "code",
   "execution_count": 114,
   "metadata": {
    "ExecuteTime": {
     "end_time": "2018-02-14T00:17:55.520567Z",
     "start_time": "2018-02-14T00:17:53.103119Z"
    }
   },
   "outputs": [],
   "source": [
    "components = split_topology(file_name='generated/a-bam-p/full.pdb')\n",
    "hg_topology = create_host_guest_topology(components, host_resname='MGO', guest_resname='BAM')"
   ]
  },
  {
   "cell_type": "code",
   "execution_count": 144,
   "metadata": {
    "ExecuteTime": {
     "end_time": "2018-02-14T00:48:52.873371Z",
     "start_time": "2018-02-14T00:48:52.843099Z"
    }
   },
   "outputs": [
    {
     "name": "stdout",
     "output_type": "stream",
     "text": [
      "21 atoms in structure, 21 unique atom names.\n",
      "17 atoms in structure, 17 unique atom names.\n"
     ]
    }
   ],
   "source": [
    "host = load_mol2(filename='original/a-bam-p/MGO.mol2', \n",
    "                 name='MGO', \n",
    "                 add_tripos=True)\n",
    "guest = load_mol2(filename='original/a-bam-p/bam.mol2', \n",
    "                  name='BAM', \n",
    "                  add_tripos=False)\n",
    "check_unique_atom_names(host)\n",
    "check_unique_atom_names(guest)\n",
    "molecules = [host, guest]"
   ]
  },
  {
   "cell_type": "code",
   "execution_count": 145,
   "metadata": {
    "ExecuteTime": {
     "end_time": "2018-02-14T00:48:53.402781Z",
     "start_time": "2018-02-14T00:48:53.328125Z"
    }
   },
   "outputs": [
    {
     "name": "stdout",
     "output_type": "stream",
     "text": [
      "MOL2 file written by cpptraj.\n"
     ]
    }
   ],
   "source": [
    "create_host_mol2('generated/a-bam-p/full.pdb', 'original/a-bam-p/full.topo', 'MGO', 'generated/a-bam-p/MGO.mol2')"
   ]
  },
  {
   "cell_type": "code",
   "execution_count": 146,
   "metadata": {
    "ExecuteTime": {
     "end_time": "2018-02-14T00:48:53.998221Z",
     "start_time": "2018-02-14T00:48:53.962530Z"
    }
   },
   "outputs": [
    {
     "name": "stdout",
     "output_type": "stream",
     "text": [
      "126 atoms in structure, 126 unique atom names.\n",
      "17 atoms in structure, 17 unique atom names.\n"
     ]
    }
   ],
   "source": [
    "host = load_mol2(filename='generated/a-bam-p/MGO.mol2', \n",
    "                 name='MGO', \n",
    "                 add_tripos=True)\n",
    "guest = load_mol2(filename='original/a-bam-p/bam.mol2', \n",
    "                  name='BAM', \n",
    "                  add_tripos=False)\n",
    "check_unique_atom_names(host)\n",
    "check_unique_atom_names(guest)\n",
    "molecules = [host, guest]"
   ]
  },
  {
   "cell_type": "code",
   "execution_count": 147,
   "metadata": {
    "ExecuteTime": {
     "end_time": "2018-02-14T00:48:55.330788Z",
     "start_time": "2018-02-14T00:48:54.634451Z"
    }
   },
   "outputs": [],
   "source": [
    "ff = ForceField('forcefield/smirnoff99Frosst.ffxml') \n",
    "system = ff.createSystem(hg_topology.topology, molecules,\n",
    "                         nonbondedCutoff=1.1*unit.nanometer, \n",
    "                         ewaldErrorTolerance=1e-4\n",
    "                         )"
   ]
  },
  {
   "cell_type": "code",
   "execution_count": 148,
   "metadata": {
    "ExecuteTime": {
     "end_time": "2018-02-14T00:48:57.630007Z",
     "start_time": "2018-02-14T00:48:56.989186Z"
    }
   },
   "outputs": [],
   "source": [
    "hg_structure = pmd.openmm.topsystem.load_topology(hg_topology.topology, system, hg_topology.positions)"
   ]
  },
  {
   "cell_type": "code",
   "execution_count": 150,
   "metadata": {
    "ExecuteTime": {
     "end_time": "2018-02-14T00:49:09.225229Z",
     "start_time": "2018-02-14T00:49:08.956332Z"
    }
   },
   "outputs": [],
   "source": [
    "hg_structure.save('generated/a-bam-p/hg.prmtop')"
   ]
  },
  {
   "cell_type": "code",
   "execution_count": 151,
   "metadata": {
    "ExecuteTime": {
     "end_time": "2018-02-14T00:49:16.276115Z",
     "start_time": "2018-02-14T00:49:16.252479Z"
    }
   },
   "outputs": [],
   "source": [
    "hg_structure.save('generated/a-bam-p/hg.inpcrd')"
   ]
  },
  {
   "cell_type": "code",
   "execution_count": 120,
   "metadata": {
    "ExecuteTime": {
     "end_time": "2018-02-14T00:17:56.690246Z",
     "start_time": "2018-02-14T00:17:56.625986Z"
    }
   },
   "outputs": [
    {
     "name": "stdout",
     "output_type": "stream",
     "text": [
      "Dummy atom PDB file written by cpptraj.\n"
     ]
    }
   ],
   "source": [
    "extract_dummy_atoms(amber_prmtop='original/a-bam-p/full.topo',\n",
    "                      amber_inpcrd='original/a-bam-p/full.crds',\n",
    "                      dummy_residue=':DUM',\n",
    "                      output_pdb='generated/a-bam-p/dummy.pdb')"
   ]
  },
  {
   "cell_type": "code",
   "execution_count": 121,
   "metadata": {
    "ExecuteTime": {
     "end_time": "2018-02-14T00:17:56.756778Z",
     "start_time": "2018-02-14T00:17:56.692096Z"
    }
   },
   "outputs": [
    {
     "name": "stdout",
     "output_type": "stream",
     "text": [
      "Writing dummy atom `frcmod`.\n",
      "Writing dummy atom `mol2`.\n",
      "Dummy atom  parameters and coordinates written by tleap.\n"
     ]
    }
   ],
   "source": [
    "create_dummy_atom_parameters(input_pdb='dummy.pdb',\n",
    "                                output_prmtop='dummy.prmtop',\n",
    "                                output_inpcrd='dummy.inpcrd',\n",
    "                                path='generated/a-bam-p/')"
   ]
  },
  {
   "cell_type": "code",
   "execution_count": 122,
   "metadata": {
    "ExecuteTime": {
     "end_time": "2018-02-14T00:17:56.857065Z",
     "start_time": "2018-02-14T00:17:56.758647Z"
    }
   },
   "outputs": [
    {
     "name": "stdout",
     "output_type": "stream",
     "text": [
      "Water and ion PDB file written by cpptraj.\n"
     ]
    }
   ],
   "source": [
    "extract_water_and_ions(amber_prmtop='original/a-bam-p/full.topo',\n",
    "                      amber_inpcrd='original/a-bam-p/full.crds',\n",
    "                      host_residue=':MGO',\n",
    "                      guest_residue=':BAM',\n",
    "                      dummy=':DUM',\n",
    "                      output_pdb='generated/a-bam-p/water_ions.pdb')"
   ]
  },
  {
   "cell_type": "code",
   "execution_count": 123,
   "metadata": {
    "ExecuteTime": {
     "end_time": "2018-02-14T00:17:57.248091Z",
     "start_time": "2018-02-14T00:17:56.859090Z"
    }
   },
   "outputs": [
    {
     "name": "stdout",
     "output_type": "stream",
     "text": [
      "Water and ion parameters and coordinates written by tleap.\n"
     ]
    }
   ],
   "source": [
    "create_water_and_ions_parameters(input_pdb='water_ions.pdb',\n",
    "                                output_prmtop='water_ions.prmtop',\n",
    "                                output_inpcrd='water_ions.inpcrd',\n",
    "                                dummy_atoms=False,\n",
    "                                path='generated/a-bam-p/')"
   ]
  },
  {
   "cell_type": "code",
   "execution_count": 124,
   "metadata": {
    "ExecuteTime": {
     "end_time": "2018-02-14T00:17:57.284289Z",
     "start_time": "2018-02-14T00:17:57.251069Z"
    }
   },
   "outputs": [],
   "source": [
    "dummy = pmd.amber.AmberParm('generated/a-bam-p/dummy.prmtop', xyz='generated/a-bam-p/dummy.inpcrd')"
   ]
  },
  {
   "cell_type": "code",
   "execution_count": 125,
   "metadata": {
    "ExecuteTime": {
     "end_time": "2018-02-14T00:17:57.599197Z",
     "start_time": "2018-02-14T00:17:57.286577Z"
    }
   },
   "outputs": [],
   "source": [
    "water_and_ions = pmd.amber.AmberParm('generated/a-bam-p/water_ions.prmtop', xyz='generated/a-bam-p/water_ions.inpcrd')"
   ]
  },
  {
   "cell_type": "code",
   "execution_count": 126,
   "metadata": {
    "ExecuteTime": {
     "end_time": "2018-02-14T00:17:57.679146Z",
     "start_time": "2018-02-14T00:17:57.601409Z"
    }
   },
   "outputs": [],
   "source": [
    "merged = mergeStructure(dummy, hg_structure)"
   ]
  },
  {
   "cell_type": "code",
   "execution_count": 127,
   "metadata": {
    "ExecuteTime": {
     "end_time": "2018-02-14T00:17:57.760849Z",
     "start_time": "2018-02-14T00:17:57.681386Z"
    }
   },
   "outputs": [],
   "source": [
    "merged.save('generated/a-bam-p/dum-hg.prmtop')"
   ]
  },
  {
   "cell_type": "code",
   "execution_count": 128,
   "metadata": {
    "ExecuteTime": {
     "end_time": "2018-02-14T00:17:57.819057Z",
     "start_time": "2018-02-14T00:17:57.762928Z"
    }
   },
   "outputs": [],
   "source": [
    "merged.save('generated/a-bam-p/dum-hg.inpcrd')"
   ]
  },
  {
   "cell_type": "code",
   "execution_count": 129,
   "metadata": {
    "ExecuteTime": {
     "end_time": "2018-02-14T00:17:58.533800Z",
     "start_time": "2018-02-14T00:17:57.821280Z"
    }
   },
   "outputs": [],
   "source": [
    "merged_2 = mergeStructure(merged, water_and_ions)"
   ]
  },
  {
   "cell_type": "code",
   "execution_count": 130,
   "metadata": {
    "ExecuteTime": {
     "end_time": "2018-02-14T00:17:58.916221Z",
     "start_time": "2018-02-14T00:17:58.535555Z"
    }
   },
   "outputs": [],
   "source": [
    "merged_2.save('generated/a-bam-p/solvated_smirnoff.prmtop')"
   ]
  },
  {
   "cell_type": "code",
   "execution_count": 131,
   "metadata": {
    "ExecuteTime": {
     "end_time": "2018-02-14T00:17:58.968734Z",
     "start_time": "2018-02-14T00:17:58.917848Z"
    }
   },
   "outputs": [],
   "source": [
    "merged_2.save('generated/a-bam-p/solvated_smirnoff.inpcrd')"
   ]
  },
  {
   "cell_type": "markdown",
   "metadata": {},
   "source": [
    "This is still a problem because the atom index has changed and that's because the dummy atoms in my file are *after* the host and guest, but the dummy atoms are *before* the host and guest in the original coordinates. I think the easist way to deal with this is to extra them first, then merge."
   ]
  },
  {
   "cell_type": "code",
   "execution_count": 132,
   "metadata": {
    "ExecuteTime": {
     "end_time": "2018-02-14T00:20:37.063402Z",
     "start_time": "2018-02-14T00:20:37.019180Z"
    }
   },
   "outputs": [],
   "source": [
    "merged_2.box"
   ]
  },
  {
   "cell_type": "code",
   "execution_count": 133,
   "metadata": {
    "ExecuteTime": {
     "end_time": "2018-02-14T00:20:46.724506Z",
     "start_time": "2018-02-14T00:20:46.650151Z"
    }
   },
   "outputs": [
    {
     "data": {
      "text/plain": [
       "array([[ 19.42200089,  19.38299942,  26.52599907],\n",
       "       [ 19.42200089,  19.38299942,  21.52599907],\n",
       "       [ 19.42200089,  22.88299942,  18.02599907],\n",
       "       ..., \n",
       "       [ 16.58300018,  18.46800041,  17.95100021],\n",
       "       [ 17.37599945,  17.97299957,  17.74300003],\n",
       "       [ 16.87700081,  19.14699936,  18.55800056]], dtype=float32)"
      ]
     },
     "execution_count": 133,
     "metadata": {},
     "output_type": "execute_result"
    }
   ],
   "source": [
    "merged_2.coordinates"
   ]
  },
  {
   "cell_type": "code",
   "execution_count": 134,
   "metadata": {
    "ExecuteTime": {
     "end_time": "2018-02-14T00:21:07.238120Z",
     "start_time": "2018-02-14T00:21:07.212658Z"
    }
   },
   "outputs": [
    {
     "data": {
      "text/plain": [
       "<bound method Structure.visualize of <AmberParm 6159 atoms; 2023 residues; 6148 bonds; parametrized>>"
      ]
     },
     "execution_count": 134,
     "metadata": {},
     "output_type": "execute_result"
    }
   ],
   "source": [
    "merged_2.visualize"
   ]
  },
  {
   "cell_type": "code",
   "execution_count": 136,
   "metadata": {
    "ExecuteTime": {
     "end_time": "2018-02-14T00:21:46.937965Z",
     "start_time": "2018-02-14T00:21:46.362626Z"
    }
   },
   "outputs": [],
   "source": [
    "merged = dummy + hg_structure + water_and_ions"
   ]
  },
  {
   "cell_type": "code",
   "execution_count": 137,
   "metadata": {
    "ExecuteTime": {
     "end_time": "2018-02-14T00:21:48.884479Z",
     "start_time": "2018-02-14T00:21:48.858171Z"
    }
   },
   "outputs": [
    {
     "data": {
      "text/plain": [
       "<AmberParm 6159 atoms; 2023 residues; 6148 bonds; parametrized>"
      ]
     },
     "execution_count": 137,
     "metadata": {},
     "output_type": "execute_result"
    }
   ],
   "source": [
    "merged"
   ]
  },
  {
   "cell_type": "code",
   "execution_count": 138,
   "metadata": {
    "ExecuteTime": {
     "end_time": "2018-02-14T00:21:59.041005Z",
     "start_time": "2018-02-14T00:21:58.650691Z"
    }
   },
   "outputs": [],
   "source": [
    "merged.save('generated/a-bam-p/tmp.prmtop')"
   ]
  },
  {
   "cell_type": "code",
   "execution_count": 139,
   "metadata": {
    "ExecuteTime": {
     "end_time": "2018-02-14T00:22:18.575449Z",
     "start_time": "2018-02-14T00:22:18.522378Z"
    }
   },
   "outputs": [],
   "source": [
    "merged.save('generated/a-bam-p/tmp.inpcrd')"
   ]
  },
  {
   "cell_type": "code",
   "execution_count": 141,
   "metadata": {
    "ExecuteTime": {
     "end_time": "2018-02-14T00:30:42.261452Z",
     "start_time": "2018-02-14T00:30:42.191187Z"
    }
   },
   "outputs": [
    {
     "ename": "IndexError",
     "evalue": "list index out of range",
     "output_type": "error",
     "traceback": [
      "\u001b[0;31m---------------------------------------------------------------------------\u001b[0m",
      "\u001b[0;31mIndexError\u001b[0m                                Traceback (most recent call last)",
      "\u001b[0;32m<ipython-input-141-317760bb6df3>\u001b[0m in \u001b[0;36m<module>\u001b[0;34m()\u001b[0m\n\u001b[0;32m----> 1\u001b[0;31m \u001b[0mprmtop\u001b[0m \u001b[0;34m=\u001b[0m \u001b[0mpmd\u001b[0m\u001b[0;34m.\u001b[0m\u001b[0mamber\u001b[0m\u001b[0;34m.\u001b[0m\u001b[0mAmberParm\u001b[0m\u001b[0;34m(\u001b[0m\u001b[0;34m'generated/a-bam-p/tmp.prmtop'\u001b[0m\u001b[0;34m)\u001b[0m\u001b[0;34m\u001b[0m\u001b[0m\n\u001b[0m\u001b[1;32m      2\u001b[0m \u001b[0mpmd\u001b[0m\u001b[0;34m.\u001b[0m\u001b[0mtools\u001b[0m\u001b[0;34m.\u001b[0m\u001b[0mcheckValidity\u001b[0m\u001b[0;34m(\u001b[0m\u001b[0mprmtop\u001b[0m\u001b[0;34m)\u001b[0m\u001b[0;34m\u001b[0m\u001b[0m\n",
      "\u001b[0;32m~/data/applications/anaconda3/envs/openforcefield/lib/python3.6/site-packages/parmed/amber/_amberparm.py\u001b[0m in \u001b[0;36m__init__\u001b[0;34m(self, prm_name, xyz, box, rst7_name)\u001b[0m\n\u001b[1;32m    180\u001b[0m             \u001b[0mself\u001b[0m\u001b[0;34m.\u001b[0m\u001b[0mcrdname\u001b[0m \u001b[0;34m=\u001b[0m \u001b[0mxyz\u001b[0m\u001b[0;34m\u001b[0m\u001b[0m\n\u001b[1;32m    181\u001b[0m         \u001b[0;32mif\u001b[0m \u001b[0mprm_name\u001b[0m \u001b[0;32mis\u001b[0m \u001b[0;32mnot\u001b[0m \u001b[0;32mNone\u001b[0m\u001b[0;34m:\u001b[0m\u001b[0;34m\u001b[0m\u001b[0m\n\u001b[0;32m--> 182\u001b[0;31m             \u001b[0mself\u001b[0m\u001b[0;34m.\u001b[0m\u001b[0minitialize_topology\u001b[0m\u001b[0;34m(\u001b[0m\u001b[0mxyz\u001b[0m\u001b[0;34m,\u001b[0m \u001b[0mbox\u001b[0m\u001b[0;34m)\u001b[0m\u001b[0;34m\u001b[0m\u001b[0m\n\u001b[0m\u001b[1;32m    183\u001b[0m \u001b[0;34m\u001b[0m\u001b[0m\n\u001b[1;32m    184\u001b[0m     \u001b[0;31m#===================================================\u001b[0m\u001b[0;34m\u001b[0m\u001b[0;34m\u001b[0m\u001b[0m\n",
      "\u001b[0;32m~/data/applications/anaconda3/envs/openforcefield/lib/python3.6/site-packages/parmed/amber/_amberparm.py\u001b[0m in \u001b[0;36minitialize_topology\u001b[0;34m(self, xyz, box)\u001b[0m\n\u001b[1;32m    201\u001b[0m         \u001b[0mself\u001b[0m\u001b[0;34m.\u001b[0m\u001b[0mLJ_depth\u001b[0m \u001b[0;34m=\u001b[0m \u001b[0;34m[\u001b[0m\u001b[0;34m]\u001b[0m\u001b[0;34m\u001b[0m\u001b[0m\n\u001b[1;32m    202\u001b[0m         \u001b[0mself\u001b[0m\u001b[0;34m.\u001b[0m\u001b[0mload_pointers\u001b[0m\u001b[0;34m(\u001b[0m\u001b[0;34m)\u001b[0m\u001b[0;34m\u001b[0m\u001b[0m\n\u001b[0;32m--> 203\u001b[0;31m         \u001b[0mself\u001b[0m\u001b[0;34m.\u001b[0m\u001b[0mfill_LJ\u001b[0m\u001b[0;34m(\u001b[0m\u001b[0;34m)\u001b[0m\u001b[0;34m\u001b[0m\u001b[0m\n\u001b[0m\u001b[1;32m    204\u001b[0m         \u001b[0;31m# The way we check if the combining rules are geometric vs.\u001b[0m\u001b[0;34m\u001b[0m\u001b[0;34m\u001b[0m\u001b[0m\n\u001b[1;32m    205\u001b[0m         \u001b[0;31m# Lorentz-Berthelot is to try and change the combining rules to\u001b[0m\u001b[0;34m\u001b[0m\u001b[0;34m\u001b[0m\u001b[0m\n",
      "\u001b[0;32m~/data/applications/anaconda3/envs/openforcefield/lib/python3.6/site-packages/parmed/amber/_amberparm.py\u001b[0m in \u001b[0;36mfill_LJ\u001b[0;34m(self)\u001b[0m\n\u001b[1;32m    813\u001b[0m \u001b[0;34m\u001b[0m\u001b[0m\n\u001b[1;32m    814\u001b[0m         \u001b[0;32mfor\u001b[0m \u001b[0mi\u001b[0m \u001b[0;32min\u001b[0m \u001b[0mrange\u001b[0m\u001b[0;34m(\u001b[0m\u001b[0mntypes\u001b[0m\u001b[0;34m)\u001b[0m\u001b[0;34m:\u001b[0m\u001b[0;34m\u001b[0m\u001b[0m\n\u001b[0;32m--> 815\u001b[0;31m             \u001b[0mlj_index\u001b[0m \u001b[0;34m=\u001b[0m \u001b[0mpd\u001b[0m\u001b[0;34m[\u001b[0m\u001b[0;34m\"NONBONDED_PARM_INDEX\"\u001b[0m\u001b[0;34m]\u001b[0m\u001b[0;34m[\u001b[0m\u001b[0mntypes\u001b[0m\u001b[0;34m*\u001b[0m\u001b[0mi\u001b[0m\u001b[0;34m+\u001b[0m\u001b[0mi\u001b[0m\u001b[0;34m]\u001b[0m \u001b[0;34m-\u001b[0m \u001b[0;36m1\u001b[0m\u001b[0;34m\u001b[0m\u001b[0m\n\u001b[0m\u001b[1;32m    816\u001b[0m             \u001b[0;32mif\u001b[0m \u001b[0mlj_index\u001b[0m \u001b[0;34m<\u001b[0m \u001b[0;36m0\u001b[0m \u001b[0;32mor\u001b[0m \u001b[0mpd\u001b[0m\u001b[0;34m[\u001b[0m\u001b[0;34m\"LENNARD_JONES_ACOEF\"\u001b[0m\u001b[0;34m]\u001b[0m\u001b[0;34m[\u001b[0m\u001b[0mlj_index\u001b[0m\u001b[0;34m]\u001b[0m \u001b[0;34m<\u001b[0m \u001b[0;36m1.0e-10\u001b[0m\u001b[0;34m:\u001b[0m\u001b[0;34m\u001b[0m\u001b[0m\n\u001b[1;32m    817\u001b[0m                 \u001b[0mself\u001b[0m\u001b[0;34m.\u001b[0m\u001b[0mLJ_radius\u001b[0m\u001b[0;34m.\u001b[0m\u001b[0mappend\u001b[0m\u001b[0;34m(\u001b[0m\u001b[0;36m0\u001b[0m\u001b[0;34m)\u001b[0m\u001b[0;34m\u001b[0m\u001b[0m\n",
      "\u001b[0;31mIndexError\u001b[0m: list index out of range"
     ]
    }
   ],
   "source": [
    "prmtop = pmd.amber.AmberParm('generated/a-bam-p/tmp.prmtop')\n",
    "pmd.tools.checkValidity(prmtop)"
   ]
  },
  {
   "cell_type": "code",
   "execution_count": null,
   "metadata": {},
   "outputs": [],
   "source": []
  }
 ],
 "metadata": {
  "kernelspec": {
   "display_name": "Python [conda env:openforcefield]",
   "language": "python",
   "name": "conda-env-openforcefield-py"
  },
  "language_info": {
   "codemirror_mode": {
    "name": "ipython",
    "version": 3
   },
   "file_extension": ".py",
   "mimetype": "text/x-python",
   "name": "python",
   "nbconvert_exporter": "python",
   "pygments_lexer": "ipython3",
   "version": "3.6.1"
  }
 },
 "nbformat": 4,
 "nbformat_minor": 2
}
