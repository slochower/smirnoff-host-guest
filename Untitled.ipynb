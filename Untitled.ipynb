{
 "cells": [
  {
   "cell_type": "markdown",
   "metadata": {},
   "source": [
    "# Test conversion on Niel's alpha-cyldextrin bound to 1-butylamine[+1] file!\n",
    "```\n",
    "/data/nhenriksen/projects/cds/wat6/bgbg-tip3p/a-bam-p/a00\n",
    "```"
   ]
  },
  {
   "cell_type": "code",
   "execution_count": 44,
   "metadata": {
    "ExecuteTime": {
     "end_time": "2018-02-12T20:31:48.665773Z",
     "start_time": "2018-02-12T20:31:48.627173Z"
    }
   },
   "outputs": [
    {
     "name": "stdout",
     "output_type": "stream",
     "text": [
      "The autoreload extension is already loaded. To reload it, use:\n",
      "  %reload_ext autoreload\n"
     ]
    }
   ],
   "source": [
    "%load_ext autoreload\n",
    "%autoreload 2\n",
    "\n",
    "import numpy as np\n",
    "import subprocess as sp\n",
    "\n",
    "from openeye.oechem import *\n",
    "from openforcefield.typing.engines.smirnoff import *\n",
    "from openforcefield.utils import mergeStructure\n",
    "import parmed as pmd\n",
    "\n",
    "from utils import create_pdb_with_conect, prune_conect\n",
    "from utils import split_topology, create_host_guest_topology\n",
    "from utils import create_host_mol2\n",
    "from utils import load_mol2, check_unique_atom_names\n",
    "from utils import extract_water_and_ions, create_water_and_ions_parameters"
   ]
  },
  {
   "cell_type": "code",
   "execution_count": 25,
   "metadata": {
    "ExecuteTime": {
     "end_time": "2018-02-10T19:23:12.499813Z",
     "start_time": "2018-02-10T19:23:12.387420Z"
    }
   },
   "outputs": [
    {
     "name": "stdout",
     "output_type": "stream",
     "text": [
      "PDB file written by cpptraj.\n",
      "First water residue = 160\n",
      "Found first water CONECT entry at line = 8322\n"
     ]
    }
   ],
   "source": [
    "create_pdb_with_conect(solvated_pdb='original/a-bam-p/full.crds', \n",
    "                       amber_prmtop='original/a-bam-p/full.topo', \n",
    "                       output_pdb='generated/a-bam-p/full.pdb')\n",
    "prune_conect(input_pdb='full.pdb', \n",
    "             output_pdb='full_conect.pdb', \n",
    "             path='generated/a-bam-p/')"
   ]
  },
  {
   "cell_type": "code",
   "execution_count": 36,
   "metadata": {
    "ExecuteTime": {
     "end_time": "2018-02-10T19:54:41.399668Z",
     "start_time": "2018-02-10T19:54:39.302253Z"
    }
   },
   "outputs": [],
   "source": [
    "components = split_topology(file_name='generated/a-bam-p/full.pdb')\n",
    "hg_topology = create_host_guest_topology(components, host_resname='MGO', guest_resname='BAM')"
   ]
  },
  {
   "cell_type": "code",
   "execution_count": 34,
   "metadata": {
    "ExecuteTime": {
     "end_time": "2018-02-10T19:40:51.892351Z",
     "start_time": "2018-02-10T19:40:51.864404Z"
    }
   },
   "outputs": [
    {
     "name": "stdout",
     "output_type": "stream",
     "text": [
      "21 atoms in structure, 21 unique atom names.\n",
      "17 atoms in structure, 17 unique atom names.\n"
     ]
    }
   ],
   "source": [
    "host = load_mol2(filename='original/a-bam-p/MGO.mol2', \n",
    "                 name='MGO', \n",
    "                 add_tripos=True)\n",
    "guest = load_mol2(filename='original/a-bam-p/bam.mol2', \n",
    "                  name='BAM', \n",
    "                  add_tripos=False)\n",
    "check_unique_atom_names(host)\n",
    "check_unique_atom_names(guest)\n",
    "molecules = [host, guest]"
   ]
  },
  {
   "cell_type": "code",
   "execution_count": 37,
   "metadata": {
    "ExecuteTime": {
     "end_time": "2018-02-10T20:00:53.516206Z",
     "start_time": "2018-02-10T20:00:53.485705Z"
    }
   },
   "outputs": [],
   "source": [
    "# Need to find a way to write or get a fully polymerized host `mol2` file to continue."
   ]
  },
  {
   "cell_type": "code",
   "execution_count": 40,
   "metadata": {
    "ExecuteTime": {
     "end_time": "2018-02-12T20:19:53.347463Z",
     "start_time": "2018-02-12T20:19:53.270504Z"
    }
   },
   "outputs": [
    {
     "name": "stdout",
     "output_type": "stream",
     "text": [
      "MOL2 file written by cpptraj.\n"
     ]
    }
   ],
   "source": [
    "create_host_mol2('generated/a-bam-p/full.pdb', 'original/a-bam-p/full.topo', 'MGO', 'generated/a-bam-p/MGO.mol2')"
   ]
  },
  {
   "cell_type": "code",
   "execution_count": 41,
   "metadata": {
    "ExecuteTime": {
     "end_time": "2018-02-12T20:20:08.756726Z",
     "start_time": "2018-02-12T20:20:08.725296Z"
    }
   },
   "outputs": [
    {
     "name": "stdout",
     "output_type": "stream",
     "text": [
      "126 atoms in structure, 126 unique atom names.\n",
      "17 atoms in structure, 17 unique atom names.\n"
     ]
    }
   ],
   "source": [
    "host = load_mol2(filename='generated/a-bam-p/MGO.mol2', \n",
    "                 name='MGO', \n",
    "                 add_tripos=True)\n",
    "guest = load_mol2(filename='original/a-bam-p/bam.mol2', \n",
    "                  name='BAM', \n",
    "                  add_tripos=False)\n",
    "check_unique_atom_names(host)\n",
    "check_unique_atom_names(guest)\n",
    "molecules = [host, guest]"
   ]
  },
  {
   "cell_type": "code",
   "execution_count": 42,
   "metadata": {
    "ExecuteTime": {
     "end_time": "2018-02-12T20:20:35.668018Z",
     "start_time": "2018-02-12T20:20:35.011688Z"
    }
   },
   "outputs": [],
   "source": [
    "ff = ForceField('forcefield/smirnoff99Frosst.ffxml') \n",
    "system = ff.createSystem(hg_topology.topology, molecules,\n",
    "                         nonbondedCutoff=1.1*unit.nanometer, \n",
    "                         ewaldErrorTolerance=1e-4\n",
    "                         )"
   ]
  },
  {
   "cell_type": "code",
   "execution_count": 43,
   "metadata": {
    "ExecuteTime": {
     "end_time": "2018-02-12T20:30:49.766010Z",
     "start_time": "2018-02-12T20:30:49.606885Z"
    }
   },
   "outputs": [],
   "source": [
    "hg_structure = pmd.openmm.topsystem.load_topology(hg_topology.topology, system, hg_topology.positions)"
   ]
  },
  {
   "cell_type": "code",
   "execution_count": null,
   "metadata": {},
   "outputs": [],
   "source": []
  }
 ],
 "metadata": {
  "kernelspec": {
   "display_name": "Python [conda env:openforcefield]",
   "language": "python",
   "name": "conda-env-openforcefield-py"
  },
  "language_info": {
   "codemirror_mode": {
    "name": "ipython",
    "version": 3
   },
   "file_extension": ".py",
   "mimetype": "text/x-python",
   "name": "python",
   "nbconvert_exporter": "python",
   "pygments_lexer": "ipython3",
   "version": "3.6.1"
  }
 },
 "nbformat": 4,
 "nbformat_minor": 2
}
